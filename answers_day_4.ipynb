{
 "metadata": {
  "language_info": {
   "codemirror_mode": {
    "name": "ipython",
    "version": 3
   },
   "file_extension": ".py",
   "mimetype": "text/x-python",
   "name": "python",
   "nbconvert_exporter": "python",
   "pygments_lexer": "ipython3",
   "version": "3.8.5"
  },
  "orig_nbformat": 4,
  "kernelspec": {
   "name": "python3",
   "display_name": "Python 3.8.5 64-bit ('myenv': conda)"
  },
  "interpreter": {
   "hash": "f5c9dfabb21bd2a91b63810df81acbdc6b5e617e45414f0ef050ca96090c868f"
  }
 },
 "nbformat": 4,
 "nbformat_minor": 2,
 "cells": [
  {
   "source": [
    "# Day 4 Answers "
   ],
   "cell_type": "markdown",
   "metadata": {}
  },
  {
   "source": [
    "### Exercise 1a"
   ],
   "cell_type": "markdown",
   "metadata": {}
  },
  {
   "cell_type": "code",
   "execution_count": 5,
   "metadata": {},
   "outputs": [
    {
     "output_type": "stream",
     "name": "stdout",
     "text": [
      "ID: ERMA_STAAR\nName: ERMA_STAAR\nDescription: ERMA_STAAR Q6GKQ0 rRNA adenine N-6-methyltransferase OS=Staphylococcus aureus (strain MRSA252) OX=282458 GN=ermA1 PE=3 SV=1\nNumber of features: 0\nSeq('MNQKNPKDTQNFITSKKHVKEILNHTNISKQDNVIEIGSGKGHFTKELVKMSRS...LFH', ExtendedIUPACProtein())\nID: ERMA_STAAM\nName: ERMA_STAAM\nDescription: ERMA_STAAM P0A0H1 rRNA adenine N-6-methyltransferase OS=Staphylococcus aureus (strain Mu50 / ATCC 700699) OX=158878 GN=ermA1 PE=3 SV=1\nNumber of features: 0\nSeq('MNQKNPKDTQNFITSKKHVKEILNHTNISKQDNVIEIGSGKGHFTKELVKMSRS...LFH', ExtendedIUPACProtein())\nID: ERMA_STAAU\nName: ERMA_STAAU\nDescription: ERMA_STAAU P0A0H3 rRNA adenine N-6-methyltransferase OS=Staphylococcus aureus OX=1280 GN=ermA PE=3 SV=1\nNumber of features: 0\nSeq('MNQKNPKDTQNFITSKKHVKEILNHTNISKQDNVIEIGSGKGHFTKELVKMSRS...LFH', ExtendedIUPACProtein())\nID: BLAC_MYCTO\nName: BLAC_MYCTO\nDescription: BLAC_MYCTO P9WKD2 Beta-lactamase OS=Mycobacterium tuberculosis (strain CDC 1551 / Oshkosh) OX=83331 GN=blaC PE=3 SV=1\nNumber of features: 0\nSeq('MRNRGFGRRELLVAMAMLVSVTGCARHASGARPASTTLPAGADLADRFAELERR...VLA', ExtendedIUPACProtein())\nID: BLAC_MYCBO\nName: BLAC_MYCBO\nDescription: BLAC_MYCBO P0A5I7 Beta-lactamase OS=Mycobacterium bovis (strain ATCC BAA-935 / AF2122/97) OX=233413 GN=blaC PE=3 SV=1\nNumber of features: 0\nSeq('MRNRGFGRRELLVAMAMLVSVTGCARHASGARPASTTLPAGADLADRFAELERR...VLA', ExtendedIUPACProtein())\nID: A0A133QE03_STASI\nName: A0A133QE03_STASI\nDescription: A0A133QE03_STASI Erythromycin resistance protein OS=Staphylococcus simulans OX=1286 GN=HMPREF3215_02510 PE=3 SV=1\nNumber of features: 0\nSeq('MNQKNPKDTQNFITSKKHVKEILNHTNISKQDNVIEIGSGKGHFTKELVKMSRS...LFH', ExtendedIUPACProtein())\nID: AMPC_CITFR\nName: AMPC_CITFR\nDescription: AMPC_CITFR P05193 Beta-lactamase OS=Citrobacter freundii OX=546 GN=ampC PE=1 SV=1\nNumber of features: 0\nSeq('MMKKSICCALLLTASFSTFAAAKTEQQIADIVNRTITPLMQEQAIPGMAVAIIY...KLQ', ExtendedIUPACProtein())\nID: D4REG1_ENTFC\nName: D4REG1_ENTFC\nDescription: D4REG1_ENTFC D4REG1 Macrolide-lincosamide-streptogramin B resistance protein OS=Enterococcus faecium E1679 OX=546340 GN=EfmE1679_0214 PE=3 SV=1\nNumber of features: 0\nSeq('MNQKNPKDTQNFITSKKHVKEILNHTNISKQDNVIEIGSGKGHFTKELVKMSRS...LFH', ExtendedIUPACProtein())\nID: Q7DIC2_STAAU\nName: Q7DIC2_STAAU\nDescription: Q7DIC2_STAAU Q7DIC2 Erythromycin resistance protein OS=Staphylococcus aureus OX=1280 GN=ermA PE=3 SV=1\nNumber of features: 0\nSeq('MNQKNPKDTQNFITSKKHVKEILNHTNISKQDNVIEIGSGKGHFTKELVKMSRS...LFH', ExtendedIUPACProtein())\nID: BLAC_MYCTA\nName: BLAC_MYCTA\nDescription: BLAC_MYCTA A5U493 Beta-lactamase OS=Mycobacterium tuberculosis (strain ATCC 25177 / H37Ra) OX=419947 GN=blaC PE=1 SV=1\nNumber of features: 0\nSeq('MRNRGFGRRELLVAMAMLVSVTGCARHASGARPASTTLPAGADLADRFAELERR...VLA', ExtendedIUPACProtein())\nID: A0A564SEJ2_ENTAV\nName: A0A564SEJ2_ENTAV\nDescription: A0A564SEJ2_ENTAV Macrolide-lincosamide-streptogramin B resistance protein OS=Enterococcus avium OX=33945 GN=erm(A) PE=3 SV=1\nNumber of features: 0\nSeq('MNQKNPKDTQNFITSKKHVKEILNHTNISKQDNVIEIGSGKGHFTKELVKMSRS...LFH', ExtendedIUPACProtein())\nID: A0A7V6HLW4_9FIRM\nName: A0A7V6HLW4_9FIRM\nDescription: A0A7V6HLW4_9FIRM 23S rRNA (Adenine(2058)-N(6))-methyltransferase Erm(A) OS=Bacilli bacterium OX=1903720 GN=erm(A) PE=4 SV=1\nNumber of features: 0\nSeq('MNQKNPKDTQNFITSKKHVKEILNHTNISKQDNVIEIGSGKGHFTKELVKMSRS...LFH', ExtendedIUPACProtein())\nID: BLAC_MYCTU\nName: BLAC_MYCTU\nDescription: BLAC_MYCTU P9WKD3 Beta-lactamase OS=Mycobacterium tuberculosis (strain ATCC 25618 / H37Rv) OX=83332 GN=blaC PE=1 SV=1\nNumber of features: 0\nSeq('MRNRGFGRRELLVAMAMLVSVTGCARHASGARPASTTLPAGADLADRFAELERR...VLA', ExtendedIUPACProtein())\n"
     ]
    }
   ],
   "source": [
    "from Bio import SeqIO # from the lesson\n",
    "from Bio.Seq import Seq # from the lesson\n",
    "\n",
    "for record in SeqIO.parse('mixed_args.fasta', 'fasta'):\n",
    "    record.seq = record.seq.translate()\n",
    "    print(record)"
   ]
  },
  {
   "source": [
    "### Exercise 1b"
   ],
   "cell_type": "markdown",
   "metadata": {}
  },
  {
   "cell_type": "code",
   "execution_count": 9,
   "metadata": {},
   "outputs": [
    {
     "output_type": "stream",
     "name": "stdout",
     "text": [
      "[['ERMA_STAAR', 1], ['ERMA_STAAM', 1], ['ERMA_STAAU', 1], ['BLAC_MYCTO', 0], ['BLAC_MYCBO', 0], ['A0A133QE03_STASI', 1], ['AMPC_CITFR', 0], ['D4REG1_ENTFC', 1], ['Q7DIC2_STAAU', 1], ['BLAC_MYCTA', 0], ['A0A564SEJ2_ENTAV', 1], ['A0A7V6HLW4_9FIRM', 1], ['BLAC_MYCTU', 0]]\n"
     ]
    }
   ],
   "source": [
    "store_data = [] \n",
    "\n",
    "for record in SeqIO.parse('mixed_args.fasta', 'fasta'):\n",
    "    record.seq = record.seq.translate()\n",
    "\n",
    "    sequence_identifier = record.id\n",
    "\n",
    "    if record.seq.find('QRALGL') > -1:\n",
    "        motif_1 = 1\n",
    "    else:\n",
    "        motif_1 = 0\n",
    "\n",
    "    store_data.append([sequence_identifier, motif_1])\n",
    "\n",
    "print(store_data)"
   ]
  },
  {
   "source": [
    "### Exercise 1c"
   ],
   "cell_type": "markdown",
   "metadata": {}
  },
  {
   "cell_type": "code",
   "execution_count": 11,
   "metadata": {},
   "outputs": [
    {
     "output_type": "execute_result",
     "data": {
      "text/plain": [
       "[['ERMA_STAAR', 1, 0, 0],\n",
       " ['ERMA_STAAM', 1, 0, 0],\n",
       " ['ERMA_STAAU', 1, 0, 0],\n",
       " ['BLAC_MYCTO', 0, 1, 1],\n",
       " ['BLAC_MYCBO', 0, 1, 1],\n",
       " ['A0A133QE03_STASI', 1, 0, 0],\n",
       " ['AMPC_CITFR', 0, 1, 0],\n",
       " ['D4REG1_ENTFC', 1, 0, 0],\n",
       " ['Q7DIC2_STAAU', 1, 0, 0],\n",
       " ['BLAC_MYCTA', 0, 1, 1],\n",
       " ['A0A564SEJ2_ENTAV', 1, 0, 0],\n",
       " ['A0A7V6HLW4_9FIRM', 1, 0, 0],\n",
       " ['BLAC_MYCTU', 0, 1, 1]]"
      ]
     },
     "metadata": {},
     "execution_count": 11
    }
   ],
   "source": [
    "store_data = [] \n",
    "\n",
    "for record in SeqIO.parse('mixed_args.fasta', 'fasta'):\n",
    "    record.seq = record.seq.translate()\n",
    "\n",
    "    sequence_identifier = record.id\n",
    "\n",
    "    if record.seq.find('QRALGL') > -1:\n",
    "        motif_1 = 1\n",
    "    else:\n",
    "        motif_1 = 0\n",
    "\n",
    "    if record.seq.find('GAKR') > -1:\n",
    "        motif_2 = 1\n",
    "    else:\n",
    "        motif_2 = 0\n",
    "\n",
    "    if record.seq.find('DGTA') > -1:\n",
    "        motif_3 = 1\n",
    "    else:\n",
    "        motif_3 = 0\n",
    "\n",
    "\n",
    "    store_data.append([sequence_identifier, motif_1, motif_2, motif_3])\n",
    "\n",
    "store_data"
   ]
  },
  {
   "source": [
    "### Exercise 2a"
   ],
   "cell_type": "markdown",
   "metadata": {}
  },
  {
   "cell_type": "code",
   "execution_count": 12,
   "metadata": {},
   "outputs": [
    {
     "output_type": "stream",
     "name": "stdout",
     "text": [
      "ERMA_STAAR Q6GKQ0 rRNA adenine N-6-methyltransferase OS=Staphylococcus aureus (strain MRSA252) OX=282458 GN=ermA1 PE=3 SV=1\nERMA_STAAM P0A0H1 rRNA adenine N-6-methyltransferase OS=Staphylococcus aureus (strain Mu50 / ATCC 700699) OX=158878 GN=ermA1 PE=3 SV=1\nERMA_STAAU P0A0H3 rRNA adenine N-6-methyltransferase OS=Staphylococcus aureus OX=1280 GN=ermA PE=3 SV=1\nBLAC_MYCTO P9WKD2 Beta-lactamase OS=Mycobacterium tuberculosis (strain CDC 1551 / Oshkosh) OX=83331 GN=blaC PE=3 SV=1\nBLAC_MYCBO P0A5I7 Beta-lactamase OS=Mycobacterium bovis (strain ATCC BAA-935 / AF2122/97) OX=233413 GN=blaC PE=3 SV=1\nA0A133QE03_STASI Erythromycin resistance protein OS=Staphylococcus simulans OX=1286 GN=HMPREF3215_02510 PE=3 SV=1\nAMPC_CITFR P05193 Beta-lactamase OS=Citrobacter freundii OX=546 GN=ampC PE=1 SV=1\nD4REG1_ENTFC D4REG1 Macrolide-lincosamide-streptogramin B resistance protein OS=Enterococcus faecium E1679 OX=546340 GN=EfmE1679_0214 PE=3 SV=1\nQ7DIC2_STAAU Q7DIC2 Erythromycin resistance protein OS=Staphylococcus aureus OX=1280 GN=ermA PE=3 SV=1\nBLAC_MYCTA A5U493 Beta-lactamase OS=Mycobacterium tuberculosis (strain ATCC 25177 / H37Ra) OX=419947 GN=blaC PE=1 SV=1\nA0A564SEJ2_ENTAV Macrolide-lincosamide-streptogramin B resistance protein OS=Enterococcus avium OX=33945 GN=erm(A) PE=3 SV=1\nA0A7V6HLW4_9FIRM 23S rRNA (Adenine(2058)-N(6))-methyltransferase Erm(A) OS=Bacilli bacterium OX=1903720 GN=erm(A) PE=4 SV=1\nBLAC_MYCTU P9WKD3 Beta-lactamase OS=Mycobacterium tuberculosis (strain ATCC 25618 / H37Rv) OX=83332 GN=blaC PE=1 SV=1\n"
     ]
    }
   ],
   "source": [
    "for record in SeqIO.parse('mixed_args.fasta', 'fasta'):\n",
    "    print(record.description)"
   ]
  },
  {
   "source": [
    "### Exercise 2b"
   ],
   "cell_type": "markdown",
   "metadata": {}
  },
  {
   "cell_type": "code",
   "execution_count": 15,
   "metadata": {},
   "outputs": [
    {
     "output_type": "stream",
     "name": "stdout",
     "text": [
      "['ERMA_STAAR Q6GKQ0 rRNA adenine N-6-methyltransferase OS', 'Staphylococcus aureus (strain MRSA252) OX', '282458 GN', 'ermA1 PE', '3 SV', '1']\n\n\n['ERMA_STAAM P0A0H1 rRNA adenine N-6-methyltransferase OS', 'Staphylococcus aureus (strain Mu50 / ATCC 700699) OX', '158878 GN', 'ermA1 PE', '3 SV', '1']\n\n\n['ERMA_STAAU P0A0H3 rRNA adenine N-6-methyltransferase OS', 'Staphylococcus aureus OX', '1280 GN', 'ermA PE', '3 SV', '1']\n\n\n['BLAC_MYCTO P9WKD2 Beta-lactamase OS', 'Mycobacterium tuberculosis (strain CDC 1551 / Oshkosh) OX', '83331 GN', 'blaC PE', '3 SV', '1']\n\n\n['BLAC_MYCBO P0A5I7 Beta-lactamase OS', 'Mycobacterium bovis (strain ATCC BAA-935 / AF2122/97) OX', '233413 GN', 'blaC PE', '3 SV', '1']\n\n\n['A0A133QE03_STASI Erythromycin resistance protein OS', 'Staphylococcus simulans OX', '1286 GN', 'HMPREF3215_02510 PE', '3 SV', '1']\n\n\n['AMPC_CITFR P05193 Beta-lactamase OS', 'Citrobacter freundii OX', '546 GN', 'ampC PE', '1 SV', '1']\n\n\n['D4REG1_ENTFC D4REG1 Macrolide-lincosamide-streptogramin B resistance protein OS', 'Enterococcus faecium E1679 OX', '546340 GN', 'EfmE1679_0214 PE', '3 SV', '1']\n\n\n['Q7DIC2_STAAU Q7DIC2 Erythromycin resistance protein OS', 'Staphylococcus aureus OX', '1280 GN', 'ermA PE', '3 SV', '1']\n\n\n['BLAC_MYCTA A5U493 Beta-lactamase OS', 'Mycobacterium tuberculosis (strain ATCC 25177 / H37Ra) OX', '419947 GN', 'blaC PE', '1 SV', '1']\n\n\n['A0A564SEJ2_ENTAV Macrolide-lincosamide-streptogramin B resistance protein OS', 'Enterococcus avium OX', '33945 GN', 'erm(A) PE', '3 SV', '1']\n\n\n['A0A7V6HLW4_9FIRM 23S rRNA (Adenine(2058)-N(6))-methyltransferase Erm(A) OS', 'Bacilli bacterium OX', '1903720 GN', 'erm(A) PE', '4 SV', '1']\n\n\n['BLAC_MYCTU P9WKD3 Beta-lactamase OS', 'Mycobacterium tuberculosis (strain ATCC 25618 / H37Rv) OX', '83332 GN', 'blaC PE', '1 SV', '1']\n\n\n"
     ]
    }
   ],
   "source": [
    "for record in SeqIO.parse('mixed_args.fasta', 'fasta'):\n",
    "    header_data = record.description.split('=')\n",
    "    print(header_data)\n",
    "    print('\\n')\n"
   ]
  },
  {
   "source": [
    "### Exercise 2c"
   ],
   "cell_type": "markdown",
   "metadata": {}
  },
  {
   "cell_type": "code",
   "execution_count": 21,
   "metadata": {},
   "outputs": [
    {
     "output_type": "execute_result",
     "data": {
      "text/plain": [
       "['Staphylococcus aureus (strain MRSA252) OX',\n",
       " 'Staphylococcus aureus (strain Mu50 / ATCC 700699) OX',\n",
       " 'Staphylococcus aureus OX',\n",
       " 'Mycobacterium tuberculosis (strain CDC 1551 / Oshkosh) OX',\n",
       " 'Mycobacterium bovis (strain ATCC BAA-935 / AF2122/97) OX',\n",
       " 'Staphylococcus simulans OX',\n",
       " 'Citrobacter freundii OX',\n",
       " 'Enterococcus faecium E1679 OX',\n",
       " 'Staphylococcus aureus OX',\n",
       " 'Mycobacterium tuberculosis (strain ATCC 25177 / H37Ra) OX',\n",
       " 'Enterococcus avium OX',\n",
       " 'Bacilli bacterium OX',\n",
       " 'Mycobacterium tuberculosis (strain ATCC 25618 / H37Rv) OX']"
      ]
     },
     "metadata": {},
     "execution_count": 21
    }
   ],
   "source": [
    "taxonomy_store = []\n",
    "\n",
    "for record in SeqIO.parse('mixed_args.fasta', 'fasta'):\n",
    "    header_data = record.description.split('=')\n",
    "    taxonomic_info = header_data[1]\n",
    "    taxonomy_store.append(taxonomic_info)\n",
    "\n",
    "taxonomy_store"
   ]
  },
  {
   "source": [
    "### Exercise 3a"
   ],
   "cell_type": "markdown",
   "metadata": {}
  },
  {
   "cell_type": "code",
   "execution_count": 24,
   "metadata": {},
   "outputs": [
    {
     "output_type": "stream",
     "name": "stdout",
     "text": [
      "262\n269\n272\n300\n"
     ]
    }
   ],
   "source": [
    "for record in SeqIO.parse('short_reads.fastq', 'fastq'):\n",
    "    read_length = len(record.seq)\n",
    "    print(read_length)"
   ]
  },
  {
   "source": [
    "### Exercise 3b"
   ],
   "cell_type": "markdown",
   "metadata": {}
  },
  {
   "cell_type": "code",
   "execution_count": 26,
   "metadata": {},
   "outputs": [
    {
     "output_type": "stream",
     "name": "stdout",
     "text": [
      "total reads: 4\n"
     ]
    }
   ],
   "source": [
    "total_count = 0\n",
    "\n",
    "for record in SeqIO.parse('short_reads.fastq', 'fastq'):\n",
    "    total_count = total_count + 1\n",
    "\n",
    "print('total reads:', total_count)"
   ]
  },
  {
   "source": [
    "### Exercise 3c"
   ],
   "cell_type": "markdown",
   "metadata": {}
  },
  {
   "cell_type": "code",
   "execution_count": 20,
   "metadata": {},
   "outputs": [
    {
     "output_type": "stream",
     "name": "stdout",
     "text": [
      "ID: M05164:33:000000000-BGDN6:1:1101:9154:2416\nlength: 262\nID: M05164:33:000000000-BGDN6:1:1101:16178:2450\nlength: 269\n"
     ]
    }
   ],
   "source": [
    "for record in SeqIO.parse('short_reads.fastq', 'fastq'):\n",
    "    read_length = len(record.seq)\n",
    "    if read_length <= 270:\n",
    "        print('ID:', record.id)\n",
    "        print('length:', read_length)\n",
    "        print('\\n')"
   ]
  },
  {
   "source": [
    "### Exercise 4a"
   ],
   "cell_type": "markdown",
   "metadata": {}
  },
  {
   "cell_type": "code",
   "execution_count": 27,
   "metadata": {},
   "outputs": [
    {
     "output_type": "stream",
     "name": "stdout",
     "text": [
      "type: source\nlocation: [0:398]\nqualifiers:\n    Key: db_xref, Value: ['taxon:286']\n    Key: organism, Value: ['Pseudomonas']\n\ntype: Protein\nlocation: [0:398]\nqualifiers:\n    Key: calculated_mol_wt, Value: ['43397']\n    Key: product, Value: ['trans-2-enoyl-CoA reductase family protein']\n\ntype: Region\nlocation: [0:396]\nqualifiers:\n    Key: db_xref, Value: ['CDD:237460']\n    Key: note, Value: ['enoyl-[acyl-carrier-protein] reductase FabV']\n    Key: region_name, Value: ['PRK13656']\n\n"
     ]
    }
   ],
   "source": [
    "for record in SeqIO.parse('fabv_small.gbk', 'genbank'):\n",
    "    for feature in record.features:\n",
    "        print(feature)"
   ]
  },
  {
   "source": [
    "### Exercise 4b"
   ],
   "cell_type": "markdown",
   "metadata": {}
  },
  {
   "cell_type": "code",
   "execution_count": 31,
   "metadata": {},
   "outputs": [
    {
     "output_type": "stream",
     "name": "stdout",
     "text": [
      "OrderedDict([('region_name', ['PRK13656']), ('note', ['enoyl-[acyl-carrier-protein] reductase FabV']), ('db_xref', ['CDD:237460'])])\n"
     ]
    }
   ],
   "source": [
    "for record in SeqIO.parse('fabv_small.gbk', 'genbank'):\n",
    "    for feature in record.features:\n",
    "        if feature.type == 'Region':\n",
    "            print(feature.qualifiers)"
   ]
  },
  {
   "source": [
    "### Exercise 4c"
   ],
   "cell_type": "markdown",
   "metadata": {}
  },
  {
   "cell_type": "code",
   "execution_count": 32,
   "metadata": {},
   "outputs": [
    {
     "output_type": "stream",
     "name": "stdout",
     "text": [
      "['CDD:237460']\n"
     ]
    }
   ],
   "source": [
    "for record in SeqIO.parse('fabv_small.gbk', 'genbank'):\n",
    "    for feature in record.features:\n",
    "        if feature.type == 'Region':\n",
    "            print(feature.qualifiers['db_xref'])"
   ]
  },
  {
   "source": [
    "### Exercise 5a"
   ],
   "cell_type": "markdown",
   "metadata": {}
  },
  {
   "cell_type": "code",
   "execution_count": 33,
   "metadata": {},
   "outputs": [
    {
     "output_type": "execute_result",
     "data": {
      "text/plain": [
       "['BioProject:PRJNA224116',\n",
       " 'BioSample:SAMN15501998',\n",
       " 'Assembly:GCF_014109785.1']"
      ]
     },
     "metadata": {},
     "execution_count": 33
    }
   ],
   "source": [
    "for record in SeqIO.parse('salmonella_genome.gbk','genbank'):\n",
    "    genome_assembly_ids = record.dbxrefs\n",
    "\n",
    "genome_assembly_ids"
   ]
  },
  {
   "source": [
    "### Exercise 5b"
   ],
   "cell_type": "markdown",
   "metadata": {}
  },
  {
   "cell_type": "code",
   "execution_count": 34,
   "metadata": {},
   "outputs": [
    {
     "output_type": "execute_result",
     "data": {
      "text/plain": [
       "'Assembly:GCF_014109785.1'"
      ]
     },
     "metadata": {},
     "execution_count": 34
    }
   ],
   "source": [
    "genome_assembly_ids[2]"
   ]
  },
  {
   "source": [
    "### Exercise 5c"
   ],
   "cell_type": "markdown",
   "metadata": {}
  },
  {
   "cell_type": "code",
   "execution_count": 35,
   "metadata": {},
   "outputs": [
    {
     "output_type": "execute_result",
     "data": {
      "text/plain": [
       "'86'"
      ]
     },
     "metadata": {},
     "execution_count": 35
    }
   ],
   "source": [
    "for record in SeqIO.parse('salmonella_genome.gbk','genbank'):\n",
    "    n_pseudo_genes = record.annotations['structured_comment']['Genome-Annotation-Data']['Pseudo Genes (total)']\n",
    "\n",
    "n_pseudo_genes"
   ]
  },
  {
   "source": [
    "### Exercise 5d"
   ],
   "cell_type": "markdown",
   "metadata": {}
  },
  {
   "cell_type": "code",
   "execution_count": 38,
   "metadata": {},
   "outputs": [
    {
     "output_type": "execute_result",
     "data": {
      "text/plain": [
       "6824624"
      ]
     },
     "metadata": {},
     "execution_count": 38
    }
   ],
   "source": [
    "total_genome_length = 0\n",
    "\n",
    "for record in SeqIO.parse('salmonella_genome.gbk','genbank'):\n",
    "    contig_length = len(record.seq)\n",
    "    total_genome_length = total_genome_length + contig_length\n",
    "\n",
    "total_genome_length"
   ]
  },
  {
   "source": [
    "### Exercise 5e"
   ],
   "cell_type": "markdown",
   "metadata": {}
  },
  {
   "cell_type": "code",
   "execution_count": 40,
   "metadata": {},
   "outputs": [
    {
     "output_type": "execute_result",
     "data": {
      "text/plain": [
       "['Assembly:GCF_014109785.1', '6,136', '86', 6824624]"
      ]
     },
     "metadata": {},
     "execution_count": 40
    }
   ],
   "source": [
    "store_data = []\n",
    "\n",
    "total_genome_length = 0\n",
    "\n",
    "for record in SeqIO.parse('salmonella_genome.gbk','genbank'):\n",
    "\n",
    "\n",
    "    # ncbi whole-genome id stored in record\n",
    "    genome_assembly_ids = record.dbxrefs\n",
    "    ncbi_whole_genome_id = genome_assembly_ids[2]\n",
    "\n",
    "    # number of genes stored in record.annotations under keyword 'Genes (coding)'\n",
    "    n_genes = record.annotations['structured_comment']['Genome-Annotation-Data']['Genes (coding)']\n",
    "\n",
    "    # number of pseudogenes stored in record.annotations under keyword 'Pseudo Genes (total)'\n",
    "    n_pseudo_genes = record.annotations['structured_comment']['Genome-Annotation-Data']['Pseudo Genes (total)']\n",
    "\n",
    "    # length of the genome from getting the len() of record.seq\n",
    "    contig_length = len(record.seq)\n",
    "    total_genome_length = total_genome_length + contig_length\n",
    "\n",
    "store_data.append(ncbi_whole_genome_id) #whole genome id\n",
    "store_data.append(n_genes) #number of genes\n",
    "store_data.append(n_pseudo_genes) #number of pseudogenes\n",
    "store_data.append(total_genome_length) #length of whole genome\n",
    "store_data"
   ]
  },
  {
   "source": [
    "### Exercise 6a"
   ],
   "cell_type": "markdown",
   "metadata": {}
  },
  {
   "cell_type": "code",
   "execution_count": 41,
   "metadata": {},
   "outputs": [
    {
     "output_type": "stream",
     "name": "stdout",
     "text": [
      "NZ_CP059063.1\nNZ_CP059062.1\n"
     ]
    }
   ],
   "source": [
    "for record in SeqIO.parse('salmonella_genome.gbk','genbank'):\n",
    "    print(record.id)"
   ]
  },
  {
   "source": [
    "### Exercise 6b"
   ],
   "cell_type": "markdown",
   "metadata": {}
  },
  {
   "cell_type": "code",
   "execution_count": 44,
   "metadata": {},
   "outputs": [
    {
     "output_type": "execute_result",
     "data": {
      "text/plain": [
       "['hypothetical protein',\n",
       " 'replication initiation factor domain-containing protein']"
      ]
     },
     "metadata": {},
     "execution_count": 44
    }
   ],
   "source": [
    "plasmid_products = []\n",
    "\n",
    "for record in SeqIO.parse('salmonella_genome.gbk','genbank'):\n",
    "    if record.id == 'NZ_CP059062.1':\n",
    "        for feature in record.features:\n",
    "            if feature.type == 'CDS':\n",
    "                product_description = feature.qualifiers['product'][0]\n",
    "                plasmid_products.append(product_description)\n",
    "\n",
    "plasmid_products"
   ]
  },
  {
   "source": [
    "### Exercise 6c"
   ],
   "cell_type": "markdown",
   "metadata": {}
  },
  {
   "cell_type": "code",
   "execution_count": 45,
   "metadata": {},
   "outputs": [
    {
     "output_type": "execute_result",
     "data": {
      "text/plain": [
       "[['hypothetical protein', 'PA52Ts32_RS00005'],\n",
       " ['replication initiation factor domain-containing protein',\n",
       "  'PA52Ts32_RS00010']]"
      ]
     },
     "metadata": {},
     "execution_count": 45
    }
   ],
   "source": [
    "plasmid_products = []\n",
    "\n",
    "for record in SeqIO.parse('salmonella_genome.gbk','genbank'):\n",
    "    if record.id == 'NZ_CP059062.1':\n",
    "        for feature in record.features:\n",
    "            if feature.type == 'CDS':\n",
    "                product_description = feature.qualifiers['product'][0]\n",
    "                ncbi_accession = feature.qualifiers['locus_tag'][0]\n",
    "                \n",
    "                plasmid_products.append([product_description, ncbi_accession])\n",
    "\n",
    "plasmid_products"
   ]
  },
  {
   "cell_type": "code",
   "execution_count": null,
   "metadata": {},
   "outputs": [],
   "source": []
  }
 ]
}