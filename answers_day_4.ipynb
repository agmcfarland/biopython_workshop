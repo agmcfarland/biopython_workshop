{
 "metadata": {
  "language_info": {
   "codemirror_mode": {
    "name": "ipython",
    "version": 3
   },
   "file_extension": ".py",
   "mimetype": "text/x-python",
   "name": "python",
   "nbconvert_exporter": "python",
   "pygments_lexer": "ipython3",
   "version": "3.8.5"
  },
  "orig_nbformat": 4,
  "kernelspec": {
   "name": "python3",
   "display_name": "Python 3.8.5 64-bit ('myenv': conda)"
  },
  "interpreter": {
   "hash": "f5c9dfabb21bd2a91b63810df81acbdc6b5e617e45414f0ef050ca96090c868f"
  }
 },
 "nbformat": 4,
 "nbformat_minor": 2,
 "cells": [
  {
   "cell_type": "markdown",
   "source": [
    "# Day 4 Answers "
   ],
   "metadata": {}
  },
  {
   "cell_type": "markdown",
   "source": [
    "### Google colab users only:"
   ],
   "metadata": {}
  },
  {
   "cell_type": "code",
   "execution_count": null,
   "source": [
    "pip install Biopython"
   ],
   "outputs": [],
   "metadata": {}
  },
  {
   "cell_type": "code",
   "execution_count": null,
   "source": [
    "!wget https://raw.githubusercontent.com/agmcfarland/biopython_workshop/master/antibiotic_resistance_genes_short.fasta\n",
    "!wget https://raw.githubusercontent.com/agmcfarland/biopython_workshop/master/mixed_args.fasta\n",
    "!wget https://raw.githubusercontent.com/agmcfarland/biopython_workshop/master/short_reads.fastq\n",
    "!wget https://raw.githubusercontent.com/agmcfarland/biopython_workshop/master/fabv_small.gbk\n",
    "!wget https://raw.githubusercontent.com/agmcfarland/biopython_workshop/master/salmonella_genome.gbk\n",
    "!wget https://raw.githubusercontent.com/agmcfarland/biopython_workshop/master/salmonella_genome_2.gbk\n",
    "!wget https://raw.githubusercontent.com/agmcfarland/biopython_workshop/master/salmonella_genome_3.gbk"
   ],
   "outputs": [],
   "metadata": {}
  },
  {
   "cell_type": "markdown",
   "source": [
    "### Everyone:"
   ],
   "metadata": {}
  },
  {
   "cell_type": "markdown",
   "source": [
    "### Exercise 1a"
   ],
   "metadata": {}
  },
  {
   "cell_type": "code",
   "execution_count": 32,
   "source": [
    "from Bio import SeqIO # from the lesson\n",
    "from Bio.Seq import Seq # from the lesson\n",
    "\n",
    "for record in SeqIO.parse('mixed_args.fasta', 'fasta'):\n",
    "    record.seq = record.seq.translate()\n",
    "    print(record)"
   ],
   "outputs": [
    {
     "output_type": "stream",
     "name": "stdout",
     "text": [
      "ID: ERMA_STAAR\n",
      "Name: ERMA_STAAR\n",
      "Description: ERMA_STAAR Q6GKQ0 rRNA adenine N-6-methyltransferase OS=Staphylococcus aureus (strain MRSA252) OX=282458 GN=ermA1 PE=3 SV=1\n",
      "Number of features: 0\n",
      "Seq('MNQKNPKDTQNFITSKKHVKEILNHTNISKQDNVIEIGSGKGHFTKELVKMSRS...LFH')\n",
      "ID: ERMA_STAAM\n",
      "Name: ERMA_STAAM\n",
      "Description: ERMA_STAAM P0A0H1 rRNA adenine N-6-methyltransferase OS=Staphylococcus aureus (strain Mu50 / ATCC 700699) OX=158878 GN=ermA1 PE=3 SV=1\n",
      "Number of features: 0\n",
      "Seq('MNQKNPKDTQNFITSKKHVKEILNHTNISKQDNVIEIGSGKGHFTKELVKMSRS...LFH')\n",
      "ID: ERMA_STAAU\n",
      "Name: ERMA_STAAU\n",
      "Description: ERMA_STAAU P0A0H3 rRNA adenine N-6-methyltransferase OS=Staphylococcus aureus OX=1280 GN=ermA PE=3 SV=1\n",
      "Number of features: 0\n",
      "Seq('MNQKNPKDTQNFITSKKHVKEILNHTNISKQDNVIEIGSGKGHFTKELVKMSRS...LFH')\n",
      "ID: BLAC_MYCTO\n",
      "Name: BLAC_MYCTO\n",
      "Description: BLAC_MYCTO P9WKD2 Beta-lactamase OS=Mycobacterium tuberculosis (strain CDC 1551 / Oshkosh) OX=83331 GN=blaC PE=3 SV=1\n",
      "Number of features: 0\n",
      "Seq('MRNRGFGRRELLVAMAMLVSVTGCARHASGARPASTTLPAGADLADRFAELERR...VLA')\n",
      "ID: BLAC_MYCBO\n",
      "Name: BLAC_MYCBO\n",
      "Description: BLAC_MYCBO P0A5I7 Beta-lactamase OS=Mycobacterium bovis (strain ATCC BAA-935 / AF2122/97) OX=233413 GN=blaC PE=3 SV=1\n",
      "Number of features: 0\n",
      "Seq('MRNRGFGRRELLVAMAMLVSVTGCARHASGARPASTTLPAGADLADRFAELERR...VLA')\n",
      "ID: A0A133QE03_STASI\n",
      "Name: A0A133QE03_STASI\n",
      "Description: A0A133QE03_STASI Erythromycin resistance protein OS=Staphylococcus simulans OX=1286 GN=HMPREF3215_02510 PE=3 SV=1\n",
      "Number of features: 0\n",
      "Seq('MNQKNPKDTQNFITSKKHVKEILNHTNISKQDNVIEIGSGKGHFTKELVKMSRS...LFH')\n",
      "ID: AMPC_CITFR\n",
      "Name: AMPC_CITFR\n",
      "Description: AMPC_CITFR P05193 Beta-lactamase OS=Citrobacter freundii OX=546 GN=ampC PE=1 SV=1\n",
      "Number of features: 0\n",
      "Seq('MMKKSICCALLLTASFSTFAAAKTEQQIADIVNRTITPLMQEQAIPGMAVAIIY...KLQ')\n",
      "ID: D4REG1_ENTFC\n",
      "Name: D4REG1_ENTFC\n",
      "Description: D4REG1_ENTFC D4REG1 Macrolide-lincosamide-streptogramin B resistance protein OS=Enterococcus faecium E1679 OX=546340 GN=EfmE1679_0214 PE=3 SV=1\n",
      "Number of features: 0\n",
      "Seq('MNQKNPKDTQNFITSKKHVKEILNHTNISKQDNVIEIGSGKGHFTKELVKMSRS...LFH')\n",
      "ID: Q7DIC2_STAAU\n",
      "Name: Q7DIC2_STAAU\n",
      "Description: Q7DIC2_STAAU Q7DIC2 Erythromycin resistance protein OS=Staphylococcus aureus OX=1280 GN=ermA PE=3 SV=1\n",
      "Number of features: 0\n",
      "Seq('MNQKNPKDTQNFITSKKHVKEILNHTNISKQDNVIEIGSGKGHFTKELVKMSRS...LFH')\n",
      "ID: BLAC_MYCTA\n",
      "Name: BLAC_MYCTA\n",
      "Description: BLAC_MYCTA A5U493 Beta-lactamase OS=Mycobacterium tuberculosis (strain ATCC 25177 / H37Ra) OX=419947 GN=blaC PE=1 SV=1\n",
      "Number of features: 0\n",
      "Seq('MRNRGFGRRELLVAMAMLVSVTGCARHASGARPASTTLPAGADLADRFAELERR...VLA')\n",
      "ID: A0A564SEJ2_ENTAV\n",
      "Name: A0A564SEJ2_ENTAV\n",
      "Description: A0A564SEJ2_ENTAV Macrolide-lincosamide-streptogramin B resistance protein OS=Enterococcus avium OX=33945 GN=erm(A) PE=3 SV=1\n",
      "Number of features: 0\n",
      "Seq('MNQKNPKDTQNFITSKKHVKEILNHTNISKQDNVIEIGSGKGHFTKELVKMSRS...LFH')\n",
      "ID: A0A7V6HLW4_9FIRM\n",
      "Name: A0A7V6HLW4_9FIRM\n",
      "Description: A0A7V6HLW4_9FIRM 23S rRNA (Adenine(2058)-N(6))-methyltransferase Erm(A) OS=Bacilli bacterium OX=1903720 GN=erm(A) PE=4 SV=1\n",
      "Number of features: 0\n",
      "Seq('MNQKNPKDTQNFITSKKHVKEILNHTNISKQDNVIEIGSGKGHFTKELVKMSRS...LFH')\n",
      "ID: BLAC_MYCTU\n",
      "Name: BLAC_MYCTU\n",
      "Description: BLAC_MYCTU P9WKD3 Beta-lactamase OS=Mycobacterium tuberculosis (strain ATCC 25618 / H37Rv) OX=83332 GN=blaC PE=1 SV=1\n",
      "Number of features: 0\n",
      "Seq('MRNRGFGRRELLVAMAMLVSVTGCARHASGARPASTTLPAGADLADRFAELERR...VLA')\n"
     ]
    }
   ],
   "metadata": {}
  },
  {
   "cell_type": "markdown",
   "source": [
    "### Exercise 1b"
   ],
   "metadata": {}
  },
  {
   "cell_type": "code",
   "execution_count": 33,
   "source": [
    "store_data = [] \n",
    "\n",
    "for record in SeqIO.parse('mixed_args.fasta', 'fasta'):\n",
    "    record.seq = record.seq.translate()\n",
    "\n",
    "    sequence_identifier = record.id\n",
    "\n",
    "    if record.seq.find('QRALGL') > -1:\n",
    "        motif_1 = 1\n",
    "    else:\n",
    "        motif_1 = 0\n",
    "\n",
    "    store_data.append([sequence_identifier, motif_1])\n",
    "\n",
    "print(store_data)"
   ],
   "outputs": [
    {
     "output_type": "stream",
     "name": "stdout",
     "text": [
      "[['ERMA_STAAR', 1], ['ERMA_STAAM', 1], ['ERMA_STAAU', 1], ['BLAC_MYCTO', 0], ['BLAC_MYCBO', 0], ['A0A133QE03_STASI', 1], ['AMPC_CITFR', 0], ['D4REG1_ENTFC', 1], ['Q7DIC2_STAAU', 1], ['BLAC_MYCTA', 0], ['A0A564SEJ2_ENTAV', 1], ['A0A7V6HLW4_9FIRM', 1], ['BLAC_MYCTU', 0]]\n"
     ]
    }
   ],
   "metadata": {}
  },
  {
   "cell_type": "markdown",
   "source": [
    "### Exercise 1c"
   ],
   "metadata": {}
  },
  {
   "cell_type": "code",
   "execution_count": 34,
   "source": [
    "store_data = [] \n",
    "\n",
    "for record in SeqIO.parse('mixed_args.fasta', 'fasta'):\n",
    "    record.seq = record.seq.translate()\n",
    "\n",
    "    sequence_identifier = record.id\n",
    "\n",
    "    if record.seq.find('QRALGL') > -1:\n",
    "        motif_1 = 1\n",
    "    else:\n",
    "        motif_1 = 0\n",
    "\n",
    "    if record.seq.find('GAKR') > -1:\n",
    "        motif_2 = 1\n",
    "    else:\n",
    "        motif_2 = 0\n",
    "\n",
    "    if record.seq.find('DGTA') > -1:\n",
    "        motif_3 = 1\n",
    "    else:\n",
    "        motif_3 = 0\n",
    "\n",
    "\n",
    "    store_data.append([sequence_identifier, motif_1, motif_2, motif_3])\n",
    "\n",
    "store_data"
   ],
   "outputs": [
    {
     "output_type": "execute_result",
     "data": {
      "text/plain": [
       "[['ERMA_STAAR', 1, 0, 0],\n",
       " ['ERMA_STAAM', 1, 0, 0],\n",
       " ['ERMA_STAAU', 1, 0, 0],\n",
       " ['BLAC_MYCTO', 0, 1, 1],\n",
       " ['BLAC_MYCBO', 0, 1, 1],\n",
       " ['A0A133QE03_STASI', 1, 0, 0],\n",
       " ['AMPC_CITFR', 0, 1, 0],\n",
       " ['D4REG1_ENTFC', 1, 0, 0],\n",
       " ['Q7DIC2_STAAU', 1, 0, 0],\n",
       " ['BLAC_MYCTA', 0, 1, 1],\n",
       " ['A0A564SEJ2_ENTAV', 1, 0, 0],\n",
       " ['A0A7V6HLW4_9FIRM', 1, 0, 0],\n",
       " ['BLAC_MYCTU', 0, 1, 1]]"
      ]
     },
     "metadata": {},
     "execution_count": 34
    }
   ],
   "metadata": {}
  },
  {
   "cell_type": "markdown",
   "source": [
    "### Exercise 1d"
   ],
   "metadata": {}
  },
  {
   "cell_type": "code",
   "execution_count": 35,
   "source": [
    "import pandas as pd # from lecture\n",
    "\n",
    "df = pd.DataFrame(store_data, columns=['gene_id','motif1','motif2','motif3'])\n",
    "df"
   ],
   "outputs": [
    {
     "output_type": "execute_result",
     "data": {
      "text/plain": [
       "             gene_id  motif1  motif2  motif3\n",
       "0         ERMA_STAAR       1       0       0\n",
       "1         ERMA_STAAM       1       0       0\n",
       "2         ERMA_STAAU       1       0       0\n",
       "3         BLAC_MYCTO       0       1       1\n",
       "4         BLAC_MYCBO       0       1       1\n",
       "5   A0A133QE03_STASI       1       0       0\n",
       "6         AMPC_CITFR       0       1       0\n",
       "7       D4REG1_ENTFC       1       0       0\n",
       "8       Q7DIC2_STAAU       1       0       0\n",
       "9         BLAC_MYCTA       0       1       1\n",
       "10  A0A564SEJ2_ENTAV       1       0       0\n",
       "11  A0A7V6HLW4_9FIRM       1       0       0\n",
       "12        BLAC_MYCTU       0       1       1"
      ],
      "text/html": [
       "<div>\n",
       "<style scoped>\n",
       "    .dataframe tbody tr th:only-of-type {\n",
       "        vertical-align: middle;\n",
       "    }\n",
       "\n",
       "    .dataframe tbody tr th {\n",
       "        vertical-align: top;\n",
       "    }\n",
       "\n",
       "    .dataframe thead th {\n",
       "        text-align: right;\n",
       "    }\n",
       "</style>\n",
       "<table border=\"1\" class=\"dataframe\">\n",
       "  <thead>\n",
       "    <tr style=\"text-align: right;\">\n",
       "      <th></th>\n",
       "      <th>gene_id</th>\n",
       "      <th>motif1</th>\n",
       "      <th>motif2</th>\n",
       "      <th>motif3</th>\n",
       "    </tr>\n",
       "  </thead>\n",
       "  <tbody>\n",
       "    <tr>\n",
       "      <th>0</th>\n",
       "      <td>ERMA_STAAR</td>\n",
       "      <td>1</td>\n",
       "      <td>0</td>\n",
       "      <td>0</td>\n",
       "    </tr>\n",
       "    <tr>\n",
       "      <th>1</th>\n",
       "      <td>ERMA_STAAM</td>\n",
       "      <td>1</td>\n",
       "      <td>0</td>\n",
       "      <td>0</td>\n",
       "    </tr>\n",
       "    <tr>\n",
       "      <th>2</th>\n",
       "      <td>ERMA_STAAU</td>\n",
       "      <td>1</td>\n",
       "      <td>0</td>\n",
       "      <td>0</td>\n",
       "    </tr>\n",
       "    <tr>\n",
       "      <th>3</th>\n",
       "      <td>BLAC_MYCTO</td>\n",
       "      <td>0</td>\n",
       "      <td>1</td>\n",
       "      <td>1</td>\n",
       "    </tr>\n",
       "    <tr>\n",
       "      <th>4</th>\n",
       "      <td>BLAC_MYCBO</td>\n",
       "      <td>0</td>\n",
       "      <td>1</td>\n",
       "      <td>1</td>\n",
       "    </tr>\n",
       "    <tr>\n",
       "      <th>5</th>\n",
       "      <td>A0A133QE03_STASI</td>\n",
       "      <td>1</td>\n",
       "      <td>0</td>\n",
       "      <td>0</td>\n",
       "    </tr>\n",
       "    <tr>\n",
       "      <th>6</th>\n",
       "      <td>AMPC_CITFR</td>\n",
       "      <td>0</td>\n",
       "      <td>1</td>\n",
       "      <td>0</td>\n",
       "    </tr>\n",
       "    <tr>\n",
       "      <th>7</th>\n",
       "      <td>D4REG1_ENTFC</td>\n",
       "      <td>1</td>\n",
       "      <td>0</td>\n",
       "      <td>0</td>\n",
       "    </tr>\n",
       "    <tr>\n",
       "      <th>8</th>\n",
       "      <td>Q7DIC2_STAAU</td>\n",
       "      <td>1</td>\n",
       "      <td>0</td>\n",
       "      <td>0</td>\n",
       "    </tr>\n",
       "    <tr>\n",
       "      <th>9</th>\n",
       "      <td>BLAC_MYCTA</td>\n",
       "      <td>0</td>\n",
       "      <td>1</td>\n",
       "      <td>1</td>\n",
       "    </tr>\n",
       "    <tr>\n",
       "      <th>10</th>\n",
       "      <td>A0A564SEJ2_ENTAV</td>\n",
       "      <td>1</td>\n",
       "      <td>0</td>\n",
       "      <td>0</td>\n",
       "    </tr>\n",
       "    <tr>\n",
       "      <th>11</th>\n",
       "      <td>A0A7V6HLW4_9FIRM</td>\n",
       "      <td>1</td>\n",
       "      <td>0</td>\n",
       "      <td>0</td>\n",
       "    </tr>\n",
       "    <tr>\n",
       "      <th>12</th>\n",
       "      <td>BLAC_MYCTU</td>\n",
       "      <td>0</td>\n",
       "      <td>1</td>\n",
       "      <td>1</td>\n",
       "    </tr>\n",
       "  </tbody>\n",
       "</table>\n",
       "</div>"
      ]
     },
     "metadata": {},
     "execution_count": 35
    }
   ],
   "metadata": {}
  },
  {
   "cell_type": "markdown",
   "source": [
    "### Exercise 2a"
   ],
   "metadata": {}
  },
  {
   "cell_type": "code",
   "execution_count": 36,
   "source": [
    "for record in SeqIO.parse('mixed_args.fasta', 'fasta'):\n",
    "    print(record.description)"
   ],
   "outputs": [
    {
     "output_type": "stream",
     "name": "stdout",
     "text": [
      "ERMA_STAAR Q6GKQ0 rRNA adenine N-6-methyltransferase OS=Staphylococcus aureus (strain MRSA252) OX=282458 GN=ermA1 PE=3 SV=1\n",
      "ERMA_STAAM P0A0H1 rRNA adenine N-6-methyltransferase OS=Staphylococcus aureus (strain Mu50 / ATCC 700699) OX=158878 GN=ermA1 PE=3 SV=1\n",
      "ERMA_STAAU P0A0H3 rRNA adenine N-6-methyltransferase OS=Staphylococcus aureus OX=1280 GN=ermA PE=3 SV=1\n",
      "BLAC_MYCTO P9WKD2 Beta-lactamase OS=Mycobacterium tuberculosis (strain CDC 1551 / Oshkosh) OX=83331 GN=blaC PE=3 SV=1\n",
      "BLAC_MYCBO P0A5I7 Beta-lactamase OS=Mycobacterium bovis (strain ATCC BAA-935 / AF2122/97) OX=233413 GN=blaC PE=3 SV=1\n",
      "A0A133QE03_STASI Erythromycin resistance protein OS=Staphylococcus simulans OX=1286 GN=HMPREF3215_02510 PE=3 SV=1\n",
      "AMPC_CITFR P05193 Beta-lactamase OS=Citrobacter freundii OX=546 GN=ampC PE=1 SV=1\n",
      "D4REG1_ENTFC D4REG1 Macrolide-lincosamide-streptogramin B resistance protein OS=Enterococcus faecium E1679 OX=546340 GN=EfmE1679_0214 PE=3 SV=1\n",
      "Q7DIC2_STAAU Q7DIC2 Erythromycin resistance protein OS=Staphylococcus aureus OX=1280 GN=ermA PE=3 SV=1\n",
      "BLAC_MYCTA A5U493 Beta-lactamase OS=Mycobacterium tuberculosis (strain ATCC 25177 / H37Ra) OX=419947 GN=blaC PE=1 SV=1\n",
      "A0A564SEJ2_ENTAV Macrolide-lincosamide-streptogramin B resistance protein OS=Enterococcus avium OX=33945 GN=erm(A) PE=3 SV=1\n",
      "A0A7V6HLW4_9FIRM 23S rRNA (Adenine(2058)-N(6))-methyltransferase Erm(A) OS=Bacilli bacterium OX=1903720 GN=erm(A) PE=4 SV=1\n",
      "BLAC_MYCTU P9WKD3 Beta-lactamase OS=Mycobacterium tuberculosis (strain ATCC 25618 / H37Rv) OX=83332 GN=blaC PE=1 SV=1\n"
     ]
    }
   ],
   "metadata": {}
  },
  {
   "cell_type": "markdown",
   "source": [
    "### Exercise 2b"
   ],
   "metadata": {}
  },
  {
   "cell_type": "code",
   "execution_count": 37,
   "source": [
    "for record in SeqIO.parse('mixed_args.fasta', 'fasta'):\n",
    "    header_data = record.description.split('=')\n",
    "    print(header_data)\n",
    "    print('\\n')\n"
   ],
   "outputs": [
    {
     "output_type": "stream",
     "name": "stdout",
     "text": [
      "['ERMA_STAAR Q6GKQ0 rRNA adenine N-6-methyltransferase OS', 'Staphylococcus aureus (strain MRSA252) OX', '282458 GN', 'ermA1 PE', '3 SV', '1']\n",
      "\n",
      "\n",
      "['ERMA_STAAM P0A0H1 rRNA adenine N-6-methyltransferase OS', 'Staphylococcus aureus (strain Mu50 / ATCC 700699) OX', '158878 GN', 'ermA1 PE', '3 SV', '1']\n",
      "\n",
      "\n",
      "['ERMA_STAAU P0A0H3 rRNA adenine N-6-methyltransferase OS', 'Staphylococcus aureus OX', '1280 GN', 'ermA PE', '3 SV', '1']\n",
      "\n",
      "\n",
      "['BLAC_MYCTO P9WKD2 Beta-lactamase OS', 'Mycobacterium tuberculosis (strain CDC 1551 / Oshkosh) OX', '83331 GN', 'blaC PE', '3 SV', '1']\n",
      "\n",
      "\n",
      "['BLAC_MYCBO P0A5I7 Beta-lactamase OS', 'Mycobacterium bovis (strain ATCC BAA-935 / AF2122/97) OX', '233413 GN', 'blaC PE', '3 SV', '1']\n",
      "\n",
      "\n",
      "['A0A133QE03_STASI Erythromycin resistance protein OS', 'Staphylococcus simulans OX', '1286 GN', 'HMPREF3215_02510 PE', '3 SV', '1']\n",
      "\n",
      "\n",
      "['AMPC_CITFR P05193 Beta-lactamase OS', 'Citrobacter freundii OX', '546 GN', 'ampC PE', '1 SV', '1']\n",
      "\n",
      "\n",
      "['D4REG1_ENTFC D4REG1 Macrolide-lincosamide-streptogramin B resistance protein OS', 'Enterococcus faecium E1679 OX', '546340 GN', 'EfmE1679_0214 PE', '3 SV', '1']\n",
      "\n",
      "\n",
      "['Q7DIC2_STAAU Q7DIC2 Erythromycin resistance protein OS', 'Staphylococcus aureus OX', '1280 GN', 'ermA PE', '3 SV', '1']\n",
      "\n",
      "\n",
      "['BLAC_MYCTA A5U493 Beta-lactamase OS', 'Mycobacterium tuberculosis (strain ATCC 25177 / H37Ra) OX', '419947 GN', 'blaC PE', '1 SV', '1']\n",
      "\n",
      "\n",
      "['A0A564SEJ2_ENTAV Macrolide-lincosamide-streptogramin B resistance protein OS', 'Enterococcus avium OX', '33945 GN', 'erm(A) PE', '3 SV', '1']\n",
      "\n",
      "\n",
      "['A0A7V6HLW4_9FIRM 23S rRNA (Adenine(2058)-N(6))-methyltransferase Erm(A) OS', 'Bacilli bacterium OX', '1903720 GN', 'erm(A) PE', '4 SV', '1']\n",
      "\n",
      "\n",
      "['BLAC_MYCTU P9WKD3 Beta-lactamase OS', 'Mycobacterium tuberculosis (strain ATCC 25618 / H37Rv) OX', '83332 GN', 'blaC PE', '1 SV', '1']\n",
      "\n",
      "\n"
     ]
    }
   ],
   "metadata": {}
  },
  {
   "cell_type": "markdown",
   "source": [
    "### Exercise 2c"
   ],
   "metadata": {}
  },
  {
   "cell_type": "code",
   "execution_count": 38,
   "source": [
    "taxonomy_store = []\n",
    "\n",
    "for record in SeqIO.parse('mixed_args.fasta', 'fasta'):\n",
    "    header_data = record.description.split('=')\n",
    "    taxonomic_info = header_data[1]\n",
    "    taxonomy_store.append([record.id, taxonomic_info])\n",
    "\n",
    "taxonomy_store"
   ],
   "outputs": [
    {
     "output_type": "execute_result",
     "data": {
      "text/plain": [
       "[['ERMA_STAAR', 'Staphylococcus aureus (strain MRSA252) OX'],\n",
       " ['ERMA_STAAM', 'Staphylococcus aureus (strain Mu50 / ATCC 700699) OX'],\n",
       " ['ERMA_STAAU', 'Staphylococcus aureus OX'],\n",
       " ['BLAC_MYCTO', 'Mycobacterium tuberculosis (strain CDC 1551 / Oshkosh) OX'],\n",
       " ['BLAC_MYCBO', 'Mycobacterium bovis (strain ATCC BAA-935 / AF2122/97) OX'],\n",
       " ['A0A133QE03_STASI', 'Staphylococcus simulans OX'],\n",
       " ['AMPC_CITFR', 'Citrobacter freundii OX'],\n",
       " ['D4REG1_ENTFC', 'Enterococcus faecium E1679 OX'],\n",
       " ['Q7DIC2_STAAU', 'Staphylococcus aureus OX'],\n",
       " ['BLAC_MYCTA', 'Mycobacterium tuberculosis (strain ATCC 25177 / H37Ra) OX'],\n",
       " ['A0A564SEJ2_ENTAV', 'Enterococcus avium OX'],\n",
       " ['A0A7V6HLW4_9FIRM', 'Bacilli bacterium OX'],\n",
       " ['BLAC_MYCTU', 'Mycobacterium tuberculosis (strain ATCC 25618 / H37Rv) OX']]"
      ]
     },
     "metadata": {},
     "execution_count": 38
    }
   ],
   "metadata": {}
  },
  {
   "cell_type": "markdown",
   "source": [
    "### Exercise 2d"
   ],
   "metadata": {}
  },
  {
   "cell_type": "code",
   "execution_count": 39,
   "source": [
    "df = pd.DataFrame(taxonomy_store, columns = ['gene_id', 'taxonomy'])\n",
    "df"
   ],
   "outputs": [
    {
     "output_type": "execute_result",
     "data": {
      "text/plain": [
       "             gene_id                                           taxonomy\n",
       "0         ERMA_STAAR          Staphylococcus aureus (strain MRSA252) OX\n",
       "1         ERMA_STAAM  Staphylococcus aureus (strain Mu50 / ATCC 7006...\n",
       "2         ERMA_STAAU                           Staphylococcus aureus OX\n",
       "3         BLAC_MYCTO  Mycobacterium tuberculosis (strain CDC 1551 / ...\n",
       "4         BLAC_MYCBO  Mycobacterium bovis (strain ATCC BAA-935 / AF2...\n",
       "5   A0A133QE03_STASI                         Staphylococcus simulans OX\n",
       "6         AMPC_CITFR                            Citrobacter freundii OX\n",
       "7       D4REG1_ENTFC                      Enterococcus faecium E1679 OX\n",
       "8       Q7DIC2_STAAU                           Staphylococcus aureus OX\n",
       "9         BLAC_MYCTA  Mycobacterium tuberculosis (strain ATCC 25177 ...\n",
       "10  A0A564SEJ2_ENTAV                              Enterococcus avium OX\n",
       "11  A0A7V6HLW4_9FIRM                               Bacilli bacterium OX\n",
       "12        BLAC_MYCTU  Mycobacterium tuberculosis (strain ATCC 25618 ..."
      ],
      "text/html": [
       "<div>\n",
       "<style scoped>\n",
       "    .dataframe tbody tr th:only-of-type {\n",
       "        vertical-align: middle;\n",
       "    }\n",
       "\n",
       "    .dataframe tbody tr th {\n",
       "        vertical-align: top;\n",
       "    }\n",
       "\n",
       "    .dataframe thead th {\n",
       "        text-align: right;\n",
       "    }\n",
       "</style>\n",
       "<table border=\"1\" class=\"dataframe\">\n",
       "  <thead>\n",
       "    <tr style=\"text-align: right;\">\n",
       "      <th></th>\n",
       "      <th>gene_id</th>\n",
       "      <th>taxonomy</th>\n",
       "    </tr>\n",
       "  </thead>\n",
       "  <tbody>\n",
       "    <tr>\n",
       "      <th>0</th>\n",
       "      <td>ERMA_STAAR</td>\n",
       "      <td>Staphylococcus aureus (strain MRSA252) OX</td>\n",
       "    </tr>\n",
       "    <tr>\n",
       "      <th>1</th>\n",
       "      <td>ERMA_STAAM</td>\n",
       "      <td>Staphylococcus aureus (strain Mu50 / ATCC 7006...</td>\n",
       "    </tr>\n",
       "    <tr>\n",
       "      <th>2</th>\n",
       "      <td>ERMA_STAAU</td>\n",
       "      <td>Staphylococcus aureus OX</td>\n",
       "    </tr>\n",
       "    <tr>\n",
       "      <th>3</th>\n",
       "      <td>BLAC_MYCTO</td>\n",
       "      <td>Mycobacterium tuberculosis (strain CDC 1551 / ...</td>\n",
       "    </tr>\n",
       "    <tr>\n",
       "      <th>4</th>\n",
       "      <td>BLAC_MYCBO</td>\n",
       "      <td>Mycobacterium bovis (strain ATCC BAA-935 / AF2...</td>\n",
       "    </tr>\n",
       "    <tr>\n",
       "      <th>5</th>\n",
       "      <td>A0A133QE03_STASI</td>\n",
       "      <td>Staphylococcus simulans OX</td>\n",
       "    </tr>\n",
       "    <tr>\n",
       "      <th>6</th>\n",
       "      <td>AMPC_CITFR</td>\n",
       "      <td>Citrobacter freundii OX</td>\n",
       "    </tr>\n",
       "    <tr>\n",
       "      <th>7</th>\n",
       "      <td>D4REG1_ENTFC</td>\n",
       "      <td>Enterococcus faecium E1679 OX</td>\n",
       "    </tr>\n",
       "    <tr>\n",
       "      <th>8</th>\n",
       "      <td>Q7DIC2_STAAU</td>\n",
       "      <td>Staphylococcus aureus OX</td>\n",
       "    </tr>\n",
       "    <tr>\n",
       "      <th>9</th>\n",
       "      <td>BLAC_MYCTA</td>\n",
       "      <td>Mycobacterium tuberculosis (strain ATCC 25177 ...</td>\n",
       "    </tr>\n",
       "    <tr>\n",
       "      <th>10</th>\n",
       "      <td>A0A564SEJ2_ENTAV</td>\n",
       "      <td>Enterococcus avium OX</td>\n",
       "    </tr>\n",
       "    <tr>\n",
       "      <th>11</th>\n",
       "      <td>A0A7V6HLW4_9FIRM</td>\n",
       "      <td>Bacilli bacterium OX</td>\n",
       "    </tr>\n",
       "    <tr>\n",
       "      <th>12</th>\n",
       "      <td>BLAC_MYCTU</td>\n",
       "      <td>Mycobacterium tuberculosis (strain ATCC 25618 ...</td>\n",
       "    </tr>\n",
       "  </tbody>\n",
       "</table>\n",
       "</div>"
      ]
     },
     "metadata": {},
     "execution_count": 39
    }
   ],
   "metadata": {}
  },
  {
   "cell_type": "markdown",
   "source": [
    "### Exercise 3a"
   ],
   "metadata": {}
  },
  {
   "cell_type": "code",
   "execution_count": 40,
   "source": [
    "for record in SeqIO.parse('short_reads.fastq', 'fastq'):\n",
    "    read_length = len(record.seq)\n",
    "    print(read_length)"
   ],
   "outputs": [
    {
     "output_type": "stream",
     "name": "stdout",
     "text": [
      "262\n",
      "269\n",
      "272\n",
      "300\n"
     ]
    }
   ],
   "metadata": {}
  },
  {
   "cell_type": "markdown",
   "source": [
    "### Exercise 3b"
   ],
   "metadata": {}
  },
  {
   "cell_type": "code",
   "execution_count": 41,
   "source": [
    "total_count = 0\n",
    "\n",
    "for record in SeqIO.parse('short_reads.fastq', 'fastq'):\n",
    "    total_count = total_count + 1\n",
    "\n",
    "print('total reads:', total_count)"
   ],
   "outputs": [
    {
     "output_type": "stream",
     "name": "stdout",
     "text": [
      "total reads: 4\n"
     ]
    }
   ],
   "metadata": {}
  },
  {
   "cell_type": "markdown",
   "source": [
    "### Exercise 3c"
   ],
   "metadata": {}
  },
  {
   "cell_type": "code",
   "execution_count": 42,
   "source": [
    "for record in SeqIO.parse('short_reads.fastq', 'fastq'):\n",
    "    read_length = len(record.seq)\n",
    "    if read_length <= 270:\n",
    "        print('ID:', record.id)\n",
    "        print('length:', read_length)\n",
    "        print('\\n')"
   ],
   "outputs": [
    {
     "output_type": "stream",
     "name": "stdout",
     "text": [
      "ID: M05164:33:000000000-BGDN6:1:1101:9154:2416\n",
      "length: 262\n",
      "\n",
      "\n",
      "ID: M05164:33:000000000-BGDN6:1:1101:16178:2450\n",
      "length: 269\n",
      "\n",
      "\n"
     ]
    }
   ],
   "metadata": {}
  },
  {
   "cell_type": "markdown",
   "source": [
    "### Exercise 4a"
   ],
   "metadata": {}
  },
  {
   "cell_type": "code",
   "execution_count": 43,
   "source": [
    "for record in SeqIO.parse('fabv_small.gbk', 'genbank'):\n",
    "    for feature in record.features:\n",
    "        print(feature)"
   ],
   "outputs": [
    {
     "output_type": "stream",
     "name": "stdout",
     "text": [
      "type: source\n",
      "location: [0:398]\n",
      "qualifiers:\n",
      "    Key: db_xref, Value: ['taxon:286']\n",
      "    Key: organism, Value: ['Pseudomonas']\n",
      "\n",
      "type: Protein\n",
      "location: [0:398]\n",
      "qualifiers:\n",
      "    Key: calculated_mol_wt, Value: ['43397']\n",
      "    Key: product, Value: ['trans-2-enoyl-CoA reductase family protein']\n",
      "\n",
      "type: Region\n",
      "location: [0:396]\n",
      "qualifiers:\n",
      "    Key: db_xref, Value: ['CDD:237460']\n",
      "    Key: note, Value: ['enoyl-[acyl-carrier-protein] reductase FabV']\n",
      "    Key: region_name, Value: ['PRK13656']\n",
      "\n"
     ]
    }
   ],
   "metadata": {}
  },
  {
   "cell_type": "markdown",
   "source": [
    "### Exercise 4b"
   ],
   "metadata": {}
  },
  {
   "cell_type": "code",
   "execution_count": 44,
   "source": [
    "for record in SeqIO.parse('fabv_small.gbk', 'genbank'):\n",
    "    for feature in record.features:\n",
    "        if feature.type == 'Region':\n",
    "            print(feature.qualifiers)"
   ],
   "outputs": [
    {
     "output_type": "stream",
     "name": "stdout",
     "text": [
      "OrderedDict([('region_name', ['PRK13656']), ('note', ['enoyl-[acyl-carrier-protein] reductase FabV']), ('db_xref', ['CDD:237460'])])\n"
     ]
    }
   ],
   "metadata": {}
  },
  {
   "cell_type": "markdown",
   "source": [
    "### Exercise 4c"
   ],
   "metadata": {}
  },
  {
   "cell_type": "code",
   "execution_count": 45,
   "source": [
    "for record in SeqIO.parse('fabv_small.gbk', 'genbank'):\n",
    "    for feature in record.features:\n",
    "        if feature.type == 'Region':\n",
    "            print(feature.qualifiers['db_xref'])"
   ],
   "outputs": [
    {
     "output_type": "stream",
     "name": "stdout",
     "text": [
      "['CDD:237460']\n"
     ]
    }
   ],
   "metadata": {}
  },
  {
   "cell_type": "markdown",
   "source": [
    "### Exercise 5a"
   ],
   "metadata": {}
  },
  {
   "cell_type": "code",
   "execution_count": 46,
   "source": [
    "for record in SeqIO.parse('salmonella_genome.gbk','genbank'):\n",
    "    genome_assembly_ids = record.dbxrefs\n",
    "\n",
    "genome_assembly_ids"
   ],
   "outputs": [
    {
     "output_type": "execute_result",
     "data": {
      "text/plain": [
       "['BioProject:PRJNA224116',\n",
       " 'BioSample:SAMN15501998',\n",
       " 'Assembly:GCF_014109785.1']"
      ]
     },
     "metadata": {},
     "execution_count": 46
    }
   ],
   "metadata": {}
  },
  {
   "cell_type": "markdown",
   "source": [
    "### Exercise 5b"
   ],
   "metadata": {}
  },
  {
   "cell_type": "code",
   "execution_count": 47,
   "source": [
    "genome_assembly_ids[2]"
   ],
   "outputs": [
    {
     "output_type": "execute_result",
     "data": {
      "text/plain": [
       "'Assembly:GCF_014109785.1'"
      ]
     },
     "metadata": {},
     "execution_count": 47
    }
   ],
   "metadata": {}
  },
  {
   "cell_type": "markdown",
   "source": [
    "### Exercise 5c"
   ],
   "metadata": {}
  },
  {
   "cell_type": "code",
   "execution_count": 48,
   "source": [
    "for record in SeqIO.parse('salmonella_genome.gbk','genbank'):\n",
    "    n_pseudo_genes = record.annotations['structured_comment']['Genome-Annotation-Data']['Pseudo Genes (total)']\n",
    "\n",
    "n_pseudo_genes"
   ],
   "outputs": [
    {
     "output_type": "execute_result",
     "data": {
      "text/plain": [
       "'86'"
      ]
     },
     "metadata": {},
     "execution_count": 48
    }
   ],
   "metadata": {}
  },
  {
   "cell_type": "markdown",
   "source": [
    "### Exercise 5d"
   ],
   "metadata": {}
  },
  {
   "cell_type": "code",
   "execution_count": 49,
   "source": [
    "total_genome_length = 0\n",
    "\n",
    "for record in SeqIO.parse('salmonella_genome.gbk','genbank'):\n",
    "    contig_length = len(record.seq)\n",
    "    total_genome_length = total_genome_length + contig_length\n",
    "\n",
    "total_genome_length"
   ],
   "outputs": [
    {
     "output_type": "execute_result",
     "data": {
      "text/plain": [
       "6824624"
      ]
     },
     "metadata": {},
     "execution_count": 49
    }
   ],
   "metadata": {}
  },
  {
   "cell_type": "markdown",
   "source": [
    "### Exercise 5e"
   ],
   "metadata": {}
  },
  {
   "cell_type": "code",
   "execution_count": 50,
   "source": [
    "store_data = []\n",
    "\n",
    "total_genome_length = 0\n",
    "\n",
    "for record in SeqIO.parse('salmonella_genome.gbk','genbank'):\n",
    "\n",
    "\n",
    "    # ncbi whole-genome id stored in record\n",
    "    genome_assembly_ids = record.dbxrefs\n",
    "    ncbi_whole_genome_id = genome_assembly_ids[2]\n",
    "\n",
    "    # number of genes stored in record.annotations under keyword 'Genes (coding)'\n",
    "    n_genes = record.annotations['structured_comment']['Genome-Annotation-Data']['Genes (coding)']\n",
    "\n",
    "    # number of pseudogenes stored in record.annotations under keyword 'Pseudo Genes (total)'\n",
    "    n_pseudo_genes = record.annotations['structured_comment']['Genome-Annotation-Data']['Pseudo Genes (total)']\n",
    "\n",
    "    # length of the genome from getting the len() of record.seq\n",
    "    contig_length = len(record.seq)\n",
    "    total_genome_length = total_genome_length + contig_length\n",
    "\n",
    "store_data.append([ncbi_whole_genome_id, n_genes, n_pseudo_genes, total_genome_length])\n",
    "store_data"
   ],
   "outputs": [
    {
     "output_type": "execute_result",
     "data": {
      "text/plain": [
       "[['Assembly:GCF_014109785.1', '6,136', '86', 6824624]]"
      ]
     },
     "metadata": {},
     "execution_count": 50
    }
   ],
   "metadata": {}
  },
  {
   "cell_type": "markdown",
   "source": [
    "### Exercise 5f\n",
    "\n"
   ],
   "metadata": {}
  },
  {
   "cell_type": "code",
   "execution_count": 51,
   "source": [
    "import os\n",
    "\n",
    "current_directory = os.getcwd()\n",
    "\n",
    "store_data = []\n",
    "\n",
    "for file in os.listdir(current_directory):\n",
    "    if file.startswith('salmonella_genome'):\n",
    "        if file.endswith('.gbk'):\n",
    "\n",
    "\n",
    "            total_genome_length = 0\n",
    "            for record in SeqIO.parse(file,'genbank'):\n",
    "\n",
    "\n",
    "                # ncbi whole-genome id stored in record\n",
    "                genome_assembly_ids = record.dbxrefs\n",
    "                ncbi_whole_genome_id = genome_assembly_ids[2]\n",
    "\n",
    "                # number of genes stored in record.annotations under keyword 'Genes (coding)'\n",
    "                n_genes = record.annotations['structured_comment']['Genome-Annotation-Data']['Genes (coding)']\n",
    "\n",
    "                # number of pseudogenes stored in record.annotations under keyword 'Pseudo Genes (total)'\n",
    "                n_pseudo_genes = record.annotations['structured_comment']['Genome-Annotation-Data']['Pseudo Genes (total)']\n",
    "\n",
    "                # length of the genome from getting the len() of record.seq\n",
    "                contig_length = len(record.seq)\n",
    "                total_genome_length = total_genome_length + contig_length\n",
    "\n",
    "            store_data.append([ncbi_whole_genome_id, n_genes, n_pseudo_genes, total_genome_length])\n",
    "\n",
    "\n",
    "df = pd.DataFrame(store_data, columns = ['ncbi_whole_genome_id', 'gene_count', 'pseudogene_count', 'whole_genome_length'])\n",
    "df\n"
   ],
   "outputs": [
    {
     "output_type": "execute_result",
     "data": {
      "text/plain": [
       "       ncbi_whole_genome_id gene_count pseudogene_count  whole_genome_length\n",
       "0  Assembly:GCF_000625715.2      4,235              114              4685847\n",
       "1  Assembly:GCF_000625255.2      4,235              113              4685847\n",
       "2  Assembly:GCF_014109785.1      6,136               86              6824624"
      ],
      "text/html": [
       "<div>\n",
       "<style scoped>\n",
       "    .dataframe tbody tr th:only-of-type {\n",
       "        vertical-align: middle;\n",
       "    }\n",
       "\n",
       "    .dataframe tbody tr th {\n",
       "        vertical-align: top;\n",
       "    }\n",
       "\n",
       "    .dataframe thead th {\n",
       "        text-align: right;\n",
       "    }\n",
       "</style>\n",
       "<table border=\"1\" class=\"dataframe\">\n",
       "  <thead>\n",
       "    <tr style=\"text-align: right;\">\n",
       "      <th></th>\n",
       "      <th>ncbi_whole_genome_id</th>\n",
       "      <th>gene_count</th>\n",
       "      <th>pseudogene_count</th>\n",
       "      <th>whole_genome_length</th>\n",
       "    </tr>\n",
       "  </thead>\n",
       "  <tbody>\n",
       "    <tr>\n",
       "      <th>0</th>\n",
       "      <td>Assembly:GCF_000625715.2</td>\n",
       "      <td>4,235</td>\n",
       "      <td>114</td>\n",
       "      <td>4685847</td>\n",
       "    </tr>\n",
       "    <tr>\n",
       "      <th>1</th>\n",
       "      <td>Assembly:GCF_000625255.2</td>\n",
       "      <td>4,235</td>\n",
       "      <td>113</td>\n",
       "      <td>4685847</td>\n",
       "    </tr>\n",
       "    <tr>\n",
       "      <th>2</th>\n",
       "      <td>Assembly:GCF_014109785.1</td>\n",
       "      <td>6,136</td>\n",
       "      <td>86</td>\n",
       "      <td>6824624</td>\n",
       "    </tr>\n",
       "  </tbody>\n",
       "</table>\n",
       "</div>"
      ]
     },
     "metadata": {},
     "execution_count": 51
    }
   ],
   "metadata": {}
  },
  {
   "cell_type": "markdown",
   "source": [
    "### Exercise 6a"
   ],
   "metadata": {}
  },
  {
   "cell_type": "code",
   "execution_count": 52,
   "source": [
    "for record in SeqIO.parse('salmonella_genome.gbk','genbank'):\n",
    "    print(record.id)"
   ],
   "outputs": [
    {
     "output_type": "stream",
     "name": "stdout",
     "text": [
      "NZ_CP059063.1\n",
      "NZ_CP059062.1\n"
     ]
    }
   ],
   "metadata": {}
  },
  {
   "cell_type": "markdown",
   "source": [
    "### Exercise 6b"
   ],
   "metadata": {}
  },
  {
   "cell_type": "code",
   "execution_count": 53,
   "source": [
    "plasmid_products = []\n",
    "\n",
    "for record in SeqIO.parse('salmonella_genome.gbk','genbank'):\n",
    "    if record.id == 'NZ_CP059062.1':\n",
    "        for feature in record.features:\n",
    "            if feature.type == 'CDS':\n",
    "                product_description = feature.qualifiers['product'][0]\n",
    "                plasmid_products.append(product_description)\n",
    "\n",
    "plasmid_products"
   ],
   "outputs": [
    {
     "output_type": "execute_result",
     "data": {
      "text/plain": [
       "['hypothetical protein',\n",
       " 'replication initiation factor domain-containing protein']"
      ]
     },
     "metadata": {},
     "execution_count": 53
    }
   ],
   "metadata": {}
  },
  {
   "cell_type": "markdown",
   "source": [
    "### Exercise 6c"
   ],
   "metadata": {}
  },
  {
   "cell_type": "code",
   "execution_count": 54,
   "source": [
    "plasmid_products = []\n",
    "\n",
    "for record in SeqIO.parse('salmonella_genome.gbk','genbank'):\n",
    "    if record.id == 'NZ_CP059062.1':\n",
    "        for feature in record.features:\n",
    "            if feature.type == 'CDS':\n",
    "                product_description = feature.qualifiers['product'][0]\n",
    "                ncbi_accession = feature.qualifiers['locus_tag'][0]\n",
    "                \n",
    "                plasmid_products.append([ncbi_accession, product_description,])\n",
    "\n",
    "df = pd.DataFrame(plasmid_products, columns = ['ncbi_accession','plasmid_products'])\n",
    "df"
   ],
   "outputs": [
    {
     "output_type": "execute_result",
     "data": {
      "text/plain": [
       "     ncbi_accession                                   plasmid_products\n",
       "0  PA52Ts32_RS00005                               hypothetical protein\n",
       "1  PA52Ts32_RS00010  replication initiation factor domain-containin..."
      ],
      "text/html": [
       "<div>\n",
       "<style scoped>\n",
       "    .dataframe tbody tr th:only-of-type {\n",
       "        vertical-align: middle;\n",
       "    }\n",
       "\n",
       "    .dataframe tbody tr th {\n",
       "        vertical-align: top;\n",
       "    }\n",
       "\n",
       "    .dataframe thead th {\n",
       "        text-align: right;\n",
       "    }\n",
       "</style>\n",
       "<table border=\"1\" class=\"dataframe\">\n",
       "  <thead>\n",
       "    <tr style=\"text-align: right;\">\n",
       "      <th></th>\n",
       "      <th>ncbi_accession</th>\n",
       "      <th>plasmid_products</th>\n",
       "    </tr>\n",
       "  </thead>\n",
       "  <tbody>\n",
       "    <tr>\n",
       "      <th>0</th>\n",
       "      <td>PA52Ts32_RS00005</td>\n",
       "      <td>hypothetical protein</td>\n",
       "    </tr>\n",
       "    <tr>\n",
       "      <th>1</th>\n",
       "      <td>PA52Ts32_RS00010</td>\n",
       "      <td>replication initiation factor domain-containin...</td>\n",
       "    </tr>\n",
       "  </tbody>\n",
       "</table>\n",
       "</div>"
      ]
     },
     "metadata": {},
     "execution_count": 54
    }
   ],
   "metadata": {}
  },
  {
   "cell_type": "code",
   "execution_count": null,
   "source": [],
   "outputs": [],
   "metadata": {}
  }
 ]
}