{
 "metadata": {
  "language_info": {
   "codemirror_mode": {
    "name": "ipython",
    "version": 3
   },
   "file_extension": ".py",
   "mimetype": "text/x-python",
   "name": "python",
   "nbconvert_exporter": "python",
   "pygments_lexer": "ipython3",
   "version": "3.8.5"
  },
  "orig_nbformat": 4,
  "kernelspec": {
   "name": "python3",
   "display_name": "Python 3.8.5 64-bit ('myenv': conda)"
  },
  "interpreter": {
   "hash": "f5c9dfabb21bd2a91b63810df81acbdc6b5e617e45414f0ef050ca96090c868f"
  }
 },
 "nbformat": 4,
 "nbformat_minor": 2,
 "cells": [
  {
   "cell_type": "markdown",
   "source": [
    "# Welcome to Day 4! \n",
    "\n",
    "## Extracting and storing sequence data, working with GenBank files\n",
    "\n",
    "### Section 1: Extracting and storing information from sequence data\n",
    "\n",
    "### Section 2: Parsing and manipulating GenBank (.gbk/.gbff) files\n",
    "\n",
    "---\n",
    "\n",
    "## Session summary\n",
    "\n",
    "\n",
    "Day 4 will have two different components. We will go over over how to extract sequence information, like GC content, lengnth, number of methionines, or whether a motif is present, and then save it to a file. We will also extract only information from the headers and save that to a file. Afterwards, we move into uncharted territory by learning how to work with GenBank files. Although GenBank files may look intimdating, we apply what we learned from working with Fasta files and realize that working with them can be straightforward.\n",
    "\n",
    "---\n"
   ],
   "metadata": {}
  },
  {
   "cell_type": "markdown",
   "source": [
    "---\n",
    "## For Google colab users only\n",
    "\n",
    "Run the following commands"
   ],
   "metadata": {}
  },
  {
   "cell_type": "code",
   "execution_count": null,
   "source": [
    "pip install Biopython"
   ],
   "outputs": [],
   "metadata": {}
  },
  {
   "cell_type": "code",
   "execution_count": null,
   "source": [
    "!wget https://raw.githubusercontent.com/agmcfarland/biopython_workshop/master/antibiotic_resistance_genes_short.fasta\n",
    "!wget https://raw.githubusercontent.com/agmcfarland/biopython_workshop/master/mixed_args.fasta\n",
    "!wget https://raw.githubusercontent.com/agmcfarland/biopython_workshop/master/short_reads.fastq\n",
    "!wget https://raw.githubusercontent.com/agmcfarland/biopython_workshop/master/fabv_small.gbk\n",
    "!wget https://raw.githubusercontent.com/agmcfarland/biopython_workshop/master/salmonella_genome.gbk\n",
    "!wget https://raw.githubusercontent.com/agmcfarland/biopython_workshop/master/salmonella_genome_2.gbk\n",
    "!wget https://raw.githubusercontent.com/agmcfarland/biopython_workshop/master/salmonella_genome_3.gbk"
   ],
   "outputs": [],
   "metadata": {}
  },
  {
   "cell_type": "markdown",
   "source": [
    "---\n",
    "\n",
    "# Section 1: Extracting and storing information from sequence data\n",
    "\n",
    "Sometimes we might want to loop through sequences in a file and obtain sequence information, such as the GC content or the length of the sequence. We have obtained sequence information like this in Day 3 in order to filter for sequences, but now we wil learn how to store that information instead.\n",
    "\n",
    "Here are some Biopython functions that can be used to obtain sequence information."
   ],
   "metadata": {}
  },
  {
   "cell_type": "code",
   "execution_count": null,
   "source": [
    "# import Biopython modules we will be using\n",
    "from Bio import SeqIO\n",
    "from Bio.Seq import Seq"
   ],
   "outputs": [],
   "metadata": {}
  },
  {
   "cell_type": "code",
   "execution_count": null,
   "source": [
    "# Calculate sequence length\n",
    "for record in SeqIO.parse('antibiotic_resistance_genes_short.fasta','fasta'):\n",
    "    print(len(record.seq))"
   ],
   "outputs": [],
   "metadata": {}
  },
  {
   "cell_type": "code",
   "execution_count": null,
   "source": [
    "# Calculate number of AUG \n",
    "for record in SeqIO.parse('antibiotic_resistance_genes_short.fasta','fasta'):\n",
    "    print(record.seq.count('ATG'))"
   ],
   "outputs": [],
   "metadata": {}
  },
  {
   "cell_type": "code",
   "execution_count": null,
   "source": [
    "# calculate GC content manually\n",
    "for record in SeqIO.parse('antibiotic_resistance_genes_short.fasta','fasta'):\n",
    "    c_count = record.seq.count('C')\n",
    "    g_count = record.seq.count('G')\n",
    "    seq_length = len(record.seq)\n",
    "\n",
    "    print(100 * (g_count+c_count)/seq_length)"
   ],
   "outputs": [],
   "metadata": {}
  },
  {
   "cell_type": "markdown",
   "source": [
    "We can save these data to a list or to a new file, depending on what we want to do. We can use the record.id so that each data point extracted has a unique identifier."
   ],
   "metadata": {}
  },
  {
   "cell_type": "code",
   "execution_count": null,
   "source": [
    "# make empty list\n",
    "store_data = []\n",
    "\n",
    "for record in SeqIO.parse('antibiotic_resistance_genes_short.fasta','fasta'):\n",
    "    # each data point contains the record.id and the length in a list\n",
    "    store_data.append([record.id, len(record.seq)])\n",
    "# view data\n",
    "store_data"
   ],
   "outputs": [],
   "metadata": {}
  },
  {
   "cell_type": "markdown",
   "source": [
    "This list of lists data storage approach can be then converted into a Numpy array or a Pandas `pd.DataFrame()`."
   ],
   "metadata": {}
  },
  {
   "cell_type": "code",
   "execution_count": null,
   "source": [
    "import pandas as pd\n",
    "\n",
    "df = pd.DataFrame(store_data, columns=['gene_id','length'])\n",
    "df"
   ],
   "outputs": [],
   "metadata": {}
  },
  {
   "cell_type": "markdown",
   "source": [
    "--- \n",
    "### Exercise 1a\n",
    "\n",
    "We want to build a dataframe that contains information on whether specific protein motifs are located in each sequence. We will assign a 1 if it is there, and a 0 if it is not.\n",
    "\n",
    "Use `SeqIO.parse()` to parse the fasta file and `translate()` the `record.seq`. `print()` each `record` in the loop."
   ],
   "metadata": {}
  },
  {
   "cell_type": "code",
   "execution_count": null,
   "source": [
    "for ___ in ___.___('mixed_args.fasta', 'fasta'):\n",
    "    record.seq = record.___.___\n",
    "    print(___)"
   ],
   "outputs": [],
   "metadata": {}
  },
  {
   "cell_type": "markdown",
   "source": [
    "### Exercise 1b\n",
    "\n",
    "To start, make `store_data` an empty list. \n",
    "\n",
    "Now let's search each `record` for the first motif `'QRALGL'` in our sequences using `find()`. Assign a 1 if it is found and a 0 if it is not. \n",
    "\n",
    "`append()` `sequence_identifier` and `motif_1` to `store_data`. \n",
    "\n",
    "Afterwards, `print()` `store_data`"
   ],
   "metadata": {}
  },
  {
   "cell_type": "code",
   "execution_count": null,
   "source": [
    "store_data = ___ \n",
    "\n",
    "for ___ in ___.___('mixed_args.fasta', 'fasta'):\n",
    "    record.seq = record.___.___\n",
    "\n",
    "    sequence_identifier = record.id\n",
    "\n",
    "    if record.___.find('QRALGL') > -1:\n",
    "        motif_1 = ___\n",
    "    else:\n",
    "        motif_1 = ___\n",
    "\n",
    "    store_data.append([___, ___])\n",
    "\n",
    "print(store_data)"
   ],
   "outputs": [],
   "metadata": {}
  },
  {
   "cell_type": "markdown",
   "source": [
    "### Exercise 1c \n",
    "\n",
    "Now let's test for the presence of two additional motifs, using the same basic code structure as above. Use `find()` to search for the other two motifs. Afterwards, `append()` `sequence_identifier`, `motif_1`, `motif_2`, and `motif_3` to `store_data`."
   ],
   "metadata": {}
  },
  {
   "cell_type": "code",
   "execution_count": null,
   "source": [
    "store_data = ___ \n",
    "\n",
    "for ___ in ___.___('mixed_args.fasta', 'fasta'):\n",
    "    record.seq = record.___.____\n",
    "\n",
    "    sequence_identifier = record.id\n",
    "\n",
    "    if ___.___.find('QRALGL') > -1:\n",
    "        motif_1 = ___\n",
    "    else:\n",
    "        motif_1 = ___\n",
    "\n",
    "    if ___.___.find('GAKR') > -1:\n",
    "        motif_2 = ___\n",
    "    else:\n",
    "        motif_2 = ___\n",
    "\n",
    "    if ___.___.find('DGTA') > -1:\n",
    "        motif_3 = ___\n",
    "    else:\n",
    "        motif_3 = ___\n",
    "\n",
    "\n",
    "    store_data.append([___, ___, ___, ___])\n",
    "\n",
    "store_data"
   ],
   "outputs": [],
   "metadata": {}
  },
  {
   "cell_type": "markdown",
   "source": [
    "### Exercise 1d\n",
    "\n",
    "Convert `store_data` into a pandas `pd.DataFrame()`, `df`, with `columns` `'gene_id'`, `'motif1'`, `'motif2'`, `'motif3'`, `'motif4'`"
   ],
   "metadata": {}
  },
  {
   "cell_type": "code",
   "execution_count": null,
   "source": [
    "df = pd.___(___, columns=['gene_id','motif1','motif2','___'])\n",
    "df"
   ],
   "outputs": [],
   "metadata": {}
  },
  {
   "cell_type": "markdown",
   "source": [
    "Storing data in a dataframe like pandas allows for further downstream processing of sequence data using non-sequence techniques. \n",
    "\n",
    "\n",
    "For example, we can mimic a hierarchical clustering of motif detection by sorting the dataframe by presence/absence of all three motifs"
   ],
   "metadata": {}
  },
  {
   "cell_type": "code",
   "execution_count": null,
   "source": [
    "df = df.sort_values(['motif1','motif2','motif3'], ascending=(True,True,True))\n",
    "df"
   ],
   "outputs": [],
   "metadata": {}
  },
  {
   "cell_type": "markdown",
   "source": [
    "---\n",
    "\n",
    "Sometimes it is necessary to extract data sequence headers themselves. An example would be taxonomy data that tells you where which species the sequence belongs to. The base python function `split()` is very useful here. If you know how the headers are organized, you can find common characters that can split the header, which is a string, into items in a list. \n",
    "\n",
    "As an example:\n",
    "\n"
   ],
   "metadata": {}
  },
  {
   "cell_type": "code",
   "execution_count": null,
   "source": [
    "record.description = 'ErmB AAF86219.1 [Enterococcus faecium]'\n",
    "# Splits record.description into four items in a list\n",
    "record.description.split(' ')"
   ],
   "outputs": [],
   "metadata": {}
  },
  {
   "cell_type": "code",
   "execution_count": null,
   "source": [
    "record.description = 'ErmB AAF86219.1 [Enterococcus faecium]'\n",
    "# Splits record.description into two items in a list\n",
    "record.description.split('[')"
   ],
   "outputs": [],
   "metadata": {}
  },
  {
   "cell_type": "markdown",
   "source": [
    "We can use `split()` to convert the header into a list that we can then extract specific information from."
   ],
   "metadata": {}
  },
  {
   "cell_type": "code",
   "execution_count": null,
   "source": [
    "record.description = 'ErmB AAF86219.1 [Enterococcus faecium]'\n",
    "header_data = record.description.split(' ') # header_data is now a list\n",
    "genus = header_data[2] # retrieving the third item in the header_data list\n",
    "species = header_data[3] # retrieving the fourth item in the header_data list\n",
    "\n",
    "print(genus)\n",
    "print(species)\n"
   ],
   "outputs": [],
   "metadata": {}
  },
  {
   "cell_type": "markdown",
   "source": [
    "We can extract sequence information along with header information in a single pass."
   ],
   "metadata": {}
  },
  {
   "cell_type": "code",
   "execution_count": null,
   "source": [
    "# make empty list\n",
    "store_data = []\n",
    "\n",
    "for record in SeqIO.parse('antibiotic_resistance_genes_short.fasta','fasta'):\n",
    "\n",
    "    # get individual counts of each nucleotide\n",
    "    c_count = record.seq.count('C')\n",
    "    g_count = record.seq.count('G')\n",
    "    a_count = record.seq.count('A')\n",
    "    t_count = record.seq.count('T')\n",
    "    # get the length of the sequence\n",
    "    seq_length = len(record.seq)\n",
    "    # calculate the gc content of the sequence\n",
    "    gc_content = 100 * (g_count+c_count)/seq_length\n",
    "\n",
    "    # split the header by whitespace and store the resulting list in header_data\n",
    "    header_data = record.description.split(' ')\n",
    "    # get the genus of the sequence by accessing header_data\n",
    "    genus = header_data[2]\n",
    "    # get the species of the sequence by accessing header_data\n",
    "    species = header_data[3]\n",
    "     \n",
    "    # store all of the data in store_data \n",
    "    store_data.append([record.id, seq_length, c_count, g_count, a_count, t_count, gc_content, genus, species])"
   ],
   "outputs": [],
   "metadata": {}
  },
  {
   "cell_type": "code",
   "execution_count": null,
   "source": [
    "df = pd.DataFrame(store_data, columns = ['record_id', 'seq_length', 'c_count', 'g_count', 'a_count', 't_count', 'gc_content', 'genus', 'species'])\n",
    "df"
   ],
   "outputs": [],
   "metadata": {}
  },
  {
   "cell_type": "markdown",
   "source": [
    "---\n",
    "### Exercise 2a\n",
    "\n",
    "Among other things, we want to extract the genus and species from each sequences in `mixed_args.fasta` \n",
    "\n",
    "Before we try to extract data from the headers, we want to examine how the headers are organized to see where we can `split()` them.\n",
    "\n",
    "Use `SeqIO.parse` to loop through each `record` in `mixed_args.fasta`.\n",
    "\n",
    "`print()` each `record.description`"
   ],
   "metadata": {}
  },
  {
   "cell_type": "code",
   "execution_count": null,
   "source": [
    "for record in SeqIO.___('mixed_args.fasta', 'fasta'):\n",
    "    print( ___ )"
   ],
   "outputs": [],
   "metadata": {}
  },
  {
   "cell_type": "markdown",
   "source": [
    "### Exercise 2b\n",
    "\n",
    "The headers (`record.description`) are more complicated than the previous example. \n",
    "\n",
    "However, a good place to `split()` the `record.description` would be the `=` signs.\n",
    "\n",
    "Store the resulting list in the variable `header_data`. \n",
    "\n",
    "`print()` `header_data` to see how `record.description` was split.\n",
    "\n",
    "\n"
   ],
   "metadata": {}
  },
  {
   "cell_type": "code",
   "execution_count": null,
   "source": [
    "for record in SeqIO.parse('mixed_args.fasta', 'fasta'):\n",
    "    header_data = record.description.___('___')\n",
    "    print(header_data)\n",
    "    print('\\n')"
   ],
   "outputs": [],
   "metadata": {}
  },
  {
   "cell_type": "markdown",
   "source": [
    "### Exercise 2c\n",
    "\n",
    "Using the first `split()` `record.description` as a reference, here is the structure of the split list.\n",
    "\n",
    "`['ERMA_STAAR Q6GKQ0 rRNA adenine N-6-methyltransferase OS', 'Staphylococcus aureus (strain MRSA252) OX', '282458 GN', 'ermA1 PE', '3 SV', '1']`\n",
    "\n",
    "We can see that the taxonomic data is the second item in the list (or first if we use Python indexing). \n",
    "\n",
    "For each split `record.description`, `append()` both `record.id` and the `taxonomic_info` to the list `taxonomy_store`.\n"
   ],
   "metadata": {}
  },
  {
   "cell_type": "code",
   "execution_count": null,
   "source": [
    "taxonomy_store = ___\n",
    "\n",
    "for record in SeqIO.parse('mixed_args.fasta', 'fasta'):\n",
    "    header_data = record.description.___('___')\n",
    "    taxonomic_info = header_data[___]\n",
    "    ___.append([___.id,___])\n",
    "\n",
    "taxonomy_store"
   ],
   "outputs": [],
   "metadata": {}
  },
  {
   "cell_type": "markdown",
   "source": [
    "### Exercise 2d\n",
    "\n",
    "Conver the list `taxonomy_store` into a `pd.DataFrame()` with `columns` `'gene_id'` and `'taxonomy'`"
   ],
   "metadata": {}
  },
  {
   "cell_type": "code",
   "execution_count": null,
   "source": [
    "df = ___.DataFrame(___, ___ = ['gene_id', 'taxonomy'])\n",
    "df"
   ],
   "outputs": [],
   "metadata": {}
  },
  {
   "cell_type": "markdown",
   "source": [
    "---\n",
    "\n",
    "We can use `SeqIO` for more than just fasta files. For example, we can examine the reads in `.fastq` file using almost the same code as for a fasta file."
   ],
   "metadata": {}
  },
  {
   "cell_type": "code",
   "execution_count": null,
   "source": [
    "for record in SeqIO.parse('short_reads.fastq', 'fastq'):\n",
    "    print(record)\n",
    "    print('\\n') # for clarity"
   ],
   "outputs": [],
   "metadata": {}
  },
  {
   "cell_type": "code",
   "execution_count": null,
   "source": [
    "dir(record)"
   ],
   "outputs": [],
   "metadata": {}
  },
  {
   "cell_type": "code",
   "execution_count": null,
   "source": [
    "record._set_seq"
   ],
   "outputs": [],
   "metadata": {}
  },
  {
   "cell_type": "markdown",
   "source": [
    "---\n",
    "### Exercise 3a\n",
    "\n",
    "\n",
    "\n",
    "`print()` the `read_length` of each read in `short_reads.fast` using `len()`."
   ],
   "metadata": {}
  },
  {
   "cell_type": "code",
   "execution_count": null,
   "source": [
    "for record in SeqIO.parse('short_reads.fastq', '___'):\n",
    "    read_length = ___(record.___)\n",
    "    print(read_length)"
   ],
   "outputs": [],
   "metadata": {}
  },
  {
   "cell_type": "markdown",
   "source": [
    "### Exercise 3b\n",
    "count the **total** number of reads in `short_reads.fastq`. `print()` the total number of reads."
   ],
   "metadata": {}
  },
  {
   "cell_type": "code",
   "execution_count": null,
   "source": [
    "total_count = 0\n",
    "\n",
    "for record in SeqIO.parse('short_reads.fastq', '___'):\n",
    "    total_count = total_count + ___\n",
    "\n",
    "print('total reads:', ___)"
   ],
   "outputs": [],
   "metadata": {}
  },
  {
   "cell_type": "markdown",
   "source": [
    "### Exercise 3c\n",
    "\n",
    "`print()` the `record.id` and `read_length` of all reads that have fewer than or equal to 270 bases."
   ],
   "metadata": {}
  },
  {
   "cell_type": "code",
   "execution_count": null,
   "source": [
    "for record in SeqIO.parse('short_reads.fastq', '___'):\n",
    "    read_length = ___(record.___)\n",
    "    if read_length <= ___:\n",
    "        print('ID:', ___.id)\n",
    "        print('length:', ___)\n",
    "        print('\\n')"
   ],
   "outputs": [],
   "metadata": {}
  },
  {
   "cell_type": "markdown",
   "source": [
    "---\n",
    "\n"
   ],
   "metadata": {}
  },
  {
   "cell_type": "markdown",
   "source": [
    "## Interlude\n",
    "\n",
    "Before we get to the next section, we need to review dictionaries.\n",
    "\n",
    "Dictionaries are similar to lists in that they are a way to hold data. A dictionary is different because it is composed of a 'key' and 'value' pairs. For example\n"
   ],
   "metadata": {}
  },
  {
   "cell_type": "code",
   "execution_count": null,
   "source": [
    "my_dict = { 'animal': ['dog','cat'],\n",
    "            'person': ['taylor','simone'],\n",
    "            'vehicle': ['car','plane']}\n",
    "\n",
    "my_dict"
   ],
   "outputs": [],
   "metadata": {}
  },
  {
   "cell_type": "markdown",
   "source": [
    "You can access the **elements** in a key by using they keyword"
   ],
   "metadata": {}
  },
  {
   "cell_type": "code",
   "execution_count": null,
   "source": [
    "# access all elements in key 'animal'\n",
    "my_dict['animal']"
   ],
   "outputs": [],
   "metadata": {}
  },
  {
   "cell_type": "code",
   "execution_count": null,
   "source": [
    "# access the first element of key 'animal'\n",
    "my_dict['animal'][0]"
   ],
   "outputs": [],
   "metadata": {}
  },
  {
   "cell_type": "markdown",
   "source": [
    "# Section 2: Parsing and manipulating GenBank (.gbk/.gbff) files\n",
    "\n",
    "Until now we have been exclusively working with sequences in `fasta` format. As we saw from our most recent example, however, `SeqIO` works with [`fastq` files](https://www.researchgate.net/profile/Morteza-Hosseini-6/publication/309134977/figure/fig2/AS:417452136648711@1476539753452/A-sample-of-the-FASTQ-file_W640.jpg). As we're finding out, `SeqIO` also works with other file types, including `GenBank` files. \n",
    "\n",
    "Compared to [`fasta` files](https://www.researchgate.net/profile/Morteza-Hosseini-6/publication/309134977/figure/fig1/AS:417452136648705@1476539753111/A-sample-of-the-Multi-FASTA-file_W640.jpg), [`GenBank` files](https://archaea.i2bc.paris-saclay.fr/baget/Images/hup.png) contain more information.\n",
    "\n",
    "We will go over how to open and explore the data found in a `GenBank` file as well as how to extract features of interest and save them to a new file.\n",
    "\n",
    "We will start by opening a `.gbk` file that only has one gene in it called fabV. We can see that we can access the same types of information as we would a `fasta` file."
   ],
   "metadata": {}
  },
  {
   "cell_type": "code",
   "execution_count": null,
   "source": [
    "for record in SeqIO.parse('fabv_small.gbk', 'genbank'):\n",
    "    # record id\n",
    "    print(record.id)\n",
    "    print('\\n')\n",
    "    print(record.description)\n",
    "    print('\\n')\n",
    "    print(record.seq)"
   ],
   "outputs": [],
   "metadata": {}
  },
  {
   "cell_type": "markdown",
   "source": [
    "But there additional things we can access, since GenBank files are more information-rich.\n",
    "\n",
    "The most important new thing we can access is called `features`. You would call upon it by inputting `record.features`\n",
    "\n",
    "The data stored in record.features `record.features` is actually a list of dictionaries. We can loop through `record.features` to examine its contents:"
   ],
   "metadata": {}
  },
  {
   "cell_type": "code",
   "execution_count": null,
   "source": [
    "for feature in record.features:\n",
    "    print(feature)\n",
    "    print('\\n') # for clarity"
   ],
   "outputs": [],
   "metadata": {}
  },
  {
   "cell_type": "markdown",
   "source": [
    "From the above, we can see that each loop returns three basic things: type, location, and qualifiers. "
   ],
   "metadata": {}
  },
  {
   "cell_type": "code",
   "execution_count": null,
   "source": [
    "# what is the specific feature for?\n",
    "for feature in record.features:\n",
    "    print(feature.type)"
   ],
   "outputs": [],
   "metadata": {}
  },
  {
   "cell_type": "code",
   "execution_count": null,
   "source": [
    "# where in the genome/sequence is the feature of interest located?\n",
    "for feature in record.features:\n",
    "    print(feature.location)"
   ],
   "outputs": [],
   "metadata": {}
  },
  {
   "cell_type": "code",
   "execution_count": null,
   "source": [
    "# the special data associated with the feature\n",
    "for feature in record.features:\n",
    "    print(feature.qualifiers)"
   ],
   "outputs": [],
   "metadata": {}
  },
  {
   "cell_type": "markdown",
   "source": [
    "We can access specific information found in `record.features`. **But** we have to make sure we specify the correct `feature.type` first."
   ],
   "metadata": {}
  },
  {
   "cell_type": "code",
   "execution_count": null,
   "source": [
    "# the organism that the sequence belongs to is stored under feature type called 'source'\n",
    "for feature in record.features:\n",
    "    if feature.type == 'source':\n",
    "        print(feature.qualifiers['organism'])"
   ],
   "outputs": [],
   "metadata": {}
  },
  {
   "cell_type": "code",
   "execution_count": null,
   "source": [
    "# the molecular weight is stored under the feature type 'Protein'\n",
    "for feature in record.features:\n",
    "    if feature.type == 'Protein':\n",
    "        print(feature.qualifiers['calculated_mol_wt'])"
   ],
   "outputs": [],
   "metadata": {}
  },
  {
   "cell_type": "markdown",
   "source": [
    "---\n",
    "### Exercise 4a\n",
    "\n",
    "`print()` each `feature` found in `record.features` in `'fabv_small.gbk'`."
   ],
   "metadata": {}
  },
  {
   "cell_type": "code",
   "execution_count": null,
   "source": [
    "for record in SeqIO.parse('fabv_small.gbk', '___'):\n",
    "    for feature in record.___:\n",
    "        print(feature)"
   ],
   "outputs": [],
   "metadata": {}
  },
  {
   "cell_type": "markdown",
   "source": [
    "### Exercise 4b\n",
    "\n",
    "`print()` all the `feature.qualifiers` found in `feature.type` `'Region'`"
   ],
   "metadata": {}
  },
  {
   "cell_type": "code",
   "execution_count": null,
   "source": [
    "for record in SeqIO.parse('fabv_small.gbk', '___'):\n",
    "    for feature in record.___:\n",
    "        if feature.___ == 'Region':\n",
    "            print(feature.___)"
   ],
   "outputs": [],
   "metadata": {}
  },
  {
   "cell_type": "markdown",
   "source": [
    "### Exercise 4c\n",
    "\n",
    "`print()` the database cross reference (`'db_xref'`) identifier stored in `feature.qualifiers` that belongs to `feature.type` `'Region'`"
   ],
   "metadata": {}
  },
  {
   "cell_type": "code",
   "execution_count": null,
   "source": [
    "for record in SeqIO.parse('fabv_small.gbk', '___'):\n",
    "    for feature in record.___:\n",
    "        if feature.___ == 'Region':\n",
    "            print(feature.___['___'])"
   ],
   "outputs": [],
   "metadata": {}
  },
  {
   "cell_type": "markdown",
   "source": [
    "---\n",
    "\n",
    "After working with fasta files for so long, it might seem that GenBank files are un-necessarily complex, even if its structure can hold more information. And it is true that perhaps for just one gene/protein, we wouldn't want to access the sequence in GenBank format. \n",
    "\n",
    "Where the GenBank format truly shines is for storing assembled whole genomes that are annotated with predicted coding regions, tRNA, rRNA, and other features.\n"
   ],
   "metadata": {}
  },
  {
   "cell_type": "code",
   "execution_count": null,
   "source": [
    "# record-level data will give you the name of the genome and also the nucleotide sequence for the whole assembly. Each contig is a new record.\n",
    "for record in SeqIO.parse('salmonella_genome.gbk','genbank'):\n",
    "    print(record.description)\n",
    "    print(len(record.seq))\n",
    "    print('\\n') # for clarity"
   ],
   "outputs": [],
   "metadata": {
    "tags": []
   }
  },
  {
   "cell_type": "markdown",
   "source": [
    "From the above output, we can see that we have a really well-assembled genome. It only has two contigs. The first is the complete chromosomal genome and the second is a circular plasmid. When we examine the lengths, we notice there is a big discrepancy in the number of basepairs each has.\n",
    "\n",
    "\n",
    "We can easily extract some useful metadata about the genomes features. We start by input `record.annotations`. This is will make a wall of text but don't be afraid. It is simply a big dictionary that has a couple of dictionaries within it."
   ],
   "metadata": {}
  },
  {
   "cell_type": "code",
   "execution_count": null,
   "source": [
    "for record in SeqIO.parse('salmonella_genome.gbk','genbank'):\n",
    "    rec_annot = record.annotations\n",
    "\n",
    "rec_annot"
   ],
   "outputs": [],
   "metadata": {}
  },
  {
   "cell_type": "markdown",
   "source": [
    "The real meat containing the summary of the overall genomic features is found under `record.annotations['structured_comment']['Genome-Annotation-Data']`"
   ],
   "metadata": {}
  },
  {
   "cell_type": "code",
   "execution_count": null,
   "source": [
    "for record in SeqIO.parse('salmonella_genome.gbk','genbank'):\n",
    "    rec_annot_metadata = record.annotations['structured_comment']['Genome-Annotation-Data']\n",
    "\n",
    "rec_annot_metadata"
   ],
   "outputs": [],
   "metadata": {}
  },
  {
   "cell_type": "markdown",
   "source": [
    "We can extract specific items from this dictionary using keywords."
   ],
   "metadata": {}
  },
  {
   "cell_type": "code",
   "execution_count": null,
   "source": [
    "# number of coding sequences\n",
    "for record in SeqIO.parse('salmonella_genome.gbk','genbank'):\n",
    "    n_coding_sequences = record.annotations['structured_comment']['Genome-Annotation-Data']['CDSs (total)']\n",
    "\n",
    "n_coding_sequences"
   ],
   "outputs": [],
   "metadata": {}
  },
  {
   "cell_type": "code",
   "execution_count": null,
   "source": [
    "# number of CRISPR arrays\n",
    "for record in SeqIO.parse('salmonella_genome.gbk','genbank'):\n",
    "    n_crispr_arrays = record.annotations['structured_comment']['Genome-Annotation-Data']['CRISPR Arrays']\n",
    "\n",
    "n_crispr_arrays"
   ],
   "outputs": [],
   "metadata": {}
  },
  {
   "cell_type": "markdown",
   "source": [
    "We can also access other parts of `record.annotations`\n"
   ],
   "metadata": {}
  },
  {
   "cell_type": "code",
   "execution_count": null,
   "source": [
    "# full taxonomic breakdown\n",
    "for record in SeqIO.parse('salmonella_genome.gbk','genbank'):\n",
    "    genome_taxonomy = record.annotations['taxonomy']\n",
    "\n",
    "genome_taxonomy"
   ],
   "outputs": [],
   "metadata": {}
  },
  {
   "cell_type": "markdown",
   "source": [
    "----\n",
    "\n",
    "### Exercise 5a:\n",
    "\n",
    "Retrieve the list of database cross-reference identifiers stored in `record.dbxrefs`. \n"
   ],
   "metadata": {}
  },
  {
   "cell_type": "code",
   "execution_count": null,
   "source": [
    "for record in SeqIO.___('salmonella_genome.___','genbank'):\n",
    "    genome_assembly_ids = ___.dbxrefs\n",
    "\n",
    "genome_assembly_ids"
   ],
   "outputs": [],
   "metadata": {}
  },
  {
   "cell_type": "markdown",
   "source": [
    "### Exercise 5b:\n",
    "\n",
    "from `genome_assembly_ids`, select the `'Assembly'` ID. This is the whole genome identifer for the genome in NCBI"
   ],
   "metadata": {}
  },
  {
   "cell_type": "code",
   "execution_count": null,
   "source": [
    "___[2]"
   ],
   "outputs": [],
   "metadata": {}
  },
  {
   "cell_type": "markdown",
   "source": [
    "### Exercise 5c:\n",
    "\n",
    "Retrieve the number of pseudogenes stored in `record.annotations['structured_comment']['Genome-Annotation-Data']` using the keyword `'Pseudo Genes (total)'`\n"
   ],
   "metadata": {}
  },
  {
   "cell_type": "code",
   "execution_count": null,
   "source": [
    "for record in SeqIO.parse('salmonella_genome.gbk','genbank'):\n",
    "    n_pseudo_genes = record.___['structured_comment']['Genome-Annotation-Data']['___']\n",
    "\n",
    "n_pseudo_genes"
   ],
   "outputs": [],
   "metadata": {}
  },
  {
   "cell_type": "markdown",
   "source": [
    "### Exercise 5d:\n",
    "\n",
    "Use `len()` to retrieve the length of the **whole** genome. \n",
    "\n",
    "Remember that each `record` object provides information for each contig. Our genome has **two** contigs, so we will need to add up the lengths of `record.seq`"
   ],
   "metadata": {}
  },
  {
   "cell_type": "code",
   "execution_count": null,
   "source": [
    "total_genome_length = ___\n",
    "\n",
    "for record in SeqIO.parse('salmonella_genome.gbk','genbank'):\n",
    "    contig_length = len(___.___)\n",
    "    total_genome_length = total_genome_length + ___\n",
    "\n",
    "total_genome_length"
   ],
   "outputs": [],
   "metadata": {}
  },
  {
   "cell_type": "markdown",
   "source": [
    "### Exercise 5e:\n",
    "\n",
    "Being able to to quickly go through a genome and extract relevant metadata is a common bioinformatic task. \n",
    "\n",
    "We will put everything we learned in the previous steps of exercise 5 together into a single step. Look at the comments for hints\n",
    "\n",
    "Extract the following metadata: \n",
    "\n",
    "1. NCBI whole-genome id \n",
    "2. number of genes\n",
    "3. number of pseudogenes\n",
    "4. the length of the genome.\n",
    "\n",
    "`append()` the extracted metadata to store_data in that order."
   ],
   "metadata": {}
  },
  {
   "cell_type": "code",
   "execution_count": null,
   "source": [
    "store_data = ___\n",
    "\n",
    "total_genome_length = ___\n",
    "\n",
    "for record in SeqIO.parse('salmonella_genome.gbk','genbank'):\n",
    "\n",
    "    # ncbi whole-genome id stored in record\n",
    "    genome_assembly_ids = ___.dbxrefs\n",
    "    ncbi_whole_genome_id = ___[2]\n",
    "\n",
    "    # number of genes stored in record.annotations under keyword 'Genes (coding)'\n",
    "    n_genes = record.___['structured_comment']['Genome-Annotation-Data']['Genes (coding)']\n",
    "\n",
    "    # number of pseudogenes stored in record.annotations under keyword 'Pseudo Genes (total)'\n",
    "    n_pseudo_genes = record.___['structured_comment']['Genome-Annotation-Data']['___']\n",
    "\n",
    "    # length of the genome from getting the len() of record.seq\n",
    "    contig_length = len(record.___)\n",
    "    total_genome_length = total_genome_length + ___\n",
    "\n",
    "    # append items to store_data\n",
    "    store_data.append([ncbi_whole_genome_id, n_genes, n_pseudo_genes, total_genome_length])\n",
    "\n",
    "store_data"
   ],
   "outputs": [],
   "metadata": {}
  },
  {
   "cell_type": "markdown",
   "source": [
    "### Exercise 5f\n",
    "\n",
    "Extract data from three different `genbank` format salmonella genomes in the `current_directory` using `os.listdir()`. \n",
    "\n",
    "Use the above code as a guide"
   ],
   "metadata": {}
  },
  {
   "cell_type": "code",
   "execution_count": null,
   "source": [
    "import os\n",
    "\n",
    "current_directory = os.getcwd()\n",
    "\n",
    "store_data = []\n",
    "\n",
    "for file in ___.___(current_directory):\n",
    "    if ___.startswith('salmonella_genome'):\n",
    "        if ___.endswith('.gbk'):\n",
    "\n",
    "            ## use biopython work with each individual genbank file that passess that above two conditions\n",
    "            total_genome_length = 0\n",
    "            for record in SeqIO.parse(file,'genbank'):\n",
    "\n",
    "                # ncbi whole-genome id stored in record\n",
    "                genome_assembly_ids = record.dbxrefs\n",
    "                ncbi_whole_genome_id = genome_assembly_ids[2]\n",
    "\n",
    "                # number of genes stored in record.annotations under keyword 'Genes (coding)'\n",
    "                n_genes = record.annotations['structured_comment']['Genome-Annotation-Data']['Genes (coding)']\n",
    "\n",
    "                # number of pseudogenes stored in record.annotations under keyword 'Pseudo Genes (total)'\n",
    "                n_pseudo_genes = record.annotations['structured_comment']['Genome-Annotation-Data']['Pseudo Genes (total)']\n",
    "\n",
    "                # length of the genome from getting the len() of record.seq\n",
    "                contig_length = len(record.seq)\n",
    "                total_genome_length = total_genome_length + contig_length\n",
    "\n",
    "            # for each genbank file, store the extracted data in the list store_data\n",
    "            store_data.append([ncbi_whole_genome_id, n_genes, n_pseudo_genes, total_genome_length])\n",
    "\n",
    "# convert store_data to a pandas dataframe\n",
    "df = ___.DataFrame(___, columns = ['ncbi_whole_genome_id', 'gene_count', 'pseudogene_count', 'whole_genome_length'])\n",
    "df"
   ],
   "outputs": [],
   "metadata": {}
  },
  {
   "cell_type": "markdown",
   "source": [
    "---\n",
    "\n",
    "One last thing to go over are the record.features in a large GenBank file. \n",
    "\n",
    "Let's say we wanted to manually count the number of coding sequences \n",
    "\n"
   ],
   "metadata": {}
  },
  {
   "cell_type": "code",
   "execution_count": null,
   "source": [
    "# record-level data will give you the name of the genome and also the nucleotide sequence for the whole assembly. Each contig is a new record.\n",
    "cds_count = 0\n",
    "\n",
    "for record in SeqIO.parse('salmonella_genome.gbk','genbank'):\n",
    "    for feature in record.features:\n",
    "        if feature.type == 'CDS':\n",
    "            cds_count = cds_count + 1\n",
    "\n",
    "cds_count"
   ],
   "outputs": [],
   "metadata": {}
  },
  {
   "cell_type": "markdown",
   "source": [
    "Or, let's say we want to make a list of all the gene products descriptions in our genome for further analysis"
   ],
   "metadata": {}
  },
  {
   "cell_type": "code",
   "execution_count": null,
   "source": [
    "product_list = []\n",
    "\n",
    "for record in SeqIO.parse('salmonella_genome.gbk','genbank'):\n",
    "    for feature in record.features:\n",
    "        if feature.type == 'CDS':\n",
    "            product_list.append(feature.qualifiers['product'][0])\n",
    "\n",
    "product_list"
   ],
   "outputs": [],
   "metadata": {}
  },
  {
   "cell_type": "markdown",
   "source": [
    "There are a lot of products here. What if we wanted to find only the ones that are involved in conjugal transfer? Also, are these genes located in the chromosomal or plasmid DNA, or both?"
   ],
   "metadata": {}
  },
  {
   "cell_type": "code",
   "execution_count": null,
   "source": [
    "conjugal_transfer_list = []\n",
    "\n",
    "for record in SeqIO.parse('salmonella_genome.gbk','genbank'):\n",
    "    for feature in record.features:\n",
    "        if feature.type == 'CDS':\n",
    "            if feature.qualifiers['product'][0].lower().find('conjugal') > -1:\n",
    "                conjugal_transfer_list.append([record.description,feature.qualifiers['product'][0]])\n",
    "\n",
    "\n",
    "\n",
    "df = pd.DataFrame(conjugal_transfer_list, columns = ['record_description','product'])\n",
    "df"
   ],
   "outputs": [],
   "metadata": {}
  },
  {
   "cell_type": "markdown",
   "source": [
    "Surprisingly, conjujgal transfer genes were only found on the chromosome. In the next exercise, let's get all the gene products found in the plasmid."
   ],
   "metadata": {}
  },
  {
   "cell_type": "markdown",
   "source": [
    "---\n",
    "\n",
    "### Exercise 6a:\n",
    "\n",
    "As has been stated before, in a whole-genome GenBank file, each record is a contig in the genome. In our genome .gbk, there are only two contigs, chromosomal and plasmid contigs. \n",
    "\n",
    "`print()` the `record.id` of each contig.\n",
    "\n"
   ],
   "metadata": {}
  },
  {
   "cell_type": "code",
   "execution_count": null,
   "source": [
    "for record in SeqIO.parse('salmonella_genome.gbk','genbank'):\n",
    "    print(___)"
   ],
   "outputs": [],
   "metadata": {}
  },
  {
   "cell_type": "markdown",
   "source": [
    "### Exercise 6b:\n",
    "\n",
    "The second contig (the plasmid contig) has the record.id `NZ_CP059062.1`\n",
    "\n",
    "\n",
    "\n",
    "Let's set our loop so that when the `record.id` is `NZ_CP059062.1`, a variable called `product_description` is created from each `feature.qualifiers['product'][0]` when `feature.type` is `CDS`.  \n",
    "\n",
    "`append()` the `product_description` to the list `plasmid_products`"
   ],
   "metadata": {}
  },
  {
   "cell_type": "code",
   "execution_count": null,
   "source": [
    "plasmid_products = ___\n",
    "\n",
    "for record in SeqIO.parse('salmonella_genome.gbk','genbank'):\n",
    "    if record.id == '___':\n",
    "        for feature in record.features:\n",
    "            if feature.type == 'CDS':\n",
    "                product_description = feature.qualifiers['___'][0]\n",
    "                ___.append(product_description)\n",
    "\n",
    "plasmid_products"
   ],
   "outputs": [],
   "metadata": {}
  },
  {
   "cell_type": "markdown",
   "source": [
    "### Exercise 6c:\n",
    "\n",
    "Do the same as in exercise 6b, but also extract the `ncbi_accession`, which is the gene ID, that is stored in `feature.qualifiers' under the keyword 'locus_tag'.\n",
    "\n",
    "`append()` both the `ncbi_accession` and `product_description` to `plasmid_products`\n",
    "\n",
    "Convert the list to a `pd.DataFrame()` with `columns` `'ncbi_accession'` and `'plasmid_products'`"
   ],
   "metadata": {}
  },
  {
   "cell_type": "code",
   "execution_count": null,
   "source": [
    "plasmid_products = ___\n",
    "\n",
    "for record in SeqIO.parse('salmonella_genome.gbk','genbank'):\n",
    "    if record.id == '___':\n",
    "        for feature in record.features:\n",
    "            if feature.type == 'CDS':\n",
    "                product_description = feature.qualifiers['___'][0]\n",
    "                ncbi_accession = feature.___['locus_tag'][0]\n",
    "                \n",
    "                plasmid_products.append([___, ___])\n",
    "\n",
    "df = ___.DataFrame(___, columns = ['ncbi_accession','plasmid_products'])\n",
    "df"
   ],
   "outputs": [],
   "metadata": {}
  },
  {
   "cell_type": "markdown",
   "source": [
    "---\n",
    "\n",
    "That's it for Day 4! "
   ],
   "metadata": {}
  }
 ]
}