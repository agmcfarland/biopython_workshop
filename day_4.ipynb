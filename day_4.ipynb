{
 "metadata": {
  "language_info": {
   "codemirror_mode": {
    "name": "ipython",
    "version": 3
   },
   "file_extension": ".py",
   "mimetype": "text/x-python",
   "name": "python",
   "nbconvert_exporter": "python",
   "pygments_lexer": "ipython3",
   "version": "3.8.5"
  },
  "orig_nbformat": 4,
  "kernelspec": {
   "name": "python3",
   "display_name": "Python 3.8.5 64-bit ('myenv': conda)"
  },
  "interpreter": {
   "hash": "f5c9dfabb21bd2a91b63810df81acbdc6b5e617e45414f0ef050ca96090c868f"
  }
 },
 "nbformat": 4,
 "nbformat_minor": 2,
 "cells": [
  {
   "source": [
    "# Welcome to Day 4! \n",
    "\n",
    "## Extracting and storing sequence data, working with GenBank files\n",
    "\n",
    "### Section 1: Extracting and storing information from sequence data\n",
    "\n",
    "### Section 2: Parsing and manipulating GenBank (.gbk/.gbff) files\n",
    "\n",
    "---\n",
    "\n",
    "## Session summary\n",
    "\n",
    "\n",
    "Day 4 will have two different components. We will go over over how to extract sequence information, like GC content, lengnth, number of methionines, or whether a motif is present, and then save it to a file. We will also extract only information from the headers and save that to a file. Afterwards, we move into uncharted territory by learning how to work with GenBank files. Although GenBank files may look intimdating, we apply what we learned from working with Fasta files and realize that working with them can be straightforward.\n",
    "\n",
    "---\n"
   ],
   "cell_type": "markdown",
   "metadata": {}
  },
  {
   "source": [
    "# Section 1: Extracting and storing information from sequence data\n",
    "\n",
    "Sometimes we might want to loop through sequences in a file and obtain sequence information, such as the GC content or the length of the sequence. We have obtained sequence information like this in Day 3 in order to filter for sequences, but now we wil learn how to store that information instead.\n",
    "\n",
    "Here are some Biopython functions that can be used to obtain sequence information."
   ],
   "cell_type": "markdown",
   "metadata": {}
  },
  {
   "cell_type": "code",
   "execution_count": 1,
   "metadata": {},
   "outputs": [],
   "source": [
    "# import Biopython modules we will be using\n",
    "from Bio import SeqIO\n",
    "from Bio.Seq import Seq"
   ]
  },
  {
   "source": [
    "# Calculate sequence length\n",
    "for record in SeqIO.parse('antibiotic_resistance_genes_short.fasta','fasta'):\n",
    "    print(len(record.seq))"
   ],
   "cell_type": "code",
   "metadata": {},
   "execution_count": 3,
   "outputs": [
    {
     "output_type": "stream",
     "name": "stdout",
     "text": [
      "744\n729\n1143\n"
     ]
    }
   ]
  },
  {
   "source": [
    "# Calculate number of AUG \n",
    "for record in SeqIO.parse('antibiotic_resistance_genes_short.fasta','fasta'):\n",
    "    print(record.seq.count('ATG'))"
   ],
   "cell_type": "code",
   "metadata": {},
   "execution_count": 5,
   "outputs": [
    {
     "output_type": "stream",
     "name": "stdout",
     "text": [
      "9\n12\n22\n"
     ]
    }
   ]
  },
  {
   "cell_type": "code",
   "execution_count": 6,
   "metadata": {},
   "outputs": [
    {
     "output_type": "stream",
     "name": "stdout",
     "text": [
      "30.64516129032258\n28.9437585733882\n47.41907261592301\n"
     ]
    }
   ],
   "source": [
    "# calculate GC content manually\n",
    "for record in SeqIO.parse('antibiotic_resistance_genes_short.fasta','fasta'):\n",
    "    c_count = record.seq.count('C')\n",
    "    g_count = record.seq.count('G')\n",
    "    seq_length = len(record.seq)\n",
    "    print( 100 * (g_count+c_count)/seq_length )"
   ]
  },
  {
   "source": [
    "We can save these data to a list or to a new file, depending on what we want to do. We can use the record.id so that each data point extracted has a unique identifier."
   ],
   "cell_type": "markdown",
   "metadata": {}
  },
  {
   "cell_type": "code",
   "execution_count": 8,
   "metadata": {},
   "outputs": [
    {
     "output_type": "execute_result",
     "data": {
      "text/plain": [
       "[['ErmB', 744], ['ErmA', 729], ['ErmE', 1143]]"
      ]
     },
     "metadata": {},
     "execution_count": 8
    }
   ],
   "source": [
    "# make empty list\n",
    "store_data = []\n",
    "\n",
    "for record in SeqIO.parse('antibiotic_resistance_genes_short.fasta','fasta'):\n",
    "    # each data point contains the record.id and the length in a list\n",
    "    store_data.append([record.id, len(record.seq)])\n",
    "# view data\n",
    "store_data"
   ]
  },
  {
   "source": [
    "This list of lists data storage approach can be then converted into a Numpy array or a Pandas dataframe."
   ],
   "cell_type": "markdown",
   "metadata": {}
  },
  {
   "source": [
    "--- \n",
    "### Exercise 1a\n",
    "\n",
    "We want to build a dataframe that contains information on whether specific protein motifs are located in each sequence. We will assign a 1 if it is there, and a 0 if it is not.\n",
    "\n",
    "Use `SeqIO.parse()` to parse the fasta file and `translate()` the `record.seq`. `print()` each `record` in the loop."
   ],
   "cell_type": "markdown",
   "metadata": {}
  },
  {
   "source": [
    "for ___ in ___.___('mixed_args.fasta', 'fasta'):\n",
    "    record.seq = record.___.___\n",
    "    print(___)"
   ],
   "cell_type": "code",
   "metadata": {},
   "execution_count": null,
   "outputs": []
  },
  {
   "source": [
    "### Exercise 1b\n",
    "\n",
    "To start, make `store_data` an empty list. \n",
    "\n",
    "Now let's search each `record` for the first motif `'QRALGL'` in our sequences using `find()`. Assign a 1 if it is found and a 0 if it is not. \n",
    "\n",
    "`append()` `sequence_identifier` and `motif_1` to `store_data`. \n",
    "\n",
    "Afterwards, `print()` `store_data`"
   ],
   "cell_type": "markdown",
   "metadata": {}
  },
  {
   "cell_type": "code",
   "execution_count": null,
   "metadata": {},
   "outputs": [],
   "source": [
    "store_data = ___ \n",
    "\n",
    "for ___ in ___.___('mixed_args.fasta', 'fasta'):\n",
    "    record.seq = record.___.___\n",
    "\n",
    "    sequence_identifier = record.id\n",
    "\n",
    "    if record.___.find('QRALGL') > -1:\n",
    "        motif_1 = ___\n",
    "    else:\n",
    "        motif_1 = ___\n",
    "\n",
    "    store_data.append([___, ___])\n",
    "\n",
    "print(store_data)"
   ]
  },
  {
   "source": [
    "### Exercise 1c \n",
    "\n",
    "Now let's test for the presence of two additional motifs, using the same basic code structure as above. Use `find()` to search for the other two motifs. Afterwards, `append()` `sequence_identifier`, `motif_1`, `motif_2`, and `motif_3` to `store_data`."
   ],
   "cell_type": "markdown",
   "metadata": {}
  },
  {
   "cell_type": "code",
   "execution_count": null,
   "metadata": {},
   "outputs": [],
   "source": [
    "store_data = ___ \n",
    "\n",
    "for ___ in ___.___('mixed_args.fasta', 'fasta'):\n",
    "    record.seq = record.___.____\n",
    "\n",
    "    sequence_identifier = record.id\n",
    "\n",
    "    if ___.___.find('QRALGL') > -1:\n",
    "        motif_1 = ___\n",
    "    else:\n",
    "        motif_1 = ___\n",
    "\n",
    "    if ___.___.find('GAKR') > -1:\n",
    "        motif_2 = ___\n",
    "    else:\n",
    "        motif_2 = ___\n",
    "\n",
    "    if ___.___.find('DGTA') > -1:\n",
    "        motif_3 = ___\n",
    "    else:\n",
    "        motif_3 = ___\n",
    "\n",
    "\n",
    "    store_data.append([___, ___, ___, ___])\n",
    "\n",
    "store_data"
   ]
  },
  {
   "source": [
    "---\n",
    "\n",
    "Sometimes it is necessary to extract data sequence headers themselves. An example would be taxonomy data that tells you where which species the sequence belongs to. The base python function `split()` is very useful here. If you know how the headers are organized, you can find common characters that can split the header, which is a string, into items in a list. \n",
    "\n",
    "As an example:\n",
    "\n"
   ],
   "cell_type": "markdown",
   "metadata": {}
  },
  {
   "cell_type": "code",
   "execution_count": 19,
   "metadata": {},
   "outputs": [
    {
     "output_type": "execute_result",
     "data": {
      "text/plain": [
       "['ErmB', 'AAF86219.1', '[Enterococcus', 'faecium]']"
      ]
     },
     "metadata": {},
     "execution_count": 19
    }
   ],
   "source": [
    "record.description = 'ErmB AAF86219.1 [Enterococcus faecium]'\n",
    "# Splits record.description into four items in a list\n",
    "record.description.split(' ')"
   ]
  },
  {
   "cell_type": "code",
   "execution_count": 20,
   "metadata": {},
   "outputs": [
    {
     "output_type": "execute_result",
     "data": {
      "text/plain": [
       "['ErmB AAF86219.1 ', 'Enterococcus faecium]']"
      ]
     },
     "metadata": {},
     "execution_count": 20
    }
   ],
   "source": [
    "record.description = 'ErmB AAF86219.1 [Enterococcus faecium]'\n",
    "# Splits record.description into two items in a list\n",
    "record.description.split('[')"
   ]
  },
  {
   "source": [
    "We can use `split()` to convert the header into a list that we can then extract specific information from."
   ],
   "cell_type": "markdown",
   "metadata": {}
  },
  {
   "cell_type": "code",
   "execution_count": 21,
   "metadata": {},
   "outputs": [
    {
     "output_type": "stream",
     "name": "stdout",
     "text": [
      "[Enterococcus\nfaecium]\n"
     ]
    }
   ],
   "source": [
    "record.description = 'ErmB AAF86219.1 [Enterococcus faecium]'\n",
    "header_data = record.description.split(' ') # header_data is now a list\n",
    "genus = header_data[2] # retrieving the third item in the header_data list\n",
    "species = header_data[3] # retrieving the fourth item in the header_data list\n",
    "\n",
    "print(genus)\n",
    "print(species)\n"
   ]
  },
  {
   "source": [
    "We can extract sequence information along with header information in a single pass."
   ],
   "cell_type": "markdown",
   "metadata": {}
  },
  {
   "source": [
    "# make empty list\n",
    "store_data = []\n",
    "\n",
    "for record in SeqIO.parse('antibiotic_resistance_genes_short.fasta','fasta'):\n",
    "\n",
    "    # get individual counts of each nucleotide\n",
    "    c_count = record.seq.count('C')\n",
    "    g_count = record.seq.count('G')\n",
    "    a_count = record.seq.count('A')\n",
    "    t_count = record.seq.count('T')\n",
    "    # get the length of the sequence\n",
    "    seq_length = len(record.seq)\n",
    "    # calculate the gc content of the sequence\n",
    "    gc_content = 100 * (g_count+c_count)/seq_length\n",
    "\n",
    "    # split the header by whitespace and store the resulting list in header_data\n",
    "    header_data = record.description.split(' ')\n",
    "    # get the genus of the sequence by accessing header_data\n",
    "    genus = header_data[2]\n",
    "    # get the species of the sequence by accessing header_data\n",
    "    species = header_data[3]\n",
    "     \n",
    "    # store all of the data in store_data \n",
    "    store_data.append([record.id, seq_length, c_count, g_count, a_count, t_count, gc_content, genus, species])\n",
    "\n",
    "# view data\n",
    "store_data"
   ],
   "cell_type": "code",
   "metadata": {},
   "execution_count": 22,
   "outputs": [
    {
     "output_type": "execute_result",
     "data": {
      "text/plain": [
       "[['ErmB',\n",
       "  744,\n",
       "  120,\n",
       "  108,\n",
       "  297,\n",
       "  219,\n",
       "  30.64516129032258,\n",
       "  '[Enterococcus',\n",
       "  'faecium]'],\n",
       " ['ErmA',\n",
       "  729,\n",
       "  103,\n",
       "  108,\n",
       "  298,\n",
       "  220,\n",
       "  28.9437585733882,\n",
       "  '[Staphylococcus',\n",
       "  'aureus]'],\n",
       " ['ErmE',\n",
       "  1143,\n",
       "  214,\n",
       "  328,\n",
       "  401,\n",
       "  200,\n",
       "  47.41907261592301,\n",
       "  '[Saccharopolyspora',\n",
       "  'erythraea']]"
      ]
     },
     "metadata": {},
     "execution_count": 22
    }
   ]
  },
  {
   "source": [
    "---\n",
    "### Exercise 2a\n",
    "\n",
    "Among other things, we want to extract the genus and species from each sequences in `mixed_args.fasta` \n",
    "\n",
    "Before we try to extract data from the headers, we want to examine how the headers are organized to see where we can `split()` them.\n",
    "\n",
    "Use `SeqIO.parse` to loop through each `record` in `mixed_args.fasta`.\n",
    "\n",
    "`print()` each `record.description`"
   ],
   "cell_type": "markdown",
   "metadata": {}
  },
  {
   "cell_type": "code",
   "execution_count": null,
   "metadata": {},
   "outputs": [],
   "source": [
    "for record in SeqIO.___('mixed_args.fasta', 'fasta'):\n",
    "    print( ___ )"
   ]
  },
  {
   "source": [
    "### Exercise 2b\n",
    "\n",
    "The headers (`record.description`) are more complicated than the previous example. \n",
    "\n",
    "However, a good place to `split()` the `record.description` would be the `=` signs.\n",
    "\n",
    "Store the resulting list in the variable `header_data`. \n",
    "\n",
    "`print()` `header_data` to see how `record.description` was split.\n",
    "\n",
    "\n"
   ],
   "cell_type": "markdown",
   "metadata": {}
  },
  {
   "cell_type": "code",
   "execution_count": 29,
   "metadata": {},
   "outputs": [
    {
     "output_type": "stream",
     "name": "stdout",
     "text": [
      "['ERMA_STAAR Q6GKQ0 rRNA adenine N-6-methyltransferase OS', 'Staphylococcus aureus (strain MRSA252) OX', '282458 GN', 'ermA1 PE', '3 SV', '1']\n['ERMA_STAAM P0A0H1 rRNA adenine N-6-methyltransferase OS', 'Staphylococcus aureus (strain Mu50 / ATCC 700699) OX', '158878 GN', 'ermA1 PE', '3 SV', '1']\n['ERMA_STAAU P0A0H3 rRNA adenine N-6-methyltransferase OS', 'Staphylococcus aureus OX', '1280 GN', 'ermA PE', '3 SV', '1']\n['BLAC_MYCTO P9WKD2 Beta-lactamase OS', 'Mycobacterium tuberculosis (strain CDC 1551 / Oshkosh) OX', '83331 GN', 'blaC PE', '3 SV', '1']\n['BLAC_MYCBO P0A5I7 Beta-lactamase OS', 'Mycobacterium bovis (strain ATCC BAA-935 / AF2122/97) OX', '233413 GN', 'blaC PE', '3 SV', '1']\n['A0A133QE03_STASI Erythromycin resistance protein OS', 'Staphylococcus simulans OX', '1286 GN', 'HMPREF3215_02510 PE', '3 SV', '1']\n['AMPC_CITFR P05193 Beta-lactamase OS', 'Citrobacter freundii OX', '546 GN', 'ampC PE', '1 SV', '1']\n['D4REG1_ENTFC D4REG1 Macrolide-lincosamide-streptogramin B resistance protein OS', 'Enterococcus faecium E1679 OX', '546340 GN', 'EfmE1679_0214 PE', '3 SV', '1']\n['Q7DIC2_STAAU Q7DIC2 Erythromycin resistance protein OS', 'Staphylococcus aureus OX', '1280 GN', 'ermA PE', '3 SV', '1']\n['BLAC_MYCTA A5U493 Beta-lactamase OS', 'Mycobacterium tuberculosis (strain ATCC 25177 / H37Ra) OX', '419947 GN', 'blaC PE', '1 SV', '1']\n['A0A564SEJ2_ENTAV Macrolide-lincosamide-streptogramin B resistance protein OS', 'Enterococcus avium OX', '33945 GN', 'erm(A) PE', '3 SV', '1']\n['A0A7V6HLW4_9FIRM 23S rRNA (Adenine(2058)-N(6))-methyltransferase Erm(A) OS', 'Bacilli bacterium OX', '1903720 GN', 'erm(A) PE', '4 SV', '1']\n['BLAC_MYCTU P9WKD3 Beta-lactamase OS', 'Mycobacterium tuberculosis (strain ATCC 25618 / H37Rv) OX', '83332 GN', 'blaC PE', '1 SV', '1']\n"
     ]
    }
   ],
   "source": [
    "for record in SeqIO.parse('mixed_args.fasta', 'fasta'):\n",
    "    header_data = record.description.___('___')\n",
    "    print(header_data)\n",
    "    print('\\n')"
   ]
  },
  {
   "source": [
    "### Exercise 2c\n",
    "\n",
    "Using the first `split()` `record.description` as a reference, here is the structure of the splitted list.\n",
    "\n",
    "`['ERMA_STAAR Q6GKQ0 rRNA adenine N-6-methyltransferase OS', 'Staphylococcus aureus (strain MRSA252) OX', '282458 GN', 'ermA1 PE', '3 SV', '1']`\n",
    "\n",
    "We can see that the taxonomic data is the second item in the list (or first if we use Python indexing). \n",
    "\n",
    "For each split `record.description`, `append()` the item with the `taxonomic_info` to the list `taxonomy_store`.\n"
   ],
   "cell_type": "markdown",
   "metadata": {}
  },
  {
   "cell_type": "code",
   "execution_count": null,
   "metadata": {},
   "outputs": [],
   "source": [
    "taxonomy_store = ___\n",
    "\n",
    "for record in SeqIO.parse('mixed_args.fasta', 'fasta'):\n",
    "    header_data = record.description.___('___')\n",
    "    taxonomic_info = header_data[___]\n",
    "    ___.append(___)\n",
    "\n",
    "taxonomy_store"
   ]
  },
  {
   "source": [
    "---\n",
    "\n",
    "We can use `SeqIO` for more than just fasta files. For example, we can examine the reads in `.fastq` file using almost the same code as for a fasta file."
   ],
   "cell_type": "markdown",
   "metadata": {}
  },
  {
   "cell_type": "code",
   "execution_count": 31,
   "metadata": {},
   "outputs": [
    {
     "output_type": "stream",
     "name": "stdout",
     "text": [
      "ID: M05959:27:000000000-D8Y5P:1:1102:15343:1546\nName: M05959:27:000000000-D8Y5P:1:1102:15343:1546\nDescription: M05959:27:000000000-D8Y5P:1:1102:15343:1546 1:N:0:CGCTGT\nNumber of features: 0\nPer letter annotation for: phred_quality\nSeq('TTTTCTTCTTTCTTTCCTTTCTCTTTTTCCCCCATCTCAACGTATTATCCTTTT...TCA', SingleLetterAlphabet())\nID: M05959:27:000000000-D8Y5P:1:1102:15343:1546\nName: M05959:27:000000000-D8Y5P:1:1102:15343:1546\nDescription: M05959:27:000000000-D8Y5P:1:1102:15343:1546 2:N:0:CGCTGT\nNumber of features: 0\nPer letter annotation for: phred_quality\nSeq('CTTTGTTTTTTTTTTAGTGGGGTAGATTGGGAAAGGCAAGTCTGTAATATTGAA...AAA', SingleLetterAlphabet())\nID: M05959:27:000000000-D8Y5P:1:1102:16544:1615\nName: M05959:27:000000000-D8Y5P:1:1102:16544:1615\nDescription: M05959:27:000000000-D8Y5P:1:1102:16544:1615 1:N:0:CGATGT\nNumber of features: 0\nPer letter annotation for: phred_quality\nSeq('TCTGTAGCACCGCCTACATACCTCGCTCTGCTAATCCTGTTACCAGTGGCTGCT...TTT', SingleLetterAlphabet())\nID: M05959:27:000000000-D8Y5P:1:1102:16544:1615\nName: M05959:27:000000000-D8Y5P:1:1102:16544:1615\nDescription: M05959:27:000000000-D8Y5P:1:1102:16544:1615 2:N:0:CGATGT\nNumber of features: 0\nPer letter annotation for: phred_quality\nSeq('CTTGAGTCCAACCCGGTAAGACACGACTTATCGCCACTGGCAGCAGCCACTGGT...TTT', SingleLetterAlphabet())\n"
     ]
    }
   ],
   "source": [
    "for record in SeqIO.parse('short_reads.fastq', 'fastq'):\n",
    "    print(record)"
   ]
  },
  {
   "source": [
    "---\n",
    "### Exercise 3a\n",
    "\n",
    "\n",
    "\n",
    "`print()` the `read_length` of each read in `short_reads.fast` using `len()`."
   ],
   "cell_type": "markdown",
   "metadata": {}
  },
  {
   "cell_type": "code",
   "execution_count": null,
   "metadata": {},
   "outputs": [],
   "source": [
    "for record in SeqIO.parse('short_reads.fastq', '___'):\n",
    "    read_length = ___(record.___)\n",
    "    print(read_length)"
   ]
  },
  {
   "source": [
    "### Exercise 3b\n",
    "count the **total** number of reads in `short_reads.fastq`. `print()` the total number of reads."
   ],
   "cell_type": "markdown",
   "metadata": {}
  },
  {
   "cell_type": "code",
   "execution_count": null,
   "metadata": {},
   "outputs": [],
   "source": [
    "total_count = 0\n",
    "\n",
    "for record in SeqIO.parse('short_reads.fastq', '___'):\n",
    "    total_count = total_count + ___\n",
    "\n",
    "print('total reads:', ___)"
   ]
  },
  {
   "source": [
    "### Exercise 3c\n",
    "\n",
    "`print()` the `record.id` and `read_length` of all reads that have fewer than or equal to 270 bases."
   ],
   "cell_type": "markdown",
   "metadata": {}
  },
  {
   "cell_type": "code",
   "execution_count": 170,
   "metadata": {},
   "outputs": [
    {
     "output_type": "stream",
     "name": "stdout",
     "text": [
      "262\n269\n272\n300\n"
     ]
    }
   ],
   "source": [
    "for record in SeqIO.parse('short_reads.fastq', '___'):\n",
    "    read_length = ___(record.___)\n",
    "    if read_length <= ___:\n",
    "        print('ID:', ___.id)\n",
    "        print('length:', ___)\n",
    "        print('\\n')"
   ]
  },
  {
   "cell_type": "code",
   "execution_count": null,
   "metadata": {},
   "outputs": [],
   "source": []
  },
  {
   "source": [
    "---\n",
    "\n"
   ],
   "cell_type": "markdown",
   "metadata": {}
  },
  {
   "source": [
    "## Interlude\n",
    "\n",
    "Before we get to the next section, we need to review dictionaries.\n",
    "\n",
    "Dictionaries are similar to lists in that they are a way to hold data. A dictionary is different because it is composed of a 'key' and 'value' pairs. For example\n"
   ],
   "cell_type": "markdown",
   "metadata": {}
  },
  {
   "cell_type": "code",
   "execution_count": 124,
   "metadata": {},
   "outputs": [
    {
     "output_type": "execute_result",
     "data": {
      "text/plain": [
       "{'animal': ['dog', 'cat'],\n",
       " 'person': ['taylor', 'simone'],\n",
       " 'vehicle': ['car', 'plane']}"
      ]
     },
     "metadata": {},
     "execution_count": 124
    }
   ],
   "source": [
    "my_dict = { 'animal': ['dog','cat'],\n",
    "            'person': ['taylor','simone'],\n",
    "            'vehicle': ['car','plane']}\n",
    "\n",
    "my_dict"
   ]
  },
  {
   "source": [
    "You can access the **elements** in a key by using they keyword"
   ],
   "cell_type": "markdown",
   "metadata": {}
  },
  {
   "cell_type": "code",
   "execution_count": 128,
   "metadata": {},
   "outputs": [
    {
     "output_type": "execute_result",
     "data": {
      "text/plain": [
       "['dog', 'cat']"
      ]
     },
     "metadata": {},
     "execution_count": 128
    }
   ],
   "source": [
    "# access all elements in key 'animal'\n",
    "my_dict['animal']"
   ]
  },
  {
   "cell_type": "code",
   "execution_count": null,
   "metadata": {},
   "outputs": [],
   "source": [
    "# access the first element of key 'animal'\n",
    "my_dict['animal'][0]"
   ]
  },
  {
   "source": [
    "# Section 2: Parsing and manipulating GenBank (.gbk/.gbff) files\n",
    "\n",
    "Until now we have been exclusively working with sequences in `fasta` format. As we saw from our most recent example, however, `SeqIO` works with [`fastq` files](https://www.researchgate.net/profile/Morteza-Hosseini-6/publication/309134977/figure/fig2/AS:417452136648711@1476539753452/A-sample-of-the-FASTQ-file_W640.jpg). As we're finding out, `SeqIO` also works with other file types, including `GenBank` files. \n",
    "\n",
    "Compared to [`fasta` files](https://www.researchgate.net/profile/Morteza-Hosseini-6/publication/309134977/figure/fig1/AS:417452136648705@1476539753111/A-sample-of-the-Multi-FASTA-file_W640.jpg), [`GenBank` files](https://archaea.i2bc.paris-saclay.fr/baget/Images/hup.png) contain more information.\n",
    "\n",
    "We will go over how to open and explore the data found in a `GenBank` file as well as how to extract features of interest and save them to a new file.\n",
    "\n",
    "We will start by opening a `.gbk` file that only has one gene in it called fabV. We can see that we can access the same types of information as we would a `fasta` file."
   ],
   "cell_type": "markdown",
   "metadata": {}
  },
  {
   "cell_type": "code",
   "execution_count": 57,
   "metadata": {},
   "outputs": [
    {
     "output_type": "stream",
     "name": "stdout",
     "text": [
      "WP_003102929.1\n\n\nMULTISPECIES: trans-2-enoyl-CoA reductase family protein [Pseudomonas]\n\n\nMIIKPRVRGFICVTTHPAGCEANVKQQIDYVEAKGPVVNGPKKVLVIGSSTGYGLAARITAAFGSGADTLGVFFERPGSESKPGTAGWYNSAAFEKFAHEKGLYARSINGDAFSDEVKRLTIETIKRDLGKVDLVVYSLAAPRRTHPKSGEVFSSTLKPIGKSVSFRGLDTDKEVIKDVVLEAASDQEVADTVAVMGGEDWQMWIDALLEADVLADGAKTTAFTYLGEKITHDIYWNGSIGAAKKDLDQKVLGIRDKLAPLGGDARVSVLKAVVTQASSAIPMMPLYLSLLFKVMKEQGTHEGCIEQVDGLYRESLYGAEPRLDEEGRLRADYKELQPEVQSRVEELWDKVTNENLYELTDFAGYKSEFLNLFGFEVAGVDYEQDVNPDVQIANLIQA\n"
     ]
    }
   ],
   "source": [
    "for record in SeqIO.parse('fabv_small.gbk', 'genbank'):\n",
    "    # record id\n",
    "    print(record.id)\n",
    "    print('\\n')\n",
    "    print(record.description)\n",
    "    print('\\n')\n",
    "    print(record.seq)"
   ]
  },
  {
   "source": [
    "But there additional things we can access, since GenBank files are more information-rich.\n",
    "\n",
    "The most important new thing we can access is called `features`. You would call upon it by inputting `record.features`\n",
    "\n",
    "The data stored in record.features `record.features` is actually a list of dictionaries. We can loop through `record.features` to examine its contents:"
   ],
   "cell_type": "markdown",
   "metadata": {}
  },
  {
   "cell_type": "code",
   "execution_count": 68,
   "metadata": {},
   "outputs": [
    {
     "output_type": "stream",
     "name": "stdout",
     "text": [
      "type: source\nlocation: [0:398]\nqualifiers:\n    Key: db_xref, Value: ['taxon:286']\n    Key: organism, Value: ['Pseudomonas']\n\n\n\ntype: Protein\nlocation: [0:398]\nqualifiers:\n    Key: calculated_mol_wt, Value: ['43397']\n    Key: product, Value: ['trans-2-enoyl-CoA reductase family protein']\n\n\n\ntype: Region\nlocation: [0:396]\nqualifiers:\n    Key: db_xref, Value: ['CDD:237460']\n    Key: note, Value: ['enoyl-[acyl-carrier-protein] reductase FabV']\n    Key: region_name, Value: ['PRK13656']\n\n\n\n"
     ]
    }
   ],
   "source": [
    "for feature in record.features:\n",
    "    print(feature)\n",
    "    print('\\n')"
   ]
  },
  {
   "source": [
    "From the above, we can see that each loop returns three basic things: type, location, and qualifiers. "
   ],
   "cell_type": "markdown",
   "metadata": {}
  },
  {
   "cell_type": "code",
   "execution_count": 73,
   "metadata": {},
   "outputs": [
    {
     "output_type": "stream",
     "name": "stdout",
     "text": [
      "source\nProtein\nRegion\n"
     ]
    }
   ],
   "source": [
    "# what is the specific feature for?\n",
    "for feature in record.features:\n",
    "    print(feature.type)"
   ]
  },
  {
   "cell_type": "code",
   "execution_count": 74,
   "metadata": {},
   "outputs": [
    {
     "output_type": "stream",
     "name": "stdout",
     "text": [
      "[0:398]\n[0:398]\n[0:396]\n"
     ]
    }
   ],
   "source": [
    "# where in the genome/sequence is the feature of interest located?\n",
    "for feature in record.features:\n",
    "    print(feature.location)"
   ]
  },
  {
   "cell_type": "code",
   "execution_count": 72,
   "metadata": {},
   "outputs": [
    {
     "output_type": "stream",
     "name": "stdout",
     "text": [
      "OrderedDict([('organism', ['Pseudomonas']), ('db_xref', ['taxon:286'])])\nOrderedDict([('product', ['trans-2-enoyl-CoA reductase family protein']), ('calculated_mol_wt', ['43397'])])\nOrderedDict([('region_name', ['PRK13656']), ('note', ['enoyl-[acyl-carrier-protein] reductase FabV']), ('db_xref', ['CDD:237460'])])\n"
     ]
    }
   ],
   "source": [
    "# the special data associated with the feature\n",
    "for feature in record.features:\n",
    "    print(feature.qualifiers)"
   ]
  },
  {
   "source": [
    "We can access specific information found in `record.features`. **But** we have to make sure we specify the correct `feature.type` first."
   ],
   "cell_type": "markdown",
   "metadata": {}
  },
  {
   "cell_type": "code",
   "execution_count": 75,
   "metadata": {},
   "outputs": [
    {
     "output_type": "stream",
     "name": "stdout",
     "text": [
      "['Pseudomonas']\n"
     ]
    }
   ],
   "source": [
    "# the organism that the sequence belongs to is stored under feature type called 'source'\n",
    "for feature in record.features:\n",
    "    if feature.type == 'source':\n",
    "        print(feature.qualifiers['organism'])"
   ]
  },
  {
   "cell_type": "code",
   "execution_count": 77,
   "metadata": {},
   "outputs": [
    {
     "output_type": "stream",
     "name": "stdout",
     "text": [
      "['43397']\n"
     ]
    }
   ],
   "source": [
    "# the molecular weight is stored under the feature type 'Protein'\n",
    "for feature in record.features:\n",
    "    if feature.type == 'Protein':\n",
    "        print(feature.qualifiers['calculated_mol_wt'])"
   ]
  },
  {
   "source": [
    "---\n",
    "### Exercise 4a\n",
    "\n",
    "`print()` each `feature` found in `record.features` in `'fabv_small.gbk'`."
   ],
   "cell_type": "markdown",
   "metadata": {}
  },
  {
   "cell_type": "code",
   "execution_count": 80,
   "metadata": {},
   "outputs": [
    {
     "output_type": "stream",
     "name": "stdout",
     "text": [
      "type: source\nlocation: [0:398]\nqualifiers:\n    Key: db_xref, Value: ['taxon:286']\n    Key: organism, Value: ['Pseudomonas']\n\ntype: Protein\nlocation: [0:398]\nqualifiers:\n    Key: calculated_mol_wt, Value: ['43397']\n    Key: product, Value: ['trans-2-enoyl-CoA reductase family protein']\n\ntype: Region\nlocation: [0:396]\nqualifiers:\n    Key: db_xref, Value: ['CDD:237460']\n    Key: note, Value: ['enoyl-[acyl-carrier-protein] reductase FabV']\n    Key: region_name, Value: ['PRK13656']\n\n"
     ]
    }
   ],
   "source": [
    "for record in SeqIO.parse('fabv_small.gbk', '___'):\n",
    "    for feature in record.___:\n",
    "        print(feature)"
   ]
  },
  {
   "source": [
    "### Exercise 4b\n",
    "\n",
    "`print()` all the `feature.qualifiers` found in `feature.type` `'Region'`"
   ],
   "cell_type": "markdown",
   "metadata": {}
  },
  {
   "cell_type": "code",
   "execution_count": null,
   "metadata": {},
   "outputs": [],
   "source": [
    "for record in SeqIO.parse('fabv_small.gbk', '___'):\n",
    "    for feature in record.___:\n",
    "        if feature.___ == 'Region':\n",
    "            print(feature.___)"
   ]
  },
  {
   "source": [
    "### Exercise 4c\n",
    "\n",
    "`print()` the database cross reference (`'db_xref'`) identifier stored in `feature.qualifiers` that belongs to `feature.type` `'Region'`"
   ],
   "cell_type": "markdown",
   "metadata": {}
  },
  {
   "cell_type": "code",
   "execution_count": null,
   "metadata": {},
   "outputs": [],
   "source": [
    "for record in SeqIO.parse('fabv_small.gbk', '___'):\n",
    "    for feature in record.___:\n",
    "        if feature.___ == 'Region':\n",
    "            print(feature.___['___'])"
   ]
  },
  {
   "source": [
    "---\n",
    "\n",
    "After working with fasta files for so long, it might seem that GenBank files are un-necessarily complex, even if its structure can hold more information. And it is true that perhaps for just one gene/protein, we wouldn't want to access the sequence in GenBank format. \n",
    "\n",
    "Where the GenBank format truly shines is for storing assembled whole genomes that are annotated with predicted coding regions, tRNA, rRNA, and other features.\n"
   ],
   "cell_type": "markdown",
   "metadata": {}
  },
  {
   "cell_type": "code",
   "execution_count": 86,
   "metadata": {
    "tags": []
   },
   "outputs": [
    {
     "output_type": "stream",
     "name": "stdout",
     "text": [
      "Pseudomonas aeruginosa strain GIMC5034:PA52Ts32 chromosome\n6823040\n\n\nPseudomonas aeruginosa strain GIMC5034:PA52Ts32 plasmid pPA52Ts32, complete sequence\n1584\n\n\n"
     ]
    }
   ],
   "source": [
    "# record-level data will give you the name of the genome and also the nucleotide sequence for the whole assembly. Each contig is a new record.\n",
    "for record in SeqIO.parse('salmonella_genome.gbk','genbank'):\n",
    "    print(record.description)\n",
    "    print(len(record.seq))\n",
    "    print('\\n') # for clarity"
   ]
  },
  {
   "source": [
    "From the above output, we can see that we have a really well-assembled genome. It only has two contigs. The first is the complete chromosomal genome and the second is a circular plasmid. When we examine the lengths, we notice there is a big discrepancy in the number of basepairs each has.\n",
    "\n",
    "\n",
    "We can easily extract some useful metadata about the genomes features. We start by input `record.annotations`. This is will make a wall of text but don't be afraid. It is simply a big dictionary that has a couple of dictionaries within it."
   ],
   "cell_type": "markdown",
   "metadata": {}
  },
  {
   "cell_type": "code",
   "execution_count": 111,
   "metadata": {},
   "outputs": [
    {
     "output_type": "execute_result",
     "data": {
      "text/plain": [
       "{'molecule_type': 'DNA',\n",
       " 'topology': 'circular',\n",
       " 'data_file_division': 'CON',\n",
       " 'date': '12-AUG-2020',\n",
       " 'accessions': ['NZ_CP059062'],\n",
       " 'sequence_version': 1,\n",
       " 'keywords': ['RefSeq'],\n",
       " 'source': 'Pseudomonas aeruginosa',\n",
       " 'organism': 'Pseudomonas aeruginosa',\n",
       " 'taxonomy': ['Bacteria',\n",
       "  'Proteobacteria',\n",
       "  'Gammaproteobacteria',\n",
       "  'Pseudomonadales',\n",
       "  'Pseudomonadaceae',\n",
       "  'Pseudomonas'],\n",
       " 'references': [Reference(title='Direct Submission', ...)],\n",
       " 'comment': 'REFSEQ INFORMATION: The reference sequence is identical to\\nCP059062.1.\\nThe annotation was added by the NCBI Prokaryotic Genome Annotation\\nPipeline (PGAP). Information about PGAP can be found here:\\nhttps://www.ncbi.nlm.nih.gov/genome/annotation_prok/\\nCOMPLETENESS: full length.',\n",
       " 'structured_comment': OrderedDict([('Genome-Assembly-Data',\n",
       "               OrderedDict([('Assembly Method',\n",
       "                             'CLC Genomics Workbench v. 20; SPAdes v. 3.13.0'),\n",
       "                            ('Genome Representation', 'Full'),\n",
       "                            ('Expected Final Version', 'Yes'),\n",
       "                            ('Reference-guided Assembly', 'CP051766.1'),\n",
       "                            ('Genome Coverage', '190.0x'),\n",
       "                            ('Sequencing Technology', 'Illumina NextSeq')])),\n",
       "              ('Genome-Annotation-Data',\n",
       "               OrderedDict([('Annotation Provider', 'NCBI RefSeq'),\n",
       "                            ('Annotation Date', '08/11/2020 21:20:25'),\n",
       "                            ('Annotation Pipeline',\n",
       "                             'NCBI Prokaryotic Genome Annotation Pipeline (PGAP)'),\n",
       "                            ('Annotation Method',\n",
       "                             'Best-placed reference protein set; GeneMarkS-2+'),\n",
       "                            ('Annotation Software revision', '4.12'),\n",
       "                            ('Features Annotated',\n",
       "                             'Gene; CDS; rRNA; tRNA; ncRNA; repeat_region'),\n",
       "                            ('Genes (total)', '6,302'),\n",
       "                            ('CDSs (total)', '6,222'),\n",
       "                            ('Genes (coding)', '6,136'),\n",
       "                            ('CDSs (with protein)', '6,136'),\n",
       "                            ('Genes (RNA)', '80'),\n",
       "                            ('rRNAs', '4, 4, 4 (5S, 16S, 23S)'),\n",
       "                            ('complete rRNAs', '4, 4, 4 (5S, 16S, 23S)'),\n",
       "                            ('tRNAs', '64'),\n",
       "                            ('ncRNAs', '4'),\n",
       "                            ('Pseudo Genes (total)', '86'),\n",
       "                            ('CDSs (without protein)', '86'),\n",
       "                            ('Pseudo Genes (ambiguous residues)', '0 of 86'),\n",
       "                            ('Pseudo Genes (frameshifted)', '33 of 86'),\n",
       "                            ('Pseudo Genes (incomplete)', '55 of 86'),\n",
       "                            ('Pseudo Genes (internal stop)', '8 of 86'),\n",
       "                            ('Pseudo Genes (multiple problems)', '9 of 86'),\n",
       "                            ('CRISPR Arrays', '3')]))]),\n",
       " 'contig': 'join(CP059062.1:1..1584)'}"
      ]
     },
     "metadata": {},
     "execution_count": 111
    }
   ],
   "source": [
    "for record in SeqIO.parse('salmonella_genome.gbk','genbank'):\n",
    "    rec_annot = record.annotations\n",
    "\n",
    "rec_annot"
   ]
  },
  {
   "source": [
    "The real meat containing the summary of the overall genomic features is found under `record.annotations['structured_comment']['Genome-Annotation-Data']`"
   ],
   "cell_type": "markdown",
   "metadata": {}
  },
  {
   "cell_type": "code",
   "execution_count": 113,
   "metadata": {},
   "outputs": [
    {
     "output_type": "execute_result",
     "data": {
      "text/plain": [
       "OrderedDict([('Annotation Provider', 'NCBI RefSeq'),\n",
       "             ('Annotation Date', '08/11/2020 21:20:25'),\n",
       "             ('Annotation Pipeline',\n",
       "              'NCBI Prokaryotic Genome Annotation Pipeline (PGAP)'),\n",
       "             ('Annotation Method',\n",
       "              'Best-placed reference protein set; GeneMarkS-2+'),\n",
       "             ('Annotation Software revision', '4.12'),\n",
       "             ('Features Annotated',\n",
       "              'Gene; CDS; rRNA; tRNA; ncRNA; repeat_region'),\n",
       "             ('Genes (total)', '6,302'),\n",
       "             ('CDSs (total)', '6,222'),\n",
       "             ('Genes (coding)', '6,136'),\n",
       "             ('CDSs (with protein)', '6,136'),\n",
       "             ('Genes (RNA)', '80'),\n",
       "             ('rRNAs', '4, 4, 4 (5S, 16S, 23S)'),\n",
       "             ('complete rRNAs', '4, 4, 4 (5S, 16S, 23S)'),\n",
       "             ('tRNAs', '64'),\n",
       "             ('ncRNAs', '4'),\n",
       "             ('Pseudo Genes (total)', '86'),\n",
       "             ('CDSs (without protein)', '86'),\n",
       "             ('Pseudo Genes (ambiguous residues)', '0 of 86'),\n",
       "             ('Pseudo Genes (frameshifted)', '33 of 86'),\n",
       "             ('Pseudo Genes (incomplete)', '55 of 86'),\n",
       "             ('Pseudo Genes (internal stop)', '8 of 86'),\n",
       "             ('Pseudo Genes (multiple problems)', '9 of 86'),\n",
       "             ('CRISPR Arrays', '3')])"
      ]
     },
     "metadata": {},
     "execution_count": 113
    }
   ],
   "source": [
    "for record in SeqIO.parse('salmonella_genome.gbk','genbank'):\n",
    "    rec_annot_metadata = record.annotations['structured_comment']['Genome-Annotation-Data']\n",
    "\n",
    "rec_annot_metadata"
   ]
  },
  {
   "source": [
    "We can extract specific items from this dictionary using keywords."
   ],
   "cell_type": "markdown",
   "metadata": {}
  },
  {
   "cell_type": "code",
   "execution_count": 106,
   "metadata": {},
   "outputs": [
    {
     "output_type": "execute_result",
     "data": {
      "text/plain": [
       "'6,222'"
      ]
     },
     "metadata": {},
     "execution_count": 106
    }
   ],
   "source": [
    "# number of coding sequences\n",
    "for record in SeqIO.parse('salmonella_genome.gbk','genbank'):\n",
    "    n_coding_sequences = record.annotations['structured_comment']['Genome-Annotation-Data']['CDSs (total)']\n",
    "\n",
    "n_coding_sequences"
   ]
  },
  {
   "cell_type": "code",
   "execution_count": 107,
   "metadata": {},
   "outputs": [
    {
     "output_type": "execute_result",
     "data": {
      "text/plain": [
       "'3'"
      ]
     },
     "metadata": {},
     "execution_count": 107
    }
   ],
   "source": [
    "# number of CRISPR arrays\n",
    "for record in SeqIO.parse('salmonella_genome.gbk','genbank'):\n",
    "    n_crispr_arrays = record.annotations['structured_comment']['Genome-Annotation-Data']['CRISPR Arrays']\n",
    "\n",
    "n_crispr_arrays"
   ]
  },
  {
   "source": [
    "We can also access other parts of `record.annotations`\n"
   ],
   "cell_type": "markdown",
   "metadata": {}
  },
  {
   "cell_type": "code",
   "execution_count": 116,
   "metadata": {},
   "outputs": [
    {
     "output_type": "execute_result",
     "data": {
      "text/plain": [
       "['Bacteria',\n",
       " 'Proteobacteria',\n",
       " 'Gammaproteobacteria',\n",
       " 'Pseudomonadales',\n",
       " 'Pseudomonadaceae',\n",
       " 'Pseudomonas']"
      ]
     },
     "metadata": {},
     "execution_count": 116
    }
   ],
   "source": [
    "# full taxonomic breakdown\n",
    "for record in SeqIO.parse('salmonella_genome.gbk','genbank'):\n",
    "    genome_taxonomy = record.annotations['taxonomy']\n",
    "\n",
    "genome_taxonomy"
   ]
  },
  {
   "source": [
    "----\n",
    "\n",
    "### Exercise 5a:\n",
    "\n",
    "Retrieve the list of database cross-reference identifiers stored in `record.dbxrefs`. \n"
   ],
   "cell_type": "markdown",
   "metadata": {}
  },
  {
   "cell_type": "code",
   "execution_count": 142,
   "metadata": {},
   "outputs": [
    {
     "output_type": "execute_result",
     "data": {
      "text/plain": [
       "['BioProject:PRJNA224116',\n",
       " 'BioSample:SAMN15501998',\n",
       " 'Assembly:GCF_014109785.1']"
      ]
     },
     "metadata": {},
     "execution_count": 142
    }
   ],
   "source": [
    "for record in SeqIO.___('salmonella_genome.___','genbank'):\n",
    "    genome_assembly_ids = ___.dbxrefs\n",
    "\n",
    "genome_assembly_ids"
   ]
  },
  {
   "source": [
    "### Exercise 5b:\n",
    "\n",
    "from `genome_assembly_ids`, select the `'Assembly'` ID. This is the whole genome identifer for the genome in NCBI"
   ],
   "cell_type": "markdown",
   "metadata": {}
  },
  {
   "cell_type": "code",
   "execution_count": 143,
   "metadata": {},
   "outputs": [
    {
     "output_type": "execute_result",
     "data": {
      "text/plain": [
       "'Assembly:GCF_014109785.1'"
      ]
     },
     "metadata": {},
     "execution_count": 143
    }
   ],
   "source": [
    "___[2]"
   ]
  },
  {
   "source": [
    "### Exercise 5c:\n",
    "\n",
    "Retrieve the number of pseudogenes stored in `record.annotations['structured_comment']['Genome-Annotation-Data']` using the keyword `'Pseudo Genes (total)'`\n"
   ],
   "cell_type": "markdown",
   "metadata": {}
  },
  {
   "cell_type": "code",
   "execution_count": null,
   "metadata": {},
   "outputs": [],
   "source": [
    "for record in SeqIO.parse('salmonella_genome.gbk','genbank'):\n",
    "    n_pseudo_genes = record.___['structured_comment']['Genome-Annotation-Data']['___']\n",
    "\n",
    "n_pseudo_genes"
   ]
  },
  {
   "source": [
    "### Exercise 5d:\n",
    "\n",
    "Use `len()` to retrieve the length of the **whole** genome. \n",
    "\n",
    "Remember that each `record` object provides information for each contig. Our genome has **two** contigs, so we will need to add up the lengths of `record.seq`"
   ],
   "cell_type": "markdown",
   "metadata": {}
  },
  {
   "cell_type": "code",
   "execution_count": 152,
   "metadata": {},
   "outputs": [
    {
     "output_type": "execute_result",
     "data": {
      "text/plain": [
       "6824624"
      ]
     },
     "metadata": {},
     "execution_count": 152
    }
   ],
   "source": [
    "total_genome_length = ___\n",
    "\n",
    "for record in SeqIO.parse('salmonella_genome.gbk','genbank'):\n",
    "    contig_length = len(___.___)\n",
    "    total_genome_length = total_genome_length + ___\n",
    "\n",
    "total_genome_length"
   ]
  },
  {
   "source": [
    "### Exercise 5e:\n",
    "\n",
    "Being able to to quickly go through a genome and extract relevant metadata is a common bioinformatic task. \n",
    "\n",
    "We will put everything we learned in the previous steps of exercise 5 together into a single step. Look at the comments for hints\n",
    "\n",
    "Extract the following metadata: \n",
    "\n",
    "1. NCBI whole-genome id \n",
    "2. number of genes\n",
    "3. number of pseudogenes\n",
    "4. the length of the genome.\n",
    "\n",
    "`append()` the extracted metadata to store_data in that order."
   ],
   "cell_type": "markdown",
   "metadata": {}
  },
  {
   "cell_type": "code",
   "execution_count": null,
   "metadata": {},
   "outputs": [],
   "source": [
    "store_data = ___\n",
    "\n",
    "total_genome_length = ___\n",
    "\n",
    "for record in SeqIO.parse('salmonella_genome.gbk','genbank'):\n",
    "\n",
    "    # ncbi whole-genome id stored in record\n",
    "    genome_assembly_ids = ___.dbxrefs\n",
    "    ncbi_whole_genome_id = ___[2]\n",
    "\n",
    "    # number of genes stored in record.annotations under keyword 'Genes (coding)'\n",
    "    n_genes = record.___['structured_comment']['Genome-Annotation-Data']['Genes (coding)']\n",
    "\n",
    "    # number of pseudogenes stored in record.annotations under keyword 'Pseudo Genes (total)'\n",
    "    n_pseudo_genes = record.___['structured_comment']['Genome-Annotation-Data']['___']\n",
    "\n",
    "    # length of the genome from getting the len() of record.seq\n",
    "    contig_length = len(record.___)\n",
    "    total_genome_length = total_genome_length + ___\n",
    "\n",
    "store_data.append(___) #whole genome id\n",
    "store_data.append(___) #number of genes\n",
    "store_data.append(___) #number of pseudogenes\n",
    "store_data.append(___) #length of whole genome\n",
    "\n",
    "store_data"
   ]
  },
  {
   "source": [
    "---\n",
    "\n",
    "One last thing to go over are the record.features in a large GenBank file. \n",
    "\n",
    "Let's say we wanted to manually count the number of coding sequences \n",
    "\n"
   ],
   "cell_type": "markdown",
   "metadata": {}
  },
  {
   "cell_type": "code",
   "execution_count": 89,
   "metadata": {},
   "outputs": [
    {
     "output_type": "execute_result",
     "data": {
      "text/plain": [
       "6222"
      ]
     },
     "metadata": {},
     "execution_count": 89
    }
   ],
   "source": [
    "# record-level data will give you the name of the genome and also the nucleotide sequence for the whole assembly. Each contig is a new record.\n",
    "cds_count = 0\n",
    "\n",
    "for record in SeqIO.parse('salmonella_genome.gbk','genbank'):\n",
    "    for feature in record.features:\n",
    "        if feature.type == 'CDS':\n",
    "            cds_count = cds_count + 1\n",
    "\n",
    "cds_count"
   ]
  },
  {
   "source": [
    "Or, let's say we want to make a list of all the gene products descriptions in our genome for further analysis"
   ],
   "cell_type": "markdown",
   "metadata": {}
  },
  {
   "cell_type": "code",
   "execution_count": 160,
   "metadata": {},
   "outputs": [
    {
     "output_type": "execute_result",
     "data": {
      "text/plain": [
       "ux transporter periplasmic adaptor subunit',\n",
       " 'ribosome-associated ATPase/putative transporter RbbA',\n",
       " 'ABC transporter permease',\n",
       " 'EVE domain-containing protein',\n",
       " '5-formyltetrahydrofolate cyclo-ligase',\n",
       " 'cell division protein ZapA',\n",
       " 'TIGR02449 family protein',\n",
       " 'YecA family protein',\n",
       " 'Xaa-Pro aminopeptidase',\n",
       " '2-octaprenyl-6-methoxyphenyl hydroxylase',\n",
       " 'YiiD C-terminal domain-containing protein',\n",
       " '2-octaprenyl-3-methyl-6-methoxy-1,4-benzoquinol hydroxylase',\n",
       " 'hypothetical protein',\n",
       " 'MFS transporter',\n",
       " 'LysR family transcriptional regulator',\n",
       " 'extracellular solute-binding protein',\n",
       " 'iron ABC transporter permease',\n",
       " 'glycine cleavage system aminomethyltransferase GcvT',\n",
       " 'glycine cleavage system protein GcvH',\n",
       " 'glycine dehydrogenase (aminomethyl-transferring)',\n",
       " 'DUF2388 domain-containing protein',\n",
       " 'NfeD family protein',\n",
       " 'type II/IV secretion system protein',\n",
       " 'inorganic triphosphatase',\n",
       " 'TIGR00153 family protein',\n",
       " 'inorganic phosphate transporter',\n",
       " 'acetylornithine deacetylase',\n",
       " 'MarC family NAAT transporter',\n",
       " 'amino-acid N-acetyltransferase',\n",
       " 'glutamate--cysteine ligase',\n",
       " 'PaaI family thioesterase',\n",
       " 'RNA-binding transcriptional accessory protein',\n",
       " 'two-component system response regulator OmpR',\n",
       " 'HAMP domain-containing protein',\n",
       " 'LD-carboxypeptidase',\n",
       " '30S ribosomal protein S6--L-glutamate ligase',\n",
       " 'ATP-dependent zinc protease',\n",
       " 'RNA-binding protein S4',\n",
       " 'phosphatase PAP2 family protein',\n",
       " 'Hsp33 family molecular chaperone HslO',\n",
       " 'phosphoenolpyruvate carboxykinase',\n",
       " 'hypothetical protein',\n",
       " 'nitroreductase family protein',\n",
       " 'LysR family transcriptional regulator',\n",
       " '3-hydroxyacyl-CoA dehydrogenase',\n",
       " 'acyl-CoA dehydrogenase C-terminal domain-containing protein',\n",
       " 'iron-containing alcohol dehydrogenase',\n",
       " 'acyl-CoA thioesterase',\n",
       " 'chorismate mutase',\n",
       " 'carbon storage regulator',\n",
       " 'hypothetical protein',\n",
       " 'hypothetical protein',\n",
       " 'FdhF/YdeP family oxidoreductase',\n",
       " 'formate dehydrogenase accessory sulfurtransferase FdhD',\n",
       " 'LysR family transcriptional regulator',\n",
       " 'peptidoglycan-binding protein LysM',\n",
       " 'GMP/IMP nucleotidase',\n",
       " 'ADP compounds hydrolase NudE',\n",
       " \"3'(2'),5'-bisphosphate nucleotidase CysQ\",\n",
       " 'beta-ketoacyl synthase',\n",
       " 'carbamate kinase',\n",
       " 'ornithine carbamoyltransferase',\n",
       " 'arginine deiminase',\n",
       " 'arginine-ornithine antiporter',\n",
       " 'TRAP transporter large permease',\n",
       " 'TRAP transporter small permease',\n",
       " 'TRAP transporter substrate-binding protein',\n",
       " 'sigma-54-dependent Fis family transcriptional regulator',\n",
       " 'sensor histidine kinase',\n",
       " 'dTDP-4-dehydrorhamnose 3,5-epimerase',\n",
       " 'glucose-1-phosphate thymidylyltransferase RfbA',\n",
       " 'dTDP-4-dehydrorhamnose reductase',\n",
       " 'dTDP-glucose 4,6-dehydratase',\n",
       " 'hypothetical protein',\n",
       " 'hypothetical protein',\n",
       " 'integrase domain-containing protein',\n",
       " 'integrase arm-type DNA-binding domain-containing protein',\n",
       " 'DHA2 family efflux MFS transporter permease subunit',\n",
       " 'efflux RND transporter periplasmic adaptor subunit',\n",
       " 'efflux transporter outer membrane subunit',\n",
       " 'MarR family transcriptional regulator',\n",
       " 'methyltransferase',\n",
       " 'ABC transporter permease',\n",
       " 'ABC transporter permease',\n",
       " 'ABC transporter substrate-binding protein',\n",
       " 'ABC transporter ATP-binding protein',\n",
       " 'DUF502 domain-containing protein',\n",
       " 'SDR family oxidoreductase',\n",
       " 'hypothetical protein',\n",
       " 'hypothetical protein',\n",
       " 'DotA/TraY family protein',\n",
       " 'hypothetical protein',\n",
       " 'DEAD/DEAH box helicase',\n",
       " 'hypothetical protein',\n",
       " 'hypothetical protein',\n",
       " 'tyrosine-type recombinase/integrase',\n",
       " 'tyrosine-type recombinase/integrase',\n",
       " 'tyrosine-type recombinase/integrase',\n",
       " 'hypothetical protein',\n",
       " 'hypothetical protein',\n",
       " 'NERD domain-containing protein',\n",
       " 'hypothetical protein',\n",
       " 'site-specific integrase',\n",
       " 'oxidoreductase',\n",
       " 'oxidative damage protection protein',\n",
       " 'A/G-specific adenine glycosylase',\n",
       " 'AsmA family protein',\n",
       " 'NAD(P)/FAD-dependent oxidoreductase',\n",
       " 'hypothetical protein',\n",
       " 'acetyl-CoA sensor PanZ family protein',\n",
       " 'imidazoleglycerol-phosphate dehydratase HisB',\n",
       " 'imidazole glycerol phosphate synthase subunit HisH',\n",
       " 'DUF2164 domain-containing protein',\n",
       " '1-(5-phosphoribosyl)-5-[(5- phosphoribosylamino)methylideneamino]imidazole-4- carboxamide isomerase',\n",
       " 'imidazole glycerol phosphate synthase subunit HisF',\n",
       " 'ABC transporter substrate-binding protein',\n",
       " 'ABC transporter substrate-binding protein',\n",
       " 'ABC transporter substrate-binding protein',\n",
       " 'hypothetical protein',\n",
       " 'divergent polysaccharide deacetylase family protein',\n",
       " 'S41 family peptidase',\n",
       " 'murein hydrolase activator EnvC',\n",
       " 'CPBP family intramembrane metalloprotease',\n",
       " '2,3-bisphosphoglycerate-independent phosphoglycerate mutase',\n",
       " 'rhodanese-like domain-containing protein',\n",
       " 'glutaredoxin 3',\n",
       " 'protein-export chaperone SecB',\n",
       " \"tRNA (uridine(34)/cytosine(34)/5- carboxymethylaminomethyluridine(34)-2'-O)- methyltransferase TrmL\",\n",
       " 'hypothetical protein',\n",
       " 'nitrogen regulation protein NR(I)',\n",
       " 'nitrogen regulation protein NR(II)',\n",
       " 'DUF4124 domain-containing protein',\n",
       " 'DUF4124 domain-containing protein',\n",
       " 'mechanosensitive ion channel family protein',\n",
       " 'hypothetical protein',\n",
       " 'glutamate--ammonia ligase',\n",
       " 'tRNA 4-thiouridine(8) synthase ThiI',\n",
       " 'translational GTPase TypA',\n",
       " 'helix-turn-helix domain-containing protein',\n",
       " 'class I SAM-dependent methyltransferase',\n",
       " 'DUF2339 domain-containing protein',\n",
       " 'DUF3999 domain-containing protein',\n",
       " 'autotransporter domain-containing protein',\n",
       " 'lactoylglutathione lyase',\n",
       " 'class 1 fructose-bisphosphatase',\n",
       " 'DUF924 family protein',\n",
       " 'outer membrane protein assembly factor BamE',\n",
       " 'lipocalin family protein',\n",
       " 'formimidoylglutamate deiminase',\n",
       " 'histidine utilization repressor',\n",
       " 'HutD family protein',\n",
       " 'ABC transporter substrate-binding protein',\n",
       " 'fatty acid desaturase',\n",
       " 'phosphate/phosphite/phosphonate ABC transporter substrate-binding protein',\n",
       " 'urocanate hydratase',\n",
       " 'cytosine permease',\n",
       " 'histidine ammonia-lyase',\n",
       " 'amino acid permease',\n",
       " 'ABC transporter substrate-binding protein',\n",
       " 'proline/glycine betaine ABC transporter permease',\n",
       " 'glycine betaine/L-proline ABC transporter ATP-binding protein',\n",
       " 'histidine ammonia-lyase',\n",
       " 'imidazolonepropionase',\n",
       " 'N-formylglutamate deformylase',\n",
       " 'type VI secretion system tip protein VgrG',\n",
       " 'hypothetical protein',\n",
       " 'sel1 repeat family protein',\n",
       " 'sel1 repeat family protein',\n",
       " 'sel1 repeat family protein',\n",
       " 'LysR family transcriptional regulator',\n",
       " 'D-amino acid dehydrogenase',\n",
       " 'RidA family protein',\n",
       " 'transporter substrate-binding domain-containing protein',\n",
       " 'NUDIX hydrolase',\n",
       " 'prolyl aminopeptidase',\n",
       " 'D-tyrosyl-tRNA(Tyr) deacylase',\n",
       " 'glucan biosynthesis protein G',\n",
       " 'glucans biosynthesis glucosyltransferase MdoH',\n",
       " 'transporter substrate-binding domain-containing protein',\n",
       " 'amino acid ABC transporter permease',\n",
       " 'amino acid ABC transporter ATP-binding protein',\n",
       " 'UPF0158 family protein',\n",
       " 'methyl-accepting chemotaxis protein',\n",
       " '16S rRNA (uracil(1498)-N(3))-methyltransferase',\n",
       " 'twin-arginine translocase subunit TatC',\n",
       " 'Sec-independent protein translocase subunit TatB',\n",
       " 'twin-arginine translocase TatA/TatE family subunit',\n",
       " 'phosphoribosyl-ATP diphosphatase',\n",
       " 'phosphoribosyl-AMP cyclohydrolase',\n",
       " 'ubiquinone biosynthesis regulatory protein kinase UbiB',\n",
       " 'SCP2 domain-containing protein',\n",
       " 'bifunctional demethylmenaquinone methyltransferase/2-methoxy-6-polyprenyl-1,4-benzoquinol methylase UbiE',\n",
       " 'polyhydroxyalkanoic acid system family protein',\n",
       " 'phasin family protein',\n",
       " 'phasin family protein',\n",
       " 'TetR/AcrR family transcriptional regulator',\n",
       " 'class II poly(R)-hydroxyalkanoic acid synthase',\n",
       " 'poly(3-hydroxyalkanoate) depolymerase',\n",
       " 'class II poly(R)-hydroxyalkanoic acid synthase',\n",
       " 'DUF971 domain-containing protein',\n",
       " 'ATP-dependent protease ATPase subunit HslU',\n",
       " 'ATP-dependent protease subunit HslV',\n",
       " 'SPOR domain-containing protein',\n",
       " 'arginine--tRNA ligase',\n",
       " \"primosomal protein N'\",\n",
       " '50S ribosomal protein L31',\n",
       " 'thermonuclease family protein',\n",
       " 'M48 family metalloprotease',\n",
       " 'malic enzyme',\n",
       " 'penicillin-binding protein 1A',\n",
       " 'pilus assembly protein PilM',\n",
       " 'type 4a pilus biogenesis protein PilN',\n",
       " 'type 4a pilus biogenesis protein PilO',\n",
       " 'type 4a pilus biogenesis lipoprotein PilP',\n",
       " 'type 4a pilus secretin PilQ',\n",
       " 'shikimate kinase AroK',\n",
       " '3-dehydroquinate synthase',\n",
       " 'AAA family ATPase',\n",
       " 'glutamate synthase large subunit',\n",
       " 'FAD-dependent oxidoreductase',\n",
       " 'uroporphyrinogen decarboxylase',\n",
       " 'hypothetical protein',\n",
       " 'AraC family transcriptional regulator',\n",
       " 'SDR family NAD(P)-dependent oxidoreductase',\n",
       " 'MFS transporter',\n",
       " 'LysR family transcriptional regulator',\n",
       " 'ParA family protein',\n",
       " 'universal stress protein',\n",
       " 'YiiD C-terminal domain-containing protein',\n",
       " 'bifunctional O-acetylhomoserine aminocarboxypropyltransferase/cysteine synthase',\n",
       " 'sulfite exporter TauE/SafE family protein',\n",
       " 'YdiU family protein',\n",
       " 'mechanosensitive channel MscK',\n",
       " 'potassium/proton antiporter',\n",
       " 'acyl-CoA dehydrogenase',\n",
       " '23S rRNA (adenine(2030)-N(6))-methyltransferase RlmJ',\n",
       " 'peptide-methionine (S)-S-oxide reductase MsrA',\n",
       " 'EAL domain-containing protein',\n",
       " 'dihydrolipoyllysine-residue acetyltransferase',\n",
       " 'pyruvate dehydrogenase (acetyl-transferring), homodimeric type',\n",
       " 'bifunctional [glutamate--ammonia ligase]-adenylyl-L-tyrosine phosphorylase/[glutamate--ammonia-ligase] adenylyltransferase',\n",
       " 'branched-chain-amino-acid transaminase',\n",
       " 'lipopolysaccharide heptosyltransferase II',\n",
       " 'lipopolysaccharide heptosyltransferase I',\n",
       " 'glycosyltransferase family 4 protein',\n",
       " 'lipopolysaccharide core heptose(I) kinase RfaP',\n",
       " 'hypothetical protein',\n",
       " 'lipopolysaccharide kinase InaA family protein',\n",
       " 'hypothetical protein',\n",
       " 'carbamoyltransferase',\n",
       " 'glycosyltransferase',\n",
       " 'antimicrobial resistance protein Mig-14',\n",
       " 'PIG-L family deacetylase',\n",
       " 'glycosyltransferase family 1 protein',\n",
       " 'glycosyltransferase',\n",
       " 'O-antigen ligase family protein',\n",
       " 'hypothetical protein',\n",
       " 'lipid A export permease/ATP-binding protein MsbA',\n",
       " 'bifunctional D-glycero-beta-D-manno-heptose-7-phosphate kinase/D-glycero-beta-D-manno-heptose 1-phosphate adenylyltransferase HldE',\n",
       " 'acyl-CoA dehydrogenase family protein',\n",
       " 'acyl-CoA dehydrogenase family protein',\n",
       " 'hypothetical protein',\n",
       " 'aldo/keto reductase',\n",
       " 'FAD-dependent oxidoreductase',\n",
       " 'multidrug efflux SMR transporter',\n",
       " 'LysR family transcriptional regulator',\n",
       " 'lipid IV(A) 3-deoxy-D-manno-octulosonic acid transferase',\n",
       " 'cupin domain-containing protein',\n",
       " 'FAD-dependent oxidoreductase',\n",
       " 'ABC transporter substrate-binding protein',\n",
       " 'TetR family transcriptional regulator C-terminal domain-containing protein',\n",
       " 'response regulator',\n",
       " 'transporter substrate-binding domain-containing protein',\n",
       " 'response regulator',\n",
       " 'amino acid permease',\n",
       " 'enoyl-CoA hydratase/isomerase family protein',\n",
       " 'acyl-CoA dehydrogenase family protein',\n",
       " 'acetate--CoA ligase family protein',\n",
       " '5-guanidino-2-oxopentanoate decarboxylase',\n",
       " 'pyridoxal phosphate-dependent aminotransferase',\n",
       " 'NAD(P)H-dependent oxidoreductase',\n",
       " 'efflux transporter outer membrane subunit OpmH',\n",
       " 'phosphomethylpyrimidine synthase ThiC',\n",
       " 'DUF3298 and DUF4163 domain-containing protein',\n",
       " 'NUDIX domain-containing protein',\n",
       " 'DUF1249 domain-containing protein',\n",
       " \"3',5'-cyclic-AMP phosphodiesterase\",\n",
       " 'alpha/beta fold hydrolase',\n",
       " 'DNA topoisomerase IV subunit B',\n",
       " 'esterase-like activity of phytase family protein',\n",
       " 'TIGR02281 family clan AA aspartic protease',\n",
       " 'DNA topoisomerase IV subunit A',\n",
       " 'membrane integrity-associated transporter subunit PqiC',\n",
       " 'metal-dependent hydrolase',\n",
       " 'YtjB family periplasmic protein',\n",
       " 'phosphoserine phosphatase SerB',\n",
       " 'EAL domain-containing protein',\n",
       " 'hypothetical protein',\n",
       " 'phosphatidylserine decarboxylase',\n",
       " 'sulfurtransferase',\n",
       " 'HDOD domain-containing protein',\n",
       " 'flagellar motor stator protein MotA',\n",
       " 'flagellar motor protein MotB',\n",
       " 'small ribosomal subunit biogenesis GTPase RsgA',\n",
       " 'oligoribonuclease',\n",
       " 'tRNA epoxyqueuosine(34) reductase QueG',\n",
       " 'bifunctional ADP-dependent NAD(P)H-hydrate dehydratase/NAD(P)H-hydrate epimerase',\n",
       " 'tRNA (adenosine(37)-N6)-threonylcarbamoyltransferase complex ATPase subunit type 1 TsaE',\n",
       " 'N-acetylmuramoyl-L-alanine amidase',\n",
       " 'DNA mismatch repair endonuclease MutL',\n",
       " 'tRNA (adenosine(37)-N6)-dimethylallyltransferase MiaA',\n",
       " 'RNA chaperone Hfq',\n",
       " 'GTPase HflX',\n",
       " 'FtsH protease activity modulator HflK',\n",
       " 'protease modulator HflC',\n",
       " 'DUF2065 domain-containing protein',\n",
       " 'ATP phosphoribosyltransferase regulatory subunit',\n",
       " 'adenylosuccinate synthase',\n",
       " 'ribonuclease R',\n",
       " \"23S rRNA (guanosine(2251)-2'-O)-methyltransferase RlmB\",\n",
       " '30S ribosomal protein S6',\n",
       " '30S ribosomal protein S18',\n",
       " 'hypothetical protein',\n",
       " '50S ribosomal protein L9',\n",
       " 'replicative DNA helicase',\n",
       " 'alanine racemase',\n",
       " 'family 1 glycosylhydrolase',\n",
       " 'GGDEF domain-containing protein',\n",
       " 'YgiQ family radical SAM protein',\n",
       " 'circularly permuted type 2 ATP-grasp protein',\n",
       " 'transglutaminase family protein',\n",
       " 'mechanosensitive ion channel family protein',\n",
       " 'peptidoglycan DD-metalloendopeptidase family protein',\n",
       " 'TIGR00730 family Rossman fold protein',\n",
       " 'azurin',\n",
       " 'lipase',\n",
       " 'ammonia-dependent NAD(+) synthetase',\n",
       " 'nicotinate phosphoribosyltransferase',\n",
       " 'nicotinamidase',\n",
       " 'nicotinate-nicotinamide nucleotide adenylyltransferase',\n",
       " 'NUDIX hydrolase',\n",
       " 'methyl-accepting chemotaxis protein',\n",
       " 'LysR family transcriptional regulator',\n",
       " 'branched-chain amino acid ABC transporter substrate-binding protein',\n",
       " 'branched-chain amino acid ABC transporter permease',\n",
       " 'high-affinity branched-chain amino acid ABC transporter permease LivM',\n",
       " 'ATP-binding cassette domain-containing protein',\n",
       " 'ABC transporter ATP-binding protein',\n",
       " 'ornithine cyclodeaminase family protein',\n",
       " 'SDR family oxidoreductase',\n",
       " 'GntR family transcriptional regulator',\n",
       " 'oxidoreductase',\n",
       " 'aromatic ring-hydroxylating dioxygenase subunit alpha',\n",
       " 'MFS transporter',\n",
       " 'LysR family transcriptional regulator',\n",
       " 'benzoylformate decarboxylase',\n",
       " 'aromatic acid/H+ symport family MFS transporter',\n",
       " 'aldehyde dehydrogenase family protein',\n",
       " 'OprD family porin',\n",
       " 'TonB-dependent receptor',\n",
       " 'sigma-70 family RNA polymerase sigma factor',\n",
       " 'FecR family protein',\n",
       " 'HupE/UreJ family protein',\n",
       " 'urease accessory protein UreG',\n",
       " 'urease accessory protein UreF',\n",
       " 'urease accessory protein UreE',\n",
       " 'TetR family transcriptional regulator',\n",
       " 'ferredoxin reductase',\n",
       " 'fatty acid desaturase',\n",
       " 'MFS transporter',\n",
       " 'heavy metal sensor histidine kinase',\n",
       " 'heavy metal response regulator transcription factor',\n",
       " 'hypothetical protein',\n",
       " 'cytochrome b/b6 domain-containing protein',\n",
       " 'molybdopterin-dependent oxidoreductase',\n",
       " 'hypothetical protein',\n",
       " 'bacterioferritin',\n",
       " 'AsmA family protein',\n",
       " 'c-di-GMP-binding multidrug transporter transcriptional regulator BrlR',\n",
       " 'Rho termination factor N-terminal domain-containing protein',\n",
       " 'osmotically-inducible lipoprotein OsmE',\n",
       " 'MOSC domain-containing protein',\n",
       " 'hypothetical protein',\n",
       " 'Hsp70 family protein',\n",
       " 'oxaloacetate decarboxylase',\n",
       " 'hypothetical protein',\n",
       " 'hypothetical protein',\n",
       " 'DksA/TraR family C4-type zinc finger protein',\n",
       " 'hypothetical protein',\n",
       " 'urease subunit alpha',\n",
       " 'urease subunit beta',\n",
       " 'L-methionine sulfoximine N-acetyltransferase',\n",
       " 'urease subunit gamma',\n",
       " 'urease accessory protein UreD',\n",
       " 'GNAT family N-acetyltransferase',\n",
       " 'urea ABC transporter ATP-binding subunit UrtE',\n",
       " 'urea ABC transporter ATP-binding protein UrtD',\n",
       " 'urea ABC transporter permease subunit UrtC',\n",
       " 'urea ABC transporter permease subunit UrtB',\n",
       " 'urea ABC transporter substrate-binding protein',\n",
       " 'MarC family protein',\n",
       " 'hybrid sensor histidine kinase/response regulator',\n",
       " 'phosphoribosylamine--glycine ligase',\n",
       " 'bifunctional phosphoribosylaminoimidazolecarboxamide formyltransferase/IMP cyclohydrolase',\n",
       " 'DNA-binding transcriptional regulator Fis',\n",
       " 'tRNA dihydrouridine synthase DusB',\n",
       " 'DUF3426 domain-containing protein',\n",
       " '50S ribosomal protein L11 methyltransferase',\n",
       " 'EI24 domain-containing protein',\n",
       " 'acetyl-CoA carboxylase biotin carboxylase subunit',\n",
       " 'acetyl-CoA carboxylase biotin carboxyl carrier protein',\n",
       " 'type II 3-dehydroquinate dehydratase',\n",
       " 'protein-disulfide reductase DsbD',\n",
       " 'methyl-accepting chemotaxis protein',\n",
       " 'PleD family two-component system response regulator',\n",
       " 'DUF2333 family protein',\n",
       " 'NUDIX hydrolase',\n",
       " 'translation initiation factor Sui1',\n",
       " 'arginine decarboxylase',\n",
       " 'DUF1624 domain-containing protein',\n",
       " 'pseudopaline transport outer membrane protein CntO',\n",
       " 'pseudopaline biosynthesis protein CntL',\n",
       " 'pseudopaline biosynthesis dehydrogenase CntM',\n",
       " 'pseudopaline transport inner membrane protein CntI',\n",
       " 'hemolysin III family protein',\n",
       " 'SDR family oxidoreductase',\n",
       " 'TetR/AcrR family transcriptional regulator',\n",
       " 'PaaI family thioesterase',\n",
       " 'dihydrolipoyl dehydrogenase',\n",
       " 'DUF2214 family protein',\n",
       " 'arylamine N-acetyltransferase',\n",
       " 'hypothetical protein',\n",
       " 'magnesium-translocating P-type ATPase',\n",
       " 'hypothetical protein',\n",
       " 'hypothetical protein',\n",
       " 'Na/Pi cotransporter family protein',\n",
       " 'DUF2493 domain-containing protein',\n",
       " 'MATE family efflux transporter',\n",
       " 'GtrA family protein',\n",
       " 'glycosyltransferase family 2 protein',\n",
       " 'glycosyltransferase family 39 protein',\n",
       " 'YkgJ family cysteine cluster protein',\n",
       " 'DUF1835 domain-containing protein',\n",
       " 'DMT family transporter',\n",
       " 'NADPH-dependent 2,4-dienoyl-CoA reductase',\n",
       " 'triacylglycerol lipase',\n",
       " 'formate dehydrogenase-N subunit alpha',\n",
       " 'formate dehydrogenase subunit beta',\n",
       " 'formate dehydrogenase subunit gamma',\n",
       " 'formate dehydrogenase accessory protein FdhE',\n",
       " 'L-seryl-tRNA(Sec) selenium transferase',\n",
       " 'selenocysteine-specific translation elongation factor',\n",
       " 'transcriptional regulator',\n",
       " 'aminotransferase',\n",
       " 'APC family permease',\n",
       " 'class I SAM-dependent methyltransferase',\n",
       " 'carbon-nitrogen hydrolase family protein',\n",
       " 'hypothetical protein',\n",
       " 'class I SAM-dependent methyltransferase',\n",
       " 'AAA family ATPase',\n",
       " 'GrpB family protein',\n",
       " 'glycine cleavage system protein H',\n",
       " 'DsrE family protein',\n",
       " 'GNAT family N-acetyltransferase',\n",
       " 'DUF4136 domain-containing protein',\n",
       " 'hypothetical protein',\n",
       " 'DUF4136 domain-containing protein',\n",
       " 'methyltransferase domain-containing protein',\n",
       " 'nucleotide pyrophosphohydrolase',\n",
       " 'MaoC family dehydratase',\n",
       " 'AraC family transcriptional regulator',\n",
       " '3-oxoacyl-ACP reductase',\n",
       " 'acetyl-CoA C-acetyltransferase',\n",
       " 'Lrp/AsnC family transcriptional regulator',\n",
       " 'drug/metabolite exporter YedA',\n",
       " 'hypothetical protein',\n",
       " 'two-component system response regulator',\n",
       " 'serine protein kinase RIO',\n",
       " 'EamA family transporter',\n",
       " 'nucleotidyltransferase family protein',\n",
       " 'Cu(I)-responsive transcriptional regulator',\n",
       " 'two-component system sensor histidine kinase PmrB',\n",
       " 'response regulator',\n",
       " 'hypothetical protein',\n",
       " 'fused MFS/spermidine synthase',\n",
       " 'adenosylmethionine decarboxylase',\n",
       " 'tyrosine-type recombinase/integrase',\n",
       " 'DUF1016 family protein',\n",
       " 'DNA repair protein RadC',\n",
       " 'AAA family ATPase',\n",
       " 'DUF945 domain-containing protein',\n",
       " 'ParB N-terminal domain-containing protein',\n",
       " 'hypothetical protein',\n",
       " 'DUF736 domain-containing protein',\n",
       " 'helix-turn-helix transcriptional regulator',\n",
       " 'DUF2958 domain-containing protein',\n",
       " 'DUF2285 domain-containing protein',\n",
       " 'helix-turn-helix domain-containing protein',\n",
       " 'replication initiator protein A',\n",
       " 'AAA family ATPase',\n",
       " 'hypothetical protein',\n",
       " 'DUF2840 domain-containing protein',\n",
       " 'S26 family signal peptidase',\n",
       " 'relaxase/mobilization nuclease and DUF3363 domain-containing protein',\n",
       " 'membrane integrity-associated transporter subunit PqiC',\n",
       " 'MCE family protein',\n",
       " 'ATP-binding cassette domain-containing protein',\n",
       " 'ABC transporter permease',\n",
       " 'DUF3313 family protein',\n",
       " 'membrane protein',\n",
       " 'efflux RND transporter permease subunit',\n",
       " 'efflux RND transporter periplasmic adaptor subunit',\n",
       " 'hypothetical protein',\n",
       " 'TolC family protein',\n",
       " 'LysR family transcriptional regulator',\n",
       " 'EexN family lipoprotein',\n",
       " 'multidrug efflux SMR transporter',\n",
       " 'hypothetical protein',\n",
       " 'polyketide cyclase',\n",
       " 'LysR family transcriptional regulator',\n",
       " 'conjugal transfer protein TraG',\n",
       " 'CopG family transcriptional regulator',\n",
       " ...]"
      ]
     },
     "metadata": {},
     "execution_count": 160
    }
   ],
   "source": [
    "product_list = []\n",
    "\n",
    "for record in SeqIO.parse('salmonella_genome.gbk','genbank'):\n",
    "    for feature in record.features:\n",
    "        if feature.type == 'CDS':\n",
    "            product_list.append(feature.qualifiers['product'][0])\n",
    "\n",
    "product_list"
   ]
  },
  {
   "source": [
    "There are a lot of products here. What if we wanted to find only the ones that are involved in conjugal transfer? Also, are these genes located in the chromosomal or plasmid DNA, or both?"
   ],
   "cell_type": "markdown",
   "metadata": {}
  },
  {
   "cell_type": "code",
   "execution_count": 165,
   "metadata": {},
   "outputs": [
    {
     "output_type": "execute_result",
     "data": {
      "text/plain": [
       "[['Pseudomonas aeruginosa strain GIMC5034:PA52Ts32 chromosome',\n",
       "  'conjugal transfer protein TraG'],\n",
       " ['Pseudomonas aeruginosa strain GIMC5034:PA52Ts32 chromosome',\n",
       "  'conjugal transfer protein TrbE'],\n",
       " ['Pseudomonas aeruginosa strain GIMC5034:PA52Ts32 chromosome',\n",
       "  'conjugal transfer protein TrbF'],\n",
       " ['Pseudomonas aeruginosa strain GIMC5034:PA52Ts32 chromosome',\n",
       "  'conjugal transfer protein TraG N-terminal domain-containing protein'],\n",
       " ['Pseudomonas aeruginosa strain GIMC5034:PA52Ts32 chromosome',\n",
       "  'TIGR03751 family conjugal transfer lipoprotein'],\n",
       " ['Pseudomonas aeruginosa strain GIMC5034:PA52Ts32 chromosome',\n",
       "  'TIGR03750 family conjugal transfer protein'],\n",
       " ['Pseudomonas aeruginosa strain GIMC5034:PA52Ts32 chromosome',\n",
       "  'conjugal transfer protein TraX'],\n",
       " ['Pseudomonas aeruginosa strain GIMC5034:PA52Ts32 chromosome',\n",
       "  'TIGR03750 family conjugal transfer protein'],\n",
       " ['Pseudomonas aeruginosa strain GIMC5034:PA52Ts32 chromosome',\n",
       "  'TIGR03751 family conjugal transfer lipoprotein'],\n",
       " ['Pseudomonas aeruginosa strain GIMC5034:PA52Ts32 chromosome',\n",
       "  'conjugal transfer protein TraG N-terminal domain-containing protein']]"
      ]
     },
     "metadata": {},
     "execution_count": 165
    }
   ],
   "source": [
    "conjugal_transfer_list = []\n",
    "\n",
    "for record in SeqIO.parse('salmonella_genome.gbk','genbank'):\n",
    "    for feature in record.features:\n",
    "        if feature.type == 'CDS':\n",
    "            if feature.qualifiers['product'][0].lower().find('conjugal') > -1:\n",
    "                conjugal_transfer_list.append([record.description,feature.qualifiers['product'][0]])\n",
    "\n",
    "conjugal_transfer_list"
   ]
  },
  {
   "source": [
    "Surprisingly, conjujgal transfer genes were only found on the chromosome. In the next exercise, let's get all the gene products found in the plasmid."
   ],
   "cell_type": "markdown",
   "metadata": {}
  },
  {
   "source": [
    "---\n",
    "\n",
    "### Exercise 6a:\n",
    "\n",
    "As has been stated before, in a whole-genome GenBank file, each record is a contig in the genome. In our genome .gbk, there are only two contigs, chromosomal and plasmid contigs. \n",
    "\n",
    "`print()` the `record.id` of each contig.\n",
    "\n"
   ],
   "cell_type": "markdown",
   "metadata": {}
  },
  {
   "cell_type": "code",
   "execution_count": 166,
   "metadata": {},
   "outputs": [
    {
     "output_type": "stream",
     "name": "stdout",
     "text": [
      "NZ_CP059063.1\nNZ_CP059062.1\n"
     ]
    }
   ],
   "source": [
    "for record in SeqIO.parse('salmonella_genome.gbk','genbank'):\n",
    "    print(___)"
   ]
  },
  {
   "source": [
    "### Exercise 6b:\n",
    "\n",
    "The second contig (the plasmid contig) has the record.id `NZ_CP059062.1`\n",
    "\n",
    "\n",
    "\n",
    "Let's set our loop so that when the `record.id` is `NZ_CP059062.1`, a variable called `product_description` is created from each `feature.qualifiers['product'][0]` when `feature.type` is `CDS`.  \n",
    "\n",
    "`append()` the `product_description` to the list `plasmid_products`"
   ],
   "cell_type": "markdown",
   "metadata": {}
  },
  {
   "cell_type": "code",
   "execution_count": 167,
   "metadata": {},
   "outputs": [
    {
     "output_type": "execute_result",
     "data": {
      "text/plain": [
       "['hypothetical protein',\n",
       " 'replication initiation factor domain-containing protein']"
      ]
     },
     "metadata": {},
     "execution_count": 167
    }
   ],
   "source": [
    "plasmid_products = ___\n",
    "\n",
    "for record in SeqIO.parse('salmonella_genome.gbk','genbank'):\n",
    "    if record.id == '___':\n",
    "        for feature in record.features:\n",
    "            if feature.type == 'CDS':\n",
    "                product_description = feature.qualifiers['___'][0]\n",
    "                ___.append(product_description)\n",
    "\n",
    "plasmid_products"
   ]
  },
  {
   "source": [
    "### Exercise 6c:\n",
    "\n",
    "Do the same as in exercise 6b, but also extract the `ncbi_accession`, which is the gene ID, that is stored in `feature.qualifiers' under the keyword 'locus_tag'.\n",
    "\n",
    "`append()` both the `product_description` and `ncbi_accession` to `plasmid_products`"
   ],
   "cell_type": "markdown",
   "metadata": {}
  },
  {
   "cell_type": "code",
   "execution_count": 168,
   "metadata": {},
   "outputs": [
    {
     "output_type": "execute_result",
     "data": {
      "text/plain": [
       "[['PA52Ts32_RS00005', 'hypothetical protein'],\n",
       " ['PA52Ts32_RS00010',\n",
       "  'replication initiation factor domain-containing protein']]"
      ]
     },
     "metadata": {},
     "execution_count": 168
    }
   ],
   "source": [
    "plasmid_products = ___\n",
    "\n",
    "for record in SeqIO.parse('salmonella_genome.gbk','genbank'):\n",
    "    if record.id == '___':\n",
    "        for feature in record.features:\n",
    "            if feature.type == 'CDS':\n",
    "                product_description = feature.qualifiers['___'][0]\n",
    "                ncbi_accession = feature.___['locus_tag'][0]\n",
    "                \n",
    "                plasmid_products.append([___, ___])\n",
    "\n",
    "plasmid_products"
   ]
  },
  {
   "source": [
    "---\n",
    "\n",
    "That's it for Day 4! "
   ],
   "cell_type": "markdown",
   "metadata": {}
  }
 ]
}