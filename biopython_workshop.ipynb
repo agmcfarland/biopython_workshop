{
  "nbformat": 4,
  "nbformat_minor": 0,
  "metadata": {
    "colab": {
      "name": "biopython_workshop.ipynb",
      "provenance": [],
      "collapsed_sections": [],
      "authorship_tag": "ABX9TyNWEhubgg4lbXTzYf+hrDlG",
      "include_colab_link": true
    },
    "kernelspec": {
      "name": "python3",
      "display_name": "Python 3"
    },
    "language_info": {
      "name": "python"
    }
  },
  "cells": [
    {
      "cell_type": "markdown",
      "metadata": {
        "id": "view-in-github",
        "colab_type": "text"
      },
      "source": [
        "<a href=\"https://colab.research.google.com/github/agmcfarland/biopython_workshop/blob/main/biopython_workshop.ipynb\" target=\"_parent\"><img src=\"https://colab.research.google.com/assets/colab-badge.svg\" alt=\"Open In Colab\"/></a>"
      ]
    },
    {
      "cell_type": "markdown",
      "metadata": {
        "id": "BwxHCAN3HDR-"
      },
      "source": [
        "## 1. Strings in Python\n",
        "Strings in Python are any character or characters that are found within quotes (either ' ' or \" \")."
      ]
    },
    {
      "cell_type": "code",
      "metadata": {
        "colab": {
          "base_uri": "https://localhost:8080/"
        },
        "id": "pvSVbTgIHuHS",
        "outputId": "2878b4c1-03de-439a-c3c4-62da96c0bef1"
      },
      "source": [
        "example_string = 'This Is A String 123'\n",
        "print(example_string)\n",
        "type(example_string)"
      ],
      "execution_count": 28,
      "outputs": [
        {
          "output_type": "stream",
          "text": [
            "This Is A String 123\n"
          ],
          "name": "stdout"
        },
        {
          "output_type": "execute_result",
          "data": {
            "text/plain": [
              "str"
            ]
          },
          "metadata": {
            "tags": []
          },
          "execution_count": 28
        }
      ]
    },
    {
      "cell_type": "code",
      "metadata": {
        "colab": {
          "base_uri": "https://localhost:8080/"
        },
        "id": "pIpdnD6-H9qs",
        "outputId": "0d5a8010-3ec1-4ee9-91b7-ea825c5910d0"
      },
      "source": [
        "example_not_a_string = 123\n",
        "print(example_not_a_string)\n",
        "type(example_not_a_string)"
      ],
      "execution_count": 29,
      "outputs": [
        {
          "output_type": "stream",
          "text": [
            "123\n"
          ],
          "name": "stdout"
        },
        {
          "output_type": "execute_result",
          "data": {
            "text/plain": [
              "int"
            ]
          },
          "metadata": {
            "tags": []
          },
          "execution_count": 29
        }
      ]
    },
    {
      "cell_type": "markdown",
      "metadata": {
        "id": "k_MTTtHWKJJR"
      },
      "source": [
        "Strings can be easily manipulated in Python using existing methods.\n",
        "\n",
        "For example we can convert a string to be all upper case"
      ]
    },
    {
      "cell_type": "code",
      "metadata": {
        "colab": {
          "base_uri": "https://localhost:8080/",
          "height": 35
        },
        "id": "QGJgW9e9Ia8W",
        "outputId": "ad848449-65ae-483a-8121-34bd70d45a24"
      },
      "source": [
        "example_string.upper()"
      ],
      "execution_count": 30,
      "outputs": [
        {
          "output_type": "execute_result",
          "data": {
            "application/vnd.google.colaboratory.intrinsic+json": {
              "type": "string"
            },
            "text/plain": [
              "'THIS IS A STRING 123'"
            ]
          },
          "metadata": {
            "tags": []
          },
          "execution_count": 30
        }
      ]
    },
    {
      "cell_type": "markdown",
      "metadata": {
        "id": "jNnmPUHJIld7"
      },
      "source": [
        "We can replace certain characters between the string"
      ]
    },
    {
      "cell_type": "code",
      "metadata": {
        "colab": {
          "base_uri": "https://localhost:8080/",
          "height": 35
        },
        "id": "wXWXUuBeIptr",
        "outputId": "56959298-624e-4f18-8c4a-a3ad7da6db94"
      },
      "source": [
        "example_string.replace(' ', '_') "
      ],
      "execution_count": 31,
      "outputs": [
        {
          "output_type": "execute_result",
          "data": {
            "application/vnd.google.colaboratory.intrinsic+json": {
              "type": "string"
            },
            "text/plain": [
              "'This_Is_A_String_123'"
            ]
          },
          "metadata": {
            "tags": []
          },
          "execution_count": 31
        }
      ]
    },
    {
      "cell_type": "markdown",
      "metadata": {
        "id": "5kJl6V-XI5P8"
      },
      "source": [
        "And we can subset (slice) strings"
      ]
    },
    {
      "cell_type": "code",
      "metadata": {
        "colab": {
          "base_uri": "https://localhost:8080/",
          "height": 35
        },
        "id": "x4pUSafAI9sw",
        "outputId": "111bec38-f4d6-4b6e-87b7-5abdd84b61a0"
      },
      "source": [
        "example_string[:5]"
      ],
      "execution_count": 32,
      "outputs": [
        {
          "output_type": "execute_result",
          "data": {
            "application/vnd.google.colaboratory.intrinsic+json": {
              "type": "string"
            },
            "text/plain": [
              "'This '"
            ]
          },
          "metadata": {
            "tags": []
          },
          "execution_count": 32
        }
      ]
    },
    {
      "cell_type": "code",
      "metadata": {
        "colab": {
          "base_uri": "https://localhost:8080/",
          "height": 35
        },
        "id": "fEd91EeZLemO",
        "outputId": "fb6aa70a-53fe-4edc-fec2-a248c56a2563"
      },
      "source": [
        "example_string[5:]"
      ],
      "execution_count": 33,
      "outputs": [
        {
          "output_type": "execute_result",
          "data": {
            "application/vnd.google.colaboratory.intrinsic+json": {
              "type": "string"
            },
            "text/plain": [
              "'Is A String 123'"
            ]
          },
          "metadata": {
            "tags": []
          },
          "execution_count": 33
        }
      ]
    },
    {
      "cell_type": "markdown",
      "metadata": {
        "id": "kWCS0vIpOA4j"
      },
      "source": [
        "We can modify strings and assign them to a new variable"
      ]
    },
    {
      "cell_type": "code",
      "metadata": {
        "colab": {
          "base_uri": "https://localhost:8080/"
        },
        "id": "NSrycvbQOE9O",
        "outputId": "1624d1f5-1f16-4ebe-e14b-f0598f997e77"
      },
      "source": [
        "new_string_variable = example_string[5:]\n",
        "print(new_string_variable)"
      ],
      "execution_count": 34,
      "outputs": [
        {
          "output_type": "stream",
          "text": [
            "Is A String 123\n"
          ],
          "name": "stdout"
        }
      ]
    },
    {
      "cell_type": "markdown",
      "metadata": {
        "id": "PmKzmMuiJFS_"
      },
      "source": [
        "### Exercise 1\n",
        "**1. Make a variable called my_string and assign it the string 'this is a string'**"
      ]
    },
    {
      "cell_type": "code",
      "metadata": {
        "id": "lFsEYJxUKYC_"
      },
      "source": [
        "my_string = 'this is a string 123'"
      ],
      "execution_count": null,
      "outputs": []
    },
    {
      "cell_type": "markdown",
      "metadata": {
        "id": "T6hXm5L9Llco"
      },
      "source": [
        "**2. Replace all s characters with an X in my_string**\n",
        "\n",
        "**3. Slice the first 8 characters in my_string and store in a new variable called short_string. Afterwards, print short_sring**\n",
        "\n",
        "**4. Convert all characters in short_string to uppercase**"
      ]
    },
    {
      "cell_type": "markdown",
      "metadata": {
        "id": "St_lDnvOHbss"
      },
      "source": [
        "## 2. How BioPython uses strings (very similar to base Python!)\n",
        "\n",
        "We will install BioPython using pip"
      ]
    },
    {
      "cell_type": "code",
      "metadata": {
        "colab": {
          "base_uri": "https://localhost:8080/"
        },
        "id": "h3LXwBIHHIqS",
        "outputId": "7a0e4eaa-5ef4-40a0-9590-aa3ad435c5dc"
      },
      "source": [
        "!pip install Biopython"
      ],
      "execution_count": 4,
      "outputs": [
        {
          "output_type": "stream",
          "text": [
            "Collecting Biopython\n",
            "\u001b[?25l  Downloading https://files.pythonhosted.org/packages/3a/cd/0098eaff841850c01da928c7f509b72fd3e1f51d77b772e24de9e2312471/biopython-1.78-cp37-cp37m-manylinux1_x86_64.whl (2.3MB)\n",
            "\u001b[K     |████████████████████████████████| 2.3MB 3.8MB/s \n",
            "\u001b[?25hRequirement already satisfied: numpy in /usr/local/lib/python3.7/dist-packages (from Biopython) (1.19.5)\n",
            "Installing collected packages: Biopython\n",
            "Successfully installed Biopython-1.78\n"
          ],
          "name": "stdout"
        }
      ]
    },
    {
      "cell_type": "markdown",
      "metadata": {
        "id": "NwsrNUw5PA3y"
      },
      "source": [
        "The most basic way to understand BioPython is that it treats all DNA/RNA/amino acid sequences as strings. \n",
        "\n",
        "It has many methods to alter these sequences in biologically relevant ways.\n",
        "\n",
        "The most basic and fundamental one is the Seq method."
      ]
    },
    {
      "cell_type": "code",
      "metadata": {
        "id": "iEggdTWTOwaz"
      },
      "source": [
        "from Bio.Seq import Seq"
      ],
      "execution_count": 36,
      "outputs": []
    },
    {
      "cell_type": "markdown",
      "metadata": {
        "id": "E_dfZYt7PRL2"
      },
      "source": [
        "Let's use BioPython to convert a string of DNA into a Seq object."
      ]
    },
    {
      "cell_type": "code",
      "metadata": {
        "colab": {
          "base_uri": "https://localhost:8080/"
        },
        "id": "ZI3EkjAiO41V",
        "outputId": "289c5e9c-13e2-4ebf-d485-e7622e9c9500"
      },
      "source": [
        "dna_string = 'CACGAGCTGCTGACCCACGAGAGGGAG'\n",
        "print(dna_string)\n",
        "dna_seq_object = Seq('CACGAGCTGCTGACCCACGAGAGGGAG')\n",
        "print(dna_seq_object)"
      ],
      "execution_count": 62,
      "outputs": [
        {
          "output_type": "stream",
          "text": [
            "CACGAGCTGCTGACCCACGAGAGGGAG\n",
            "CACGAGCTGCTGACCCACGAGAGGGAG\n"
          ],
          "name": "stdout"
        }
      ]
    },
    {
      "cell_type": "markdown",
      "metadata": {
        "id": "Asr0OUwgPqcG"
      },
      "source": [
        "These two results may look identica, but they are not!\n",
        "\n",
        "```dna_string``` is just a string of characters\n",
        "\n",
        "but ```dna_seq_object``` is a BioPython object that can be manipulated in different ways using BioPython methods.\n",
        "\n",
        "Let's try to use the BioPython ```translate()``` method on a ```dna_string```.\n",
        "\n",
        "\n"
      ]
    },
    {
      "cell_type": "code",
      "metadata": {
        "colab": {
          "base_uri": "https://localhost:8080/",
          "height": 164
        },
        "id": "iBNaIJZMQWG-",
        "outputId": "9aa9ac7c-693b-48b3-f644-0f37ab13f6cc"
      },
      "source": [
        "dna_string.translate()"
      ],
      "execution_count": 63,
      "outputs": [
        {
          "output_type": "error",
          "ename": "TypeError",
          "evalue": "ignored",
          "traceback": [
            "\u001b[0;31m---------------------------------------------------------------------------\u001b[0m",
            "\u001b[0;31mTypeError\u001b[0m                                 Traceback (most recent call last)",
            "\u001b[0;32m<ipython-input-63-42675e1d3b7f>\u001b[0m in \u001b[0;36m<module>\u001b[0;34m()\u001b[0m\n\u001b[0;32m----> 1\u001b[0;31m \u001b[0mdna_string\u001b[0m\u001b[0;34m.\u001b[0m\u001b[0mtranslate\u001b[0m\u001b[0;34m(\u001b[0m\u001b[0;34m)\u001b[0m\u001b[0;34m\u001b[0m\u001b[0;34m\u001b[0m\u001b[0m\n\u001b[0m",
            "\u001b[0;31mTypeError\u001b[0m: translate() takes exactly one argument (0 given)"
          ]
        }
      ]
    },
    {
      "cell_type": "markdown",
      "metadata": {
        "id": "-Km4_jOnQvFh"
      },
      "source": [
        "The above code should return an error. That's ok!\n",
        "\n",
        "Now let's use ```translate()``` on a ```dna_seq_object```"
      ]
    },
    {
      "cell_type": "code",
      "metadata": {
        "colab": {
          "base_uri": "https://localhost:8080/"
        },
        "id": "bDdPlgm6QuUc",
        "outputId": "41fd3245-1141-41ff-beb6-42951b9550c2"
      },
      "source": [
        "\n",
        "dna_seq_object.translate()\n",
        "#Seq('HELLOTHERE').back_translate()"
      ],
      "execution_count": 64,
      "outputs": [
        {
          "output_type": "execute_result",
          "data": {
            "text/plain": [
              "Seq('HELLTHERE')"
            ]
          },
          "metadata": {
            "tags": []
          },
          "execution_count": 64
        }
      ]
    },
    {
      "cell_type": "markdown",
      "metadata": {
        "id": "NBV2m1H0S_IF"
      },
      "source": [
        "We can do a lot of different biologically relevant sequence manipulations using BioPython Seq objects. \n",
        "\n",
        "Let's look at a few below:"
      ]
    }
  ]
}