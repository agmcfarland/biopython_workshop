{
 "metadata": {
  "language_info": {
   "codemirror_mode": {
    "name": "ipython",
    "version": 3
   },
   "file_extension": ".py",
   "mimetype": "text/x-python",
   "name": "python",
   "nbconvert_exporter": "python",
   "pygments_lexer": "ipython3",
   "version": "3.8.5"
  },
  "orig_nbformat": 4,
  "kernelspec": {
   "name": "python3",
   "display_name": "Python 3.8.5 64-bit ('myenv': conda)"
  },
  "interpreter": {
   "hash": "f5c9dfabb21bd2a91b63810df81acbdc6b5e617e45414f0ef050ca96090c868f"
  }
 },
 "nbformat": 4,
 "nbformat_minor": 2,
 "cells": [
  {
   "source": [
    "# Day 1 Answers\n"
   ],
   "cell_type": "markdown",
   "metadata": {}
  },
  {
   "source": [
    "# google colab users only\n",
    "pip install Biopython"
   ],
   "cell_type": "code",
   "metadata": {},
   "execution_count": null,
   "outputs": []
  },
  {
   "source": [
    "### Exercise 1"
   ],
   "cell_type": "markdown",
   "metadata": {}
  },
  {
   "cell_type": "code",
   "execution_count": 6,
   "metadata": {},
   "outputs": [
    {
     "output_type": "execute_result",
     "data": {
      "text/plain": [
       "'string'"
      ]
     },
     "metadata": {},
     "execution_count": 6
    }
   ],
   "source": [
    "'this is a string'[10:]"
   ]
  },
  {
   "source": [
    "### Exercise 2a"
   ],
   "cell_type": "markdown",
   "metadata": {}
  },
  {
   "cell_type": "code",
   "execution_count": 7,
   "metadata": {},
   "outputs": [
    {
     "output_type": "stream",
     "name": "stdout",
     "text": [
      "my new string\n"
     ]
    }
   ],
   "source": [
    "string_var_2 = 'my new string'\n",
    "print(string_var_2)"
   ]
  },
  {
   "source": [
    "### Exercise 2b"
   ],
   "cell_type": "markdown",
   "metadata": {}
  },
  {
   "cell_type": "code",
   "execution_count": 8,
   "metadata": {},
   "outputs": [
    {
     "output_type": "stream",
     "name": "stdout",
     "text": [
      "new\n"
     ]
    }
   ],
   "source": [
    "string_var_3 = string_var_2[3:6]\n",
    "print(string_var_3)"
   ]
  },
  {
   "source": [
    "### Exercise 3a"
   ],
   "cell_type": "markdown",
   "metadata": {}
  },
  {
   "cell_type": "code",
   "execution_count": 9,
   "metadata": {},
   "outputs": [
    {
     "output_type": "stream",
     "name": "stdout",
     "text": [
      "I_Am_A_beAuTifUl_sTrIng\n"
     ]
    }
   ],
   "source": [
    "string_var_4 = 'I_Am_A_beAuTifUl_sTrIng' # from the lesson\n",
    "\n",
    "string_var_5 = string_var_4\n",
    "print(string_var_5)"
   ]
  },
  {
   "source": [
    "### Exercise 3b"
   ],
   "cell_type": "markdown",
   "metadata": {}
  },
  {
   "cell_type": "code",
   "execution_count": 10,
   "metadata": {},
   "outputs": [
    {
     "output_type": "stream",
     "name": "stdout",
     "text": [
      "I-Am-A-beAuTifUl-sTrIngi think\n"
     ]
    }
   ],
   "source": [
    "string_var_5 = string_var_5+'i think'\n",
    "\n",
    "string_var_5 = string_var_5.replace('_', '-')\n",
    "\n",
    "print(string_var_5)"
   ]
  },
  {
   "source": [
    "### Exercise 4a\n",
    "\n"
   ],
   "cell_type": "markdown",
   "metadata": {}
  },
  {
   "cell_type": "code",
   "execution_count": 11,
   "metadata": {},
   "outputs": [
    {
     "output_type": "stream",
     "name": "stdout",
     "text": [
      "<class 'str'>\n<class 'Bio.Seq.Seq'>\n"
     ]
    }
   ],
   "source": [
    "from Bio.Seq import Seq # from the lesson\n",
    "\n",
    "# assign the string 'aacgagtggagcgagcaggagaactgcgag' to dna_seq\n",
    "dna_seq = 'aacgagtggagcgagcaggagaactgcgag'\n",
    "print(type(dna_seq)) \n",
    "\n",
    "# convert the string 'aacgagtggagcgagcaggagaactgcgag' to a Seq object and assign to dna_seq\n",
    "dna_seq = Seq('aacgagtggagcgagcaggagaactgcgag')\n",
    "print(type(dna_seq))\n"
   ]
  },
  {
   "source": [
    "### Exercise 4b\n",
    "\n"
   ],
   "cell_type": "markdown",
   "metadata": {}
  },
  {
   "cell_type": "code",
   "execution_count": 12,
   "metadata": {},
   "outputs": [
    {
     "output_type": "stream",
     "name": "stdout",
     "text": [
      "NEWSEQENCE\n"
     ]
    }
   ],
   "source": [
    "translated_seq = dna_seq.translate()\n",
    "print(translated_seq)"
   ]
  },
  {
   "source": [
    "### Exercise 4c"
   ],
   "cell_type": "markdown",
   "metadata": {}
  },
  {
   "cell_type": "code",
   "execution_count": 13,
   "metadata": {},
   "outputs": [
    {
     "output_type": "stream",
     "name": "stdout",
     "text": [
      "ctcgcagttctcctgctcgctccactcgtt\n"
     ]
    }
   ],
   "source": [
    "dna_seq_rc = dna_seq.reverse_complement()\n",
    "print(dna_seq_rc)"
   ]
  },
  {
   "source": [
    "### Exercise 5a"
   ],
   "cell_type": "markdown",
   "metadata": {}
  },
  {
   "cell_type": "code",
   "execution_count": 14,
   "metadata": {},
   "outputs": [
    {
     "output_type": "execute_result",
     "data": {
      "text/plain": [
       "Seq('PRTIENSEQ')"
      ]
     },
     "metadata": {},
     "execution_count": 14
    }
   ],
   "source": [
    "my_prtn_seq1 = Seq('PRTIENSEQ')\n",
    "\n",
    "my_prtn_seq1"
   ]
  },
  {
   "source": [
    "### Exercise 5b"
   ],
   "cell_type": "markdown",
   "metadata": {}
  },
  {
   "cell_type": "code",
   "execution_count": 15,
   "metadata": {},
   "outputs": [
    {
     "output_type": "execute_result",
     "data": {
      "text/plain": [
       "Seq('HISTAGPRTIENSEQ')"
      ]
     },
     "metadata": {},
     "execution_count": 15
    }
   ],
   "source": [
    "my_prtn_seq2 = Seq('HISTAG')\n",
    "my_prtn_seq2 + my_prtn_seq1 "
   ]
  },
  {
   "source": [
    "### Exercise 5c"
   ],
   "cell_type": "markdown",
   "metadata": {}
  },
  {
   "cell_type": "code",
   "execution_count": 16,
   "metadata": {},
   "outputs": [
    {
     "output_type": "execute_result",
     "data": {
      "text/plain": [
       "Seq('RTIEN')"
      ]
     },
     "metadata": {},
     "execution_count": 16
    }
   ],
   "source": [
    "my_prtn_seq3 = my_prtn_seq1[1:6]\n",
    "my_prtn_seq3"
   ]
  },
  {
   "source": [
    "### Exercise 5d"
   ],
   "cell_type": "markdown",
   "metadata": {}
  },
  {
   "cell_type": "code",
   "execution_count": 17,
   "metadata": {},
   "outputs": [
    {
     "output_type": "execute_result",
     "data": {
      "text/plain": [
       "Seq('HISTAGRTIEN')"
      ]
     },
     "metadata": {},
     "execution_count": 17
    }
   ],
   "source": [
    "my_prtn_seq4 = my_prtn_seq2 + my_prtn_seq3\n",
    "\n",
    "my_prtn_seq4"
   ]
  }
 ]
}