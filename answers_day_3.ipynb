{
 "metadata": {
  "language_info": {
   "codemirror_mode": {
    "name": "ipython",
    "version": 3
   },
   "file_extension": ".py",
   "mimetype": "text/x-python",
   "name": "python",
   "nbconvert_exporter": "python",
   "pygments_lexer": "ipython3",
   "version": "3.8.5"
  },
  "orig_nbformat": 4,
  "kernelspec": {
   "name": "python3",
   "display_name": "Python 3.8.5 64-bit ('myenv': conda)"
  },
  "interpreter": {
   "hash": "f5c9dfabb21bd2a91b63810df81acbdc6b5e617e45414f0ef050ca96090c868f"
  }
 },
 "nbformat": 4,
 "nbformat_minor": 2,
 "cells": [
  {
   "source": [
    "# Day 3 Answers "
   ],
   "cell_type": "markdown",
   "metadata": {}
  },
  {
   "source": [
    "### Google colab users only:"
   ],
   "cell_type": "markdown",
   "metadata": {}
  },
  {
   "cell_type": "code",
   "execution_count": 15,
   "metadata": {},
   "outputs": [
    {
     "output_type": "stream",
     "name": "stdout",
     "text": [
      "Requirement already satisfied: Biopython in /opt/anaconda3/envs/myenv/lib/python3.8/site-packages (1.79)\n",
      "Requirement already satisfied: numpy in /opt/anaconda3/envs/myenv/lib/python3.8/site-packages (from Biopython) (1.19.2)\n",
      "Note: you may need to restart the kernel to use updated packages.\n"
     ]
    }
   ],
   "source": [
    "pip install Biopython"
   ]
  },
  {
   "cell_type": "code",
   "execution_count": 16,
   "metadata": {},
   "outputs": [
    {
     "output_type": "stream",
     "name": "stdout",
     "text": [
      "--2021-07-21 15:06:48--  https://raw.githubusercontent.com/agmcfarland/biopython_workshop/master/to_reformat.fasta\n",
      "Resolving raw.githubusercontent.com... 185.199.109.133, 185.199.111.133, 185.199.108.133, ...\n",
      "Connecting to raw.githubusercontent.com|185.199.109.133|:443... connected.\n",
      "HTTP request sent, awaiting response... 200 OK\n",
      "Length: 889 [text/plain]\n",
      "Saving to: 'to_reformat.fasta.1'\n",
      "\n",
      "to_reformat.fasta.1 100%[===================>]     889  --.-KB/s    in 0s      \n",
      "\n",
      "2021-07-21 15:06:48 (18.4 MB/s) - 'to_reformat.fasta.1' saved [889/889]\n",
      "\n",
      "--2021-07-21 15:06:49--  https://raw.githubusercontent.com/agmcfarland/biopython_workshop/master/mixed_args.fasta\n",
      "Resolving raw.githubusercontent.com... 185.199.109.133, 185.199.111.133, 185.199.108.133, ...\n",
      "Connecting to raw.githubusercontent.com|185.199.109.133|:443... connected.\n",
      "HTTP request sent, awaiting response... 200 OK\n",
      "Length: 12387 (12K) [text/plain]\n",
      "Saving to: 'mixed_args.fasta.1'\n",
      "\n",
      "mixed_args.fasta.1  100%[===================>]  12.10K  --.-KB/s    in 0s      \n",
      "\n",
      "2021-07-21 15:06:49 (26.0 MB/s) - 'mixed_args.fasta.1' saved [12387/12387]\n",
      "\n"
     ]
    }
   ],
   "source": [
    "!wget https://raw.githubusercontent.com/agmcfarland/biopython_workshop/master/to_reformat.fasta\n",
    "!wget https://raw.githubusercontent.com/agmcfarland/biopython_workshop/master/mixed_args.fasta\n",
    "!wget https://raw.githubusercontent.com/agmcfarland/biopython_workshop/master/genes_from_ocean.fasta\n",
    "!wget https://raw.githubusercontent.com/agmcfarland/biopython_workshop/master/genes_from_desert.fasta"
   ]
  },
  {
   "source": [
    "### Everyone:"
   ],
   "cell_type": "markdown",
   "metadata": {}
  },
  {
   "source": [
    "### Exercise 1"
   ],
   "cell_type": "markdown",
   "metadata": {}
  },
  {
   "cell_type": "code",
   "execution_count": 17,
   "metadata": {},
   "outputs": [
    {
     "output_type": "stream",
     "name": "stdout",
     "text": [
      "ERMA_STAAR Q6GKQ0 rRNA adenine N-6-methyltransferase OS=Staphylococcus aureus (strain MRSA252) OX=282458 GN=ermA1 PE=3 SV=1   729\n\n\nERMA_STAAM P0A0H1 rRNA adenine N-6-methyltransferase OS=Staphylococcus aureus (strain Mu50 / ATCC 700699) OX=158878 GN=ermA1 PE=3 SV=1   729\n\n\nERMA_STAAU P0A0H3 rRNA adenine N-6-methyltransferase OS=Staphylococcus aureus OX=1280 GN=ermA PE=3 SV=1   729\n\n\nBLAC_MYCTO P9WKD2 Beta-lactamase OS=Mycobacterium tuberculosis (strain CDC 1551 / Oshkosh) OX=83331 GN=blaC PE=3 SV=1   921\n\n\nBLAC_MYCBO P0A5I7 Beta-lactamase OS=Mycobacterium bovis (strain ATCC BAA-935 / AF2122/97) OX=233413 GN=blaC PE=3 SV=1   921\n\n\nA0A133QE03_STASI Erythromycin resistance protein OS=Staphylococcus simulans OX=1286 GN=HMPREF3215_02510 PE=3 SV=1   729\n\n\nAMPC_CITFR P05193 Beta-lactamase OS=Citrobacter freundii OX=546 GN=ampC PE=1 SV=1   1143\n\n\nD4REG1_ENTFC D4REG1 Macrolide-lincosamide-streptogramin B resistance protein OS=Enterococcus faecium E1679 OX=546340 GN=EfmE1679_0214 PE=3 SV=1   729\n\n\nQ7DIC2_STAAU Q7DIC2 Erythromycin resistance protein OS=Staphylococcus aureus OX=1280 GN=ermA PE=3 SV=1   729\n\n\nBLAC_MYCTA A5U493 Beta-lactamase OS=Mycobacterium tuberculosis (strain ATCC 25177 / H37Ra) OX=419947 GN=blaC PE=1 SV=1   921\n\n\nA0A564SEJ2_ENTAV Macrolide-lincosamide-streptogramin B resistance protein OS=Enterococcus avium OX=33945 GN=erm(A) PE=3 SV=1   729\n\n\nA0A7V6HLW4_9FIRM 23S rRNA (Adenine(2058)-N(6))-methyltransferase Erm(A) OS=Bacilli bacterium OX=1903720 GN=erm(A) PE=4 SV=1   729\n\n\nBLAC_MYCTU P9WKD3 Beta-lactamase OS=Mycobacterium tuberculosis (strain ATCC 25618 / H37Rv) OX=83332 GN=blaC PE=1 SV=1   921\n\n\n"
     ]
    }
   ],
   "source": [
    "from Bio import SeqIO # from the lesson\n",
    "from Bio.Seq import Seq # from the lesson\n",
    "\n",
    "for record in SeqIO.parse('mixed_args.fasta', 'fasta'):\n",
    "    print(record.description, ' ', len(record.seq))\n",
    "    print('\\n')"
   ]
  },
  {
   "source": [
    "### Exercise 2"
   ],
   "cell_type": "markdown",
   "metadata": {}
  },
  {
   "cell_type": "code",
   "execution_count": 18,
   "metadata": {},
   "outputs": [
    {
     "output_type": "stream",
     "name": "stdout",
     "text": [
      "ERMA_STAAR Q6GKQ0 rRNA adenine N-6-methyltransferase OS=Staphylococcus aureus (strain MRSA252) OX=282458 GN=ermA1 PE=3 SV=1\n\n\nERMA_STAAM P0A0H1 rRNA adenine N-6-methyltransferase OS=Staphylococcus aureus (strain Mu50 / ATCC 700699) OX=158878 GN=ermA1 PE=3 SV=1\n\n\nERMA_STAAU P0A0H3 rRNA adenine N-6-methyltransferase OS=Staphylococcus aureus OX=1280 GN=ermA PE=3 SV=1\n\n\nBLAC_MYCTO P9WKD2 Beta-lactamase OS=Mycobacterium tuberculosis (strain CDC 1551 / Oshkosh) OX=83331 GN=blaC PE=3 SV=1\n\n\nBLAC_MYCBO P0A5I7 Beta-lactamase OS=Mycobacterium bovis (strain ATCC BAA-935 / AF2122/97) OX=233413 GN=blaC PE=3 SV=1\n\n\nA0A133QE03_STASI Erythromycin resistance protein OS=Staphylococcus simulans OX=1286 GN=HMPREF3215_02510 PE=3 SV=1\n\n\nD4REG1_ENTFC D4REG1 Macrolide-lincosamide-streptogramin B resistance protein OS=Enterococcus faecium E1679 OX=546340 GN=EfmE1679_0214 PE=3 SV=1\n\n\nQ7DIC2_STAAU Q7DIC2 Erythromycin resistance protein OS=Staphylococcus aureus OX=1280 GN=ermA PE=3 SV=1\n\n\nBLAC_MYCTA A5U493 Beta-lactamase OS=Mycobacterium tuberculosis (strain ATCC 25177 / H37Ra) OX=419947 GN=blaC PE=1 SV=1\n\n\nA0A564SEJ2_ENTAV Macrolide-lincosamide-streptogramin B resistance protein OS=Enterococcus avium OX=33945 GN=erm(A) PE=3 SV=1\n\n\nA0A7V6HLW4_9FIRM 23S rRNA (Adenine(2058)-N(6))-methyltransferase Erm(A) OS=Bacilli bacterium OX=1903720 GN=erm(A) PE=4 SV=1\n\n\nBLAC_MYCTU P9WKD3 Beta-lactamase OS=Mycobacterium tuberculosis (strain ATCC 25618 / H37Rv) OX=83332 GN=blaC PE=1 SV=1\n\n\n"
     ]
    }
   ],
   "source": [
    "for record in SeqIO.parse('mixed_args.fasta','fasta'):\n",
    "    if len(record.seq) < 1143:\n",
    "        print(record.description)\n",
    "        print('\\n')"
   ]
  },
  {
   "source": [
    "### Exercise 3a"
   ],
   "cell_type": "markdown",
   "metadata": {}
  },
  {
   "cell_type": "code",
   "execution_count": 19,
   "metadata": {},
   "outputs": [
    {
     "output_type": "stream",
     "name": "stdout",
     "text": [
      "A0A133QE03_STASI Erythromycin resistance protein OS=Staphylococcus simulans OX=1286 GN=HMPREF3215_02510 PE=3 SV=1\n\n\nQ7DIC2_STAAU Q7DIC2 Erythromycin resistance protein OS=Staphylococcus aureus OX=1280 GN=ermA PE=3 SV=1\n\n\n"
     ]
    }
   ],
   "source": [
    "for record in SeqIO.parse('mixed_args.fasta','fasta'):\n",
    "    if record.description.find('Erythromycin resistance') > -1:\n",
    "        print(record.description)\n",
    "        print('\\n')"
   ]
  },
  {
   "source": [
    "### Exercise 3b"
   ],
   "cell_type": "markdown",
   "metadata": {}
  },
  {
   "cell_type": "code",
   "execution_count": 20,
   "metadata": {},
   "outputs": [
    {
     "output_type": "stream",
     "name": "stdout",
     "text": [
      "ERMA_STAAR Q6GKQ0 rRNA adenine N-6-methyltransferase OS=Staphylococcus aureus (strain MRSA252) OX=282458 GN=ermA1 PE=3 SV=1\n\n\nERMA_STAAM P0A0H1 rRNA adenine N-6-methyltransferase OS=Staphylococcus aureus (strain Mu50 / ATCC 700699) OX=158878 GN=ermA1 PE=3 SV=1\n\n\nERMA_STAAU P0A0H3 rRNA adenine N-6-methyltransferase OS=Staphylococcus aureus OX=1280 GN=ermA PE=3 SV=1\n\n\nBLAC_MYCTO P9WKD2 Beta-lactamase OS=Mycobacterium tuberculosis (strain CDC 1551 / Oshkosh) OX=83331 GN=blaC PE=3 SV=1\n\n\nBLAC_MYCBO P0A5I7 Beta-lactamase OS=Mycobacterium bovis (strain ATCC BAA-935 / AF2122/97) OX=233413 GN=blaC PE=3 SV=1\n\n\nAMPC_CITFR P05193 Beta-lactamase OS=Citrobacter freundii OX=546 GN=ampC PE=1 SV=1\n\n\nD4REG1_ENTFC D4REG1 Macrolide-lincosamide-streptogramin B resistance protein OS=Enterococcus faecium E1679 OX=546340 GN=EfmE1679_0214 PE=3 SV=1\n\n\nBLAC_MYCTA A5U493 Beta-lactamase OS=Mycobacterium tuberculosis (strain ATCC 25177 / H37Ra) OX=419947 GN=blaC PE=1 SV=1\n\n\nA0A564SEJ2_ENTAV Macrolide-lincosamide-streptogramin B resistance protein OS=Enterococcus avium OX=33945 GN=erm(A) PE=3 SV=1\n\n\nA0A7V6HLW4_9FIRM 23S rRNA (Adenine(2058)-N(6))-methyltransferase Erm(A) OS=Bacilli bacterium OX=1903720 GN=erm(A) PE=4 SV=1\n\n\nBLAC_MYCTU P9WKD3 Beta-lactamase OS=Mycobacterium tuberculosis (strain ATCC 25618 / H37Rv) OX=83332 GN=blaC PE=1 SV=1\n\n\n"
     ]
    }
   ],
   "source": [
    "for record in SeqIO.parse('mixed_args.fasta','fasta'):\n",
    "    if record.description.find('Erythromycin resistance') == -1:\n",
    "        print(record.description)\n",
    "        print('\\n')"
   ]
  },
  {
   "source": [
    "### Exercise 4"
   ],
   "cell_type": "markdown",
   "metadata": {}
  },
  {
   "cell_type": "code",
   "execution_count": 21,
   "metadata": {},
   "outputs": [
    {
     "output_type": "stream",
     "name": "stdout",
     "text": [
      "ERMA_STAAR Q6GKQ0 rRNA adenine N-6-methyltransferase OS=Staphylococcus aureus (strain MRSA252) OX=282458 GN=ermA1 PE=3 SV=1\n\n\nERMA_STAAM P0A0H1 rRNA adenine N-6-methyltransferase OS=Staphylococcus aureus (strain Mu50 / ATCC 700699) OX=158878 GN=ermA1 PE=3 SV=1\n\n\nERMA_STAAU P0A0H3 rRNA adenine N-6-methyltransferase OS=Staphylococcus aureus OX=1280 GN=ermA PE=3 SV=1\n\n\nA0A133QE03_STASI Erythromycin resistance protein OS=Staphylococcus simulans OX=1286 GN=HMPREF3215_02510 PE=3 SV=1\n\n\nD4REG1_ENTFC D4REG1 Macrolide-lincosamide-streptogramin B resistance protein OS=Enterococcus faecium E1679 OX=546340 GN=EfmE1679_0214 PE=3 SV=1\n\n\nQ7DIC2_STAAU Q7DIC2 Erythromycin resistance protein OS=Staphylococcus aureus OX=1280 GN=ermA PE=3 SV=1\n\n\nA0A564SEJ2_ENTAV Macrolide-lincosamide-streptogramin B resistance protein OS=Enterococcus avium OX=33945 GN=erm(A) PE=3 SV=1\n\n\nA0A7V6HLW4_9FIRM 23S rRNA (Adenine(2058)-N(6))-methyltransferase Erm(A) OS=Bacilli bacterium OX=1903720 GN=erm(A) PE=4 SV=1\n\n\n"
     ]
    }
   ],
   "source": [
    "for record in SeqIO.parse('mixed_args.fasta','fasta'):\n",
    "    translated_record = record.translate()\n",
    "    if translated_record.seq.find('QRALGL') > -1:\n",
    "        print(record.description)\n",
    "        print('\\n')"
   ]
  },
  {
   "source": [
    "### Exercise 4b"
   ],
   "cell_type": "markdown",
   "metadata": {}
  },
  {
   "cell_type": "code",
   "execution_count": 22,
   "metadata": {},
   "outputs": [
    {
     "output_type": "stream",
     "name": "stdout",
     "text": [
      "BLAC_MYCTO P9WKD2 Beta-lactamase OS=Mycobacterium tuberculosis (strain CDC 1551 / Oshkosh) OX=83331 GN=blaC PE=3 SV=1\n\n\nBLAC_MYCBO P0A5I7 Beta-lactamase OS=Mycobacterium bovis (strain ATCC BAA-935 / AF2122/97) OX=233413 GN=blaC PE=3 SV=1\n\n\nAMPC_CITFR P05193 Beta-lactamase OS=Citrobacter freundii OX=546 GN=ampC PE=1 SV=1\n\n\nBLAC_MYCTA A5U493 Beta-lactamase OS=Mycobacterium tuberculosis (strain ATCC 25177 / H37Ra) OX=419947 GN=blaC PE=1 SV=1\n\n\nBLAC_MYCTU P9WKD3 Beta-lactamase OS=Mycobacterium tuberculosis (strain ATCC 25618 / H37Rv) OX=83332 GN=blaC PE=1 SV=1\n\n\n"
     ]
    }
   ],
   "source": [
    "import re # from lectiure \n",
    "\n",
    "for record in SeqIO.parse('mixed_args.fasta','fasta'):\n",
    "\n",
    "    regex_match_list = re.findall(r\"C.{3}TTGC\", str(record.seq))\n",
    "    if len(regex_match_list) > 0:\n",
    "        print(record.description)\n",
    "        print('\\n')"
   ]
  },
  {
   "source": [
    "### Exercise 4c"
   ],
   "cell_type": "markdown",
   "metadata": {}
  },
  {
   "cell_type": "code",
   "execution_count": 23,
   "metadata": {},
   "outputs": [
    {
     "output_type": "stream",
     "name": "stdout",
     "text": [
      "found in complement sequence\nERMA_STAAR Q6GKQ0 rRNA adenine N-6-methyltransferase OS=Staphylococcus aureus (strain MRSA252) OX=282458 GN=ermA1 PE=3 SV=1\n\n\nfound in complement sequence\nERMA_STAAM P0A0H1 rRNA adenine N-6-methyltransferase OS=Staphylococcus aureus (strain Mu50 / ATCC 700699) OX=158878 GN=ermA1 PE=3 SV=1\n\n\nfound in complement sequence\nERMA_STAAU P0A0H3 rRNA adenine N-6-methyltransferase OS=Staphylococcus aureus OX=1280 GN=ermA PE=3 SV=1\n\n\nfound in forward sequence\nBLAC_MYCTO P9WKD2 Beta-lactamase OS=Mycobacterium tuberculosis (strain CDC 1551 / Oshkosh) OX=83331 GN=blaC PE=3 SV=1\n\n\nfound in reverse sequence\nBLAC_MYCTO P9WKD2 Beta-lactamase OS=Mycobacterium tuberculosis (strain CDC 1551 / Oshkosh) OX=83331 GN=blaC PE=3 SV=1\n\n\nfound in complement sequence\nBLAC_MYCTO P9WKD2 Beta-lactamase OS=Mycobacterium tuberculosis (strain CDC 1551 / Oshkosh) OX=83331 GN=blaC PE=3 SV=1\n\n\nfound in forward sequence\nBLAC_MYCBO P0A5I7 Beta-lactamase OS=Mycobacterium bovis (strain ATCC BAA-935 / AF2122/97) OX=233413 GN=blaC PE=3 SV=1\n\n\nfound in reverse sequence\nBLAC_MYCBO P0A5I7 Beta-lactamase OS=Mycobacterium bovis (strain ATCC BAA-935 / AF2122/97) OX=233413 GN=blaC PE=3 SV=1\n\n\nfound in complement sequence\nBLAC_MYCBO P0A5I7 Beta-lactamase OS=Mycobacterium bovis (strain ATCC BAA-935 / AF2122/97) OX=233413 GN=blaC PE=3 SV=1\n\n\nfound in complement sequence\nA0A133QE03_STASI Erythromycin resistance protein OS=Staphylococcus simulans OX=1286 GN=HMPREF3215_02510 PE=3 SV=1\n\n\nfound in forward sequence\nAMPC_CITFR P05193 Beta-lactamase OS=Citrobacter freundii OX=546 GN=ampC PE=1 SV=1\n\n\nfound in complement sequence\nAMPC_CITFR P05193 Beta-lactamase OS=Citrobacter freundii OX=546 GN=ampC PE=1 SV=1\n\n\nfound in complement sequence\nD4REG1_ENTFC D4REG1 Macrolide-lincosamide-streptogramin B resistance protein OS=Enterococcus faecium E1679 OX=546340 GN=EfmE1679_0214 PE=3 SV=1\n\n\nfound in complement sequence\nQ7DIC2_STAAU Q7DIC2 Erythromycin resistance protein OS=Staphylococcus aureus OX=1280 GN=ermA PE=3 SV=1\n\n\nfound in forward sequence\nBLAC_MYCTA A5U493 Beta-lactamase OS=Mycobacterium tuberculosis (strain ATCC 25177 / H37Ra) OX=419947 GN=blaC PE=1 SV=1\n\n\nfound in reverse sequence\nBLAC_MYCTA A5U493 Beta-lactamase OS=Mycobacterium tuberculosis (strain ATCC 25177 / H37Ra) OX=419947 GN=blaC PE=1 SV=1\n\n\nfound in complement sequence\nBLAC_MYCTA A5U493 Beta-lactamase OS=Mycobacterium tuberculosis (strain ATCC 25177 / H37Ra) OX=419947 GN=blaC PE=1 SV=1\n\n\nfound in complement sequence\nA0A564SEJ2_ENTAV Macrolide-lincosamide-streptogramin B resistance protein OS=Enterococcus avium OX=33945 GN=erm(A) PE=3 SV=1\n\n\nfound in complement sequence\nA0A7V6HLW4_9FIRM 23S rRNA (Adenine(2058)-N(6))-methyltransferase Erm(A) OS=Bacilli bacterium OX=1903720 GN=erm(A) PE=4 SV=1\n\n\nfound in forward sequence\nBLAC_MYCTU P9WKD3 Beta-lactamase OS=Mycobacterium tuberculosis (strain ATCC 25618 / H37Rv) OX=83332 GN=blaC PE=1 SV=1\n\n\nfound in reverse sequence\nBLAC_MYCTU P9WKD3 Beta-lactamase OS=Mycobacterium tuberculosis (strain ATCC 25618 / H37Rv) OX=83332 GN=blaC PE=1 SV=1\n\n\nfound in complement sequence\nBLAC_MYCTU P9WKD3 Beta-lactamase OS=Mycobacterium tuberculosis (strain ATCC 25618 / H37Rv) OX=83332 GN=blaC PE=1 SV=1\n\n\n"
     ]
    }
   ],
   "source": [
    "for record in SeqIO.parse('mixed_args.fasta','fasta'):\n",
    "\n",
    "    # search record.seq\n",
    "    regex_match_list = re.findall(r\"C.{3}TTGC\", str(record.seq))\n",
    "    if len(regex_match_list) > 0:\n",
    "        print('found in forward sequence')\n",
    "        print(record.description)\n",
    "        print('\\n')\n",
    "    \n",
    "    # search the reverse of record.seq\n",
    "    regex_match_list = re.findall(r\"C.{3}TTGC\", str(record.seq[::-1]))\n",
    "    if len(regex_match_list) > 0:\n",
    "        print('found in reverse sequence')\n",
    "        print(record.description)\n",
    "        print('\\n')\n",
    "\n",
    "    # search the complement of record.seq\n",
    "    regex_match_list = re.findall(r\"C.{3}TTGC\", str(record.seq.complement()))\n",
    "    if len(regex_match_list) > 0:\n",
    "        print('found in complement sequence')\n",
    "        print(record.description)\n",
    "        print('\\n')\n",
    "\n",
    "    # search the reverse complement of record.seq\n",
    "    regex_match_list = re.findall(r\"C.{3}TTGC\", str(record.seq.reverse_complement()))\n",
    "    if len(regex_match_list) > 0:\n",
    "        print('found in reverse complement sequence')\n",
    "        print(record.description)\n",
    "        print('\\n')"
   ]
  },
  {
   "source": [
    "### Exercise 5a"
   ],
   "cell_type": "markdown",
   "metadata": {}
  },
  {
   "cell_type": "code",
   "execution_count": 24,
   "metadata": {},
   "outputs": [
    {
     "output_type": "stream",
     "name": "stdout",
     "text": [
      "[SeqRecord(seq=Seq('ATGCGTAATCGTGGATTTGGACGTCGTGAATTATTAGTAGCTATGGCTATGTTA...GCT'), id='BLAC_MYCTO', name='BLAC_MYCTO', description='BLAC_MYCTO P9WKD2 Beta-lactamase OS=Mycobacterium tuberculosis (strain CDC 1551 / Oshkosh) OX=83331 GN=blaC PE=3 SV=1', dbxrefs=[]), SeqRecord(seq=Seq('ATGCGTAATCGTGGATTTGGACGTCGTGAATTATTAGTAGCTATGGCTATGTTA...GCT'), id='BLAC_MYCBO', name='BLAC_MYCBO', description='BLAC_MYCBO P0A5I7 Beta-lactamase OS=Mycobacterium bovis (strain ATCC BAA-935 / AF2122/97) OX=233413 GN=blaC PE=3 SV=1', dbxrefs=[]), SeqRecord(seq=Seq('ATGATGAAAAAATCTATTTGTTGTGCTTTATTATTAACAGCTTCTTTTTCTACA...CAA'), id='AMPC_CITFR', name='AMPC_CITFR', description='AMPC_CITFR P05193 Beta-lactamase OS=Citrobacter freundii OX=546 GN=ampC PE=1 SV=1', dbxrefs=[]), SeqRecord(seq=Seq('ATGCGTAATCGTGGATTTGGACGTCGTGAATTATTAGTAGCTATGGCTATGTTA...GCT'), id='BLAC_MYCTA', name='BLAC_MYCTA', description='BLAC_MYCTA A5U493 Beta-lactamase OS=Mycobacterium tuberculosis (strain ATCC 25177 / H37Ra) OX=419947 GN=blaC PE=1 SV=1', dbxrefs=[]), SeqRecord(seq=Seq('ATGCGTAATCGTGGATTTGGACGTCGTGAATTATTAGTAGCTATGGCTATGTTA...GCT'), id='BLAC_MYCTU', name='BLAC_MYCTU', description='BLAC_MYCTU P9WKD3 Beta-lactamase OS=Mycobacterium tuberculosis (strain ATCC 25618 / H37Rv) OX=83332 GN=blaC PE=1 SV=1', dbxrefs=[])]\n"
     ]
    },
    {
     "output_type": "execute_result",
     "data": {
      "text/plain": [
       "5"
      ]
     },
     "metadata": {},
     "execution_count": 24
    }
   ],
   "source": [
    "# empty list to store modified sequence records\n",
    "extracted_seqs = []\n",
    "\n",
    "for record in SeqIO.parse('mixed_args.fasta', 'fasta'):\n",
    "    # translate the sequence\n",
    "    translated_seq = record.seq.translate()\n",
    "    # search for the blaC motif\n",
    "    if translated_seq.find('GAKR') > -1:\n",
    "        # if the sequence contains the motif, append it to our list\n",
    "        extracted_seqs.append(record)\n",
    "\n",
    "# examine the contents\n",
    "print(extracted_seqs)\n",
    "\n",
    "#write to file\n",
    "SeqIO.write(extracted_seqs, 'day3_5a.fasta','fasta')"
   ]
  },
  {
   "source": [
    "### Exercise 5b"
   ],
   "cell_type": "markdown",
   "metadata": {}
  },
  {
   "cell_type": "code",
   "execution_count": 25,
   "metadata": {},
   "outputs": [
    {
     "output_type": "stream",
     "name": "stdout",
     "text": [
      "[SeqRecord(seq=Seq('ATGCGTAATCGTGGATTTGGACGTCGTGAATTATTAGTAGCTATGGCTATGTTA...GCT'), id='BLAC_MYCTO', name='BLAC_MYCTO', description='BLAC_MYCTO P9WKD2 Beta-lactamase OS=Mycobacterium tuberculosis (strain CDC 1551 / Oshkosh) OX=83331 GN=blaC PE=3 SV=1', dbxrefs=[]), SeqRecord(seq=Seq('ATGCGTAATCGTGGATTTGGACGTCGTGAATTATTAGTAGCTATGGCTATGTTA...GCT'), id='BLAC_MYCBO', name='BLAC_MYCBO', description='BLAC_MYCBO P0A5I7 Beta-lactamase OS=Mycobacterium bovis (strain ATCC BAA-935 / AF2122/97) OX=233413 GN=blaC PE=3 SV=1', dbxrefs=[]), SeqRecord(seq=Seq('ATGCGTAATCGTGGATTTGGACGTCGTGAATTATTAGTAGCTATGGCTATGTTA...GCT'), id='BLAC_MYCTA', name='BLAC_MYCTA', description='BLAC_MYCTA A5U493 Beta-lactamase OS=Mycobacterium tuberculosis (strain ATCC 25177 / H37Ra) OX=419947 GN=blaC PE=1 SV=1', dbxrefs=[]), SeqRecord(seq=Seq('ATGCGTAATCGTGGATTTGGACGTCGTGAATTATTAGTAGCTATGGCTATGTTA...GCT'), id='BLAC_MYCTU', name='BLAC_MYCTU', description='BLAC_MYCTU P9WKD3 Beta-lactamase OS=Mycobacterium tuberculosis (strain ATCC 25618 / H37Rv) OX=83332 GN=blaC PE=1 SV=1', dbxrefs=[])]\n"
     ]
    },
    {
     "output_type": "execute_result",
     "data": {
      "text/plain": [
       "4"
      ]
     },
     "metadata": {},
     "execution_count": 25
    }
   ],
   "source": [
    "# empty list to store modified sequence records\n",
    "extracted_seqs = []\n",
    "\n",
    "for record in SeqIO.parse('mixed_args.fasta', 'fasta'):\n",
    "    # translate the sequence\n",
    "    translated_seq = record.seq.translate()\n",
    "    # search for the blaC motif\n",
    "    if translated_seq.find('GAKR') > -1:\n",
    "        # check if the nucleotide sequence is less than 1143 nucleotides\n",
    "        if len(record.seq) < 1143:\n",
    "            # append to sequence\n",
    "            extracted_seqs.append(record)\n",
    "\n",
    "# examin contents\n",
    "print(extracted_seqs)\n",
    "\n",
    "\n",
    "# write to file\n",
    "SeqIO.write(extracted_seqs, 'day3_5b.fasta','fasta')"
   ]
  },
  {
   "source": [
    "### Exercise 6a"
   ],
   "cell_type": "markdown",
   "metadata": {}
  },
  {
   "cell_type": "code",
   "execution_count": 26,
   "metadata": {},
   "outputs": [
    {
     "output_type": "stream",
     "name": "stdout",
     "text": [
      "_FABV_Escherichia coli\n\n\n_FABI_Escherichia coli\n\n\n_FABK_Escherichia coli\n\n\n"
     ]
    }
   ],
   "source": [
    "for record in SeqIO.parse('to_reformat.fasta', 'fasta'):\n",
    "    record.id = record.id.replace('UgLyGenE', '')\n",
    "    record.description = record.id.upper()\n",
    "    record.description = record.description + '_Escherichia coli'\n",
    "\n",
    "    print(record.description)\n",
    "    print('\\n')"
   ]
  },
  {
   "source": [
    "### Exercise 6b"
   ],
   "cell_type": "markdown",
   "metadata": {}
  },
  {
   "cell_type": "code",
   "execution_count": 27,
   "metadata": {},
   "outputs": [
    {
     "output_type": "stream",
     "name": "stdout",
     "text": [
      "_FABV_Escherichia coli\n\n\n_FABI_Escherichia coli\n\n\n_FABK_Escherichia coli\n\n\n"
     ]
    },
    {
     "output_type": "execute_result",
     "data": {
      "text/plain": [
       "3"
      ]
     },
     "metadata": {},
     "execution_count": 27
    }
   ],
   "source": [
    "store_records = []\n",
    "\n",
    "for record in SeqIO.parse('to_reformat.fasta', 'fasta'):\n",
    "    record.id = record.id.replace('UgLyGenE', '')\n",
    "    record.description = record.id.upper()\n",
    "    record.description = record.description + '_Escherichia coli'\n",
    "\n",
    "    store_records.append(record)\n",
    "\n",
    "    print(record.description)\n",
    "    print('\\n')\n",
    "\n",
    "SeqIO.write(store_records, 'day3_6b.fasta', 'fasta')"
   ]
  },
  {
   "source": [
    "### Exercise 7a"
   ],
   "cell_type": "markdown",
   "metadata": {}
  },
  {
   "cell_type": "code",
   "execution_count": 29,
   "metadata": {},
   "outputs": [
    {
     "output_type": "stream",
     "name": "stdout",
     "text": [
      "genes_from_ocean\ngenes_from_desert\n"
     ]
    }
   ],
   "source": [
    "import os # from lecture\n",
    "current_directory = os.getcwd() # from lecture\n",
    "\n",
    "for file in os.listdir(current_directory):\n",
    "    if file.startswith('genes_from_'):\n",
    "        if file.endswith('.fasta'):\n",
    "            file_description = file.replace('.fasta', '')\n",
    "            print(file_description)"
   ]
  },
  {
   "source": [
    "### Exercise 7b"
   ],
   "cell_type": "markdown",
   "metadata": {}
  },
  {
   "cell_type": "code",
   "execution_count": 30,
   "metadata": {},
   "outputs": [
    {
     "output_type": "execute_result",
     "data": {
      "text/plain": [
       "6"
      ]
     },
     "metadata": {},
     "execution_count": 30
    }
   ],
   "source": [
    "store_records = []\n",
    "\n",
    "for file in os.listdir(current_directory):\n",
    "    if file.startswith('genes_from_'):\n",
    "        if file.endswith('.fasta'):\n",
    "            for record in SeqIO.parse(file, 'fasta'):\n",
    "                file_description = file.replace('.fasta', '')\n",
    "                record.description = record.description + ' location: '+ file_description\n",
    "                store_records.append(record)\n",
    "\n",
    "SeqIO.write(store_records, 'day3_7b.fasta','fasta')\n"
   ]
  }
 ]
}