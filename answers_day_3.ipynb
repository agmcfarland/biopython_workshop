{
 "metadata": {
  "language_info": {
   "codemirror_mode": {
    "name": "ipython",
    "version": 3
   },
   "file_extension": ".py",
   "mimetype": "text/x-python",
   "name": "python",
   "nbconvert_exporter": "python",
   "pygments_lexer": "ipython3",
   "version": "3.8.5"
  },
  "orig_nbformat": 4,
  "kernelspec": {
   "name": "python3",
   "display_name": "Python 3.8.5 64-bit ('myenv': conda)"
  },
  "interpreter": {
   "hash": "f5c9dfabb21bd2a91b63810df81acbdc6b5e617e45414f0ef050ca96090c868f"
  }
 },
 "nbformat": 4,
 "nbformat_minor": 2,
 "cells": [
  {
   "source": [
    "# Day 3 Answers "
   ],
   "cell_type": "markdown",
   "metadata": {}
  },
  {
   "source": [
    "### Google colab users only:"
   ],
   "cell_type": "markdown",
   "metadata": {}
  },
  {
   "cell_type": "code",
   "execution_count": null,
   "metadata": {},
   "outputs": [],
   "source": [
    "pip install Biopython"
   ]
  },
  {
   "cell_type": "code",
   "execution_count": null,
   "metadata": {},
   "outputs": [],
   "source": [
    "!wget https://raw.githubusercontent.com/agmcfarland/biopython_workshop/master/to_reformat.fasta\n",
    "!wget https://raw.githubusercontent.com/agmcfarland/biopython_workshop/master/mixed_args.fasta"
   ]
  },
  {
   "source": [
    "### Everyone:"
   ],
   "cell_type": "markdown",
   "metadata": {}
  },
  {
   "source": [
    "### Exercise 1"
   ],
   "cell_type": "markdown",
   "metadata": {}
  },
  {
   "cell_type": "code",
   "execution_count": 1,
   "metadata": {},
   "outputs": [
    {
     "output_type": "stream",
     "name": "stdout",
     "text": [
      "ERMA_STAAR Q6GKQ0 rRNA adenine N-6-methyltransferase OS=Staphylococcus aureus (strain MRSA252) OX=282458 GN=ermA1 PE=3 SV=1   729\nERMA_STAAM P0A0H1 rRNA adenine N-6-methyltransferase OS=Staphylococcus aureus (strain Mu50 / ATCC 700699) OX=158878 GN=ermA1 PE=3 SV=1   729\nERMA_STAAU P0A0H3 rRNA adenine N-6-methyltransferase OS=Staphylococcus aureus OX=1280 GN=ermA PE=3 SV=1   729\nBLAC_MYCTO P9WKD2 Beta-lactamase OS=Mycobacterium tuberculosis (strain CDC 1551 / Oshkosh) OX=83331 GN=blaC PE=3 SV=1   921\nBLAC_MYCBO P0A5I7 Beta-lactamase OS=Mycobacterium bovis (strain ATCC BAA-935 / AF2122/97) OX=233413 GN=blaC PE=3 SV=1   921\nA0A133QE03_STASI Erythromycin resistance protein OS=Staphylococcus simulans OX=1286 GN=HMPREF3215_02510 PE=3 SV=1   729\nAMPC_CITFR P05193 Beta-lactamase OS=Citrobacter freundii OX=546 GN=ampC PE=1 SV=1   1143\nD4REG1_ENTFC D4REG1 Macrolide-lincosamide-streptogramin B resistance protein OS=Enterococcus faecium E1679 OX=546340 GN=EfmE1679_0214 PE=3 SV=1   729\nQ7DIC2_STAAU Q7DIC2 Erythromycin resistance protein OS=Staphylococcus aureus OX=1280 GN=ermA PE=3 SV=1   729\nBLAC_MYCTA A5U493 Beta-lactamase OS=Mycobacterium tuberculosis (strain ATCC 25177 / H37Ra) OX=419947 GN=blaC PE=1 SV=1   921\nA0A564SEJ2_ENTAV Macrolide-lincosamide-streptogramin B resistance protein OS=Enterococcus avium OX=33945 GN=erm(A) PE=3 SV=1   729\nA0A7V6HLW4_9FIRM 23S rRNA (Adenine(2058)-N(6))-methyltransferase Erm(A) OS=Bacilli bacterium OX=1903720 GN=erm(A) PE=4 SV=1   729\nBLAC_MYCTU P9WKD3 Beta-lactamase OS=Mycobacterium tuberculosis (strain ATCC 25618 / H37Rv) OX=83332 GN=blaC PE=1 SV=1   921\n"
     ]
    }
   ],
   "source": [
    "from Bio import SeqIO # from the lesson\n",
    "from Bio.Seq import Seq # from the lesson\n",
    "\n",
    "for record in SeqIO.parse('mixed_args.fasta', 'fasta'):\n",
    "    print(record.description, ' ', len(record.seq))"
   ]
  },
  {
   "source": [
    "### Exercise 2"
   ],
   "cell_type": "markdown",
   "metadata": {}
  },
  {
   "cell_type": "code",
   "execution_count": 4,
   "metadata": {},
   "outputs": [
    {
     "output_type": "stream",
     "name": "stdout",
     "text": [
      "ERMA_STAAR Q6GKQ0 rRNA adenine N-6-methyltransferase OS=Staphylococcus aureus (strain MRSA252) OX=282458 GN=ermA1 PE=3 SV=1\n\n\nERMA_STAAM P0A0H1 rRNA adenine N-6-methyltransferase OS=Staphylococcus aureus (strain Mu50 / ATCC 700699) OX=158878 GN=ermA1 PE=3 SV=1\n\n\nERMA_STAAU P0A0H3 rRNA adenine N-6-methyltransferase OS=Staphylococcus aureus OX=1280 GN=ermA PE=3 SV=1\n\n\nBLAC_MYCTO P9WKD2 Beta-lactamase OS=Mycobacterium tuberculosis (strain CDC 1551 / Oshkosh) OX=83331 GN=blaC PE=3 SV=1\n\n\nBLAC_MYCBO P0A5I7 Beta-lactamase OS=Mycobacterium bovis (strain ATCC BAA-935 / AF2122/97) OX=233413 GN=blaC PE=3 SV=1\n\n\nA0A133QE03_STASI Erythromycin resistance protein OS=Staphylococcus simulans OX=1286 GN=HMPREF3215_02510 PE=3 SV=1\n\n\nD4REG1_ENTFC D4REG1 Macrolide-lincosamide-streptogramin B resistance protein OS=Enterococcus faecium E1679 OX=546340 GN=EfmE1679_0214 PE=3 SV=1\n\n\nQ7DIC2_STAAU Q7DIC2 Erythromycin resistance protein OS=Staphylococcus aureus OX=1280 GN=ermA PE=3 SV=1\n\n\nBLAC_MYCTA A5U493 Beta-lactamase OS=Mycobacterium tuberculosis (strain ATCC 25177 / H37Ra) OX=419947 GN=blaC PE=1 SV=1\n\n\nA0A564SEJ2_ENTAV Macrolide-lincosamide-streptogramin B resistance protein OS=Enterococcus avium OX=33945 GN=erm(A) PE=3 SV=1\n\n\nA0A7V6HLW4_9FIRM 23S rRNA (Adenine(2058)-N(6))-methyltransferase Erm(A) OS=Bacilli bacterium OX=1903720 GN=erm(A) PE=4 SV=1\n\n\nBLAC_MYCTU P9WKD3 Beta-lactamase OS=Mycobacterium tuberculosis (strain ATCC 25618 / H37Rv) OX=83332 GN=blaC PE=1 SV=1\n\n\n"
     ]
    }
   ],
   "source": [
    "for record in SeqIO.parse('mixed_args.fasta','fasta'):\n",
    "    if len(record.seq) < 1143:\n",
    "        print(record.description)\n",
    "        print('\\n')"
   ]
  },
  {
   "source": [
    "### Exercise 3a"
   ],
   "cell_type": "markdown",
   "metadata": {}
  },
  {
   "cell_type": "code",
   "execution_count": 5,
   "metadata": {},
   "outputs": [
    {
     "output_type": "stream",
     "name": "stdout",
     "text": [
      "A0A133QE03_STASI Erythromycin resistance protein OS=Staphylococcus simulans OX=1286 GN=HMPREF3215_02510 PE=3 SV=1\nQ7DIC2_STAAU Q7DIC2 Erythromycin resistance protein OS=Staphylococcus aureus OX=1280 GN=ermA PE=3 SV=1\n"
     ]
    }
   ],
   "source": [
    "for record in SeqIO.parse('mixed_args.fasta','fasta'):\n",
    "    if record.description.find('Erythromycin resistance') > -1:\n",
    "        print(record.description)\n",
    "        print('\\n')"
   ]
  },
  {
   "source": [
    "### Exercise 3b"
   ],
   "cell_type": "markdown",
   "metadata": {}
  },
  {
   "cell_type": "code",
   "execution_count": 7,
   "metadata": {},
   "outputs": [
    {
     "output_type": "stream",
     "name": "stdout",
     "text": [
      "ERMA_STAAR Q6GKQ0 rRNA adenine N-6-methyltransferase OS=Staphylococcus aureus (strain MRSA252) OX=282458 GN=ermA1 PE=3 SV=1\n\n\nERMA_STAAM P0A0H1 rRNA adenine N-6-methyltransferase OS=Staphylococcus aureus (strain Mu50 / ATCC 700699) OX=158878 GN=ermA1 PE=3 SV=1\n\n\nERMA_STAAU P0A0H3 rRNA adenine N-6-methyltransferase OS=Staphylococcus aureus OX=1280 GN=ermA PE=3 SV=1\n\n\nBLAC_MYCTO P9WKD2 Beta-lactamase OS=Mycobacterium tuberculosis (strain CDC 1551 / Oshkosh) OX=83331 GN=blaC PE=3 SV=1\n\n\nBLAC_MYCBO P0A5I7 Beta-lactamase OS=Mycobacterium bovis (strain ATCC BAA-935 / AF2122/97) OX=233413 GN=blaC PE=3 SV=1\n\n\nAMPC_CITFR P05193 Beta-lactamase OS=Citrobacter freundii OX=546 GN=ampC PE=1 SV=1\n\n\nD4REG1_ENTFC D4REG1 Macrolide-lincosamide-streptogramin B resistance protein OS=Enterococcus faecium E1679 OX=546340 GN=EfmE1679_0214 PE=3 SV=1\n\n\nBLAC_MYCTA A5U493 Beta-lactamase OS=Mycobacterium tuberculosis (strain ATCC 25177 / H37Ra) OX=419947 GN=blaC PE=1 SV=1\n\n\nA0A564SEJ2_ENTAV Macrolide-lincosamide-streptogramin B resistance protein OS=Enterococcus avium OX=33945 GN=erm(A) PE=3 SV=1\n\n\nA0A7V6HLW4_9FIRM 23S rRNA (Adenine(2058)-N(6))-methyltransferase Erm(A) OS=Bacilli bacterium OX=1903720 GN=erm(A) PE=4 SV=1\n\n\nBLAC_MYCTU P9WKD3 Beta-lactamase OS=Mycobacterium tuberculosis (strain ATCC 25618 / H37Rv) OX=83332 GN=blaC PE=1 SV=1\n\n\n"
     ]
    }
   ],
   "source": [
    "for record in SeqIO.parse('mixed_args.fasta','fasta'):\n",
    "    if record.description.find('Erythromycin resistance') == -1:\n",
    "        print(record.description)\n",
    "        print('\\n')"
   ]
  },
  {
   "source": [
    "### Exercise 4"
   ],
   "cell_type": "markdown",
   "metadata": {}
  },
  {
   "cell_type": "code",
   "execution_count": 9,
   "metadata": {},
   "outputs": [
    {
     "output_type": "stream",
     "name": "stdout",
     "text": [
      "ERMA_STAAR Q6GKQ0 rRNA adenine N-6-methyltransferase OS=Staphylococcus aureus (strain MRSA252) OX=282458 GN=ermA1 PE=3 SV=1\n\n\nERMA_STAAM P0A0H1 rRNA adenine N-6-methyltransferase OS=Staphylococcus aureus (strain Mu50 / ATCC 700699) OX=158878 GN=ermA1 PE=3 SV=1\n\n\nERMA_STAAU P0A0H3 rRNA adenine N-6-methyltransferase OS=Staphylococcus aureus OX=1280 GN=ermA PE=3 SV=1\n\n\nA0A133QE03_STASI Erythromycin resistance protein OS=Staphylococcus simulans OX=1286 GN=HMPREF3215_02510 PE=3 SV=1\n\n\nD4REG1_ENTFC D4REG1 Macrolide-lincosamide-streptogramin B resistance protein OS=Enterococcus faecium E1679 OX=546340 GN=EfmE1679_0214 PE=3 SV=1\n\n\nQ7DIC2_STAAU Q7DIC2 Erythromycin resistance protein OS=Staphylococcus aureus OX=1280 GN=ermA PE=3 SV=1\n\n\nA0A564SEJ2_ENTAV Macrolide-lincosamide-streptogramin B resistance protein OS=Enterococcus avium OX=33945 GN=erm(A) PE=3 SV=1\n\n\nA0A7V6HLW4_9FIRM 23S rRNA (Adenine(2058)-N(6))-methyltransferase Erm(A) OS=Bacilli bacterium OX=1903720 GN=erm(A) PE=4 SV=1\n\n\n"
     ]
    }
   ],
   "source": [
    "for record in SeqIO.parse('mixed_args.fasta','fasta'):\n",
    "    translated_record = record.translate()\n",
    "    if translated_record.seq.find('QRALGL') > -1:\n",
    "        print(record.description)\n",
    "        print('\\n')"
   ]
  },
  {
   "source": [
    "### Exercise 5a"
   ],
   "cell_type": "markdown",
   "metadata": {}
  },
  {
   "cell_type": "code",
   "execution_count": 19,
   "metadata": {},
   "outputs": [
    {
     "output_type": "stream",
     "name": "stdout",
     "text": [
      "[SeqRecord(seq=Seq('ATGCGTAATCGTGGATTTGGACGTCGTGAATTATTAGTAGCTATGGCTATGTTA...GCT', SingleLetterAlphabet()), id='BLAC_MYCTO', name='BLAC_MYCTO', description='BLAC_MYCTO P9WKD2 Beta-lactamase OS=Mycobacterium tuberculosis (strain CDC 1551 / Oshkosh) OX=83331 GN=blaC PE=3 SV=1', dbxrefs=[]), SeqRecord(seq=Seq('ATGCGTAATCGTGGATTTGGACGTCGTGAATTATTAGTAGCTATGGCTATGTTA...GCT', SingleLetterAlphabet()), id='BLAC_MYCBO', name='BLAC_MYCBO', description='BLAC_MYCBO P0A5I7 Beta-lactamase OS=Mycobacterium bovis (strain ATCC BAA-935 / AF2122/97) OX=233413 GN=blaC PE=3 SV=1', dbxrefs=[]), SeqRecord(seq=Seq('ATGATGAAAAAATCTATTTGTTGTGCTTTATTATTAACAGCTTCTTTTTCTACA...CAA', SingleLetterAlphabet()), id='AMPC_CITFR', name='AMPC_CITFR', description='AMPC_CITFR P05193 Beta-lactamase OS=Citrobacter freundii OX=546 GN=ampC PE=1 SV=1', dbxrefs=[]), SeqRecord(seq=Seq('ATGCGTAATCGTGGATTTGGACGTCGTGAATTATTAGTAGCTATGGCTATGTTA...GCT', SingleLetterAlphabet()), id='BLAC_MYCTA', name='BLAC_MYCTA', description='BLAC_MYCTA A5U493 Beta-lactamase OS=Mycobacterium tuberculosis (strain ATCC 25177 / H37Ra) OX=419947 GN=blaC PE=1 SV=1', dbxrefs=[]), SeqRecord(seq=Seq('ATGCGTAATCGTGGATTTGGACGTCGTGAATTATTAGTAGCTATGGCTATGTTA...GCT', SingleLetterAlphabet()), id='BLAC_MYCTU', name='BLAC_MYCTU', description='BLAC_MYCTU P9WKD3 Beta-lactamase OS=Mycobacterium tuberculosis (strain ATCC 25618 / H37Rv) OX=83332 GN=blaC PE=1 SV=1', dbxrefs=[])]\n"
     ]
    },
    {
     "output_type": "execute_result",
     "data": {
      "text/plain": [
       "5"
      ]
     },
     "metadata": {},
     "execution_count": 19
    }
   ],
   "source": [
    "# empty list to store modified sequence records\n",
    "extracted_seqs = []\n",
    "\n",
    "for record in SeqIO.parse('mixed_args.fasta', 'fasta'):\n",
    "    # translate the sequence\n",
    "    translated_seq = record.seq.translate()\n",
    "    # search for the blaC motif\n",
    "    if translated_seq.find('GAKR') > -1:\n",
    "        # if the sequence contains the motif, append it to our list\n",
    "        extracted_seqs.append(record)\n",
    "\n",
    "# examine the contents\n",
    "print(extracted_seqs)\n",
    "\n",
    "#write to file\n",
    "SeqIO.write(extracted_seqs, 'day3_5a.fasta','fasta')"
   ]
  },
  {
   "source": [
    "### Exercise 5b"
   ],
   "cell_type": "markdown",
   "metadata": {}
  },
  {
   "cell_type": "code",
   "execution_count": 20,
   "metadata": {},
   "outputs": [
    {
     "output_type": "stream",
     "name": "stdout",
     "text": [
      "[SeqRecord(seq=Seq('ATGCGTAATCGTGGATTTGGACGTCGTGAATTATTAGTAGCTATGGCTATGTTA...GCT', SingleLetterAlphabet()), id='BLAC_MYCTO', name='BLAC_MYCTO', description='BLAC_MYCTO P9WKD2 Beta-lactamase OS=Mycobacterium tuberculosis (strain CDC 1551 / Oshkosh) OX=83331 GN=blaC PE=3 SV=1', dbxrefs=[]), SeqRecord(seq=Seq('ATGCGTAATCGTGGATTTGGACGTCGTGAATTATTAGTAGCTATGGCTATGTTA...GCT', SingleLetterAlphabet()), id='BLAC_MYCBO', name='BLAC_MYCBO', description='BLAC_MYCBO P0A5I7 Beta-lactamase OS=Mycobacterium bovis (strain ATCC BAA-935 / AF2122/97) OX=233413 GN=blaC PE=3 SV=1', dbxrefs=[]), SeqRecord(seq=Seq('ATGCGTAATCGTGGATTTGGACGTCGTGAATTATTAGTAGCTATGGCTATGTTA...GCT', SingleLetterAlphabet()), id='BLAC_MYCTA', name='BLAC_MYCTA', description='BLAC_MYCTA A5U493 Beta-lactamase OS=Mycobacterium tuberculosis (strain ATCC 25177 / H37Ra) OX=419947 GN=blaC PE=1 SV=1', dbxrefs=[]), SeqRecord(seq=Seq('ATGCGTAATCGTGGATTTGGACGTCGTGAATTATTAGTAGCTATGGCTATGTTA...GCT', SingleLetterAlphabet()), id='BLAC_MYCTU', name='BLAC_MYCTU', description='BLAC_MYCTU P9WKD3 Beta-lactamase OS=Mycobacterium tuberculosis (strain ATCC 25618 / H37Rv) OX=83332 GN=blaC PE=1 SV=1', dbxrefs=[])]\n"
     ]
    },
    {
     "output_type": "execute_result",
     "data": {
      "text/plain": [
       "4"
      ]
     },
     "metadata": {},
     "execution_count": 20
    }
   ],
   "source": [
    "# empty list to store modified sequence records\n",
    "extracted_seqs = []\n",
    "\n",
    "for record in SeqIO.parse('mixed_args.fasta', 'fasta'):\n",
    "    # translate the sequence\n",
    "    translated_seq = record.seq.translate()\n",
    "    # search for the blaC motif\n",
    "    if translated_seq.find('GAKR') > -1:\n",
    "        # check if the nucleotide sequence is less than 1143 nucleotides\n",
    "        if len(record.seq) < 1143:\n",
    "            # append to sequence\n",
    "            extracted_seqs.append(record)\n",
    "\n",
    "# examin contents\n",
    "print(extracted_seqs)\n",
    "\n",
    "\n",
    "# write to file\n",
    "SeqIO.write(extracted_seqs, 'day3_5b.fasta','fasta')"
   ]
  },
  {
   "source": [
    "### Exercise 6a"
   ],
   "cell_type": "markdown",
   "metadata": {}
  },
  {
   "cell_type": "code",
   "execution_count": 21,
   "metadata": {},
   "outputs": [
    {
     "output_type": "stream",
     "name": "stdout",
     "text": [
      "_FABV_Escherichia coli\n\n\n_FABI_Escherichia coli\n\n\n_FABK_Escherichia coli\n\n\n"
     ]
    }
   ],
   "source": [
    "for record in SeqIO.parse('to_reformat.fasta', 'fasta'):\n",
    "    record.id = record.id.replace('UgLyGenE', '')\n",
    "    record.description = record.id.upper()\n",
    "    record.description = record.description + '_Escherichia coli'\n",
    "\n",
    "    print(record.description)\n",
    "    print('\\n')"
   ]
  },
  {
   "source": [
    "### Exercise 6b"
   ],
   "cell_type": "markdown",
   "metadata": {}
  },
  {
   "cell_type": "code",
   "execution_count": 22,
   "metadata": {},
   "outputs": [
    {
     "output_type": "stream",
     "name": "stdout",
     "text": [
      "_FABV_Escherichia coli\n\n\n_FABI_Escherichia coli\n\n\n_FABK_Escherichia coli\n\n\n"
     ]
    },
    {
     "output_type": "execute_result",
     "data": {
      "text/plain": [
       "3"
      ]
     },
     "metadata": {},
     "execution_count": 22
    }
   ],
   "source": [
    "store_records = []\n",
    "\n",
    "for record in SeqIO.parse('to_reformat.fasta', 'fasta'):\n",
    "    record.id = record.id.replace('UgLyGenE', '')\n",
    "    record.description = record.id.upper()\n",
    "    record.description = record.description + '_Escherichia coli'\n",
    "\n",
    "    store_records.append(record)\n",
    "\n",
    "    print(record.description)\n",
    "    print('\\n')\n",
    "\n",
    "SeqIO.write(store_records, 'day3_6b.fasta', 'fasta')"
   ]
  }
 ]
}