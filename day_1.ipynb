{
 "metadata": {
  "language_info": {
   "codemirror_mode": {
    "name": "ipython",
    "version": 3
   },
   "file_extension": ".py",
   "mimetype": "text/x-python",
   "name": "python",
   "nbconvert_exporter": "python",
   "pygments_lexer": "ipython3",
   "version": "3.8.5"
  },
  "orig_nbformat": 4,
  "kernelspec": {
   "name": "python3",
   "display_name": "Python 3.8.5 64-bit ('myenv': conda)"
  },
  "interpreter": {
   "hash": "f5c9dfabb21bd2a91b63810df81acbdc6b5e617e45414f0ef050ca96090c868f"
  }
 },
 "nbformat": 4,
 "nbformat_minor": 2,
 "cells": [
  {
   "source": [
    "# Welcome to Day 1! \n",
    "\n",
    "## Introduction to strings, Biopython, and Biopython sequences\n",
    "\n",
    "### Section 1: String manipulation in Python\n",
    "\n",
    "\n",
    "### Section 2: Installing and importing Biopython \n",
    "\n",
    "\n",
    "### Section 3: Working with sequences using Biopython \n",
    "\n",
    "----\n",
    "## Session summary\n",
    "\n",
    "Our first session will have a slow pace to make sure everyone's jupyter notebook is working correctly and that everyone has a basic understanding of strings in Python, which is important for understanding Biopython. Afterwards, we will load up Biopython and get to work modifying sequences!\n",
    "\n",
    "----"
   ],
   "cell_type": "markdown",
   "metadata": {}
  },
  {
   "source": [
    "# Section 1: String manipulation in Python\n",
    "\n",
    "A string in Python is any set of characters between a single quotes or double quotes.  "
   ],
   "cell_type": "markdown",
   "metadata": {}
  },
  {
   "cell_type": "code",
   "execution_count": 3,
   "metadata": {},
   "outputs": [
    {
     "output_type": "stream",
     "name": "stdout",
     "text": [
      "this is a string\nthis is a string\n"
     ]
    }
   ],
   "source": [
    "# this is a string\n",
    "print('this is a string')\n",
    "# this is also a string\n",
    "print(\"this is also a string\")\n"
   ]
  },
  {
   "source": [
    "Strings can be manipulated using basic Python syntax.\n",
    "\n",
    "One way is to use brackets to indicate the range of characters in a string that you wish to keep."
   ],
   "cell_type": "markdown",
   "metadata": {}
  },
  {
   "cell_type": "code",
   "execution_count": 12,
   "metadata": {},
   "outputs": [
    {
     "output_type": "stream",
     "name": "stdout",
     "text": [
      " is a string\nthis is a st\nthis is a st\n is a \n"
     ]
    }
   ],
   "source": [
    "# [start:stop]\n",
    "# remove the first four characters of the string\n",
    "print('this is a string'[4:])\n",
    "# keep the first 12 characters \n",
    "print('this is a string'[:12])\n",
    "# remove the last four characters\n",
    "print('this is a string'[:-4])\n",
    "# keep the middle 5-10 characters\n",
    "print('this is a string'[4:10])"
   ]
  },
  {
   "source": [
    "### Exercise 1:\n",
    "\n",
    "Complete the code to show only characters `'string'`. \n",
    "\n",
    "**Hint: replace the ___ with character positions.**"
   ],
   "cell_type": "markdown",
   "metadata": {}
  },
  {
   "cell_type": "code",
   "execution_count": null,
   "metadata": {},
   "outputs": [],
   "source": [
    "print('this is a string'[___:___])"
   ]
  },
  {
   "source": [
    "Rather than typing out the string each time, we can save it to a variable."
   ],
   "cell_type": "markdown",
   "metadata": {}
  },
  {
   "cell_type": "code",
   "execution_count": 14,
   "metadata": {},
   "outputs": [],
   "source": [
    "string_var = 'this is a string'"
   ]
  },
  {
   "source": [
    "We can still manipulate the string variable using brackets as before"
   ],
   "cell_type": "markdown",
   "metadata": {}
  },
  {
   "cell_type": "code",
   "execution_count": 15,
   "metadata": {},
   "outputs": [
    {
     "output_type": "stream",
     "name": "stdout",
     "text": [
      " is a string\nthis is a st\nthis is a st\n is a \n"
     ]
    }
   ],
   "source": [
    "# [start:stop]\n",
    "# remove the first four characters of the string\n",
    "print(string_var[4:])\n",
    "# keep the first 12 characters \n",
    "print(string_var[:12])\n",
    "# remove the last four characters\n",
    "print(string_var[:-4])\n",
    "# keep the middle 5-10 characters\n",
    "print(string_var[4:10])"
   ]
  },
  {
   "source": [
    "However, the string_var itself is not affected. It still prints 'this is a string'"
   ],
   "cell_type": "markdown",
   "metadata": {}
  },
  {
   "cell_type": "code",
   "execution_count": 16,
   "metadata": {},
   "outputs": [
    {
     "output_type": "stream",
     "name": "stdout",
     "text": [
      "this is a string\n"
     ]
    }
   ],
   "source": [
    "print(string_var)"
   ]
  },
  {
   "source": [
    "We can change the string within string_var with a modified string easily"
   ],
   "cell_type": "markdown",
   "metadata": {}
  },
  {
   "cell_type": "code",
   "execution_count": 17,
   "metadata": {},
   "outputs": [
    {
     "output_type": "stream",
     "name": "stdout",
     "text": [
      " is a string\n"
     ]
    }
   ],
   "source": [
    "string_var = string_var[4:]\n",
    "print(string_var)"
   ]
  },
  {
   "source": [
    "---\n",
    "### Exercise 2a: \n",
    "Assign a string, `'my new string'` to `string_var_2`. Print `string_var_2`"
   ],
   "cell_type": "markdown",
   "metadata": {}
  },
  {
   "cell_type": "code",
   "execution_count": null,
   "metadata": {},
   "outputs": [],
   "source": [
    "___ = 'my new string'\n",
    "print(string_var_2)"
   ]
  },
  {
   "source": [
    "### Exercise 2b:\n",
    "Make a new variable called `string_var_3` that only contains only the first three characters of `string_var_2`. Print `string_var_3`"
   ],
   "cell_type": "markdown",
   "metadata": {}
  },
  {
   "source": [
    "___ = string_var_2[___:___]\n",
    "print(string_var_3)"
   ],
   "cell_type": "code",
   "metadata": {},
   "execution_count": null,
   "outputs": []
  },
  {
   "source": [
    "---\n",
    "There are additional Python functions that can modify sequences. One group are the `upper()`, `lower()` functions."
   ],
   "cell_type": "markdown",
   "metadata": {}
  },
  {
   "cell_type": "code",
   "execution_count": 19,
   "metadata": {},
   "outputs": [
    {
     "output_type": "stream",
     "name": "stdout",
     "text": [
      "I_AM_A_BEAUTIFUL_STRING\ni_am_a_beautiful_string\n"
     ]
    }
   ],
   "source": [
    "string_var_4 = 'I_Am_A_beAuTifUl_sTrIng'\n",
    "# make all characters upper case\n",
    "print(string_var_4.upper())\n",
    "# make all lower case\n",
    "print(string_var_4.lower())"
   ]
  },
  {
   "source": [
    "The replace() function is also very useful. It will replace all characters with another."
   ],
   "cell_type": "markdown",
   "metadata": {}
  },
  {
   "cell_type": "code",
   "execution_count": 21,
   "metadata": {},
   "outputs": [
    {
     "output_type": "stream",
     "name": "stdout",
     "text": [
      "I_Am_A__sTrIng\nI_Am_A_GREAT_sTrIng\nI Am A beAuTifUl sTrIng\n"
     ]
    }
   ],
   "source": [
    "# replace beAuTifUl with and empty string (effectively deleting it)\n",
    "print(string_var_4.replace('beAuTifUl',''))\n",
    "# replace beAuTifUl with a new string\n",
    "print(string_var_4.replace('beAuTifUl','GREAT'))\n",
    "# replace all underscores with a space\n",
    "print(string_var_4.replace('_',' '))"
   ]
  },
  {
   "source": [
    "You can also add a string to another string using the + operator. You can create new variables from this too."
   ],
   "cell_type": "markdown",
   "metadata": {}
  },
  {
   "cell_type": "code",
   "execution_count": 55,
   "metadata": {},
   "outputs": [
    {
     "output_type": "stream",
     "name": "stdout",
     "text": [
      "I_Am_A_beAuTifUl_sTrIng!!!!!\nI_Am_A_beAuTifUl_sTrIng???\n"
     ]
    }
   ],
   "source": [
    "# add exclamation marks\n",
    "print(string_var_4+'!!!!!')\n",
    "\n",
    "# add question marks and save to new variable \n",
    "string_var_4_modified = string_var_4+'???'\n",
    "print(string_var_4_modified)"
   ]
  },
  {
   "source": [
    "---\n",
    "### Exercise 3a:\n",
    "\n",
    "Assign `string_var_4` to a new variable called `string_var_5`. Print `string_var_5`"
   ],
   "cell_type": "markdown",
   "metadata": {}
  },
  {
   "cell_type": "code",
   "execution_count": 22,
   "metadata": {},
   "outputs": [
    {
     "output_type": "stream",
     "name": "stdout",
     "text": [
      "I_Am_A_beAuTifUl_sTrIng\n"
     ]
    }
   ],
   "source": [
    "___ = string_var_4\n",
    "print(___)"
   ]
  },
  {
   "source": [
    "### Exercise 3b:\n",
    "Add the string `'i think'` to `string_var_5`. Then `replace()` all underscores with hyphens (-). Finally, print `string_var_5`!"
   ],
   "cell_type": "markdown",
   "metadata": {}
  },
  {
   "cell_type": "code",
   "execution_count": null,
   "metadata": {},
   "outputs": [],
   "source": [
    "string_var_5 = string_var_5+___\n",
    "\n",
    "string_var_5 = ___.replace(___, ___)\n",
    "\n",
    "print(____)"
   ]
  },
  {
   "source": [
    "That's it for string manipulation in base Python for now! "
   ],
   "cell_type": "markdown",
   "metadata": {}
  },
  {
   "source": [
    "# Section 2: Installing and importing Biopython\n",
    "\n",
    "Installing the Biopython package is simple:"
   ],
   "cell_type": "markdown",
   "metadata": {}
  },
  {
   "cell_type": "code",
   "execution_count": 24,
   "metadata": {},
   "outputs": [
    {
     "output_type": "stream",
     "name": "stdout",
     "text": [
      "Requirement already satisfied: Biopython in /opt/anaconda3/envs/myenv/lib/python3.8/site-packages (1.77)\n",
      "Requirement already satisfied: numpy in /opt/anaconda3/envs/myenv/lib/python3.8/site-packages (from Biopython) (1.19.2)\n",
      "Note: you may need to restart the kernel to use updated packages.\n"
     ]
    }
   ],
   "source": [
    "pip install Biopython"
   ]
  },
  {
   "source": [
    "**Import** the Biopython package to make sure that it downloaded succesfully. Note that the package's name is Bio"
   ],
   "cell_type": "markdown",
   "metadata": {}
  },
  {
   "cell_type": "code",
   "execution_count": 27,
   "metadata": {},
   "outputs": [],
   "source": [
    "# When you run this cell, there should be no errors\n",
    "import Bio"
   ]
  },
  {
   "source": [
    "Check the version of Biopython. It should be 1.77 "
   ],
   "cell_type": "markdown",
   "metadata": {}
  },
  {
   "cell_type": "code",
   "execution_count": 31,
   "metadata": {},
   "outputs": [
    {
     "output_type": "execute_result",
     "data": {
      "text/plain": [
       "'1.77'"
      ]
     },
     "metadata": {},
     "execution_count": 31
    }
   ],
   "source": [
    "Bio.__version__"
   ]
  },
  {
   "source": [
    "That's it for installing Bioython! "
   ],
   "cell_type": "markdown",
   "metadata": {}
  },
  {
   "source": [
    "# Section 3: Working with sequences using Biopython\n",
    "\n",
    "Now that we have reviewed the basics of strings in Python we are ready to adapt them to biological sequences and learn how to work with them using Biopython.\n",
    "\n",
    "Let's make a short DNA sequence and check what class of data Python sees it as"
   ],
   "cell_type": "markdown",
   "metadata": {}
  },
  {
   "cell_type": "code",
   "execution_count": 126,
   "metadata": {},
   "outputs": [
    {
     "output_type": "execute_result",
     "data": {
      "text/plain": [
       "str"
      ]
     },
     "metadata": {},
     "execution_count": 126
    }
   ],
   "source": [
    "# make string\n",
    "short_dna = 'atgtacgacaacgccagcaccaggatcaacggc'\n",
    "# check what class of viarble\n",
    "type(short_dna)\n"
   ]
  },
  {
   "source": [
    "\n",
    "We will start by importing Biopython's **Seq** module (Seq is shorthand for Sequence) and comparing it to a basic Python string.\n",
    "\n",
    "Biopython's Seq module is designed to work with sequences. We will convert short_dna to a Seq **object**"
   ],
   "cell_type": "markdown",
   "metadata": {}
  },
  {
   "cell_type": "code",
   "execution_count": 125,
   "metadata": {},
   "outputs": [
    {
     "output_type": "execute_result",
     "data": {
      "text/plain": [
       "Bio.Seq.Seq"
      ]
     },
     "metadata": {},
     "execution_count": 125
    }
   ],
   "source": [
    "from Bio.Seq import Seq\n",
    "# convert short_dna to a Seq object\n",
    "short_dna = Seq(short_dna)\n",
    "#The Biopython Seq class\n",
    "type(short_dna)"
   ]
  },
  {
   "source": [
    "### What does it mean for short_dna to be a Seq object? \n",
    "\n",
    "When a variable like short_dna is converted to a Seq object, it tells Biopython that short_dna has certain properties, like whether it is a DNA, RNA, or a protein sequence. It also tells Biopython that certain functions that can be performed on sequences, like translation or calculating the reverse complement, can be performed on it.\n",
    "\n",
    "Here are some useful functions that can be applied to DNA seq object"
   ],
   "cell_type": "markdown",
   "metadata": {}
  },
  {
   "cell_type": "code",
   "execution_count": 117,
   "metadata": {},
   "outputs": [],
   "source": [
    "# make a Seq object from a string of DNA characters\n",
    "seq_object_dna = Seq('atgtacgacaacgccagcaccaggatcaacggc')"
   ]
  },
  {
   "cell_type": "code",
   "execution_count": 118,
   "metadata": {},
   "outputs": [
    {
     "output_type": "execute_result",
     "data": {
      "text/plain": [
       "Seq('MYDNASTRING', ExtendedIUPACProtein())"
      ]
     },
     "metadata": {},
     "execution_count": 118
    }
   ],
   "source": [
    "# translate\n",
    "seq_object_dna.translate()"
   ]
  },
  {
   "cell_type": "code",
   "execution_count": 119,
   "metadata": {},
   "outputs": [
    {
     "output_type": "execute_result",
     "data": {
      "text/plain": [
       "Seq('auguacgacaacgccagcaccaggaucaacggc', RNAAlphabet())"
      ]
     },
     "metadata": {},
     "execution_count": 119
    }
   ],
   "source": [
    "# transcribe\n",
    "seq_object_dna.transcribe()"
   ]
  },
  {
   "cell_type": "code",
   "execution_count": 120,
   "metadata": {},
   "outputs": [
    {
     "output_type": "execute_result",
     "data": {
      "text/plain": [
       "Seq('gccgttgatcctggtgctggcgttgtcgtacat')"
      ]
     },
     "metadata": {},
     "execution_count": 120
    }
   ],
   "source": [
    "# reverse complement\n",
    "seq_object_dna.reverse_complement()"
   ]
  },
  {
   "cell_type": "code",
   "execution_count": 121,
   "metadata": {},
   "outputs": [
    {
     "output_type": "execute_result",
     "data": {
      "text/plain": [
       "Seq('tacatgctgttgcggtcgtggtcctagttgccg')"
      ]
     },
     "metadata": {},
     "execution_count": 121
    }
   ],
   "source": [
    "# complement\n",
    "seq_object_dna.complement()"
   ]
  },
  {
   "cell_type": "code",
   "execution_count": 122,
   "metadata": {},
   "outputs": [
    {
     "output_type": "execute_result",
     "data": {
      "text/plain": [
       "Seq('ATGTACGACAACGCCAGCACCAGGATCAACGGC')"
      ]
     },
     "metadata": {},
     "execution_count": 122
    }
   ],
   "source": [
    "# convert sequence to upper case\n",
    "seq_object_dna.upper()"
   ]
  },
  {
   "cell_type": "code",
   "execution_count": 123,
   "metadata": {},
   "outputs": [
    {
     "output_type": "execute_result",
     "data": {
      "text/plain": [
       "Seq('atgtacgacaacgccagcaccaggatcaacggc')"
      ]
     },
     "metadata": {},
     "execution_count": 123
    }
   ],
   "source": [
    "# convert sequence to lower case\n",
    "seq_object_dna.lower()"
   ]
  },
  {
   "source": [
    "We can check that seq_object_dna is a Biopython Seq object by entering the value and **returning** the code. A Seq object will have `Seq()` returned as part of the value. \n"
   ],
   "cell_type": "markdown",
   "metadata": {}
  },
  {
   "cell_type": "code",
   "execution_count": 58,
   "metadata": {},
   "outputs": [
    {
     "output_type": "execute_result",
     "data": {
      "text/plain": [
       "Seq('atgtacgacaacgccagcaccaggatcaacggc')"
      ]
     },
     "metadata": {},
     "execution_count": 58
    }
   ],
   "source": [
    "seq_object_dna"
   ]
  },
  {
   "source": [
    "What if our sequence was not a Seq object, but instead a normal Python string? For example if we try to translate a string, we will get an error. This is because string_dna does not have any information about what can and can't be done to it with Biopython functions."
   ],
   "cell_type": "markdown",
   "metadata": {}
  },
  {
   "cell_type": "code",
   "execution_count": 57,
   "metadata": {},
   "outputs": [
    {
     "output_type": "error",
     "ename": "TypeError",
     "evalue": "translate() takes exactly one argument (0 given)",
     "traceback": [
      "\u001b[0;31m---------------------------------------------------------------------------\u001b[0m",
      "\u001b[0;31mTypeError\u001b[0m                                 Traceback (most recent call last)",
      "\u001b[0;32m<ipython-input-57-c122507d0d1d>\u001b[0m in \u001b[0;36m<module>\u001b[0;34m\u001b[0m\n\u001b[1;32m      2\u001b[0m \u001b[0mstring_dna\u001b[0m \u001b[0;34m=\u001b[0m \u001b[0;34m'atgtacgacaacgccagcaccaggatcaacggc'\u001b[0m\u001b[0;34m\u001b[0m\u001b[0;34m\u001b[0m\u001b[0m\n\u001b[1;32m      3\u001b[0m \u001b[0;31m# trying to use translate\u001b[0m\u001b[0;34m\u001b[0m\u001b[0;34m\u001b[0m\u001b[0;34m\u001b[0m\u001b[0m\n\u001b[0;32m----> 4\u001b[0;31m \u001b[0mprint\u001b[0m\u001b[0;34m(\u001b[0m\u001b[0mstring_dna\u001b[0m\u001b[0;34m.\u001b[0m\u001b[0mtranslate\u001b[0m\u001b[0;34m(\u001b[0m\u001b[0;34m)\u001b[0m\u001b[0;34m)\u001b[0m\u001b[0;34m\u001b[0m\u001b[0;34m\u001b[0m\u001b[0m\n\u001b[0m",
      "\u001b[0;31mTypeError\u001b[0m: translate() takes exactly one argument (0 given)"
     ]
    }
   ],
   "source": [
    "# same dna as above but not a seq object\n",
    "string_dna = 'atgtacgacaacgccagcaccaggatcaacggc'\n",
    "# trying to use translate\n",
    "print(string_dna.translate())"
   ]
  },
  {
   "source": [
    "---\n",
    "### Exercise 4a\n",
    "Assign the string `'aacgagtggagcgagcaggagaactgcgag'` to a new variable called `dna_seq`. Afterwards, convert it to a Seq object using `Seq()`. Are the classes different?"
   ],
   "cell_type": "markdown",
   "metadata": {}
  },
  {
   "cell_type": "code",
   "execution_count": 68,
   "metadata": {},
   "outputs": [
    {
     "output_type": "stream",
     "name": "stdout",
     "text": [
      "<class 'str'>\n",
      "<class 'Bio.Seq.Seq'>\n"
     ]
    }
   ],
   "source": [
    "# assign the string 'aacgagtggagcgagcaggagaactgcgag' to dna_seq\n",
    "dna_seq = ___\n",
    "print(type(dna_seq)) \n",
    "\n",
    "# convert it to a Seq object\n",
    "dna_seq = Seq(___)\n",
    "print(type(dna_seq))\n"
   ]
  },
  {
   "source": [
    "### Exercise 4b\n",
    "`translate()` the Seq object `dna_seq` and store the result in a variable called `translated_seq`. Then print it."
   ],
   "cell_type": "markdown",
   "metadata": {}
  },
  {
   "cell_type": "code",
   "execution_count": null,
   "metadata": {},
   "outputs": [],
   "source": [
    "___ = ___.translate()\n",
    "print(___)"
   ]
  },
  {
   "source": [
    "### Exercise 4c\n",
    "Take the `reverse_complement()` of dna_seq and store it in `dna_seq_rc`\n",
    "\n"
   ],
   "cell_type": "markdown",
   "metadata": {}
  },
  {
   "cell_type": "code",
   "execution_count": null,
   "metadata": {},
   "outputs": [],
   "source": [
    "dna_seq_rc = ____\n",
    "print(dna_seq_rc)"
   ]
  },
  {
   "source": [
    "---\n",
    "The very last thing we'll touch on in this session will adding and removing sequences to an existing sequence. We will also make sure that we are not accidentally mixing sequence types when we do this (adding DNA sequence to an RNA sequence for example)"
   ],
   "cell_type": "markdown",
   "metadata": {}
  },
  {
   "cell_type": "code",
   "execution_count": 88,
   "metadata": {},
   "outputs": [],
   "source": [
    "short_seq = Seq('agccacaggaccagcgagcag')"
   ]
  },
  {
   "source": [
    "longer_seq = short_seq + Seq('aacgagtgggacaacgcc')"
   ],
   "cell_type": "code",
   "metadata": {},
   "execution_count": 89,
   "outputs": []
  },
  {
   "cell_type": "code",
   "execution_count": 92,
   "metadata": {},
   "outputs": [
    {
     "output_type": "execute_result",
     "data": {
      "text/plain": [
       "Seq('agccacaggaccagcgagcagaacgagtgggacaacgcc')"
      ]
     },
     "metadata": {},
     "execution_count": 92
    }
   ],
   "source": [
    "longer_seq"
   ]
  },
  {
   "source": [
    "When adding sequences together, it is important that you control for potential errors, such as adding a DNA sequence to and RNA sequence.\n",
    "\n",
    "How can we control for this? We will use Biopython's Alphabet functions to make sure that each Biopython Seq object has the correct sequence 'alphabet'."
   ],
   "cell_type": "markdown",
   "metadata": {}
  },
  {
   "cell_type": "code",
   "execution_count": 80,
   "metadata": {},
   "outputs": [],
   "source": [
    "from Bio.Alphabet import IUPAC"
   ]
  },
  {
   "cell_type": "code",
   "execution_count": 93,
   "metadata": {},
   "outputs": [
    {
     "output_type": "execute_result",
     "data": {
      "text/plain": [
       "Seq('agccacaggaccagcgagcagaacgagtgggacaacgcc', IUPACUnambiguousDNA())"
      ]
     },
     "metadata": {},
     "execution_count": 93
    }
   ],
   "source": [
    "longer_seq.alphabet = IUPAC.unambiguous_dna\n",
    "longer_seq"
   ]
  },
  {
   "source": [
    "When we return longer_seq variable, we see that it now also has an additional descriptor, IUPACUnambiguousDNA.\n",
    "\n",
    "If we explicitly state the types of sequences we are working with, Biopython will return errors on certain operations that don't make biologicl sense. For example:\n",
    "\n"
   ],
   "cell_type": "markdown",
   "metadata": {}
  },
  {
   "cell_type": "code",
   "execution_count": 114,
   "metadata": {},
   "outputs": [],
   "source": [
    "# Make a Seq object of RNA and assign the alphabet as IUPAC.unambiguous_rna\n",
    "RNA_seq = Seq('aacgagugggacaacgccuuu', IUPAC.unambiguous_rna)\n",
    "# Make a Seq object of amino acids and assign the alphabet as IUPAC.protein\n",
    "protein_seq = Seq('PRTIENSEQ', IUPAC.protein)\n",
    "# Make a Seq object of DNA and assign the alphabet as IUPAC.unambiguous_dna\n",
    "DNA_seq = Seq('agccacaggaccagcgagcag', IUPAC.unambiguous_dna)\n",
    "# Make a Seq object but do not define alphabet.\n",
    "random_seq = Seq('asdfl;kjsadfoij')\n"
   ]
  },
  {
   "cell_type": "code",
   "execution_count": 111,
   "metadata": {},
   "outputs": [
    {
     "output_type": "error",
     "ename": "TypeError",
     "evalue": "Incompatible alphabets IUPACUnambiguousDNA() and IUPACUnambiguousRNA()",
     "traceback": [
      "\u001b[0;31m---------------------------------------------------------------------------\u001b[0m",
      "\u001b[0;31mTypeError\u001b[0m                                 Traceback (most recent call last)",
      "\u001b[0;32m<ipython-input-111-2e3a0bd32d1c>\u001b[0m in \u001b[0;36m<module>\u001b[0;34m\u001b[0m\n\u001b[1;32m      1\u001b[0m \u001b[0;31m# try adding RNA_seq to DNA_seq\u001b[0m\u001b[0;34m\u001b[0m\u001b[0;34m\u001b[0m\u001b[0;34m\u001b[0m\u001b[0m\n\u001b[0;32m----> 2\u001b[0;31m \u001b[0mDNA_seq\u001b[0m\u001b[0;34m+\u001b[0m\u001b[0mRNA_seq\u001b[0m\u001b[0;34m\u001b[0m\u001b[0;34m\u001b[0m\u001b[0m\n\u001b[0m",
      "\u001b[0;32m/opt/anaconda3/envs/myenv/lib/python3.8/site-packages/Bio/Seq.py\u001b[0m in \u001b[0;36m__add__\u001b[0;34m(self, other)\u001b[0m\n\u001b[1;32m    334\u001b[0m             \u001b[0;31m# other should be a Seq or a MutableSeq\u001b[0m\u001b[0;34m\u001b[0m\u001b[0;34m\u001b[0m\u001b[0;34m\u001b[0m\u001b[0m\n\u001b[1;32m    335\u001b[0m             \u001b[0;32mif\u001b[0m \u001b[0;32mnot\u001b[0m \u001b[0mAlphabet\u001b[0m\u001b[0;34m.\u001b[0m\u001b[0m_check_type_compatible\u001b[0m\u001b[0;34m(\u001b[0m\u001b[0;34m[\u001b[0m\u001b[0mself\u001b[0m\u001b[0;34m.\u001b[0m\u001b[0malphabet\u001b[0m\u001b[0;34m,\u001b[0m \u001b[0mother\u001b[0m\u001b[0;34m.\u001b[0m\u001b[0malphabet\u001b[0m\u001b[0;34m]\u001b[0m\u001b[0;34m)\u001b[0m\u001b[0;34m:\u001b[0m\u001b[0;34m\u001b[0m\u001b[0;34m\u001b[0m\u001b[0m\n\u001b[0;32m--> 336\u001b[0;31m                 raise TypeError(\n\u001b[0m\u001b[1;32m    337\u001b[0m                     \u001b[0;34mf\"Incompatible alphabets {self.alphabet!r} and {other.alphabet!r}\"\u001b[0m\u001b[0;34m\u001b[0m\u001b[0;34m\u001b[0m\u001b[0m\n\u001b[1;32m    338\u001b[0m                 )\n",
      "\u001b[0;31mTypeError\u001b[0m: Incompatible alphabets IUPACUnambiguousDNA() and IUPACUnambiguousRNA()"
     ]
    }
   ],
   "source": [
    "# try adding RNA_seq to DNA_seq. This will return an error.\n",
    "DNA_seq+RNA_seq"
   ]
  },
  {
   "cell_type": "code",
   "execution_count": 112,
   "metadata": {},
   "outputs": [
    {
     "output_type": "error",
     "ename": "TypeError",
     "evalue": "Incompatible alphabets IUPACProtein() and IUPACUnambiguousRNA()",
     "traceback": [
      "\u001b[0;31m---------------------------------------------------------------------------\u001b[0m",
      "\u001b[0;31mTypeError\u001b[0m                                 Traceback (most recent call last)",
      "\u001b[0;32m<ipython-input-112-af8d11fc46d4>\u001b[0m in \u001b[0;36m<module>\u001b[0;34m\u001b[0m\n\u001b[1;32m      1\u001b[0m \u001b[0;31m# try adding protein_seq to RNA_seq\u001b[0m\u001b[0;34m\u001b[0m\u001b[0;34m\u001b[0m\u001b[0;34m\u001b[0m\u001b[0m\n\u001b[0;32m----> 2\u001b[0;31m \u001b[0mprotein_seq\u001b[0m\u001b[0;34m+\u001b[0m\u001b[0mRNA_seq\u001b[0m\u001b[0;34m\u001b[0m\u001b[0;34m\u001b[0m\u001b[0m\n\u001b[0m",
      "\u001b[0;32m/opt/anaconda3/envs/myenv/lib/python3.8/site-packages/Bio/Seq.py\u001b[0m in \u001b[0;36m__add__\u001b[0;34m(self, other)\u001b[0m\n\u001b[1;32m    334\u001b[0m             \u001b[0;31m# other should be a Seq or a MutableSeq\u001b[0m\u001b[0;34m\u001b[0m\u001b[0;34m\u001b[0m\u001b[0;34m\u001b[0m\u001b[0m\n\u001b[1;32m    335\u001b[0m             \u001b[0;32mif\u001b[0m \u001b[0;32mnot\u001b[0m \u001b[0mAlphabet\u001b[0m\u001b[0;34m.\u001b[0m\u001b[0m_check_type_compatible\u001b[0m\u001b[0;34m(\u001b[0m\u001b[0;34m[\u001b[0m\u001b[0mself\u001b[0m\u001b[0;34m.\u001b[0m\u001b[0malphabet\u001b[0m\u001b[0;34m,\u001b[0m \u001b[0mother\u001b[0m\u001b[0;34m.\u001b[0m\u001b[0malphabet\u001b[0m\u001b[0;34m]\u001b[0m\u001b[0;34m)\u001b[0m\u001b[0;34m:\u001b[0m\u001b[0;34m\u001b[0m\u001b[0;34m\u001b[0m\u001b[0m\n\u001b[0;32m--> 336\u001b[0;31m                 raise TypeError(\n\u001b[0m\u001b[1;32m    337\u001b[0m                     \u001b[0;34mf\"Incompatible alphabets {self.alphabet!r} and {other.alphabet!r}\"\u001b[0m\u001b[0;34m\u001b[0m\u001b[0;34m\u001b[0m\u001b[0m\n\u001b[1;32m    338\u001b[0m                 )\n",
      "\u001b[0;31mTypeError\u001b[0m: Incompatible alphabets IUPACProtein() and IUPACUnambiguousRNA()"
     ]
    }
   ],
   "source": [
    "# try adding protein_seq to RNA_seq. This will return an error.\n",
    "protein_seq+RNA_seq"
   ]
  },
  {
   "cell_type": "code",
   "execution_count": 113,
   "metadata": {},
   "outputs": [
    {
     "output_type": "execute_result",
     "data": {
      "text/plain": [
       "Seq('PRTIENSEQPRTIENSEQ', IUPACProtein())"
      ]
     },
     "metadata": {},
     "execution_count": 113
    }
   ],
   "source": [
    "# add protein to protein. This will work.\n",
    "protein_seq+protein_seq"
   ]
  },
  {
   "cell_type": "code",
   "execution_count": 115,
   "metadata": {},
   "outputs": [
    {
     "output_type": "execute_result",
     "data": {
      "text/plain": [
       "Seq('asdfl;kjsadfoijagccacaggaccagcgagcag')"
      ]
     },
     "metadata": {},
     "execution_count": 115
    }
   ],
   "source": [
    "# add random_seq to DNA_seq. This will work but is not biologically correct.\n",
    "random_seq+DNA_seq"
   ]
  },
  {
   "source": [
    "We can see from the last example that when we add sequences together, we want to make sure they have the correct sequence type labels or else you may end up adding gibberish, or mixed sequence types."
   ],
   "cell_type": "markdown",
   "metadata": {}
  },
  {
   "source": [
    "---\n",
    "### Exercise 5a\n",
    "\n",
    "Convert the string `'PRTIENSEQ'` into a `IUPAC.protein()` sequence."
   ],
   "cell_type": "markdown",
   "metadata": {}
  },
  {
   "cell_type": "code",
   "execution_count": null,
   "metadata": {},
   "outputs": [],
   "source": [
    "my_prtn_seq = ___\n",
    "my_prtn_seq"
   ]
  },
  {
   "source": [
    "### Exercise 5b\n",
    "Create a new protein `Seq()` object, `my_prtn_seq2` with the amino acids `'FGTYRL'`. Afterwards, join `my_prtn_seq2` with `my_protein_seq`"
   ],
   "cell_type": "markdown",
   "metadata": {}
  },
  {
   "cell_type": "code",
   "execution_count": null,
   "metadata": {},
   "outputs": [],
   "source": [
    "my_prtn_seq2 = Seq(___)\n",
    "my_prtn_seq2 + ___ "
   ]
  },
  {
   "source": [
    "---\n",
    "\n",
    "That's it for Day 1"
   ],
   "cell_type": "markdown",
   "metadata": {}
  }
 ]
}