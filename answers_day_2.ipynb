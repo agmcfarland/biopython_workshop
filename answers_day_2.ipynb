{
 "metadata": {
  "language_info": {
   "codemirror_mode": {
    "name": "ipython",
    "version": 3
   },
   "file_extension": ".py",
   "mimetype": "text/x-python",
   "name": "python",
   "nbconvert_exporter": "python",
   "pygments_lexer": "ipython3",
   "version": "3.8.5"
  },
  "orig_nbformat": 4,
  "kernelspec": {
   "name": "python3",
   "display_name": "Python 3.8.5 64-bit ('myenv': conda)"
  },
  "interpreter": {
   "hash": "f5c9dfabb21bd2a91b63810df81acbdc6b5e617e45414f0ef050ca96090c868f"
  }
 },
 "nbformat": 4,
 "nbformat_minor": 2,
 "cells": [
  {
   "source": [
    "# Day 2 Answers "
   ],
   "cell_type": "markdown",
   "metadata": {}
  },
  {
   "source": [
    "### Google colab users only:"
   ],
   "cell_type": "markdown",
   "metadata": {}
  },
  {
   "cell_type": "code",
   "execution_count": null,
   "metadata": {},
   "outputs": [],
   "source": [
    "pip install Biopython"
   ]
  },
  {
   "cell_type": "code",
   "execution_count": null,
   "metadata": {},
   "outputs": [],
   "source": [
    "!wget https://raw.githubusercontent.com/agmcfarland/biopython_workshop/master/antibiotic_resistance_genes_short.fasta"
   ]
  },
  {
   "source": [
    "### Everyone:"
   ],
   "cell_type": "markdown",
   "metadata": {}
  },
  {
   "source": [
    "### Exercise 1a"
   ],
   "cell_type": "markdown",
   "metadata": {}
  },
  {
   "cell_type": "code",
   "execution_count": 1,
   "metadata": {},
   "outputs": [],
   "source": [
    "list3 = [1,2,3,4]\n",
    "list3"
   ]
  },
  {
   "source": [
    "### Exercise 1b"
   ],
   "cell_type": "markdown",
   "metadata": {}
  },
  {
   "cell_type": "code",
   "execution_count": 2,
   "metadata": {},
   "outputs": [
    {
     "output_type": "execute_result",
     "data": {
      "text/plain": [
       "[1, 2, 'one', 'two']"
      ]
     },
     "metadata": {},
     "execution_count": 2
    }
   ],
   "source": [
    "list4 = [1,2, 'one', 'two']\n",
    "list4"
   ]
  },
  {
   "source": [
    "### Exercise 2a"
   ],
   "cell_type": "markdown",
   "metadata": {}
  },
  {
   "cell_type": "code",
   "execution_count": 5,
   "metadata": {},
   "outputs": [
    {
     "output_type": "execute_result",
     "data": {
      "text/plain": [
       "'list'"
      ]
     },
     "metadata": {},
     "execution_count": 5
    }
   ],
   "source": [
    "list6 = ['i','am','a','beautiful','list']\n",
    "list6[4]"
   ]
  },
  {
   "source": [
    "### Exercise 2b"
   ],
   "cell_type": "markdown",
   "metadata": {}
  },
  {
   "cell_type": "code",
   "execution_count": 4,
   "metadata": {},
   "outputs": [
    {
     "output_type": "execute_result",
     "data": {
      "text/plain": [
       "['am', 'a', 'beautiful', 'list']"
      ]
     },
     "metadata": {},
     "execution_count": 4
    }
   ],
   "source": [
    "list6[1:5]"
   ]
  },
  {
   "source": [
    "### Exercise 3a"
   ],
   "cell_type": "markdown",
   "metadata": {}
  },
  {
   "cell_type": "code",
   "execution_count": 6,
   "metadata": {},
   "outputs": [
    {
     "output_type": "stream",
     "name": "stdout",
     "text": [
      "element0\nelement1\nelement2\nelement3\nelement4\n"
     ]
    }
   ],
   "source": [
    "list7 = ['element0','element1','element2','element3','element4']\n",
    "for item in list7:\n",
    "    print(item)"
   ]
  },
  {
   "source": [
    "### Exercise 3b"
   ],
   "cell_type": "markdown",
   "metadata": {}
  },
  {
   "cell_type": "code",
   "execution_count": 9,
   "metadata": {},
   "outputs": [
    {
     "output_type": "stream",
     "name": "stdout",
     "text": [
      "element0!!!\nelement1!!!\nelement2!!!\nelement3!!!\nelement4!!!\n"
     ]
    }
   ],
   "source": [
    "for item in list7:\n",
    "    print(item + '!!!')"
   ]
  },
  {
   "source": [
    "### Exercise 4a"
   ],
   "cell_type": "markdown",
   "metadata": {}
  },
  {
   "source": [
    "from Bio import SeqIO # from the lesson\n",
    "from Bio.Seq import Seq # from the lesson\n",
    "\n",
    "for record in SeqIO.parse('antibiotic_resistance_genes_short.fasta', 'fasta'):\n",
    "    print(record.id)"
   ],
   "cell_type": "code",
   "metadata": {},
   "execution_count": 12,
   "outputs": [
    {
     "output_type": "stream",
     "name": "stdout",
     "text": [
      "ErmB\nErmA\nErmE\n"
     ]
    }
   ]
  },
  {
   "source": [
    "### Exercise 4b"
   ],
   "cell_type": "markdown",
   "metadata": {}
  },
  {
   "cell_type": "code",
   "execution_count": 13,
   "metadata": {},
   "outputs": [
    {
     "output_type": "stream",
     "name": "stdout",
     "text": [
      "ATGAATAAAAATATTAAATATTCACAAAATTTTCTGACATCAGAAAAAGTTCTGAATCAAATTATTAAACAACTGAATCTGAAAGAAACAGATACAGTTTATGAAATTGGCACAGGCAAAGGCCATCTGACAACAAAACTGGCAAAAATTTCAAAACAAGTTACATCAATTGAACTGGATTCACATCTGTTTAATCTGTCATCAGAAAAACTGAAACTGAATACAAGAGTTACACTGATTCATCAAGATATTCTGCAATTTCAATTTCCGAATAAACAAAGATATAAAATTGTTGGCTCAATTCCGTATAATCTGTCAACACAAATTATTAAAAAAGTTGTTTTTGAATCAAGAGCATCAGATATTTATCTGATTGTTGAAGAAGGCTTTTATAAAAGAACACTGGATATTCATAGAACACTGGGCCTGCTGCTGCATACACAAGTTTCAATTCAACAACTGCTGAAACTGCCGGCAGAATGCTTTCATCCGAAACCGAAAGTTAATTCAGTTCTGATTAAACTGACAAGACATACAACAGATGTTCCGGATAAATATTGGAAACTGTATACATATTTTGTTTCAAAATGGGTTAATAGAGAATATAGACAACTGTTTACAAAAAATCAATTTCATCAAGCAATGAAACATGCAAAAGTTAATAATCTGTCAACAATTACATATGAACAAGTTCTGTCAATTTTTAATTCATATCTGCTGTTTAATGGCAGAAAACTGATTCTG\nATGAATCAAAAAAATCCGAAAGATACACAAAATTTTATTACATCAAAAAAACATGTTAAAGAAATTCTGAATCATACAAATATTTCAAAACAAGATAATGTTATTGAAATTGGCTCAGGCAAAGGCCATTTTACAAAAGAACTGGTTAAAATGTCAAGATCAGTTACAGCAATTGAAATTGATGGCGGCCTGTGCCAAGTTACAAAAGAAGCAGTTAATCCGTCAGAAAATATTAAAGTTATTCAAACAGATATTCTGAAATTTTCATTTCCGAAACATATTAATTATAAAATTTATGGCAATATTCCGTATAATATTTCAACAGATATTGTTAAAAGAATTACATTTGAATCACAAGCAAAATATTCATATCTGATTGTTGAAAAAGGCTTTGCAAAAAGACTGCAAAATCTGCAAAGAGCACTGGGCCTGCTGCTGATGGTTGAAATGGATATTAAAATGCTGAAAAAAGTTCCGCCGCTGTATTTTCATCCGAAACCGTCAGTTGATTCAGTTCTGATTGTTCTGGAAAGACATCAACCGCTGATTTCAAAAAAAGATTATAAAAAATATAGATCATTTGTTTATAAATGGGTTAATAGAGAATATAGAGTTCTGTTTACAAAAAATCAATTTAGACAAGCACTGAAACATGCAAATGTTACAAATATTAATAAACTGTCAAAAGAACAATTTCTGTCAATTTTTAATTCATATAAACTGTTTCAT\nATGTCATCATCAGATGAACAACCGAGACCGAGAAGAAGAAATCAAGATAGACAACATCCGAATCAAAATAGACCGGTTCTGGGCAGAACAGAAAGAGATAGAAATAGAAGACAATTTGGCCAAAATTTTCTGAGAGATAGAAAAACAATTGCAAGAATTGCAGAAACAGCAGAACTGAGACCGGATCTGCCGGTTCTGGAAGCAGGCCCGGGCGAAGGCCTGCTGACAAGAGAACTGGCAGATAGAGCAAGACAAGTTACATCATATGAAATTGATCCGAGACTGGCAAAATCACTGAGAGAAAAACTGTCAGGCCATCCGAATATTGAAGTTGTTAATGCAGATTTTCTGACAGCAGAACCGCCGCCGGAACCGTTTGCATTTGTTGGCGCAATTCCGTATGGCATTACATCAGCAATTGTTGATTGGTGCCTGGAAGCACCGACAATTGAAACAGCAACAATGGTTACACAACTGGAATTTGCAAGAAAAAGAACAGGCGATTATGGCAGATGGTCAAGACTGACAGTTATGACATGGCCGCTGTTTGAATGGGAATTTGTTGAAAAAGTTGATAGAAGACTGTTTAAACCGGTTCCGAAAGTTGATTCAGCAATTATGAGACTGAGAAGAAGAGCAGAACCGCTGCTGGAAGGCGCAGCACTGGAAAGATATGAATCAATGGTTGAACTGTGCTTTACAGGCGTTGGCGGCAATATTCAAGCATCACTGCTGAGAAAATATCCGAGAAGAAGAGTTGAAGCAGCACTGGATCATGCAGGCGTTGGCGGCGGCGCAGTTGTTGCATATGTTAGACCGGAACAATGGCTGAGACTGTTTGAAAGACTGGATCAAAAAAATGAACCGAGAGGCGGCCAACCGCAAAGAGGCAGAAGAACAGGCGGCAGAGATCATGGCGATAGAAGAACAGGCGGCCAAGATAGAGGCGATAGAAGAACAGGCGGCAGAGATCATAGAGATAGACAAGCATCAGGCCATGGCGATAGAAGATCATCAGGCAGAAATAGAGATGATGGCAGAACAGGCGAAAGAGAACAAGGCGATCAAGGCGGCAGAAGAGGCCCGTCAGGCGGCGGCAGAACAGGCGGCAGACCGGGCAGAAGAGGCGGCCCGGGCCAAAGA\n"
     ]
    }
   ],
   "source": [
    "for record in SeqIO.parse('antibiotic_resistance_genes_short.fasta', 'fasta'):\n",
    "    print(record.seq)"
   ]
  },
  {
   "source": [
    "### Exercise 4c"
   ],
   "cell_type": "markdown",
   "metadata": {}
  },
  {
   "cell_type": "code",
   "execution_count": 14,
   "metadata": {},
   "outputs": [
    {
     "output_type": "stream",
     "name": "stdout",
     "text": [
      "MNKNIKYSQNFLTSEKVLNQIIKQLNLKETDTVYEIGTGKGHLTTKLAKISKQVTSIELDSHLFNLSSEKLKLNTRVTLIHQDILQFQFPNKQRYKIVGSIPYNLSTQIIKKVVFESRASDIYLIVEEGFYKRTLDIHRTLGLLLHTQVSIQQLLKLPAECFHPKPKVNSVLIKLTRHTTDVPDKYWKLYTYFVSKWVNREYRQLFTKNQFHQAMKHAKVNNLSTITYEQVLSIFNSYLLFNGRKLIL\nMNQKNPKDTQNFITSKKHVKEILNHTNISKQDNVIEIGSGKGHFTKELVKMSRSVTAIEIDGGLCQVTKEAVNPSENIKVIQTDILKFSFPKHINYKIYGNIPYNISTDIVKRITFESQAKYSYLIVEKGFAKRLQNLQRALGLLLMVEMDIKMLKKVPPLYFHPKPSVDSVLIVLERHQPLISKKDYKKYRSFVYKWVNREYRVLFTKNQFRQALKHANVTNINKLSKEQFLSIFNSYKLFH\nMSSSDEQPRPRRRNQDRQHPNQNRPVLGRTERDRNRRQFGQNFLRDRKTIARIAETAELRPDLPVLEAGPGEGLLTRELADRARQVTSYEIDPRLAKSLREKLSGHPNIEVVNADFLTAEPPPEPFAFVGAIPYGITSAIVDWCLEAPTIETATMVTQLEFARKRTGDYGRWSRLTVMTWPLFEWEFVEKVDRRLFKPVPKVDSAIMRLRRRAEPLLEGAALERYESMVELCFTGVGGNIQASLLRKYPRRRVEAALDHAGVGGGAVVAYVRPEQWLRLFERLDQKNEPRGGQPQRGRRTGGRDHGDRRTGGQDRGDRRTGGRDHRDRQASGHGDRRSSGRNRDDGRTGEREQGDQGGRRGPSGGGRTGGRPGRRGGPGQR\n"
     ]
    }
   ],
   "source": [
    "for record in SeqIO.parse('antibiotic_resistance_genes_short.fasta', 'fasta'):\n",
    "    print(record.seq.translate())"
   ]
  },
  {
   "source": [
    "### Exercise 5"
   ],
   "cell_type": "markdown",
   "metadata": {}
  },
  {
   "cell_type": "code",
   "execution_count": 15,
   "metadata": {},
   "outputs": [
    {
     "output_type": "stream",
     "name": "stdout",
     "text": [
      "ID: ErmB_and_more\nName: ErmB\nDescription: ErmB AAF86219.1 [Enterococcus faecium]\nNumber of features: 0\nSeq('ATGAATAAAAATATTAAATATTCACAAAATTTTCTGACATCAGAAAAAGTTCTG...CTG', SingleLetterAlphabet())\nID: ErmA_and_more\nName: ErmA\nDescription: ErmA CAA26964.1 [Staphylococcus aureus]\nNumber of features: 0\nSeq('ATGAATCAAAAAAATCCGAAAGATACACAAAATTTTATTACATCAAAAAAACAT...CAT', SingleLetterAlphabet())\nID: ErmE_and_more\nName: ErmE\nDescription: ErmE CAB60001.1 [Saccharopolyspora erythraea NRRL 2338]\nNumber of features: 0\nSeq('ATGTCATCATCAGATGAACAACCGAGACCGAGAAGAAGAAATCAAGATAGACAA...AGA', SingleLetterAlphabet())\n"
     ]
    }
   ],
   "source": [
    "for record in SeqIO.parse('antibiotic_resistance_genes_short.fasta', 'fasta'):\n",
    "\n",
    "    modified_record = record\n",
    "    \n",
    "    modified_record.id = modified_record.id + '_and_more'\n",
    "\n",
    "    print(modified_record)"
   ]
  },
  {
   "source": [
    "### Exercise 5b"
   ],
   "cell_type": "markdown",
   "metadata": {}
  },
  {
   "cell_type": "code",
   "execution_count": 16,
   "metadata": {},
   "outputs": [
    {
     "output_type": "execute_result",
     "data": {
      "text/plain": [
       "[SeqRecord(seq=Seq('ATGAATAAAAATATTAAATATTCACAAAATTTTCTGACATCAGAAAAAGTTCTG...CTG', SingleLetterAlphabet()), id='ErmB_and_more', name='ErmB', description='ErmB AAF86219.1 [Enterococcus faecium]', dbxrefs=[]),\n",
       " SeqRecord(seq=Seq('ATGAATCAAAAAAATCCGAAAGATACACAAAATTTTATTACATCAAAAAAACAT...CAT', SingleLetterAlphabet()), id='ErmA_and_more', name='ErmA', description='ErmA CAA26964.1 [Staphylococcus aureus]', dbxrefs=[]),\n",
       " SeqRecord(seq=Seq('ATGTCATCATCAGATGAACAACCGAGACCGAGAAGAAGAAATCAAGATAGACAA...AGA', SingleLetterAlphabet()), id='ErmE_and_more', name='ErmE', description='ErmE CAB60001.1 [Saccharopolyspora erythraea NRRL 2338]', dbxrefs=[])]"
      ]
     },
     "metadata": {},
     "execution_count": 16
    }
   ],
   "source": [
    "new_record_list = []\n",
    "\n",
    "for record in SeqIO.parse('antibiotic_resistance_genes_short.fasta', 'fasta'):\n",
    "\n",
    "    modified_record = record\n",
    "    \n",
    "    modified_record.id = modified_record.id + '_and_more'\n",
    "\n",
    "    new_record_list.append(modified_record)\n",
    "\n",
    "new_record_list"
   ]
  },
  {
   "source": [
    "### Exercise 5c"
   ],
   "cell_type": "markdown",
   "metadata": {}
  },
  {
   "cell_type": "code",
   "execution_count": 17,
   "metadata": {},
   "outputs": [
    {
     "output_type": "execute_result",
     "data": {
      "text/plain": [
       "3"
      ]
     },
     "metadata": {},
     "execution_count": 17
    }
   ],
   "source": [
    "SeqIO.write(new_record_list, 'day2_5c.fasta', 'fasta')"
   ]
  }
 ]
}