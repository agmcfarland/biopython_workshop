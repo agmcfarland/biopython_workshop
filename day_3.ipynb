{
 "metadata": {
  "language_info": {
   "codemirror_mode": {
    "name": "ipython",
    "version": 3
   },
   "file_extension": ".py",
   "mimetype": "text/x-python",
   "name": "python",
   "nbconvert_exporter": "python",
   "pygments_lexer": "ipython3",
   "version": "3.8.5"
  },
  "orig_nbformat": 4,
  "kernelspec": {
   "name": "python3",
   "display_name": "Python 3.8.5 64-bit ('myenv': conda)"
  },
  "interpreter": {
   "hash": "f5c9dfabb21bd2a91b63810df81acbdc6b5e617e45414f0ef050ca96090c868f"
  }
 },
 "nbformat": 4,
 "nbformat_minor": 2,
 "cells": [
  {
   "source": [
    "# Welcome to Day 3! \n",
    "\n",
    "## More sequence modification and data extraction\n",
    "\n",
    "### Section 1: Filtering for sequences matching certain conditions\n",
    "\n",
    "### Section 2: Storing filtered sequences to files\n",
    "\n",
    "### Section 3: Reformating and storing sequences\n",
    "\n",
    "---\n",
    "\n",
    "## Session summary\n",
    "\n",
    "\n",
    "Today things start to get a little serious. Building on concepts we learned in Day 1 and Day 2, we can do things like filter for sequences of a certain length or containing a motif of interest, remove undesired characters, or rename headers. We then go over how to store all of our modifications and reformats.\n",
    "\n",
    "---\n"
   ],
   "cell_type": "markdown",
   "metadata": {}
  },
  {
   "source": [
    "# Section 1: Filtering for sequences matching certain conditions\n",
    "\n",
    "Let's say a collaborator gives you fasta file containing many sequences of two types of antibiotic resistance genes: one gene type, ermA, confers erythromycin resistance and the other gene type, blaC, imparts beta lactam antibiotic resistance. How would you separate the two sets of antbiotic resistance gene classes into two files? "
   ],
   "cell_type": "markdown",
   "metadata": {}
  },
  {
   "cell_type": "code",
   "execution_count": 68,
   "metadata": {},
   "outputs": [],
   "source": [
    "# import our two Biopython modules that we will be using\n",
    "from Bio import SeqIO\n",
    "from Bio.Seq import Seq"
   ]
  },
  {
   "source": [
    "One way to distinguish between the different gene types is their nucleotide lengths. A useful way to examine their lengths is to parse a fasta file and print the length and the gene name in a single line. "
   ],
   "cell_type": "markdown",
   "metadata": {}
  },
  {
   "cell_type": "code",
   "execution_count": 109,
   "metadata": {},
   "outputs": [
    {
     "output_type": "stream",
     "name": "stdout",
     "text": [
      "729   ERMA_STAAR\n729   ERMA_STAAM\n729   ERMA_STAAU\n921   BLAC_MYCTO\n921   BLAC_MYCBO\n729   A0A133QE03_STASI\n1143   AMPC_CITFR\n729   D4REG1_ENTFC\n729   Q7DIC2_STAAU\n921   BLAC_MYCTA\n729   A0A564SEJ2_ENTAV\n729   A0A7V6HLW4_9FIRM\n921   BLAC_MYCTU\n"
     ]
    }
   ],
   "source": [
    "for record in SeqIO.parse('mixed_args.fasta','fasta'):\n",
    "    print(len(record.seq), ' ',record.id)"
   ]
  },
  {
   "source": [
    "\n",
    "\n",
    "From the above output, we can see that ermA genes are 729 nucleotdies long while Bla genes are at least 921 nucleotides long. \n",
    "\n",
    "However, there are some gene names that are not especially clear. We can access additional information stored in each gene's header using record.description \n",
    "\n",
    "---\n",
    "### Exercise 1\n",
    "\n",
    "Using the above code as an example, parse `mixed_args.fasta` and print the `record.description` of each record followed by the length of the `record.seq`"
   ],
   "cell_type": "markdown",
   "metadata": {}
  },
  {
   "cell_type": "code",
   "execution_count": null,
   "metadata": {},
   "outputs": [],
   "source": [
    "for record in ___.parse('mixed_args.fasta', '___'):\n",
    "    print(record.___, ' ', len(___))"
   ]
  },
  {
   "source": [
    "---\n",
    "\n",
    "The output now clearly shows that there is a nucleotide length difference between ermA and blaC that is sufficiently different to separate the two gene types.\n",
    "\n",
    "Now we will filter for sequences that match the ermA length and print them."
   ],
   "cell_type": "markdown",
   "metadata": {}
  },
  {
   "cell_type": "code",
   "execution_count": 13,
   "metadata": {},
   "outputs": [
    {
     "output_type": "stream",
     "name": "stdout",
     "text": [
      "ERMA_STAAR Q6GKQ0 rRNA adenine N-6-methyltransferase OS=Staphylococcus aureus (strain MRSA252) OX=282458 GN=ermA1 PE=3 SV=1\nERMA_STAAM P0A0H1 rRNA adenine N-6-methyltransferase OS=Staphylococcus aureus (strain Mu50 / ATCC 700699) OX=158878 GN=ermA1 PE=3 SV=1\nERMA_STAAU P0A0H3 rRNA adenine N-6-methyltransferase OS=Staphylococcus aureus OX=1280 GN=ermA PE=3 SV=1\nA0A133QE03_STASI Erythromycin resistance protein OS=Staphylococcus simulans OX=1286 GN=HMPREF3215_02510 PE=3 SV=1\nD4REG1_ENTFC D4REG1 Macrolide-lincosamide-streptogramin B resistance protein OS=Enterococcus faecium E1679 OX=546340 GN=EfmE1679_0214 PE=3 SV=1\nQ7DIC2_STAAU Q7DIC2 Erythromycin resistance protein OS=Staphylococcus aureus OX=1280 GN=ermA PE=3 SV=1\nA0A564SEJ2_ENTAV Macrolide-lincosamide-streptogramin B resistance protein OS=Enterococcus avium OX=33945 GN=erm(A) PE=3 SV=1\nA0A7V6HLW4_9FIRM 23S rRNA (Adenine(2058)-N(6))-methyltransferase Erm(A) OS=Bacilli bacterium OX=1903720 GN=erm(A) PE=4 SV=1\n"
     ]
    }
   ],
   "source": [
    "for record in SeqIO.parse('mixed_args.fasta','fasta'):\n",
    "    if len(record.seq) == 729:\n",
    "        print(record.description)"
   ]
  },
  {
   "source": [
    "The blaC genes have lengths that range from 921 to 1143. What if we want to filter for only blaC genes? We can do this in a couple of different ways.\n",
    "\n",
    "The simplest is to search for anything larger than 900\n"
   ],
   "cell_type": "markdown",
   "metadata": {}
  },
  {
   "cell_type": "code",
   "execution_count": 15,
   "metadata": {},
   "outputs": [
    {
     "output_type": "stream",
     "name": "stdout",
     "text": [
      "BLAC_MYCTO P9WKD2 Beta-lactamase OS=Mycobacterium tuberculosis (strain CDC 1551 / Oshkosh) OX=83331 GN=blaC PE=3 SV=1\nBLAC_MYCBO P0A5I7 Beta-lactamase OS=Mycobacterium bovis (strain ATCC BAA-935 / AF2122/97) OX=233413 GN=blaC PE=3 SV=1\nAMPC_CITFR P05193 Beta-lactamase OS=Citrobacter freundii OX=546 GN=ampC PE=1 SV=1\nBLAC_MYCTA A5U493 Beta-lactamase OS=Mycobacterium tuberculosis (strain ATCC 25177 / H37Ra) OX=419947 GN=blaC PE=1 SV=1\nBLAC_MYCTU P9WKD3 Beta-lactamase OS=Mycobacterium tuberculosis (strain ATCC 25618 / H37Rv) OX=83332 GN=blaC PE=1 SV=1\n"
     ]
    }
   ],
   "source": [
    "for record in SeqIO.parse('mixed_args.fasta','fasta'):\n",
    "    if len(record.seq) > 900:\n",
    "        print(record.description)"
   ]
  },
  {
   "source": [
    "Another is to set length boundaries between 921 and 1143"
   ],
   "cell_type": "markdown",
   "metadata": {}
  },
  {
   "cell_type": "code",
   "execution_count": 18,
   "metadata": {},
   "outputs": [
    {
     "output_type": "stream",
     "name": "stdout",
     "text": [
      "BLAC_MYCTO P9WKD2 Beta-lactamase OS=Mycobacterium tuberculosis (strain CDC 1551 / Oshkosh) OX=83331 GN=blaC PE=3 SV=1\nBLAC_MYCBO P0A5I7 Beta-lactamase OS=Mycobacterium bovis (strain ATCC BAA-935 / AF2122/97) OX=233413 GN=blaC PE=3 SV=1\nAMPC_CITFR P05193 Beta-lactamase OS=Citrobacter freundii OX=546 GN=ampC PE=1 SV=1\nBLAC_MYCTA A5U493 Beta-lactamase OS=Mycobacterium tuberculosis (strain ATCC 25177 / H37Ra) OX=419947 GN=blaC PE=1 SV=1\nBLAC_MYCTU P9WKD3 Beta-lactamase OS=Mycobacterium tuberculosis (strain ATCC 25618 / H37Rv) OX=83332 GN=blaC PE=1 SV=1\n"
     ]
    }
   ],
   "source": [
    "for record in SeqIO.parse('mixed_args.fasta','fasta'):\n",
    "    if len(record.seq) >= 921:\n",
    "        if len(record.seq) <= 1143:\n",
    "            print(record.description)"
   ]
  },
  {
   "source": [
    "---\n",
    "### Exercise 2\n",
    "\n",
    "Print only Bla genes that are **less** than 1143 nucleotides long by using `len()`"
   ],
   "cell_type": "markdown",
   "metadata": {}
  },
  {
   "cell_type": "code",
   "execution_count": null,
   "metadata": {},
   "outputs": [],
   "source": [
    "for ___ in SeqIO.___('mixed_args.fasta','___'):\n",
    "    if len(___) < ___:\n",
    "        print(record.description)"
   ]
  },
  {
   "source": [
    "---\n",
    "\n",
    "Another way to filter for genes of interest is to select only records that contain key words in their headers. Such as all sequences that have the word Beta-lactamase in `record.description`. We can use the base Python function `find()` for filtering.\n",
    "\n",
    "`find()` returns the position that matches a string. If the string is not found, it retuns -1.\n"
   ],
   "cell_type": "markdown",
   "metadata": {}
  },
  {
   "cell_type": "code",
   "execution_count": 19,
   "metadata": {},
   "outputs": [
    {
     "output_type": "execute_result",
     "data": {
      "text/plain": [
       "0"
      ]
     },
     "metadata": {},
     "execution_count": 19
    }
   ],
   "source": [
    "# where starts at position 0 of the string 'where am I?'\n",
    "'where am I?'.find('where')"
   ]
  },
  {
   "cell_type": "code",
   "execution_count": 20,
   "metadata": {},
   "outputs": [
    {
     "output_type": "execute_result",
     "data": {
      "text/plain": [
       "10"
      ]
     },
     "metadata": {},
     "execution_count": 20
    }
   ],
   "source": [
    "# ? starts at position 10 of the string 'where am I?'\n",
    "'where am I?'.find('?')"
   ]
  },
  {
   "cell_type": "code",
   "execution_count": 22,
   "metadata": {},
   "outputs": [
    {
     "output_type": "execute_result",
     "data": {
      "text/plain": [
       "2"
      ]
     },
     "metadata": {},
     "execution_count": 22
    }
   ],
   "source": [
    "# the first occurrence of e is at position 2 of the string 'where am I?'\n",
    "'where am I?'.find('e')"
   ]
  },
  {
   "cell_type": "code",
   "execution_count": 23,
   "metadata": {},
   "outputs": [
    {
     "output_type": "execute_result",
     "data": {
      "text/plain": [
       "-1"
      ]
     },
     "metadata": {},
     "execution_count": 23
    }
   ],
   "source": [
    "# q is not in the string 'where am I?' and so it returns a -1 position\n",
    "'where am I?'.find('q')"
   ]
  },
  {
   "source": [
    "We will filter for sequences that have the word Beta-lactamase in `record.description`. "
   ],
   "cell_type": "markdown",
   "metadata": {}
  },
  {
   "cell_type": "code",
   "execution_count": 24,
   "metadata": {},
   "outputs": [
    {
     "output_type": "stream",
     "name": "stdout",
     "text": [
      "BLAC_MYCTO P9WKD2 Beta-lactamase OS=Mycobacterium tuberculosis (strain CDC 1551 / Oshkosh) OX=83331 GN=blaC PE=3 SV=1\nBLAC_MYCBO P0A5I7 Beta-lactamase OS=Mycobacterium bovis (strain ATCC BAA-935 / AF2122/97) OX=233413 GN=blaC PE=3 SV=1\nAMPC_CITFR P05193 Beta-lactamase OS=Citrobacter freundii OX=546 GN=ampC PE=1 SV=1\nBLAC_MYCTA A5U493 Beta-lactamase OS=Mycobacterium tuberculosis (strain ATCC 25177 / H37Ra) OX=419947 GN=blaC PE=1 SV=1\nBLAC_MYCTU P9WKD3 Beta-lactamase OS=Mycobacterium tuberculosis (strain ATCC 25618 / H37Rv) OX=83332 GN=blaC PE=1 SV=1\n"
     ]
    }
   ],
   "source": [
    "for record in SeqIO.parse('mixed_args.fasta','fasta'):\n",
    "    # if the record.description does have Beta-lactamase in it, then the character position will be greater than -1.\n",
    "    if record.description.find('Beta-lactamase') > -1:\n",
    "        print(record.description)"
   ]
  },
  {
   "source": [
    "---\n",
    "\n",
    "### Exercise 3a\n",
    "\n",
    "Filter for sequences with 'Erythromycin resistance' in the record.description using `find()`\n",
    "\n"
   ],
   "cell_type": "markdown",
   "metadata": {}
  },
  {
   "cell_type": "code",
   "execution_count": null,
   "metadata": {},
   "outputs": [],
   "source": [
    "for ___ in SeqIO.___('mixed_args.fasta','___'):\n",
    "    if record.description.___('___') > __:\n",
    "        print(record.description)"
   ]
  },
  {
   "source": [
    "### Exercise 3b\n",
    "\n",
    "Filter for sequences that do NOT have 'Erythromycin resistance' in record.description using `find()`\n"
   ],
   "cell_type": "markdown",
   "metadata": {}
  },
  {
   "cell_type": "code",
   "execution_count": null,
   "metadata": {},
   "outputs": [],
   "source": [
    "for ___ in SeqIO.___('mixed_args.fasta','___'):\n",
    "    if record.description.___('___') ___ -1:\n",
    "        print(record.description)"
   ]
  },
  {
   "source": [
    "___\n",
    "\n",
    "From exercise 3, we can tell that sometimes gene names and descriptions are not always useful for filtering. \n",
    "\n",
    "We can also try filtering by searching for sequence characters (nucleotide or amino acid) of interest.\n",
    "\n",
    "For example, we can look for all sequences that contain a DNA motif:\n",
    "\n",
    "\n"
   ],
   "cell_type": "markdown",
   "metadata": {}
  },
  {
   "cell_type": "code",
   "execution_count": 78,
   "metadata": {},
   "outputs": [
    {
     "output_type": "stream",
     "name": "stdout",
     "text": [
      "ERMA_STAAR Q6GKQ0 rRNA adenine N-6-methyltransferase OS=Staphylococcus aureus (strain MRSA252) OX=282458 GN=ermA1 PE=3 SV=1\nERMA_STAAM P0A0H1 rRNA adenine N-6-methyltransferase OS=Staphylococcus aureus (strain Mu50 / ATCC 700699) OX=158878 GN=ermA1 PE=3 SV=1\nERMA_STAAU P0A0H3 rRNA adenine N-6-methyltransferase OS=Staphylococcus aureus OX=1280 GN=ermA PE=3 SV=1\nA0A133QE03_STASI Erythromycin resistance protein OS=Staphylococcus simulans OX=1286 GN=HMPREF3215_02510 PE=3 SV=1\nD4REG1_ENTFC D4REG1 Macrolide-lincosamide-streptogramin B resistance protein OS=Enterococcus faecium E1679 OX=546340 GN=EfmE1679_0214 PE=3 SV=1\nQ7DIC2_STAAU Q7DIC2 Erythromycin resistance protein OS=Staphylococcus aureus OX=1280 GN=ermA PE=3 SV=1\nA0A564SEJ2_ENTAV Macrolide-lincosamide-streptogramin B resistance protein OS=Enterococcus avium OX=33945 GN=erm(A) PE=3 SV=1\nA0A7V6HLW4_9FIRM 23S rRNA (Adenine(2058)-N(6))-methyltransferase Erm(A) OS=Bacilli bacterium OX=1903720 GN=erm(A) PE=4 SV=1\n"
     ]
    }
   ],
   "source": [
    "for record in SeqIO.parse('mixed_args.fasta','fasta'):\n",
    "    if record.seq.find('GCTGTAAATC') > -1:\n",
    "        print(record.description)"
   ]
  },
  {
   "source": [
    "Now let's try filtering for sequences using protein motifs. \n",
    "\n",
    "This is a two step-challenge: first we must translate the DNA sequence and afterwards we need to search for the motif. \n",
    "\n",
    "We will search by filtering for sequences that carry the blaC motif, GAKR"
   ],
   "cell_type": "markdown",
   "metadata": {}
  },
  {
   "cell_type": "code",
   "execution_count": 32,
   "metadata": {},
   "outputs": [
    {
     "output_type": "stream",
     "name": "stdout",
     "text": [
      "BLAC_MYCTO P9WKD2 Beta-lactamase OS=Mycobacterium tuberculosis (strain CDC 1551 / Oshkosh) OX=83331 GN=blaC PE=3 SV=1\nBLAC_MYCBO P0A5I7 Beta-lactamase OS=Mycobacterium bovis (strain ATCC BAA-935 / AF2122/97) OX=233413 GN=blaC PE=3 SV=1\nAMPC_CITFR P05193 Beta-lactamase OS=Citrobacter freundii OX=546 GN=ampC PE=1 SV=1\nBLAC_MYCTA A5U493 Beta-lactamase OS=Mycobacterium tuberculosis (strain ATCC 25177 / H37Ra) OX=419947 GN=blaC PE=1 SV=1\nBLAC_MYCTU P9WKD3 Beta-lactamase OS=Mycobacterium tuberculosis (strain ATCC 25618 / H37Rv) OX=83332 GN=blaC PE=1 SV=1\n"
     ]
    }
   ],
   "source": [
    "for record in SeqIO.parse('mixed_args.fasta','fasta'):\n",
    "    translated_record = record.translate()\n",
    "    if translated_record.seq.find('GAKR') > -1:\n",
    "        print(record.description)"
   ]
  },
  {
   "source": [
    "What if we want to use more than one motif to more clearly differentiate between sequences?\n",
    "\n"
   ],
   "cell_type": "markdown",
   "metadata": {}
  },
  {
   "cell_type": "code",
   "execution_count": 34,
   "metadata": {},
   "outputs": [
    {
     "output_type": "stream",
     "name": "stdout",
     "text": [
      "BLAC_MYCTO P9WKD2 Beta-lactamase OS=Mycobacterium tuberculosis (strain CDC 1551 / Oshkosh) OX=83331 GN=blaC PE=3 SV=1\nBLAC_MYCBO P0A5I7 Beta-lactamase OS=Mycobacterium bovis (strain ATCC BAA-935 / AF2122/97) OX=233413 GN=blaC PE=3 SV=1\nBLAC_MYCTA A5U493 Beta-lactamase OS=Mycobacterium tuberculosis (strain ATCC 25177 / H37Ra) OX=419947 GN=blaC PE=1 SV=1\nBLAC_MYCTU P9WKD3 Beta-lactamase OS=Mycobacterium tuberculosis (strain ATCC 25618 / H37Rv) OX=83332 GN=blaC PE=1 SV=1\n"
     ]
    }
   ],
   "source": [
    "for record in SeqIO.parse('mixed_args.fasta','fasta'):\n",
    "    translated_record = record.translate()\n",
    "    if translated_record.seq.find('GAKR') > -1:\n",
    "        if translated_record.seq.find('DGTA') > -1:\n",
    "            print(record.description)\n",
    "# compare result to search with only GAKR motif"
   ]
  },
  {
   "source": [
    "With the double motif filter we end up losing the blaC gene belonging to citroboacter freundii, which seems to be more phylogenetically distant than the other blaC (and 1143 nucleotides long compared to 921)\n"
   ],
   "cell_type": "markdown",
   "metadata": {}
  },
  {
   "source": [
    "---\n",
    "\n",
    "### Exercise 4\n",
    "\n",
    "`translate()` the record.seq and assign to the variable `translated_record`. Afterwards, filter for sequences that contain the ermA sequence motif `'QRALGL'` using `find()`"
   ],
   "cell_type": "markdown",
   "metadata": {}
  },
  {
   "cell_type": "code",
   "execution_count": null,
   "metadata": {},
   "outputs": [],
   "source": [
    "\n",
    "for record in SeqIO.parse('mixed_args.fasta','fasta'):\n",
    "    translated_record = ___\n",
    "    if translated_record.___.___('___') > ___:\n",
    "        print(record.description)"
   ]
  },
  {
   "source": [
    "---\n",
    "\n",
    "# Section 2: Storing filtered sequences to files\n",
    "\n",
    "After we parse files and look for features of interest, we typically want to store them in a new location, such as a new fasta file. \n",
    "\n",
    "We will first store the sequences we have filtered for in a list (like we learned to do in Day 2). Afterwards, we will write that list to a file using `SeqIO.write()`, which we also learned to do in Day 2.\n",
    "\n"
   ],
   "cell_type": "markdown",
   "metadata": {}
  },
  {
   "source": [
    "# empty list to store modified sequence records\n",
    "filtered_records_list = []\n",
    "\n",
    "for record in SeqIO.parse('mixed_args.fasta', 'fasta'):\n",
    "    # translate the sequence\n",
    "    translated_seq = record.seq.translate()\n",
    "    # search for the ermA motif\n",
    "    if translated_seq.find('QRALGL') > -1:\n",
    "        # if the sequence contains the motif, append it to our list\n",
    "        filtered_records_list.append(record)\n",
    "\n",
    "# examine the contents (will look a little messy)\n",
    "print(filtered_records_list)\n"
   ],
   "cell_type": "code",
   "metadata": {},
   "execution_count": 94,
   "outputs": [
    {
     "output_type": "stream",
     "name": "stdout",
     "text": [
      "[SeqRecord(seq=Seq('ATGAATCAAAAAAATCCTAAAGATACACAAAATTTTATTACATCTAAAAAACAT...CAT', SingleLetterAlphabet()), id='ERMA_STAAR', name='ERMA_STAAR', description='ERMA_STAAR Q6GKQ0 rRNA adenine N-6-methyltransferase OS=Staphylococcus aureus (strain MRSA252) OX=282458 GN=ermA1 PE=3 SV=1', dbxrefs=[]), SeqRecord(seq=Seq('ATGAATCAAAAAAATCCTAAAGATACACAAAATTTTATTACATCTAAAAAACAT...CAT', SingleLetterAlphabet()), id='ERMA_STAAM', name='ERMA_STAAM', description='ERMA_STAAM P0A0H1 rRNA adenine N-6-methyltransferase OS=Staphylococcus aureus (strain Mu50 / ATCC 700699) OX=158878 GN=ermA1 PE=3 SV=1', dbxrefs=[]), SeqRecord(seq=Seq('ATGAATCAAAAAAATCCTAAAGATACACAAAATTTTATTACATCTAAAAAACAT...CAT', SingleLetterAlphabet()), id='ERMA_STAAU', name='ERMA_STAAU', description='ERMA_STAAU P0A0H3 rRNA adenine N-6-methyltransferase OS=Staphylococcus aureus OX=1280 GN=ermA PE=3 SV=1', dbxrefs=[]), SeqRecord(seq=Seq('ATGAATCAAAAAAATCCTAAAGATACACAAAATTTTATTACATCTAAAAAACAT...CAT', SingleLetterAlphabet()), id='A0A133QE03_STASI', name='A0A133QE03_STASI', description='A0A133QE03_STASI Erythromycin resistance protein OS=Staphylococcus simulans OX=1286 GN=HMPREF3215_02510 PE=3 SV=1', dbxrefs=[]), SeqRecord(seq=Seq('ATGAATCAAAAAAATCCTAAAGATACACAAAATTTTATTACATCTAAAAAACAT...CAT', SingleLetterAlphabet()), id='D4REG1_ENTFC', name='D4REG1_ENTFC', description='D4REG1_ENTFC D4REG1 Macrolide-lincosamide-streptogramin B resistance protein OS=Enterococcus faecium E1679 OX=546340 GN=EfmE1679_0214 PE=3 SV=1', dbxrefs=[]), SeqRecord(seq=Seq('ATGAATCAAAAAAATCCTAAAGATACACAAAATTTTATTACATCTAAAAAACAT...CAT', SingleLetterAlphabet()), id='Q7DIC2_STAAU', name='Q7DIC2_STAAU', description='Q7DIC2_STAAU Q7DIC2 Erythromycin resistance protein OS=Staphylococcus aureus OX=1280 GN=ermA PE=3 SV=1', dbxrefs=[]), SeqRecord(seq=Seq('ATGAATCAAAAAAATCCTAAAGATACACAAAATTTTATTACATCTAAAAAACAT...CAT', SingleLetterAlphabet()), id='A0A564SEJ2_ENTAV', name='A0A564SEJ2_ENTAV', description='A0A564SEJ2_ENTAV Macrolide-lincosamide-streptogramin B resistance protein OS=Enterococcus avium OX=33945 GN=erm(A) PE=3 SV=1', dbxrefs=[]), SeqRecord(seq=Seq('ATGAATCAAAAAAATCCTAAAGATACACAAAATTTTATTACATCTAAAAAACAT...CAT', SingleLetterAlphabet()), id='A0A7V6HLW4_9FIRM', name='A0A7V6HLW4_9FIRM', description='A0A7V6HLW4_9FIRM 23S rRNA (Adenine(2058)-N(6))-methyltransferase Erm(A) OS=Bacilli bacterium OX=1903720 GN=erm(A) PE=4 SV=1', dbxrefs=[])]\n"
     ]
    }
   ]
  },
  {
   "source": [
    "Now that we have the list ready, we can write it a new fasta file using `SeqIO.write()`\n"
   ],
   "cell_type": "markdown",
   "metadata": {}
  },
  {
   "cell_type": "code",
   "execution_count": 102,
   "metadata": {},
   "outputs": [
    {
     "output_type": "execute_result",
     "data": {
      "text/plain": [
       "8"
      ]
     },
     "metadata": {},
     "execution_count": 102
    }
   ],
   "source": [
    "SeqIO.write(filtered_records_list, 'erma.fasta','fasta')\n",
    "# open and inspect!"
   ]
  },
  {
   "source": [
    "---\n",
    "\n",
    "### Exercise 5a\n",
    "\n",
    "Extract all sequences with the blaC motif to the list `extracted_seqs`. Use `SeqIO.write()` to write them to a new file called `'day3_5a_blac.fasta'`\n",
    "\n",
    "\n",
    "\n",
    "\n"
   ],
   "cell_type": "markdown",
   "metadata": {}
  },
  {
   "cell_type": "code",
   "execution_count": 46,
   "metadata": {},
   "outputs": [
    {
     "output_type": "execute_result",
     "data": {
      "text/plain": [
       "Seq('ATGCGTAATCGTGGATTTGGACGTCGTGAATTATTAGTAGCTATGGCTATGTTA...GCT', IUPACUnambiguousDNA())"
      ]
     },
     "metadata": {},
     "execution_count": 46
    }
   ],
   "source": [
    "# empty list to store modified sequence records\n",
    "extracted_seqs = ___\n",
    "\n",
    "for ___ in ___('mixed_args.fasta', 'fasta'):\n",
    "    # translate the sequence\n",
    "    translated_seq = record.seq.translate()\n",
    "    # search for the ermA motif\n",
    "    if translated_seq.find('QRALGL') > -1:\n",
    "        # if the sequence contains the motif, append it to our list\n",
    "        filtered_records_list.append(record)\n",
    "\n",
    "# examine the contents\n",
    "print(filtered_records_list)\n",
    "\n",
    "SeqIO.___(___, 'day3_5a_blac.fasta','___')"
   ]
  },
  {
   "source": [
    "### Exercise 5b\n",
    "\n",
    "Extract all sequences with the blaC motif and are also fewer than 1143 nucleotides long. Use `SeqIO.write()` to write them to a new file called `'day3_5b_blac.fasta'`"
   ],
   "cell_type": "markdown",
   "metadata": {}
  },
  {
   "cell_type": "code",
   "execution_count": null,
   "metadata": {},
   "outputs": [],
   "source": [
    "# empty list to store modified sequence records\n",
    "extracted_seqs = ___\n",
    "\n",
    "for ___ in ___('mixed_args.fasta', 'fasta'):\n",
    "    # translate the sequence\n",
    "    translated_seq = record.seq.translate()\n",
    "    # search for the ermA motif\n",
    "    if translated_seq.find('QRALGL') > -1:\n",
    "        # check if the nucleotide sequence is less than 1143 nucleotides\n",
    "        if ___.seq < 1143:\n",
    "            # append to sequence\n",
    "            filtered_records_list.___(record)\n",
    "\n",
    "# write to file\n",
    "SeqIO.___(___, 'day3_5b_blac.fasta','fasta')"
   ]
  },
  {
   "source": [
    "___\n",
    "\n",
    "# Section 3: Reformating and storing sequences\n",
    "\n",
    "It is sometimes useful to rename or reformat the headers of sequences.\n",
    "\n",
    "You can use string manipulation to modify record.id or record.description.\n",
    "\n",
    "Let's look at the unsightly headers in a file called `'to_reformat.fasta'`"
   ],
   "cell_type": "markdown",
   "metadata": {}
  },
  {
   "cell_type": "code",
   "execution_count": 80,
   "metadata": {},
   "outputs": [
    {
     "output_type": "stream",
     "name": "stdout",
     "text": [
      "record id:   UgLyGenE_fabV\nrecord description:   UgLyGenE_fabV with_UgLy_dEscRiptOr fOr for fabV\n\n\nrecord id:   UgLyGenE_fabI\nrecord description:   UgLyGenE_fabI with_UgLy_dEscRiptOr fOr for fabV\n\n\nrecord id:   UgLyGenE_fabk\nrecord description:   UgLyGenE_fabk with_UgLy_dEscRiptOr fOr fabV\n\n\n"
     ]
    }
   ],
   "source": [
    "for record in SeqIO.parse('to_reformat.fasta', 'fasta'):\n",
    "    print('record id:',' ',record.id)\n",
    "    print('record description:',' ',record.description)\n",
    "    print('\\n')"
   ]
  },
  {
   "source": [
    "Let's say we don't want our record id to say UgLyGenE_ because we already have a nice gene name next to it. We can use the `replace()` function we learned in Day 1"
   ],
   "cell_type": "markdown",
   "metadata": {}
  },
  {
   "cell_type": "code",
   "execution_count": 83,
   "metadata": {},
   "outputs": [
    {
     "output_type": "stream",
     "name": "stdout",
     "text": [
      "record id:   fabV\nrecord description:   UgLyGenE_fabV with_UgLy_dEscRiptOr fOr for fabV\n\n\nrecord id:   fabI\nrecord description:   UgLyGenE_fabI with_UgLy_dEscRiptOr fOr for fabI\n\n\nrecord id:   fabK\nrecord description:   UgLyGenE_fabK with_UgLy_dEscRiptOr fOr fabK\n\n\n"
     ]
    }
   ],
   "source": [
    "for record in SeqIO.parse('to_reformat.fasta', 'fasta'):\n",
    "    record.id = record.id.replace('UgLyGenE_', '')\n",
    "    \n",
    "    print('record id:',' ',record.id)\n",
    "    print('record description:',' ',record.description)\n",
    "    print('\\n')"
   ]
  },
  {
   "source": [
    "Now we also want to change the description. Maybe all these genes are from *E. coli* and so we want to include that in the description"
   ],
   "cell_type": "markdown",
   "metadata": {}
  },
  {
   "cell_type": "code",
   "execution_count": 84,
   "metadata": {},
   "outputs": [
    {
     "output_type": "stream",
     "name": "stdout",
     "text": [
      "record id:   fabV\nrecord description:   this gene is from Escherichia coli\n\n\nrecord id:   fabI\nrecord description:   this gene is from Escherichia coli\n\n\nrecord id:   fabK\nrecord description:   this gene is from Escherichia coli\n\n\n"
     ]
    }
   ],
   "source": [
    "for record in SeqIO.parse('to_reformat.fasta', 'fasta'):\n",
    "    record.id = record.id.replace('UgLyGenE_', '')\n",
    "    record.description = 'this gene is from Escherichia coli'\n",
    "\n",
    "    print('record id:',' ',record.id)\n",
    "    print('record description:',' ',record.description)\n",
    "    print('\\n') # for clarity"
   ]
  },
  {
   "source": [
    "We also notice one more thing: All of our sequences have an asterik at the end. Let's get rid of it!"
   ],
   "cell_type": "markdown",
   "metadata": {}
  },
  {
   "cell_type": "code",
   "execution_count": 90,
   "metadata": {},
   "outputs": [
    {
     "output_type": "stream",
     "name": "stdout",
     "text": [
      "MNQKNPKDTQNFITSKKHVKEILNHTNISKQDNVIEIGSGKGHFTKELVKMSRSVTAIEIDGGLCQVTKEAVNPSENIKVIQTDILKFSFPKHINYKIYGNIPYNISTDIVKRITFESQAKYSYLIVEKGFAKRLQNLQRALGLLLMVEMDIKMLKKVPPLYFHPKPSVDSVLIVLERHQPLISKKDYKKYRSFVYKWVNREYRVLFTKNQFRQALKHANVTNINKLSKEQFLSIFNSYKLFH*\n\n\nMNQKNPKDTQNFITSKKHVKEILNHTNISKQDNVIEIGSGKGHFTKELVKMSRSVTAIEIDGGLCQVTKEAVNPSENIKVIQTDILKFSFPKHINYKIYGNIPYNISTDIVKRITFESQAKYSYLIVEKGFAKRLQNLQRALGLLLMVEMDIKMLKKVPPLYFHPKPSVDSVLIVLERHQPLISKKDYKKYRSFVYKWVNREYRVLFTKNQFRQALKHANVTNINKLSKEQFLSIFNSYKLFH*\n\n\nMNQKNPKDTQNFITSKKHVKEILNHTNISKQDNVIEIGSGKGHFTKELVKMSRSVTAIEIDGGLCQVTKEAVNPSENIKVIQTDILKFSFPKHINYKIYGNIPYNISTDIVKRITFESQAKYSYLIVEKGFAKRLQNLQRALGLLLMVEMDIKMLKKVPPLYFHPKPSVDSVLIVLERHQPLISKKDYKKYRSFVYKWVNREYRVLFTKNQFRQALKHANVTNINKLSKEQFLSIFNSYKLFH*\n\n\n"
     ]
    }
   ],
   "source": [
    "for record in SeqIO.parse('to_reformat.fasta', 'fasta'):\n",
    "    print(record.seq)\n",
    "    print('\\n') #for clarity"
   ]
  },
  {
   "source": [
    "Let's get rid of the asterik in the sequences."
   ],
   "cell_type": "markdown",
   "metadata": {}
  },
  {
   "cell_type": "code",
   "execution_count": 113,
   "metadata": {},
   "outputs": [
    {
     "output_type": "stream",
     "name": "stdout",
     "text": [
      "MNQKNPKDTQNFITSKKHVKEILNHTNISKQDNVIEIGSGKGHFTKELVKMSRSVTAIEIDGGLCQVTKEAVNPSENIKVIQTDILKFSFPKHINYKIYGNIPYNISTDIVKRITFESQAKYSYLIVEKGFAKRLQNLQRALGLLLMVEMDIKMLKKVPPLYFHPKPSVDSVLIVLERHQPLISKKDYKKYRSFVYKWVNREYRVLFTKNQFRQALKHANVTNINKLSKEQFLSIFNSYKLFH\n\n\nMNQKNPKDTQNFITSKKHVKEILNHTNISKQDNVIEIGSGKGHFTKELVKMSRSVTAIEIDGGLCQVTKEAVNPSENIKVIQTDILKFSFPKHINYKIYGNIPYNISTDIVKRITFESQAKYSYLIVEKGFAKRLQNLQRALGLLLMVEMDIKMLKKVPPLYFHPKPSVDSVLIVLERHQPLISKKDYKKYRSFVYKWVNREYRVLFTKNQFRQALKHANVTNINKLSKEQFLSIFNSYKLFH\n\n\nMNQKNPKDTQNFITSKKHVKEILNHTNISKQDNVIEIGSGKGHFTKELVKMSRSVTAIEIDGGLCQVTKEAVNPSENIKVIQTDILKFSFPKHINYKIYGNIPYNISTDIVKRITFESQAKYSYLIVEKGFAKRLQNLQRALGLLLMVEMDIKMLKKVPPLYFHPKPSVDSVLIVLERHQPLISKKDYKKYRSFVYKWVNREYRVLFTKNQFRQALKHANVTNINKLSKEQFLSIFNSYKLFH\n\n\n"
     ]
    }
   ],
   "source": [
    "for record in SeqIO.parse('to_reformat.fasta', 'fasta'):\n",
    "    # create a string version of record.seq. This is because replace only works on strings\n",
    "    sequence_string = str(record.seq)\n",
    "    sequence_string = sequence_string.replace('*','')\n",
    "    # afterwards, convert the modified string into a Seq object\n",
    "    record.seq = Seq(sequence_string)\n",
    "    print(record.seq)\n",
    "    print('\\n') #for clarity"
   ]
  },
  {
   "source": [
    "Putting it all together:"
   ],
   "cell_type": "markdown",
   "metadata": {}
  },
  {
   "cell_type": "code",
   "execution_count": 114,
   "metadata": {},
   "outputs": [
    {
     "output_type": "execute_result",
     "data": {
      "text/plain": [
       "3"
      ]
     },
     "metadata": {},
     "execution_count": 114
    }
   ],
   "source": [
    "store_modifed_record = []\n",
    "\n",
    "for record in SeqIO.parse('to_reformat.fasta', 'fasta'):\n",
    "    # change record.id\n",
    "    record.id = record.id.replace('UgLyGenE_', '')\n",
    "    # change record.description\n",
    "    record.description = 'this gene is from Escherichia coli'\n",
    "    # change sequence\n",
    "    sequence_string = str(record.seq)\n",
    "    sequence_string = sequence_string.replace('*','')\n",
    "    record.seq = Seq(sequence_string)\n",
    "    # store \n",
    "    store_modifed_record.append(record)\n",
    "\n",
    "store_modifed_record\n",
    "# write to file\n",
    "SeqIO.write(store_modifed_record,'reformatted_sequences.fasta','fasta')\n",
    "# open and view file\n"
   ]
  },
  {
   "source": [
    "---\n",
    "\n",
    "### Exercise 6: \n",
    "\n",
    "Replace the string `'UgLyGenE_'` found in `record.id` with an emtpy string `''` by using `replace()`\n",
    "\n",
    "Assign `record.description` to equal an uppercased `record.id` using `upper()`. \n",
    "\n",
    "Afterward, add the string `'_Escherichia coli'` to `record.description."
   ],
   "cell_type": "markdown",
   "metadata": {}
  },
  {
   "source": [
    "for record in SeqIO.parse('to_reformat.fasta', 'fasta'):\n",
    "    ___.id = ___.id.___('___', '')\n",
    "    ___.description = record.___.upper()\n",
    "    ___.description = ___.description + '___'\n",
    "\n",
    "    print(record.description)\n",
    "    print('\\n')"
   ],
   "cell_type": "code",
   "metadata": {},
   "execution_count": null,
   "outputs": []
  },
  {
   "source": [
    "---\n",
    "\n",
    "That's it for Day 3! "
   ],
   "cell_type": "markdown",
   "metadata": {}
  }
 ]
}