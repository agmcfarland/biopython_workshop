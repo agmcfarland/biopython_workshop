{
 "metadata": {
  "language_info": {
   "codemirror_mode": {
    "name": "ipython",
    "version": 3
   },
   "file_extension": ".py",
   "mimetype": "text/x-python",
   "name": "python",
   "nbconvert_exporter": "python",
   "pygments_lexer": "ipython3",
   "version": "3.8.5"
  },
  "orig_nbformat": 4,
  "kernelspec": {
   "name": "python3",
   "display_name": "Python 3.8.5 64-bit ('myenv': conda)"
  },
  "interpreter": {
   "hash": "f5c9dfabb21bd2a91b63810df81acbdc6b5e617e45414f0ef050ca96090c868f"
  }
 },
 "nbformat": 4,
 "nbformat_minor": 2,
 "cells": [
  {
   "source": [
    "# Welcome to Day 2! \n",
    "\n",
    "## Opening, closing, and saving sequence files with Biopython\n",
    "\n",
    "### Section 1: Lists and for loops\n",
    "\n",
    "### Section 2: Opening sequence files with Biopython\n",
    "\n",
    "### Section 3: Saving sequences to files\n",
    "\n",
    "### Section 4: Looping through multiple sequence files\n",
    "\n",
    "---\n",
    "\n",
    "## Session summary\n",
    "\n",
    "We begin our second session by reviewing some very important and basic Python concepts: lists and functions. Afterwards, we apply these concepts when we use Biopython to open fasta files, modify their sequences and gene names, and save our modified sequences to new files. \n",
    "\n",
    "---"
   ],
   "cell_type": "markdown",
   "metadata": {}
  },
  {
   "source": [
    "---\n",
    "## For Google colab users only\n",
    "\n",
    "Run the following commands"
   ],
   "cell_type": "markdown",
   "metadata": {}
  },
  {
   "cell_type": "code",
   "execution_count": null,
   "metadata": {},
   "outputs": [],
   "source": [
    "pip install Biopython"
   ]
  },
  {
   "source": [
    "!wget https://raw.githubusercontent.com/agmcfarland/biopython_workshop/master/antibiotic_resistance_genes_short.fasta\n",
    "!wget https://raw.githubusercontent.com/agmcfarland/biopython_workshop/master/antibiotic_resistance_genes_short_2.fasta\n",
    "!wget https://raw.githubusercontent.com/agmcfarland/biopython_workshop/master/antibiotic_resistance_genes_short_3.fasta"
   ],
   "cell_type": "code",
   "metadata": {},
   "execution_count": null,
   "outputs": []
  },
  {
   "source": [
    "--- \n",
    "# Section 1: Lists and for loops\n",
    "\n",
    "Lists and for loops are two very important Python concepts that are useful to know when using Biopython. \n",
    "\n",
    "**Having a solid understanding of the basics of lists and for loops will solve 95% of all your programming needs**\n",
    "\n",
    "We will briefly go over them prior to their use in Biopython.\n",
    "\n",
    "We remember from Day 1 that a string are any characters between a quote (`''`) or double quote (`\"\"`).\n",
    "\n",
    "A **list** can be characters or integers, or a mix of the two, separated by commas and flanked by brackets (`[]`)"
   ],
   "cell_type": "markdown",
   "metadata": {}
  },
  {
   "source": [
    "list1 = ['this', 'is', 'a', 'list']"
   ],
   "cell_type": "code",
   "metadata": {},
   "execution_count": null,
   "outputs": []
  },
  {
   "source": [
    "Let's examine `list1`"
   ],
   "cell_type": "markdown",
   "metadata": {}
  },
  {
   "cell_type": "code",
   "execution_count": null,
   "metadata": {},
   "outputs": [],
   "source": [
    "# the type of object list1 is\n",
    "type(list1)"
   ]
  },
  {
   "cell_type": "code",
   "execution_count": null,
   "metadata": {},
   "outputs": [],
   "source": [
    "# the contents of list1\n",
    "list1"
   ]
  },
  {
   "source": [
    "`list2` contains a mix of integers and strings"
   ],
   "cell_type": "markdown",
   "metadata": {}
  },
  {
   "cell_type": "code",
   "execution_count": null,
   "metadata": {},
   "outputs": [],
   "source": [
    "list2 = ['this', 1, 'is', 2, 'also', 3, 'a', 'list', 4,5]"
   ]
  },
  {
   "cell_type": "code",
   "execution_count": null,
   "metadata": {},
   "outputs": [],
   "source": [
    "# the type of object list2 is\n",
    "type(list2)"
   ]
  },
  {
   "cell_type": "code",
   "execution_count": null,
   "metadata": {},
   "outputs": [],
   "source": [
    "# the contents of list2\n",
    "list2"
   ]
  },
  {
   "source": [
    "---\n",
    "### Exercise 1a\n",
    "\n",
    "Create a `list` of the numbers `1`,`2`,`3`,`4` and assign it to `list3`\n"
   ],
   "cell_type": "markdown",
   "metadata": {}
  },
  {
   "cell_type": "code",
   "execution_count": null,
   "metadata": {},
   "outputs": [],
   "source": [
    "list3 = ___\n",
    "list3"
   ]
  },
  {
   "source": [
    "### Exercise 1b\n",
    "Create a `list` of numbers `1`,`2` and characters `'one'`, `'two'` and assign it to `list4`"
   ],
   "cell_type": "markdown",
   "metadata": {}
  },
  {
   "cell_type": "code",
   "execution_count": null,
   "metadata": {},
   "outputs": [],
   "source": [
    "list4 = ___\n",
    "list4"
   ]
  },
  {
   "source": [
    "---\n",
    "\n",
    "We can access specific items in a list using their position in the list using brackets\n"
   ],
   "cell_type": "markdown",
   "metadata": {}
  },
  {
   "cell_type": "code",
   "execution_count": null,
   "metadata": {},
   "outputs": [],
   "source": [
    "list5 = ['this', 'is', 'a', 'list', 5]"
   ]
  },
  {
   "cell_type": "code",
   "execution_count": null,
   "metadata": {},
   "outputs": [],
   "source": [
    "# select the first item in list\n",
    "list5[0]"
   ]
  },
  {
   "cell_type": "code",
   "execution_count": null,
   "metadata": {},
   "outputs": [],
   "source": [
    "# select the second and third item in list\n",
    "list5[1:3]"
   ]
  },
  {
   "cell_type": "code",
   "execution_count": null,
   "metadata": {},
   "outputs": [],
   "source": [
    "# select all items starting at the third item\n",
    "list5[2:]"
   ]
  },
  {
   "source": [
    "**Remeber that in Python, counting includes 0.**"
   ],
   "cell_type": "markdown",
   "metadata": {}
  },
  {
   "source": [
    "---\n",
    "### Exercise 2a\n",
    "\n",
    "Select the last member of `list6`"
   ],
   "cell_type": "markdown",
   "metadata": {}
  },
  {
   "cell_type": "code",
   "execution_count": null,
   "metadata": {},
   "outputs": [],
   "source": [
    "list6 = ['i','am','a','beautiful','list']\n",
    "list6[__]"
   ]
  },
  {
   "source": [
    "### Exercise 2b\n",
    "Select the second through fourth members of `list6`"
   ],
   "cell_type": "markdown",
   "metadata": {}
  },
  {
   "cell_type": "code",
   "execution_count": null,
   "metadata": {},
   "outputs": [],
   "source": [
    "list6[___:___]"
   ]
  },
  {
   "source": [
    "---\n",
    "Now that we understand the basics of lists, we can next discuss for loops.\n",
    "\n",
    "A for loop is a loop that goes through each item in a list until the list ends"
   ],
   "cell_type": "markdown",
   "metadata": {}
  },
  {
   "cell_type": "code",
   "execution_count": null,
   "metadata": {},
   "outputs": [],
   "source": [
    "list7 = ['i','am','a','very','beautiful','list']\n",
    "\n",
    "# for each item in list7, print the item\n",
    "for item in list7:\n",
    "    print(item)"
   ]
  },
  {
   "source": [
    "We can do things to each itemn in the list, but the list will remain unchanged\n"
   ],
   "cell_type": "markdown",
   "metadata": {}
  },
  {
   "cell_type": "code",
   "execution_count": null,
   "metadata": {},
   "outputs": [],
   "source": [
    "for item in list7:\n",
    "    print(item + ' wow!')"
   ]
  },
  {
   "cell_type": "code",
   "execution_count": null,
   "metadata": {},
   "outputs": [],
   "source": [
    "\n",
    "print(list7)"
   ]
  },
  {
   "source": [
    "Sometimes when we print things in a for loop, we like things to be a little clearer. We can `print()` and empty line `'\\n'` after each loop like so"
   ],
   "cell_type": "markdown",
   "metadata": {}
  },
  {
   "cell_type": "code",
   "execution_count": null,
   "metadata": {},
   "outputs": [],
   "source": [
    "for item in list7:\n",
    "    print(item)\n",
    "    print('\\n')"
   ]
  },
  {
   "source": [
    "---\n",
    "### Exercise 3a\n",
    "\n",
    "Make a variable called `list7` contaning the items `'element0'`,`'element1'`,`'element2'`,`'element3'`,`'element4'`. \n",
    "\n",
    "Use a `for` loop to `print()` each `item` in `list7`."
   ],
   "cell_type": "markdown",
   "metadata": {}
  },
  {
   "cell_type": "code",
   "execution_count": null,
   "metadata": {},
   "outputs": [],
   "source": [
    "___ = ['element0','element1','element2','element3','___']\n",
    "\n",
    "for item in ___:\n",
    "    print(___)"
   ]
  },
  {
   "source": [
    "### Exercise 3b\n",
    "Use `print()` after adding the `'!!!'` string to each `item` in `list7` \n",
    "`print()` an empty line as well\n"
   ],
   "cell_type": "markdown",
   "metadata": {}
  },
  {
   "cell_type": "code",
   "execution_count": null,
   "metadata": {},
   "outputs": [],
   "source": [
    "for ___ in ___:\n",
    "    print(___ + ___)\n",
    "    print('___')"
   ]
  },
  {
   "source": [
    "---"
   ],
   "cell_type": "markdown",
   "metadata": {}
  },
  {
   "source": [
    "Biological sequences are often stored in lists.\n",
    "\n",
    "Let's look at how a two sequences in [fasta format](https://github.com/agmcfarland/biopython_workshop#fasta) would look like in a list. A sequence may have its contents be split over multiple items in a list.\n"
   ],
   "cell_type": "markdown",
   "metadata": {}
  },
  {
   "cell_type": "code",
   "execution_count": null,
   "metadata": {},
   "outputs": [],
   "source": [
    "# small_fast_list has only four items within it (count it!)\n",
    "small_fasta_list = [\n",
    "'>ErmB AAF86219.1 [Enterococcus faecium]',\n",
    "'ATGAATAAAAATATTAAATATTCACAAAATTTTCTGACATCAGAAAAAGTTCTGAATCAAATTATTAAACAACTGAATCTGAAAGAAACAGATACAGTTTATGAAATTGGCACAGGCAAAGGCCATCTGACAACAAAACTGGCAAAAATTTCAAAACAAGTTACATCAATTGAACTGGATTCAC','ATCTGTTTAATCTGTCATCAGAAAAACTGAAACTGAATACAAGAGTTACACTGATTCATCAAGATATTCTGCAATTTCAATTTCCGAATAAACAAAGATATAAAATTGTTGGCTCAATTCCGTATAATCTGTCAACACAAATTATTAAAAAAGTTGTTTTTGAATCAAGAGCATCAGATATTTA','TCTGATTGTTGAAGAAGGCTTTTATAAAAGAACACTGGATATTCATAGAACACTGGGCCTGCTGCTGCATACACAAGTTTCAATTCAACAACTGCTGAAACTGCCGGCAGAATGCTTTCATCCGAAACCGAAAGTTAATTCAGTTCTGATTAAACTGACAAGACATACAACGATGTTCCGGATA','AATATTGGAAACTGTATACATATTTTGTTTCAAAATGGGTTAATAGAGAATATAGACAACTGTTTACAAAAAATCAATTTCATCAAGCAATGAAACATGCAAAAGTTAATAATCTGTCAACAATTACATATGAACAAGTTCTGTCAATTTTTAATTCATATCTGCTGTTTAATGGCAGAAAACT',\n",
    "'GATTCTG',\n",
    "'>ErmA CAA26964.1 [Staphylococcus aureus]',\n",
    "'ATGAATCAAAAAAATCCGAAAGATACACAAAATTTTATTACATCAAAAAAACATGTTAAAGAAATTCTGAATCATACAAATATTTCAAAACAAGATAATGTTATTGAAATTGGCTCAGGCAAAGGCCATTTTACAAAAGAACTGGTTAAAATGTCAAGATCAGTTACAGCAATTGAAATTGATG','GCGGCCTGTGCCAAGTTACAAAAGAAGCAGTTAATCCGTCAGAAAATATTAAAGTTATTCAAACAGATATTCTGAAATTTTCATTTCCGAAACATATTAATTATAAAATTTATGGCAATATTCCGTATAATATTTCAACAGATATTGTTAAAAGAATTACATTTGAATCACAAGCAAAATATTC','ATATCTGATTGTTGAAAAAGGCTTTGCAAAAAGACTGCAAAATCTGCAAAGAGCACTGGGCCTGCTGCTGATGGTTGAAATGGATATTAAAATGCTGAAAAAAGTTCCGCCGCTGTATTTTCATCCGAAACCGTCAGTTGATTCAGTTCTGATTGTTCTGGAAAGACATCAACCGCTGATTTCA',\n",
    "'AAAAAAGATTATAAAAAATATAGATCATTTGTTTATAAATGGGTTAATAGAGAATATAGAGTTCTGTTTACAAAAAATCAATTTAGACAAGCACTGAAACATGCAAATGTTACAAATATTAATAAACTGTCAAAAGAACAATTTCTGTCAATTTTTAATTCATATAAACTGTTTCAT']"
   ]
  },
  {
   "source": [
    "If we print each item in a for loop, things look a little more clean."
   ],
   "cell_type": "markdown",
   "metadata": {}
  },
  {
   "cell_type": "code",
   "execution_count": null,
   "metadata": {},
   "outputs": [],
   "source": [
    "for item in small_fasta_list:\n",
    "    print(item)"
   ]
  },
  {
   "source": [
    "Biopython will basically be converting a fasta file into a list like the one above, **except** that the header and the sequences below it will be treated as a SINGLE object. In that object, you will be able to access all sorts of information and manipulate it with specific functions."
   ],
   "cell_type": "markdown",
   "metadata": {}
  },
  {
   "source": [
    "# Section 2: Opening files with Biopython\n",
    "\n",
    "In Day 1 we worked with only one sequence at a time. But the reality is that you will work with many (sometimes millions!) of sequences. Biopython can read .fasta and .gbk files and streamline the process. "
   ],
   "cell_type": "markdown",
   "metadata": {}
  },
  {
   "source": [
    "Opening the fasta file,  antibiotic_resistance_genes_short.fasta file in **base** Python results in aingle list containing headers and sequences."
   ],
   "cell_type": "markdown",
   "metadata": {}
  },
  {
   "source": [
    "# opening the file\n",
    "my_file = open('antibiotic_resistance_genes_short.fasta')\n",
    "\n",
    "# reading in all the lines and storing them to the variable `file_lines`\n",
    "file_lines = my_file.readlines()\n",
    "\n",
    "# closing the file\n",
    "my_file.close()"
   ],
   "cell_type": "code",
   "metadata": {
    "tags": []
   },
   "execution_count": null,
   "outputs": []
  },
  {
   "cell_type": "code",
   "execution_count": null,
   "metadata": {},
   "outputs": [],
   "source": [
    "# all lines\n",
    "file_lines"
   ]
  },
  {
   "source": [
    "Let's examine the list of headers and sequences more closely."
   ],
   "cell_type": "markdown",
   "metadata": {}
  },
  {
   "source": [
    "# just line 0\n",
    "file_lines[0]"
   ],
   "cell_type": "code",
   "metadata": {},
   "execution_count": null,
   "outputs": []
  },
  {
   "cell_type": "code",
   "execution_count": null,
   "metadata": {},
   "outputs": [],
   "source": [
    "# just lines 0-1\n",
    "file_lines[0:2]"
   ]
  },
  {
   "source": [
    "When Python opens this fasta file and we use the `readlines()` function, each line is stored as an item in a list, regardless of whether the line is a header or a sequence.\n",
    "\n",
    "### From a biologist's perspective, it would be more useful that the relationship between a header and its sequence be preserved.\n",
    "\n",
    "When **Biopython** opens a fasta file, it will preserve the relationship between the header and the sequence.\n",
    "\n",
    "Biopython reads a fasta file using a module called `SeqIO.parse()`, which loops through each header/sequence combo."
   ],
   "cell_type": "markdown",
   "metadata": {}
  },
  {
   "cell_type": "code",
   "execution_count": null,
   "metadata": {},
   "outputs": [],
   "source": [
    "# import Biopython's SeqIO module that allows use to loop through header/sequence combos (SeqRecord objects) in a fasta file. We will also import the Seq module we used in Day1\n",
    "\n",
    "from Bio import SeqIO\n",
    "from Bio.Seq import Seq"
   ]
  },
  {
   "cell_type": "code",
   "execution_count": null,
   "metadata": {},
   "outputs": [],
   "source": [
    "# we specify 'fasta' at the end to tell Biopython the kind of header/sequence structure the file has. \n",
    "\n",
    "for record in SeqIO.parse('antibiotic_resistance_genes_short.fasta', 'fasta'):\n",
    "    print(record)\n",
    "    print('\\n') #make a new line after every print for visual clarity"
   ]
  },
  {
   "source": [
    "In the above output, we can see that Biopython has printed us a very neatly formatted representation of our fasta file. Compare that to using base Python's `readlines()` above or to how the file looks like when it's opened in a text editor.\n",
    "\n",
    "Biopython converts header/sequence combo into a `SeqRecord` [object](https://github.com/agmcfarland/biopython_workshop#fasta). We can see its type.\n"
   ],
   "cell_type": "markdown",
   "metadata": {}
  },
  {
   "cell_type": "code",
   "execution_count": null,
   "metadata": {},
   "outputs": [],
   "source": [
    "type(record)"
   ]
  },
  {
   "source": [
    "A `SeqRecord` holds a lot information, including:\n",
    "\n",
    "The name of the sequence, any descriptions of the sequence, the sequence itself, and the type of sequence (DNA, RNA, protein, uknown) that it is.\n",
    "\n",
    "Additionally, within each `SeqRecord` object, the sequence has been conveted to a **`Seq()` object**, like those we went over in Day 1. We can manipulate them in the same way, but now at scale.\n",
    "\n",
    "Let's access some information stored in `SeqRecord`. Remember that record only shows **one** header/sequence combo per loop."
   ],
   "cell_type": "markdown",
   "metadata": {}
  },
  {
   "source": [
    "# print the id. the id are all the characters after the defline `>` until the first whitespace ` `. This is typically the gene name.\n",
    "print(record.id)"
   ],
   "cell_type": "code",
   "metadata": {},
   "execution_count": null,
   "outputs": []
  },
  {
   "cell_type": "code",
   "execution_count": null,
   "metadata": {},
   "outputs": [],
   "source": [
    "# print the description. the description is all characters that are afte the defline `>`. The description will typically have the gene name, a database identifer, and the species that it belongs to\n",
    "print(record.description)"
   ]
  },
  {
   "cell_type": "code",
   "execution_count": null,
   "metadata": {},
   "outputs": [],
   "source": [
    "# print the sequence\n",
    "print(record.seq)"
   ]
  },
  {
   "source": [
    "The `SeqRecord` has both the header and the sequence in one object that makes it easier to work with the sequence."
   ],
   "cell_type": "markdown",
   "metadata": {}
  },
  {
   "source": [
    "We can use the sequence manipulation methods from Day 1 on `record.seq`!"
   ],
   "cell_type": "markdown",
   "metadata": {}
  },
  {
   "cell_type": "code",
   "execution_count": null,
   "metadata": {},
   "outputs": [],
   "source": [
    "# translate\n",
    "record.seq.translate()"
   ]
  },
  {
   "cell_type": "code",
   "execution_count": null,
   "metadata": {},
   "outputs": [],
   "source": [
    "# lowercase\n",
    "record.seq.lower()"
   ]
  },
  {
   "cell_type": "code",
   "execution_count": null,
   "metadata": {},
   "outputs": [],
   "source": [
    "# count number of bases\n",
    "len(record.seq)"
   ]
  },
  {
   "source": [
    "---\n",
    "\n",
    "### Exercise 4a\n",
    "\n",
    "Open the file `antibiotic_resistance_genes_short.fasta` using Biopython's `SeqIO.parse()` and `print()` each `record.id`"
   ],
   "cell_type": "markdown",
   "metadata": {}
  },
  {
   "cell_type": "code",
   "execution_count": null,
   "metadata": {},
   "outputs": [],
   "source": [
    "\n",
    "for ___ in ___.parse('___.fasta', '___'):\n",
    "    print(record.___)\n"
   ]
  },
  {
   "source": [
    "### Exercise 4b\n",
    "Open the file `antibiotic_resistance_genes_short.fasta` using `SeqIO.parse()` and `print()` each `record.seq`"
   ],
   "cell_type": "markdown",
   "metadata": {}
  },
  {
   "cell_type": "code",
   "execution_count": null,
   "metadata": {},
   "outputs": [],
   "source": [
    "for ___ in ___.parse('___.fasta', '___'):\n",
    "    print(record.___)"
   ]
  },
  {
   "source": [
    "### Exercise 4c\n",
    "Open the file `antibiotic_resistance_genes_short.fasta` using `SeqIO.parse()` and `print()` the **translated** `record.seq` by calling `translate()` on it"
   ],
   "cell_type": "markdown",
   "metadata": {}
  },
  {
   "cell_type": "code",
   "execution_count": null,
   "metadata": {},
   "outputs": [],
   "source": [
    "for ___ in ___.parse('___.fasta', '___'):\n",
    "    print(record.___.___)"
   ]
  },
  {
   "source": [
    "---\n",
    "\n",
    "# Saving sequences to file\n",
    "\n",
    "Now that we know that sequences, and all their corresponding information, in a fasta file can be easily accessed and looped through, we now want to start saving the changes we've made to a new fasta file.\n",
    "\n",
    "Before we can do that, there's one last thing about lists that we need to learn for now.\n",
    "\n",
    "### You can make empty lists and add to them using the `append()` function from base Python"
   ],
   "cell_type": "markdown",
   "metadata": {}
  },
  {
   "cell_type": "code",
   "execution_count": null,
   "metadata": {},
   "outputs": [],
   "source": [
    "# make an empty list by only putting in brackets\n",
    "list8 = []"
   ]
  },
  {
   "cell_type": "code",
   "execution_count": null,
   "metadata": {},
   "outputs": [],
   "source": [
    "# is the list empty? \n",
    "print(list8)"
   ]
  },
  {
   "cell_type": "code",
   "execution_count": null,
   "metadata": {},
   "outputs": [],
   "source": [
    "# how many items are in this list?\n",
    "len(list8)"
   ]
  },
  {
   "source": [
    "list8.append('now')\n",
    "list8.append('I')\n",
    "list8.append('am')\n",
    "list8.append('not')\n",
    "list8.append('empty')\n",
    "list8.append(8)\n",
    "print(list8)"
   ],
   "cell_type": "code",
   "metadata": {},
   "execution_count": null,
   "outputs": []
  },
  {
   "source": [
    "`append()` adds a new item to the end of the list.\n",
    "\n",
    "We can manipulate sequences with Biopython and use `append` to store them in an initially empty list. After that we can save them to a file."
   ],
   "cell_type": "markdown",
   "metadata": {}
  },
  {
   "cell_type": "code",
   "execution_count": null,
   "metadata": {},
   "outputs": [],
   "source": [
    "# empty list to store modified sequence records\n",
    "modified_records_list = []\n",
    "\n",
    "for record in SeqIO.parse('antibiotic_resistance_genes_short.fasta', 'fasta'):\n",
    "    # the modified record variable is created\n",
    "    modified_record = record\n",
    "    # the sequence of the modified variable is set to be translated\n",
    "    modified_record.seq = modified_record.seq.translate()\n",
    "    # modified_record (with the translated sequence and also name and description) is appended to our list\n",
    "    modified_records_list.append(modified_record)"
   ]
  },
  {
   "source": [
    "# inspect what our list of modified records looks like\n",
    "modified_records_list"
   ],
   "cell_type": "code",
   "metadata": {},
   "execution_count": null,
   "outputs": []
  },
  {
   "source": [
    "Now we can write modified_records_list to a file using Biopython's `SeqIO.write()` function.\n",
    "\n",
    "\n"
   ],
   "cell_type": "markdown",
   "metadata": {}
  },
  {
   "cell_type": "code",
   "execution_count": null,
   "metadata": {},
   "outputs": [],
   "source": [
    "# SeqIO.write requires the list of records, the name of the file to write to, and the format in which it will be written. It will print the number of records it has written after it is done.\n",
    "\n",
    "SeqIO.write(modified_records_list, 'day2_short.fasta', 'fasta')"
   ]
  },
  {
   "source": [
    "---\n",
    "### Exercise 5a \n",
    "\n",
    "Assign `record` to the variable `modified_record`. Alter the `modified_record.id` by adding the string `'_and_more'` to it.\n"
   ],
   "cell_type": "markdown",
   "metadata": {}
  },
  {
   "cell_type": "code",
   "execution_count": null,
   "metadata": {},
   "outputs": [],
   "source": [
    "for ___ in SeqIO.parse('antibiotic_resistance_genes_short.fasta', '___'):\n",
    "\n",
    "    ___ = record\n",
    "    \n",
    "    ___.id = ___.id + '___'\n",
    "\n",
    "    print(modified_record)"
   ]
  },
  {
   "source": [
    "### Exercise 5b\n",
    "\n",
    "Make an empty list called `new_record_list`. Afterward, `append()` `modified_record` to `new_record_list`"
   ],
   "cell_type": "markdown",
   "metadata": {}
  },
  {
   "cell_type": "code",
   "execution_count": null,
   "metadata": {},
   "outputs": [],
   "source": [
    "new_record_list = ___\n",
    "\n",
    "for ___ in SeqIO.parse('antibiotic_resistance_genes_short.fasta', 'fasta'):\n",
    "\n",
    "    modified_record = record\n",
    "    \n",
    "    modified_record.id = modified_record.id + '_and_more'\n",
    "\n",
    "    ___.append(___)\n",
    "\n",
    "new_record_list"
   ]
  },
  {
   "source": [
    "### Exercise 5c\n",
    "Write the records in new_record_list to a new file called day2_5c.fasta\n",
    "\n",
    "Afterwards, open the file to look at your great work!"
   ],
   "cell_type": "markdown",
   "metadata": {}
  },
  {
   "cell_type": "code",
   "execution_count": null,
   "metadata": {},
   "outputs": [],
   "source": [
    "SeqIO.___(___, '___.fasta', '___')"
   ]
  },
  {
   "source": [
    "---\n",
    "\n",
    "# Section 4: Looping through multiple sequence files\n",
    "\n",
    "A very useful strategy for working with many sequence files that you wish to apply a transformation, sequence extraction, etc is to use `os.listdir()`"
   ],
   "cell_type": "markdown",
   "metadata": {}
  },
  {
   "cell_type": "code",
   "execution_count": null,
   "metadata": {},
   "outputs": [],
   "source": [
    "import os"
   ]
  },
  {
   "source": [
    "`os.listdir()` loops through all the files in a directory"
   ],
   "cell_type": "markdown",
   "metadata": {}
  },
  {
   "cell_type": "code",
   "execution_count": null,
   "metadata": {},
   "outputs": [],
   "source": [
    "current_directory = os.getcwd() \n",
    "current_directory"
   ]
  },
  {
   "source": [
    "We can use the function `endswith()` to only list files that end with the suffix `'.fasta'`"
   ],
   "cell_type": "markdown",
   "metadata": {}
  },
  {
   "cell_type": "code",
   "execution_count": null,
   "metadata": {},
   "outputs": [],
   "source": [
    "for file in os.listdir(current_directory):\n",
    "    if file.endswith('.fasta'):\n",
    "        print(file)"
   ]
  },
  {
   "source": [
    "We can use the function starts() to only list files that start with the prefix 'antibiotic_resistance_genes_short'.\n",
    "\n",
    "We can chain commands into a big for loop to open each `file` and `print()` the `record.description`"
   ],
   "cell_type": "markdown",
   "metadata": {}
  },
  {
   "cell_type": "code",
   "execution_count": null,
   "metadata": {},
   "outputs": [],
   "source": [
    "for file in os.listdir(current_directory):\n",
    "    if file.startswith('antibiotic_resistance_genes_short'):\n",
    "        if file.endswith('.fasta'):\n",
    "            for record in SeqIO.parse(file, 'fasta'):\n",
    "                print(record.description)"
   ]
  },
  {
   "source": [
    "---\n",
    "\n",
    "### Exercise 6a\n",
    "\n",
    "Combine the contents of each `'antibiotic_resistance_genes_short'` fasta file into a single fasta called `day2_6a.fasta`.\n",
    "\n",
    "As you loop through each fasta file in the `current_directory` using `os.listdir()`, read each fasta file with `SeqIO.parse()`.\n",
    "\n",
    "(Make sure you have specified what characters each file of interest `startswith()` and `endwiths()`)\n",
    "\n",
    "`append()` each SeqRecord object to the list `store_data`.\n",
    "\n",
    "Write `store_data` to the fasta file `day2_6a.fasta` using `SeqIO.write()`\n",
    "\n",
    "Afterwards open `day2_6a.fasta` and examine your work!\n"
   ],
   "cell_type": "markdown",
   "metadata": {}
  },
  {
   "cell_type": "code",
   "execution_count": null,
   "metadata": {},
   "outputs": [],
   "source": [
    "store_data = ___\n",
    "\n",
    "for ___ in ___.___(current_directory):\n",
    "    # what the file should start with\n",
    "    if file.___('antibiotic_resistance_genes_short'):\n",
    "        # what the file should end with\n",
    "        if file.___('.fasta'):\n",
    "            for record in ___.parse(file, 'fasta'):\n",
    "                store_data.___(___)\n",
    "\n",
    "SeqIO.___(___, '___.fasta', '___')"
   ]
  },
  {
   "source": [
    "### Exercise 6b\n",
    "\n",
    "Do the same steps as above, but now with a `transcribe()`'ed `record.seq`. Store the modified records in `day2_6b.fasta`"
   ],
   "cell_type": "markdown",
   "metadata": {}
  },
  {
   "cell_type": "code",
   "execution_count": null,
   "metadata": {},
   "outputs": [],
   "source": [
    "store_data = ___\n",
    "\n",
    "for ___ in ___.___(current_directory):\n",
    "    # what the file should start with\n",
    "    if file.___('antibiotic_resistance_genes_short'):\n",
    "        # what the file should end with\n",
    "        if file.___('.fasta'):\n",
    "            for record in ___.parse(___, 'fasta'):\n",
    "                record.___ = ___.___.___()\n",
    "                store_data.___(___)\n",
    "\n",
    "SeqIO.___(___, 'day2_6b.fasta', '___')"
   ]
  },
  {
   "source": [
    "---\n",
    "\n",
    "That's it for Day 2!"
   ],
   "cell_type": "markdown",
   "metadata": {}
  }
 ]
}