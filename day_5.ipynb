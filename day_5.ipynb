{
 "metadata": {
  "language_info": {
   "codemirror_mode": {
    "name": "ipython",
    "version": 3
   },
   "file_extension": ".py",
   "mimetype": "text/x-python",
   "name": "python",
   "nbconvert_exporter": "python",
   "pygments_lexer": "ipython3",
   "version": "3.8.5"
  },
  "orig_nbformat": 4,
  "kernelspec": {
   "name": "python3",
   "display_name": "Python 3.8.5 64-bit ('myenv': conda)"
  },
  "interpreter": {
   "hash": "f5c9dfabb21bd2a91b63810df81acbdc6b5e617e45414f0ef050ca96090c868f"
  }
 },
 "nbformat": 4,
 "nbformat_minor": 2,
 "cells": [
  {
   "source": [
    "# Welcome to Day 5! \n",
    "\n",
    "## BLAST-ing against the NCBI database\n",
    "\n",
    "### Section 1: BLAST with genes\n",
    "\n",
    "### Section 2: BLAST with fastq reads\n",
    "\n",
    "---\n",
    "\n",
    "## Session summary\n",
    "\n",
    "\n",
    "For our last day we are going to take things easy and do something everyone loves to do, BLAST genes against NCBI. Afterwards, we will BLAST fastq files that we have first converted to fasta files. \n",
    "\n",
    "---\n"
   ],
   "cell_type": "markdown",
   "metadata": {}
  },
  {
   "source": [
    "# Section 1: Section 1: BLAST with genes"
   ],
   "cell_type": "markdown",
   "metadata": {}
  },
  {
   "cell_type": "code",
   "execution_count": 18,
   "metadata": {},
   "outputs": [],
   "source": [
    "# import all our previously used modules\n",
    "\n",
    "from Bio import SeqIO\n",
    "from Bio.Seq import Seq\n",
    "from Bio.Alphabet import IUPAC\n",
    "\n",
    "# import Biopython modules for BLAST\n",
    "from Bio.Blast.NCBIWWW import qblast\n",
    "from Bio.Blast import NCBIXML"
   ]
  },
  {
   "source": [
    "Let's say we are interested in finding homologs of ermA from Staphylococcus aureus in the NCBI non-redundant database. \n",
    "\n",
    "We have a fasta file called `single_seq.fasta`, which contains only one ermA sequence. We use `SeqIO.read()` (instead of `SeqIO.parse()`) because there is only one sequence."
   ],
   "cell_type": "markdown",
   "metadata": {}
  },
  {
   "cell_type": "code",
   "execution_count": 199,
   "metadata": {},
   "outputs": [
    {
     "output_type": "execute_result",
     "data": {
      "text/plain": [
       "SeqRecord(seq=Seq('ATGAATCAAAAAAATCCTAAAGATACACAAAATTTTATTACATCTAAAAAACAT...CAT', SingleLetterAlphabet()), id='ERMA_STAAR', name='ERMA_STAAR', description='ERMA_STAAR Q6GKQ0 rRNA adenine N-6-methyltransferase OS=Staphylococcus aureus (strain MRSA252) OX=282458 GN=ermA1 PE=3 SV=1', dbxrefs=[])"
      ]
     },
     "metadata": {},
     "execution_count": 199
    }
   ],
   "source": [
    "record = SeqIO.read('single_seq.fasta','fasta')\n",
    "record"
   ]
  },
  {
   "source": [
    "Let's use `qblast()` to search for homologs of our sequence. [View full qblast options here](https://biopython.org/docs/1.75/api/Bio.Blast.NCBIWWW.html)"
   ],
   "cell_type": "markdown",
   "metadata": {}
  },
  {
   "cell_type": "code",
   "execution_count": 160,
   "metadata": {},
   "outputs": [],
   "source": [
    "# searching for homologs of record.seq in the non-redudundant (nr) database using BLASTn. BLAST will only return the top five matches (hits).\n",
    "# these are only just some of the options we can specify in our search. The first three are mandatory, however.\n",
    "blast_results = qblast(program='blastn', database='nr', sequence=record.seq, hitlist_size=5) \n",
    "\n",
    "# storing the results of the blast search in a file called blast_output.xml \n",
    "output_file = open('blast_output.xml', 'w') # the 'w' indicates we are writing to this file.\n",
    "output_file.write(blast_results.read()) # write blast_results to output_file\n",
    "output_file.close() # closing the file we wrote to\n",
    "blast_results.close() # closing the blast result"
   ]
  },
  {
   "source": [
    "Each blast 'hit', (i.e. a sequence in the database that matched our sequence of interest) is an item in the list `blast_record.alignments`.\n",
    "\n",
    "Let's check that five hits matching our sequence of interest were found "
   ],
   "cell_type": "markdown",
   "metadata": {}
  },
  {
   "cell_type": "code",
   "execution_count": 200,
   "metadata": {},
   "outputs": [
    {
     "output_type": "execute_result",
     "data": {
      "text/plain": [
       "5"
      ]
     },
     "metadata": {},
     "execution_count": 200
    }
   ],
   "source": [
    "blast_result_handle = open('blast_output.xml') # open the blast output file\n",
    "blast_record = NCBIXML.read(blast_result_handle) # read it into memory\n",
    "\n",
    "count = 0\n",
    "for alignment in blast_record.alignments:\n",
    "    count = count + 1\n",
    "\n",
    "count"
   ]
  },
  {
   "source": [
    "We can print the name of each sequence that matched our search sequence."
   ],
   "cell_type": "markdown",
   "metadata": {}
  },
  {
   "cell_type": "code",
   "execution_count": 201,
   "metadata": {},
   "outputs": [
    {
     "output_type": "stream",
     "name": "stdout",
     "text": [
      "gi|1908485171|gb|CP049486.1| Staphylococcus aureus strain pt228 chromosome, complete genome\ngi|2041328505|gb|CP071594.1| Staphylococcus aureus strain PNID0137 chromosome, complete genome\ngi|2030875670|gb|CP064434.1| Enterococcus faecium strain PR00859-7 plasmid unnamed_2, complete sequence\ngi|2006900978|dbj|AP024511.1| Staphylococcus aureus 2007-13 DNA, complete genome\ngi|1995591623|gb|CP070983.1| Staphylococcus aureus strain WBG8366 chromosome, complete genome\n"
     ]
    }
   ],
   "source": [
    "# blast_record has to be read with NCBIXML each time you call the for loop\n",
    "blast_result_handle = open('blast_output.xml')\n",
    "blast_record = NCBIXML.read(blast_result_handle)\n",
    "\n",
    "for alignment in blast_record.alignments:\n",
    "    print(alignment.title)"
   ]
  },
  {
   "source": [
    "We can access additional information stored in each alignment with a second for loop. These are stored in a list called `alignment.hsps` and provide all the important information about the alignment.\n",
    "\n",
    "Information found in `alignment.hsps` includes the length of the alignment, which bases did and did not align, and even the alignment itself! "
   ],
   "cell_type": "markdown",
   "metadata": {}
  },
  {
   "cell_type": "code",
   "execution_count": 164,
   "metadata": {
    "tags": []
   },
   "outputs": [
    {
     "output_type": "stream",
     "name": "stdout",
     "text": [
      "gi|1908485171|gb|CP049486.1| Staphylococcus aureus strain pt228 chromosome, complete genome\nscore:  791.0\nexpected value:  0.0\nnumber of exact matches:  595\nnumber of aligned letters:  728\nFirst 100 characters aligned: \n\nATGAATCAAAAAAATCCTAAAGATACACAAAATTTTATTACATCTAAAAAACATGTAAAAGAAATTTTAAATCATACAAATATTTCTAAACAAGATAATG\n||||| || ||||| |||||||| || |||||||||||||| |||||||| |||||||||||||| || ||||| || ||||||  ||||||||| || |\nATGAACCAGAAAAACCCTAAAGACACGCAAAATTTTATTACTTCTAAAAAGCATGTAAAAGAAATATTGAATCACACGAATATTAGTAAACAAGACAACG\n\n\ngi|2041328505|gb|CP071594.1| Staphylococcus aureus strain PNID0137 chromosome, complete genome\nscore:  786.0\nexpected value:  0.0\nnumber of exact matches:  594\nnumber of aligned letters:  728\nFirst 100 characters aligned: \n\nATGAATCAAAAAAATCCTAAAGATACACAAAATTTTATTACATCTAAAAAACATGTAAAAGAAATTTTAAATCATACAAATATTTCTAAACAAGATAATG\n||||| || ||||| |||||||| || |||||||||||||| |||||||| |||||||||||||| || ||||| || |||||   ||||||||| || |\nATGAACCAGAAAAACCCTAAAGACACGCAAAATTTTATTACTTCTAAAAAGCATGTAAAAGAAATATTGAATCACACGAATATCAGTAAACAAGACAACG\n\n\ngi|2030875670|gb|CP064434.1| Enterococcus faecium strain PR00859-7 plasmid unnamed_2, complete sequence\nscore:  786.0\nexpected value:  0.0\nnumber of exact matches:  594\nnumber of aligned letters:  728\nFirst 100 characters aligned: \n\nATGAATCAAAAAAATCCTAAAGATACACAAAATTTTATTACATCTAAAAAACATGTAAAAGAAATTTTAAATCATACAAATATTTCTAAACAAGATAATG\n||||| || ||||| |||||||| || |||||||||||||| |||||||| |||||||||||||| || ||||| || |||||   ||||||||| || |\nATGAACCAGAAAAACCCTAAAGACACGCAAAATTTTATTACTTCTAAAAAGCATGTAAAAGAAATATTGAATCACACGAATATCAGTAAACAAGACAACG\n\n\ngi|2006900978|dbj|AP024511.1| Staphylococcus aureus 2007-13 DNA, complete genome\nscore:  786.0\nexpected value:  0.0\nnumber of exact matches:  594\nnumber of aligned letters:  728\nFirst 100 characters aligned: \n\nATGAATCAAAAAAATCCTAAAGATACACAAAATTTTATTACATCTAAAAAACATGTAAAAGAAATTTTAAATCATACAAATATTTCTAAACAAGATAATG\n||||| || ||||| |||||||| || |||||||||||||| |||||||| |||||||||||||| || ||||| || |||||   ||||||||| || |\nATGAACCAGAAAAACCCTAAAGACACGCAAAATTTTATTACTTCTAAAAAGCATGTAAAAGAAATATTGAATCACACGAATATCAGTAAACAAGACAACG\n\n\ngi|1995591623|gb|CP070983.1| Staphylococcus aureus strain WBG8366 chromosome, complete genome\nscore:  786.0\nexpected value:  0.0\nnumber of exact matches:  594\nnumber of aligned letters:  728\nFirst 100 characters aligned: \n\nATGAATCAAAAAAATCCTAAAGATACACAAAATTTTATTACATCTAAAAAACATGTAAAAGAAATTTTAAATCATACAAATATTTCTAAACAAGATAATG\n||||| || ||||| |||||||| || |||||||||||||| |||||||| |||||||||||||| || ||||| || |||||   ||||||||| || |\nATGAACCAGAAAAACCCTAAAGACACGCAAAATTTTATTACTTCTAAAAAGCATGTAAAAGAAATATTGAATCACACGAATATCAGTAAACAAGACAACG\n\n\n"
     ]
    }
   ],
   "source": [
    "# blast_record has to be read with NCBIXML each time you call the for loop\n",
    "blast_result_handle = open('blast_output.xml')\n",
    "blast_record = NCBIXML.read(blast_result_handle)\n",
    "\n",
    "for alignment in blast_record.alignments:\n",
    "    print(alignment.title.split('>')[0])\n",
    "    for hsp in alignment.hsps:\n",
    "        print('score: ', hsp.score)\n",
    "        print('expected value: ', hsp.expect)\n",
    "        print('number of exact matches: ', hsp.identities)\n",
    "        print('number of aligned letters: ', hsp.align_length)\n",
    "        print('First 100 characters aligned: \\n') # for visual clarity only showing first 100 characters\n",
    "        print(hsp.query[:100])\n",
    "        print(hsp.match[:100])\n",
    "        print(hsp.sbjct[:100])\n",
    "        print('\\n')\n",
    "        break"
   ]
  },
  {
   "source": [
    "In practice, we may just want to extract certain bits of information from the BLAST search\n",
    "\n",
    "For example, we can extract a list of each genome we found a hit in"
   ],
   "cell_type": "markdown",
   "metadata": {}
  },
  {
   "cell_type": "code",
   "execution_count": 166,
   "metadata": {},
   "outputs": [
    {
     "output_type": "execute_result",
     "data": {
      "text/plain": [
       "[['gi|1908485171|gb|CP049486.1| Staphylococcus aureus strain pt228 chromosome, complete genome'],\n",
       " ['gi|2041328505|gb|CP071594.1| Staphylococcus aureus strain PNID0137 chromosome, complete genome'],\n",
       " ['gi|2030875670|gb|CP064434.1| Enterococcus faecium strain PR00859-7 plasmid unnamed_2, complete sequence'],\n",
       " ['gi|2006900978|dbj|AP024511.1| Staphylococcus aureus 2007-13 DNA, complete genome'],\n",
       " ['gi|1995591623|gb|CP070983.1| Staphylococcus aureus strain WBG8366 chromosome, complete genome']]"
      ]
     },
     "metadata": {},
     "execution_count": 166
    }
   ],
   "source": [
    "# blast_record has to be read with NCBIXML each time you call the for loop\n",
    "blast_result_handle = open('blast_output.xml')\n",
    "blast_record = NCBIXML.read(blast_result_handle)\n",
    "\n",
    "store_data = []\n",
    "\n",
    "for alignment in blast_record.alignments:\n",
    "    hit_title = alignment.title.split('>')\n",
    "    store_data.append(hit_title)\n",
    "\n",
    "store_data"
   ]
  },
  {
   "source": [
    "This list shows us that although we searched for a Staphylococcus aureus sequence, we have found a match in a plasmid contained within an Enterococcus faecium strain.\n",
    "\n",
    "We can calculate strength in homology of each match. We do this by calculating the identity (number of identical bases between two sequences) and the query coverage (how many bases were aligned between the two sequences)"
   ],
   "cell_type": "markdown",
   "metadata": {}
  },
  {
   "cell_type": "code",
   "execution_count": 176,
   "metadata": {},
   "outputs": [
    {
     "output_type": "execute_result",
     "data": {
      "text/plain": [
       "[['gi|1908485171|gb|CP049486.1| Staphylococcus aureus strain pt228 chromosome, complete genome',\n",
       "  0.8173076923076923,\n",
       "  1.0],\n",
       " ['gi|2041328505|gb|CP071594.1| Staphylococcus aureus strain PNID0137 chromosome, complete genome',\n",
       "  0.8159340659340659,\n",
       "  1.0],\n",
       " ['gi|2030875670|gb|CP064434.1| Enterococcus faecium strain PR00859-7 plasmid unnamed_2, complete sequence',\n",
       "  0.8159340659340659,\n",
       "  1.0],\n",
       " ['gi|2006900978|dbj|AP024511.1| Staphylococcus aureus 2007-13 DNA, complete genome',\n",
       "  0.8159340659340659,\n",
       "  1.0],\n",
       " ['gi|1995591623|gb|CP070983.1| Staphylococcus aureus strain WBG8366 chromosome, complete genome',\n",
       "  0.8159340659340659,\n",
       "  1.0]]"
      ]
     },
     "metadata": {},
     "execution_count": 176
    }
   ],
   "source": [
    "# blast_record has to be read with NCBIXML each time you call the for loop\n",
    "blast_result_handle = open('blast_output.xml')\n",
    "blast_record = NCBIXML.read(blast_result_handle)\n",
    "\n",
    "store_data = []\n",
    "\n",
    "for alignment in blast_record.alignments:\n",
    "    for hsp in alignment.hsps:\n",
    "        # make variables for easier readibility\n",
    "        length_sbjct = len(hsp.sbjct)\n",
    "        length_query = len(hsp.query)\n",
    "        num_gaps = hsp.gaps\n",
    "        num_identities = hsp.identities\n",
    "        \n",
    "        # calculate identity\n",
    "        identity = num_identities/length_query\n",
    "\n",
    "        # calculate coverage\n",
    "        coverage = (length_sbjct-num_gaps)/length_query\n",
    "        \n",
    "        # append to store_data\n",
    "        store_data.append([alignment.title, identity, coverage])\n",
    "        break\n",
    "\n",
    "store_data"
   ]
  },
  {
   "source": [
    "Suprisingly, all sequences show 81.7% identity and 100% coverage to our query sequence, including the plasmid-borne version.\n",
    "\n",
    "This is just one utility of parsing BLAST outputs with Biopython. \n",
    "\n",
    "Another utility is to extract all the sequences that you have gotten through BLAST and writing them to a new file.\n",
    "\n",
    "---\n",
    "\n",
    "### Exercise 1a\n",
    "\n",
    "Use `SeqIO.read()` to read in the only sequence in `single_seq.fasta`\n",
    "\n",
    "`translate()` `record.seq` so that it has an amino acid sequence."
   ],
   "cell_type": "markdown",
   "metadata": {}
  },
  {
   "cell_type": "code",
   "execution_count": 177,
   "metadata": {},
   "outputs": [
    {
     "output_type": "execute_result",
     "data": {
      "text/plain": [
       "SeqRecord(seq=Seq('MNQKNPKDTQNFITSKKHVKEILNHTNISKQDNVIEIGSGKGHFTKELVKMSRS...LFH', ExtendedIUPACProtein()), id='ERMA_STAAR', name='ERMA_STAAR', description='ERMA_STAAR Q6GKQ0 rRNA adenine N-6-methyltransferase OS=Staphylococcus aureus (strain MRSA252) OX=282458 GN=ermA1 PE=3 SV=1', dbxrefs=[])"
      ]
     },
     "metadata": {},
     "execution_count": 177
    }
   ],
   "source": [
    "record = SeqIO.___('___.fasta','fasta')\n",
    "\n",
    "record.seq = record.seq.___()\n",
    "record"
   ]
  },
  {
   "source": [
    "### Exercise 1b\n",
    "\n",
    "Specify the `qblast()` program to be `'blastp'`, with the `'nr'` database. Make the number of max number of hits equal to `4`.\n",
    "\n",
    "Afterwards, store the blast output in the file `'day5_1b_output.xml'` "
   ],
   "cell_type": "markdown",
   "metadata": {}
  },
  {
   "cell_type": "code",
   "execution_count": 178,
   "metadata": {},
   "outputs": [],
   "source": [
    "blast_results = qblast(program='___', database='___', sequence=record.seq, hitlist_size=___)\n",
    "\n",
    "output_file = open('___.xml', 'w')\n",
    "output_file.write(blast_results.read())\n",
    "output_file.close()\n",
    "blast_results.close()"
   ]
  },
  {
   "source": [
    "### Exercise 1c:\n",
    "\n",
    "Read the contents of `blast_result_handle` with `NCBIXML.read` and assign the contents  to `blast_record`.\n",
    "\n",
    "Print the `alignment.title` in each `blast_record.alignment`. Is there something unexpected?"
   ],
   "cell_type": "markdown",
   "metadata": {}
  },
  {
   "cell_type": "code",
   "execution_count": 181,
   "metadata": {},
   "outputs": [
    {
     "output_type": "stream",
     "name": "stdout",
     "text": [
      "gb|ETJ08129.1| rRNA adenine N-6-methyltransferase, partial [Streptococcus parasanguinis DORA_23_24]\n\n\ngb|EXM57106.1| rRNA adenine N-6-methyltransferase [Staphylococcus aureus DAR133]\n\n\nref|WP_001072201.1| MULTISPECIES: 23S rRNA (adenine(2058)-N(6))-methyltransferase Erm(A) [Bacilli] >sp|P0A0H1.1| RecName: Full=rRNA adenine N-6-methyltransferase; AltName: Full=Erythromycin resistance protein; AltName: Full=Macrolide-lincosamide-streptogramin B resistance protein [Staphylococcus aureus subsp. aureus Mu50] >sp|P0A0H2.1| RecName: Full=rRNA adenine N-6-methyltransferase; AltName: Full=Erythromycin resistance protein; AltName: Full=Macrolide-lincosamide-streptogramin B resistance protein [Staphylococcus aureus subsp. aureus N315] >sp|P0A0H3.1| RecName: Full=rRNA adenine N-6-methyltransferase; AltName: Full=Erythromycin resistance protein; AltName: Full=Macrolide-lincosamide-streptogramin B resistance protein [Staphylococcus aureus] >sp|Q6GKQ0.1| RecName: Full=rRNA adenine N-6-methyltransferase; AltName: Full=Erythromycin resistance protein; AltName: Full=Macrolide-lincosamide-streptogramin B resistance protein [Staphylococcus aureus subsp. aureus MRSA252] >gb|EGO8568860.1| 23S rRNA (adenine(2058)-N(6))-methyltransferase Erm(A) [Enterococcus faecalis] >gb|EGP5183003.1| 23S rRNA (adenine(2058)-N(6))-methyltransferase Erm(A) [Enterococcus hirae] >gb|EHS14301.1| rRNA adenine N-6-methyltransferase [Staphylococcus aureus subsp. aureus IS-99] >gb|EHS72760.1| rRNA adenine N-6-methyltransferase [Staphylococcus aureus subsp. aureus IS-125] >gb|EHS75181.1| rRNA adenine N-6-methyltransferase [Staphylococcus aureus subsp. aureus IS-189] >gb|ENK62286.1| rRNA adenine N-6-methyltransferase [Staphylococcus aureus M0562] >gb|EUY42749.1| rRNA adenine N-6-methyltransferase [Staphylococcus aureus M0406] >gb|MBD4026367.1| 23S rRNA (adenine(2058)-N(6))-methyltransferase Erm(A) [Staphylococcus aureus] >emb|CBA13539.1| adenine methylase [Staphylococcus rostri] >emb|CBY88979.1| rRNA methylase [Staphylococcus aureus subsp. aureus ST398] >tpg|HAR4218314.1| 23S rRNA (adenine(2058)-N(6))-methyltransferase Erm(A) [Staphylococcus aureus ADL-227] >tpg|HAR4232287.1| 23S rRNA (adenine(2058)-N(6))-methyltransferase Erm(A) [Staphylococcus aureus ADL-331] >tpg|HAR4238652.1| 23S rRNA (adenine(2058)-N(6))-methyltransferase Erm(A) [Staphylococcus aureus ADL-330]\n\n\ngb|ALY18984.1| rRNA adenine N-6-methyltransferase [Staphylococcus aureus] >gb|EUQ74542.1| rRNA adenine N-6-methyltransferase [Staphylococcus aureus FVRH6001]\n\n\nemb|CAC5857653.1| rRNA adenine N-6-methyltransferase [Staphylococcus aureus]\n\n\n"
     ]
    }
   ],
   "source": [
    "# blast_record has to be read with NCBIXML each time you call the for loop\n",
    "blast_result_handle = open('day5_1b_output.xml')\n",
    "___ = ___.read(blast_result_handle)\n",
    "\n",
    "for alignment in blast_record.alignments:\n",
    "    print(alignment.___)\n",
    "    print('\\n')"
   ]
  },
  {
   "source": [
    "### Exercise 1d\n",
    "\n",
    " If we look at the above output, we can see that the third alignment title has the term MULTISPECIES in it. This term denotes a sequence that is identical sequence in found in multiple species. When this happens, NCBI has its `alignment.title` as a long string with all the different species names. \n",
    " \n",
    " But we just want to shorten the name for our purposes.\n",
    "\n",
    " We can see that the `alignment.title` with the MULTISPECIES term has each different species separated by a `>`. We can extract the contents of `alignment.title` using  `split()` and keep only the first species that is found.\n"
   ],
   "cell_type": "markdown",
   "metadata": {}
  },
  {
   "cell_type": "code",
   "execution_count": 184,
   "metadata": {},
   "outputs": [
    {
     "output_type": "stream",
     "name": "stdout",
     "text": [
      "gb|ETJ08129.1| rRNA adenine N-6-methyltransferase, partial [Streptococcus parasanguinis DORA_23_24]\n\n\ngb|EXM57106.1| rRNA adenine N-6-methyltransferase [Staphylococcus aureus DAR133]\n\n\nref|WP_001072201.1| MULTISPECIES: 23S rRNA (adenine(2058)-N(6))-methyltransferase Erm(A) [Bacilli] \n\n\ngb|ALY18984.1| rRNA adenine N-6-methyltransferase [Staphylococcus aureus] \n\n\nemb|CAC5857653.1| rRNA adenine N-6-methyltransferase [Staphylococcus aureus]\n\n\n"
     ]
    }
   ],
   "source": [
    "# blast_record has to be read with NCBIXML each time you call the for loop\n",
    "blast_result_handle = open('day5_1b_output.xml')\n",
    "___ = ___.read(blast_result_handle)\n",
    "\n",
    "for ___ in blast_record.alignments:\n",
    "    # use split() on alignment.title\n",
    "    new_alignment_title = alignment.title.___('>')\n",
    "\n",
    "    #select the first item in new_alignment_title, assign it back to new_alignment_title\n",
    "    new_alignment_title = ___[0]\n",
    "\n",
    "    # print the new title\n",
    "    print(new_alignment_title)\n",
    "    print('\\n') # for clarity"
   ]
  },
  {
   "source": [
    "### Exercise 1f\n",
    "\n",
    "Now we want to extract the new alignment title and the sequence for each hit so that we can write them to a `fasta` file\n",
    "\n",
    "Convert the `hsp.sbjct` sequence into a `Seq()` object. \n",
    "\n",
    "Afterwards, make a `SeqRecord` object from the extracted sequence and the extracted title.\n",
    "\n",
    "Store the `new_alignment_title` and the `hsp.sbjct` in the list `data_store` \n",
    "\n",
    "Read the code comments for clues!"
   ],
   "cell_type": "markdown",
   "metadata": {}
  },
  {
   "cell_type": "code",
   "execution_count": 195,
   "metadata": {},
   "outputs": [
    {
     "output_type": "execute_result",
     "data": {
      "text/plain": [
       "[SeqRecord(seq=Seq('MNQKNPKDTQNFITSKKHVKEILNHTNISKQDNVIEIGSGKGHFTKELVKMSRS...LFH'), id='gb|ETJ08129.1| rRNA adenine N-6-methyltransferase, partial [Streptococcus parasanguinis DORA_23_24]', name='<unknown name>', description='', dbxrefs=[]),\n",
       " SeqRecord(seq=Seq('MNQKNPKDTQNFITSKKHVKEILNHTNISKQDNVIEIGSGKGHFTKELVKMSRS...LFH'), id='gb|EXM57106.1| rRNA adenine N-6-methyltransferase [Staphylococcus aureus DAR133]', name='<unknown name>', description='', dbxrefs=[]),\n",
       " SeqRecord(seq=Seq('MNQKNPKDTQNFITSKKHVKEILNHTNISKQDNVIEIGSGKGHFTKELVKMSRS...LFH'), id='ref|WP_001072201.1| MULTISPECIES: 23S rRNA (adenine(2058)-N(6))-methyltransferase Erm(A) [Bacilli] ', name='<unknown name>', description='', dbxrefs=[]),\n",
       " SeqRecord(seq=Seq('MNQKNPKDTQNFITSKKHVKEILNHTNISKQDNVIEIGSGKGHFTKELVKMSRS...LFH'), id='gb|ALY18984.1| rRNA adenine N-6-methyltransferase [Staphylococcus aureus] ', name='<unknown name>', description='', dbxrefs=[]),\n",
       " SeqRecord(seq=Seq('MNQKNPKDTQNFITSKKHVKEILNHTNISKQDNVIEIGSGKGHFTKELVKMSRS...LFH'), id='emb|CAC5857653.1| rRNA adenine N-6-methyltransferase [Staphylococcus aureus]', name='<unknown name>', description='', dbxrefs=[])]"
      ]
     },
     "metadata": {},
     "execution_count": 195
    }
   ],
   "source": [
    "from Bio.SeqRecord import SeqRecord\n",
    "\n",
    "data_store = []\n",
    "\n",
    "# blast_record has to be read with NCBIXML each time you call the for loop\n",
    "blast_result_handle = open('day5_1b_output.xml')\n",
    "___ = ___.read(blast_result_handle)\n",
    "\n",
    "for alignment in blast_record.alignments:\n",
    "    # use split()\n",
    "    new_alignment_title = alignment.title.___('>')\n",
    "\n",
    "    #select the first item in new_alignment_title, assign it back to new_alignment_title\n",
    "    new_alignment_title = ___[0]\n",
    "\n",
    "    # assign hsp.sbjct to sbjct_sequence\n",
    "    for hsp in alignment.hsps:\n",
    "        sbjct_sequence = hsp.___\n",
    "        break\n",
    "    \n",
    "    # Make a Seq object out of sbjct_sequence, Assign it to extracted_sequence \n",
    "    extracted_sequence = Seq(___)\n",
    "\n",
    "    # make a SeqRecord object called extracted_record. The first item will be the sequence, id is the new alignment title\n",
    "    extracted_record = SeqRecord(___, id = ___, description = '')\n",
    "\n",
    "    # store the SeqRecord in a list\n",
    "    data_store.append(extracted_record)\n",
    "data_store"
   ]
  },
  {
   "source": [
    "### Exercise 1g\n",
    "\n",
    "Use `SeqIO.write()` to write the contents of `data_store` to a file called `'day5_1g.fasta'`. Specify the output file to be of type `'fasta'`\n",
    "\n"
   ],
   "cell_type": "markdown",
   "metadata": {}
  },
  {
   "cell_type": "code",
   "execution_count": 196,
   "metadata": {},
   "outputs": [
    {
     "output_type": "execute_result",
     "data": {
      "text/plain": [
       "5"
      ]
     },
     "metadata": {},
     "execution_count": 196
    }
   ],
   "source": [
    "SeqIO.___(___,'day5_1g.fasta','___')"
   ]
  },
  {
   "source": [
    "# Section 2: BLAST with fastq reads\n",
    "\n",
    "One quick method for checking whether your reads actually belong to the organism you are studying is to BLAST some of the reads against the NCBI database.\n",
    "\n",
    "Unlike in our above code where we were supplied `qlbast()` with just **one** sequence to BLAST, here we want to BLAST several sequences, and have each give its own result.\n",
    "\n",
    "Before we can do that, though, we need to convert our reads from `fastq` format to `fasta` format.\n"
   ],
   "cell_type": "markdown",
   "metadata": {}
  },
  {
   "source": [
    "We will start by reading in the fastq file `short_reads.fastq`, which contains reads from whole-genome sequencing of a Pseudomonas monteilii strain. \n",
    "\n",
    "We will extract their `record.id` and `record.seq` and store them in a list."
   ],
   "cell_type": "markdown",
   "metadata": {}
  },
  {
   "cell_type": "code",
   "execution_count": 218,
   "metadata": {},
   "outputs": [
    {
     "output_type": "stream",
     "name": "stdout",
     "text": [
      "ID: M05164:33:000000000-BGDN6:1:1101:9154:2416\nName: <unknown name>\nNumber of features: 0\nSeq('GCCCAGGTTCAACAACATCTCCTCGCGCTGCGGCTTCAGGTATTGGTGTCCGAC...CCA', SingleLetterAlphabet())\nID: M05164:33:000000000-BGDN6:1:1101:16178:2450\nName: <unknown name>\nNumber of features: 0\nSeq('GTATCAATCAACGTGCGGCGCTGATCGTTACCTTCAGAGTAACTGTTCCGAGCA...CCA', SingleLetterAlphabet())\nID: M05164:33:000000000-BGDN6:1:1101:16201:2387\nName: <unknown name>\nNumber of features: 0\nSeq('CCCAGTATGAATAGATATTAAACAAGCACCATCACCTTAAAAATCACTGGTGCC...CCA', SingleLetterAlphabet())\nID: M05164:33:000000000-BGDN6:1:1101:24424:2376\nName: <unknown name>\nNumber of features: 0\nSeq('CGTCTCCTGTCTCAGGTGGACTGGGTCATCCATGCCGCCGCCATTACACGGCTG...GCC', SingleLetterAlphabet())\n"
     ]
    },
    {
     "output_type": "execute_result",
     "data": {
      "text/plain": [
       "4"
      ]
     },
     "metadata": {},
     "execution_count": 218
    }
   ],
   "source": [
    "# empty list to store modified sequence records\n",
    "extracted_seqs = []\n",
    "\n",
    "for record in SeqIO.parse('short_reads.fastq', 'fastq'):\n",
    "    # get the id and sequence assigned to two new variables\n",
    "    read_id = record.id\n",
    "    dna_seq = record.seq\n",
    "    \n",
    "    # format them into a SeqRecord. keep description empty\n",
    "    new_record = SeqRecord(dna_seq, id = read_id, description = '')\n",
    "\n",
    "    # append to extracted_seqs\n",
    "    extracted_seqs.append(new_record)\n",
    "\n",
    "    print(new_record)\n",
    "\n",
    "\n",
    "SeqIO.write(extracted_seqs, 'short_fasta_reads.fasta','fasta')"
   ]
  },
  {
   "source": [
    "Now that we have our reads in fasta format, we can supply the whole all the sequences at once to `qblast()`.\n",
    "\n",
    "We are setting our `hitlist_size` to 1. This is because we want to keep our results simple: one sequence homology BLAST hit per read. We will also ask that it"
   ],
   "cell_type": "markdown",
   "metadata": {}
  },
  {
   "cell_type": "code",
   "execution_count": 219,
   "metadata": {},
   "outputs": [],
   "source": [
    "# open short read fasta sequences using open() \n",
    "read_seqs = open('short_fasta_reads.fasta')\n",
    "# place the contents of read_seq into memory with read()\n",
    "read_seqs_memory = read_seqs.read()\n",
    "# supply qblast parameters\n",
    "blast_results = qblast(program='blastn', database='nr', sequence=read_seqs_memory, hitlist_size=1)\n",
    "\n",
    "# write the contents of the blast result to a file called 'short_read_blast_results.xml'\n",
    "output_file = open('short_read_blast_results.xml', 'w')\n",
    "output_file.write(blast_results.read())\n",
    "\n",
    "# close the output file\n",
    "output_file.close()\n",
    "# close the blast_results file\n",
    "blast_results.close()\n",
    "# close the fasta file\n",
    "read_seqs.close()"
   ]
  },
  {
   "cell_type": "code",
   "execution_count": 248,
   "metadata": {},
   "outputs": [
    {
     "output_type": "stream",
     "name": "stdout",
     "text": [
      "Read ID:  M05164:33:000000000-BGDN6:1:1101:9154:2416\nHit title: , gi|982198872|gb|CP013997.1| Pseudomonas monteilii strain USDA-ARS-USMARC-56711, complete genome\n\n\nRead ID:  M05164:33:000000000-BGDN6:1:1101:16178:2450\nHit title: , gi|1963973487|emb|LR991037.1| Cosmia trapezina genome assembly, chromosome: 18\n\n\nRead ID:  M05164:33:000000000-BGDN6:1:1101:16201:2387\nHit title: , gi|982198872|gb|CP013997.1| Pseudomonas monteilii strain USDA-ARS-USMARC-56711, complete genome\n\n\nRead ID:  M05164:33:000000000-BGDN6:1:1101:24424:2376\nHit title: , gi|1524514342|gb|CP027762.1| Pseudomonas sp. LBUM920 chromosome, complete genome\n\n\n"
     ]
    }
   ],
   "source": [
    "blast_result_handle = open('short_read_blast_results.xml') # open the blast output file\n",
    "blast_records = NCBIXML.parse(blast_result_handle) # use parse to read a blast result with more than one query\n",
    "\n",
    "for blast_record in blast_records:\n",
    "    print('Read ID: ', blast_record.query)\n",
    "    for alignment in blast_record.alignments:\n",
    "        print('Hit title: ,', alignment.title)\n",
    "    print('\\n')"
   ]
  },
  {
   "source": [
    "We expected to see Pseudomonas only matches. However, the second read matches Cosmia trapezina. In the next exercise let's re-run our blast search and allow for 10 matches per query."
   ],
   "cell_type": "markdown",
   "metadata": {}
  },
  {
   "source": [
    "---\n",
    "\n",
    "### Exercise 2a\n",
    "\n",
    "Submit the sequences in `'short_fasta_reads.fasta'` to `qblast()`.\n",
    "\n",
    "Use program `'blastn'`, the `'nr'` database, sequence `read_seqs_memory`, and set `hitlist_size` to `5`\n",
    "\n",
    "Write the contents to a file called `'day5_2a.xml'`\n"
   ],
   "cell_type": "markdown",
   "metadata": {}
  },
  {
   "cell_type": "code",
   "execution_count": 232,
   "metadata": {},
   "outputs": [],
   "source": [
    "# open short read fasta sequences using open() \n",
    "read_seqs = open('short_fasta_reads.fasta')\n",
    "# place the contents of read_seq into memory with read()\n",
    "read_seqs_memory = read_seqs.read()\n",
    "# supply qblast parameters\n",
    "blast_results = qblast(program='___', database='___', sequence=___, hitlist_size=___)\n",
    "\n",
    "# write the contents of the blast_results to a file called 'short_read_blast_results.xml'\n",
    "output_file = open('day5_2a.xml', 'w')\n",
    "output_file.write(___.read())\n",
    "\n",
    "# close the output file\n",
    "output_file.___()\n",
    "# close the blast_results file\n",
    "____.close()\n",
    "# close the fasta file\n",
    "read_seqs.close()"
   ]
  },
  {
   "source": [
    "### Exercise 2b\n",
    "\n",
    "For each `blast_record`, print the `blast_record.query` in the blast result file, print the `alignment.title` of the hit."
   ],
   "cell_type": "markdown",
   "metadata": {}
  },
  {
   "cell_type": "code",
   "execution_count": 249,
   "metadata": {},
   "outputs": [
    {
     "output_type": "stream",
     "name": "stdout",
     "text": [
      "Read ID:  M05164:33:000000000-BGDN6:1:1101:9154:2416\nHit title: gi|982198872|gb|CP013997.1| Pseudomonas monteilii strain USDA-ARS-USMARC-56711, complete genome\nHit title: gi|675318909|gb|CP009048.1| Pseudomonas alkylphenolica strain KL28 chromosome, complete genome\nHit title: gi|2042583920|gb|CP071007.1| Pseudomonas sp. SORT22 chromosome, complete genome\nHit title: gi|1935551420|gb|CP062498.1| Pseudomonas sp. BIGb0427 chromosome\nHit title: gi|1339002592|gb|CP026386.1| Pseudomonas sp. PONIH3 chromosome, complete genome\nHit title: gi|684194542|gb|CP009365.1| Pseudomonas soli strain SJ10, complete genome\nHit title: gi|2063469783|gb|CP077075.1| Pseudomonas sp. COR54 chromosome, complete genome\nHit title: gi|1419237561|gb|CP030750.1| Pseudomonas putida strain NX-1 chromosome, complete genome\nHit title: gi|1024771698|gb|CP011789.1| Pseudomonas putida strain PC2, complete genome\nHit title: gi|2063614699|gb|CP077094.1| Pseudomonas sp. RW10S1 chromosome, complete genome\n\n\nRead ID:  M05164:33:000000000-BGDN6:1:1101:16178:2450\nHit title: gi|1594476705|gb|CP037922.1| Hymenobacter radiodurans strain 17J36-26 chromosome, complete genome\nHit title: gi|1963973487|emb|LR991037.1| Cosmia trapezina genome assembly, chromosome: 18\n\n\nRead ID:  M05164:33:000000000-BGDN6:1:1101:16201:2387\nHit title: gi|982198872|gb|CP013997.1| Pseudomonas monteilii strain USDA-ARS-USMARC-56711, complete genome\nHit title: gi|1850326283|gb|CP054128.1| Pseudomonas sp. MPDS chromosome, complete genome\nHit title: gi|1373984073|gb|CP024081.1| Pseudomonas sp. s211(2017) chromosome\nHit title: gi|1131747818|emb|LT707062.1| Pseudomonas sp. A214 genome assembly, chromosome: I\nHit title: gi|829490642|gb|CP011020.1| Pseudomonas chlororaphis strain UFB2, complete genome\nHit title: gi|2030785245|dbj|AP021902.1| Pseudomonas sp. Cab53 DNA, complete genome\nHit title: gi|1940203818|gb|CP065421.1| Priestia aryabhattai strain GW320 chromosome, complete genome\nHit title: gi|2063533351|gb|CP077080.1| Pseudomonas sp. SWRI17 chromosome, complete genome\nHit title: gi|1950053526|gb|CP066306.1| Pseudomonas putida strain BR-PH17 chromosome, complete genome\nHit title: gi|169757190|gb|CP000949.1| Pseudomonas putida W619 chromosome, complete genome\n\n\nRead ID:  M05164:33:000000000-BGDN6:1:1101:24424:2376\nHit title: gi|1524514342|gb|CP027762.1| Pseudomonas sp. LBUM920 chromosome, complete genome\nHit title: gi|387159426|gb|CP003041.1| Pseudomonas fluorescens A506, complete genome\nHit title: gi|1836296538|gb|CP052856.1| Pseudomonas sp. ADAK22 chromosome, complete genome\nHit title: gi|2034361303|gb|CP074078.1| Pseudomonas synxantha strain 27 chromosome, complete genome\nHit title: gi|2051040154|emb|LR027557.1| Pseudomonas synxantha strain 10586 genome assembly, chromosome: 1\nHit title: gi|1929380962|gb|CP063780.1| Pseudomonas sp. OST1909 chromosome, complete genome\nHit title: gi|1524482411|gb|CP027732.1| Pseudomonas sp. R4-35-07 chromosome, complete genome\nHit title: gi|1524477001|gb|CP027731.1| Pseudomonas sp. R2-60-08W chromosome, complete genome\nHit title: gi|1524471553|gb|CP027730.1| Pseudomonas sp. R3-52-08 chromosome, complete genome\nHit title: gi|1958395023|gb|CP068151.1| Pseudomonas fluorescens strain FDAARGOS_1088 chromosome, complete genome\n\n\n"
     ]
    }
   ],
   "source": [
    "blast_result_handle = open('day5_2a.xml') # open the blast output file\n",
    "blast_records = NCBIXML.parse(blast_result_handle) # use parse to read a blast result with more than one query\n",
    "\n",
    "for ___ in blast_records:\n",
    "    print('Read ID: ', ___.___)\n",
    "    for alignment in blast_record.alignments:\n",
    "        print('Hit title:', alignment.___)\n",
    "    print('\\n')"
   ]
  },
  {
   "source": [
    "### Exercise 2c\n",
    "\n",
    "Our results indicate that most reads return Pseudomonas matches, which is expected. However, read 2 had only two total hits found (and had up to 10 hits available to return). This suggests that read 2 is not contamination, but just a bad read. We can determine whether this is the case by examining the strength of the homology of our reads. If the homology strength for read 2 is high, then it is a contaminant read. If it is low, it is likely that it is simply a low-quality read.\n",
    "\n",
    "For each query in the blast result file, print the `alignment.title` of the hit and the `hsp.expect` (e-value) within `alignment.hsps` to get the strength of homology\n",
    "\n"
   ],
   "cell_type": "markdown",
   "metadata": {}
  },
  {
   "cell_type": "code",
   "execution_count": 241,
   "metadata": {},
   "outputs": [
    {
     "output_type": "stream",
     "name": "stdout",
     "text": [
      "Hit title: gi|982198872|gb|CP013997.1| Pseudomonas monteilii strain USDA-ARS-USMARC-56711, complete genome\nExpected_value:  7.0221e-29\nHit title: gi|675318909|gb|CP009048.1| Pseudomonas alkylphenolica strain KL28 chromosome, complete genome\nExpected_value:  1.6529e-11\nHit title: gi|2042583920|gb|CP071007.1| Pseudomonas sp. SORT22 chromosome, complete genome\nExpected_value:  2.45312e-09\nHit title: gi|1935551420|gb|CP062498.1| Pseudomonas sp. BIGb0427 chromosome\nExpected_value:  2.45312e-09\nHit title: gi|1339002592|gb|CP026386.1| Pseudomonas sp. PONIH3 chromosome, complete genome\nExpected_value:  0.000658263\nHit title: gi|684194542|gb|CP009365.1| Pseudomonas soli strain SJ10, complete genome\nExpected_value:  0.000658263\nHit title: gi|2063469783|gb|CP077075.1| Pseudomonas sp. COR54 chromosome, complete genome\nExpected_value:  0.000658263\nHit title: gi|1419237561|gb|CP030750.1| Pseudomonas putida strain NX-1 chromosome, complete genome\nExpected_value:  0.00801929\nHit title: gi|1024771698|gb|CP011789.1| Pseudomonas putida strain PC2, complete genome\nExpected_value:  0.00801929\nHit title: gi|2063614699|gb|CP077094.1| Pseudomonas sp. RW10S1 chromosome, complete genome\nExpected_value:  0.00801929\n\n\nHit title: gi|1594476705|gb|CP037922.1| Hymenobacter radiodurans strain 17J36-26 chromosome, complete genome\nExpected_value:  4.28391\nHit title: gi|1963973487|emb|LR991037.1| Cosmia trapezina genome assembly, chromosome: 18\nExpected_value:  4.28391\n\n\nHit title: gi|982198872|gb|CP013997.1| Pseudomonas monteilii strain USDA-ARS-USMARC-56711, complete genome\nExpected_value:  1.61577e-24\nHit title: gi|1850326283|gb|CP054128.1| Pseudomonas sp. MPDS chromosome, complete genome\nExpected_value:  7.83915e-16\nHit title: gi|1373984073|gb|CP024081.1| Pseudomonas sp. s211(2017) chromosome\nExpected_value:  7.83915e-16\nHit title: gi|1131747818|emb|LT707062.1| Pseudomonas sp. A214 genome assembly, chromosome: I\nExpected_value:  7.83915e-16\nHit title: gi|829490642|gb|CP011020.1| Pseudomonas chlororaphis strain UFB2, complete genome\nExpected_value:  3.33329e-14\nHit title: gi|2030785245|dbj|AP021902.1| Pseudomonas sp. Cab53 DNA, complete genome\nExpected_value:  3.33329e-14\nHit title: gi|1940203818|gb|CP065421.1| Priestia aryabhattai strain GW320 chromosome, complete genome\nExpected_value:  1.16343e-13\nHit title: gi|2063533351|gb|CP077080.1| Pseudomonas sp. SWRI17 chromosome, complete genome\nExpected_value:  4.06078e-13\nHit title: gi|1950053526|gb|CP066306.1| Pseudomonas putida strain BR-PH17 chromosome, complete genome\nExpected_value:  4.94704e-12\nHit title: gi|169757190|gb|CP000949.1| Pseudomonas putida W619 chromosome, complete genome\nExpected_value:  4.94704e-12\n\n\nHit title: gi|1524514342|gb|CP027762.1| Pseudomonas sp. LBUM920 chromosome, complete genome\nExpected_value:  2.68022e-60\nHit title: gi|387159426|gb|CP003041.1| Pseudomonas fluorescens A506, complete genome\nExpected_value:  2.68022e-60\nHit title: gi|1836296538|gb|CP052856.1| Pseudomonas sp. ADAK22 chromosome, complete genome\nExpected_value:  1.13966e-58\nHit title: gi|2034361303|gb|CP074078.1| Pseudomonas synxantha strain 27 chromosome, complete genome\nExpected_value:  1.13966e-58\nHit title: gi|2051040154|emb|LR027557.1| Pseudomonas synxantha strain 10586 genome assembly, chromosome: 1\nExpected_value:  1.38839e-57\nHit title: gi|1929380962|gb|CP063780.1| Pseudomonas sp. OST1909 chromosome, complete genome\nExpected_value:  5.90357e-56\nHit title: gi|1524482411|gb|CP027732.1| Pseudomonas sp. R4-35-07 chromosome, complete genome\nExpected_value:  2.06055e-55\nHit title: gi|1524477001|gb|CP027731.1| Pseudomonas sp. R2-60-08W chromosome, complete genome\nExpected_value:  2.06055e-55\nHit title: gi|1524471553|gb|CP027730.1| Pseudomonas sp. R3-52-08 chromosome, complete genome\nExpected_value:  2.06055e-55\nHit title: gi|1958395023|gb|CP068151.1| Pseudomonas fluorescens strain FDAARGOS_1088 chromosome, complete genome\nExpected_value:  7.19202e-55\n\n\n"
     ]
    }
   ],
   "source": [
    "blast_result_handle = open('day5_2a.xml') # open the blast output file\n",
    "blast_records = ___.___(blast_result_handle) # use NCBIXML.parse to read a blast result with more than one query\n",
    "\n",
    "for ___ in blast_records:\n",
    "    print('Read ID: ', blast_record.___)\n",
    "    for alignment in blast_record.alignments:\n",
    "        print('Hit title:', alignment.title)\n",
    "        for ___ in alignment.hsps:\n",
    "            print('Expected value: ', hsp.expect)\n",
    "    print('\\n')"
   ]
  },
  {
   "source": [
    "### Exercise 2d\n",
    "\n",
    "From our results we can see two things. Most hits have a very [low e-value](http://resources.qiagenbioinformatics.com/manuals/clcgenomicsworkbench/650/_E_value.html#:~:text=The%20default%20threshold%20for%20the,%3C%2010e%2D100%20Identical%20sequences) (less than 1 ). Hits to read 2 have e-values of 4.\n",
    "\n",
    "Create a variable called `e_value_threshold` with a value of `0.0001`\n",
    "\n",
    "Let's filter our results so that only `hsp.expect` (evalues) of a certain value are printed."
   ],
   "cell_type": "markdown",
   "metadata": {}
  },
  {
   "cell_type": "code",
   "execution_count": 245,
   "metadata": {},
   "outputs": [
    {
     "output_type": "stream",
     "name": "stdout",
     "text": [
      "Read ID:  M05164:33:000000000-BGDN6:1:1101:9154:2416\nHit title: gi|982198872|gb|CP013997.1| Pseudomonas monteilii strain USDA-ARS-USMARC-56711, complete genome\nExpected value:  7.0221e-29\nHit title: gi|675318909|gb|CP009048.1| Pseudomonas alkylphenolica strain KL28 chromosome, complete genome\nExpected value:  1.6529e-11\nHit title: gi|2042583920|gb|CP071007.1| Pseudomonas sp. SORT22 chromosome, complete genome\nExpected value:  2.45312e-09\nHit title: gi|1935551420|gb|CP062498.1| Pseudomonas sp. BIGb0427 chromosome\nExpected value:  2.45312e-09\nHit title: gi|1339002592|gb|CP026386.1| Pseudomonas sp. PONIH3 chromosome, complete genome\nExpected value: did not pass\nHit title: gi|684194542|gb|CP009365.1| Pseudomonas soli strain SJ10, complete genome\nExpected value: did not pass\nHit title: gi|2063469783|gb|CP077075.1| Pseudomonas sp. COR54 chromosome, complete genome\nExpected value: did not pass\nHit title: gi|1419237561|gb|CP030750.1| Pseudomonas putida strain NX-1 chromosome, complete genome\nExpected value: did not pass\nHit title: gi|1024771698|gb|CP011789.1| Pseudomonas putida strain PC2, complete genome\nExpected value: did not pass\nHit title: gi|2063614699|gb|CP077094.1| Pseudomonas sp. RW10S1 chromosome, complete genome\nExpected value: did not pass\n\n\nRead ID:  M05164:33:000000000-BGDN6:1:1101:16178:2450\nHit title: gi|1594476705|gb|CP037922.1| Hymenobacter radiodurans strain 17J36-26 chromosome, complete genome\nExpected value: did not pass\nHit title: gi|1963973487|emb|LR991037.1| Cosmia trapezina genome assembly, chromosome: 18\nExpected value: did not pass\n\n\nRead ID:  M05164:33:000000000-BGDN6:1:1101:16201:2387\nHit title: gi|982198872|gb|CP013997.1| Pseudomonas monteilii strain USDA-ARS-USMARC-56711, complete genome\nExpected value:  1.61577e-24\nHit title: gi|1850326283|gb|CP054128.1| Pseudomonas sp. MPDS chromosome, complete genome\nExpected value:  7.83915e-16\nHit title: gi|1373984073|gb|CP024081.1| Pseudomonas sp. s211(2017) chromosome\nExpected value:  7.83915e-16\nHit title: gi|1131747818|emb|LT707062.1| Pseudomonas sp. A214 genome assembly, chromosome: I\nExpected value:  7.83915e-16\nHit title: gi|829490642|gb|CP011020.1| Pseudomonas chlororaphis strain UFB2, complete genome\nExpected value:  3.33329e-14\nHit title: gi|2030785245|dbj|AP021902.1| Pseudomonas sp. Cab53 DNA, complete genome\nExpected value:  3.33329e-14\nHit title: gi|1940203818|gb|CP065421.1| Priestia aryabhattai strain GW320 chromosome, complete genome\nExpected value:  1.16343e-13\nHit title: gi|2063533351|gb|CP077080.1| Pseudomonas sp. SWRI17 chromosome, complete genome\nExpected value:  4.06078e-13\nHit title: gi|1950053526|gb|CP066306.1| Pseudomonas putida strain BR-PH17 chromosome, complete genome\nExpected value:  4.94704e-12\nHit title: gi|169757190|gb|CP000949.1| Pseudomonas putida W619 chromosome, complete genome\nExpected value:  4.94704e-12\n\n\nRead ID:  M05164:33:000000000-BGDN6:1:1101:24424:2376\nHit title: gi|1524514342|gb|CP027762.1| Pseudomonas sp. LBUM920 chromosome, complete genome\nExpected value:  2.68022e-60\nHit title: gi|387159426|gb|CP003041.1| Pseudomonas fluorescens A506, complete genome\nExpected value:  2.68022e-60\nHit title: gi|1836296538|gb|CP052856.1| Pseudomonas sp. ADAK22 chromosome, complete genome\nExpected value:  1.13966e-58\nHit title: gi|2034361303|gb|CP074078.1| Pseudomonas synxantha strain 27 chromosome, complete genome\nExpected value:  1.13966e-58\nHit title: gi|2051040154|emb|LR027557.1| Pseudomonas synxantha strain 10586 genome assembly, chromosome: 1\nExpected value:  1.38839e-57\nHit title: gi|1929380962|gb|CP063780.1| Pseudomonas sp. OST1909 chromosome, complete genome\nExpected value:  5.90357e-56\nHit title: gi|1524482411|gb|CP027732.1| Pseudomonas sp. R4-35-07 chromosome, complete genome\nExpected value:  2.06055e-55\nHit title: gi|1524477001|gb|CP027731.1| Pseudomonas sp. R2-60-08W chromosome, complete genome\nExpected value:  2.06055e-55\nHit title: gi|1524471553|gb|CP027730.1| Pseudomonas sp. R3-52-08 chromosome, complete genome\nExpected value:  2.06055e-55\nHit title: gi|1958395023|gb|CP068151.1| Pseudomonas fluorescens strain FDAARGOS_1088 chromosome, complete genome\nExpected value:  7.19202e-55\n\n\n"
     ]
    }
   ],
   "source": [
    "blast_result_handle = open('day5_2a.xml') # open the blast output file\n",
    "blast_records = NCBIXML.parse(blast_result_handle) # use parse to read a blast result with more than one query\n",
    "\n",
    "e_value_threshold = ___\n",
    "\n",
    "for blast_record in blast_records:\n",
    "    print('Read ID: ', blast_record.query)\n",
    "    for alignment in blast_record.alignments:\n",
    "        print('Hit title:', alignment.title)\n",
    "        for ___ in alignment.hsps:\n",
    "            if hsp.___ <= e_value_threshold:\n",
    "                print('Expected value: ', hsp.expect)\n",
    "            else:\n",
    "                print('Expected value: did not pass')\n",
    "            break\n",
    "    print('\\n')"
   ]
  },
  {
   "source": [
    "### Exercise 2e\n",
    "\n",
    "We will now store our results to a list called `store_results` using `append()`"
   ],
   "cell_type": "markdown",
   "metadata": {}
  },
  {
   "source": [
    "blast_result_handle = open('day5_2a.xml') # open the blast output file\n",
    "blast_records = NCBIXML.parse(blast_result_handle) # use parse to read a blast result with more than one query\n",
    "\n",
    "store_results = ___\n",
    "\n",
    "___ = 0.0001\n",
    "\n",
    "for blast_record in blast_records:\n",
    "    # get the read_id\n",
    "    read_id = blast_record.query\n",
    "\n",
    "    for alignment in blast_record.alignments:\n",
    "        # get the name of the hit\n",
    "        hit_title = alignment.title\n",
    "\n",
    "        for hsp in alignment.hsps:\n",
    "            # get the evalue from hsp.expect\n",
    "            evalue = hsp.___\n",
    "\n",
    "            # get a qualitative result for the evalue threshold\n",
    "            if hsp.expect <= e_value_threshold:\n",
    "                evalue_pass = 1\n",
    "            else:\n",
    "                evalue_pass = 0\n",
    "            \n",
    "            # append to list\n",
    "            store_results.___([read_id, hit_title, evalue, evalue_pass])\n",
    "\n",
    "\n",
    "store_results"
   ],
   "cell_type": "code",
   "metadata": {},
   "execution_count": 250,
   "outputs": [
    {
     "output_type": "execute_result",
     "data": {
      "text/plain": [
       "[['M05164:33:000000000-BGDN6:1:1101:9154:2416',\n",
       "  'gi|982198872|gb|CP013997.1| Pseudomonas monteilii strain USDA-ARS-USMARC-56711, complete genome',\n",
       "  7.0221e-29,\n",
       "  1],\n",
       " ['M05164:33:000000000-BGDN6:1:1101:9154:2416',\n",
       "  'gi|675318909|gb|CP009048.1| Pseudomonas alkylphenolica strain KL28 chromosome, complete genome',\n",
       "  1.6529e-11,\n",
       "  1],\n",
       " ['M05164:33:000000000-BGDN6:1:1101:9154:2416',\n",
       "  'gi|2042583920|gb|CP071007.1| Pseudomonas sp. SORT22 chromosome, complete genome',\n",
       "  2.45312e-09,\n",
       "  1],\n",
       " ['M05164:33:000000000-BGDN6:1:1101:9154:2416',\n",
       "  'gi|1935551420|gb|CP062498.1| Pseudomonas sp. BIGb0427 chromosome',\n",
       "  2.45312e-09,\n",
       "  1],\n",
       " ['M05164:33:000000000-BGDN6:1:1101:9154:2416',\n",
       "  'gi|1339002592|gb|CP026386.1| Pseudomonas sp. PONIH3 chromosome, complete genome',\n",
       "  0.000658263,\n",
       "  0],\n",
       " ['M05164:33:000000000-BGDN6:1:1101:9154:2416',\n",
       "  'gi|684194542|gb|CP009365.1| Pseudomonas soli strain SJ10, complete genome',\n",
       "  0.000658263,\n",
       "  0],\n",
       " ['M05164:33:000000000-BGDN6:1:1101:9154:2416',\n",
       "  'gi|2063469783|gb|CP077075.1| Pseudomonas sp. COR54 chromosome, complete genome',\n",
       "  0.000658263,\n",
       "  0],\n",
       " ['M05164:33:000000000-BGDN6:1:1101:9154:2416',\n",
       "  'gi|1419237561|gb|CP030750.1| Pseudomonas putida strain NX-1 chromosome, complete genome',\n",
       "  0.00801929,\n",
       "  0],\n",
       " ['M05164:33:000000000-BGDN6:1:1101:9154:2416',\n",
       "  'gi|1024771698|gb|CP011789.1| Pseudomonas putida strain PC2, complete genome',\n",
       "  0.00801929,\n",
       "  0],\n",
       " ['M05164:33:000000000-BGDN6:1:1101:9154:2416',\n",
       "  'gi|2063614699|gb|CP077094.1| Pseudomonas sp. RW10S1 chromosome, complete genome',\n",
       "  0.00801929,\n",
       "  0],\n",
       " ['M05164:33:000000000-BGDN6:1:1101:16178:2450',\n",
       "  'gi|1594476705|gb|CP037922.1| Hymenobacter radiodurans strain 17J36-26 chromosome, complete genome',\n",
       "  4.28391,\n",
       "  0],\n",
       " ['M05164:33:000000000-BGDN6:1:1101:16178:2450',\n",
       "  'gi|1963973487|emb|LR991037.1| Cosmia trapezina genome assembly, chromosome: 18',\n",
       "  4.28391,\n",
       "  0],\n",
       " ['M05164:33:000000000-BGDN6:1:1101:16201:2387',\n",
       "  'gi|982198872|gb|CP013997.1| Pseudomonas monteilii strain USDA-ARS-USMARC-56711, complete genome',\n",
       "  1.61577e-24,\n",
       "  1],\n",
       " ['M05164:33:000000000-BGDN6:1:1101:16201:2387',\n",
       "  'gi|1850326283|gb|CP054128.1| Pseudomonas sp. MPDS chromosome, complete genome',\n",
       "  7.83915e-16,\n",
       "  1],\n",
       " ['M05164:33:000000000-BGDN6:1:1101:16201:2387',\n",
       "  'gi|1373984073|gb|CP024081.1| Pseudomonas sp. s211(2017) chromosome',\n",
       "  7.83915e-16,\n",
       "  1],\n",
       " ['M05164:33:000000000-BGDN6:1:1101:16201:2387',\n",
       "  'gi|1131747818|emb|LT707062.1| Pseudomonas sp. A214 genome assembly, chromosome: I',\n",
       "  7.83915e-16,\n",
       "  1],\n",
       " ['M05164:33:000000000-BGDN6:1:1101:16201:2387',\n",
       "  'gi|829490642|gb|CP011020.1| Pseudomonas chlororaphis strain UFB2, complete genome',\n",
       "  3.33329e-14,\n",
       "  1],\n",
       " ['M05164:33:000000000-BGDN6:1:1101:16201:2387',\n",
       "  'gi|2030785245|dbj|AP021902.1| Pseudomonas sp. Cab53 DNA, complete genome',\n",
       "  3.33329e-14,\n",
       "  1],\n",
       " ['M05164:33:000000000-BGDN6:1:1101:16201:2387',\n",
       "  'gi|1940203818|gb|CP065421.1| Priestia aryabhattai strain GW320 chromosome, complete genome',\n",
       "  1.16343e-13,\n",
       "  1],\n",
       " ['M05164:33:000000000-BGDN6:1:1101:16201:2387',\n",
       "  'gi|2063533351|gb|CP077080.1| Pseudomonas sp. SWRI17 chromosome, complete genome',\n",
       "  4.06078e-13,\n",
       "  1],\n",
       " ['M05164:33:000000000-BGDN6:1:1101:16201:2387',\n",
       "  'gi|1950053526|gb|CP066306.1| Pseudomonas putida strain BR-PH17 chromosome, complete genome',\n",
       "  4.94704e-12,\n",
       "  1],\n",
       " ['M05164:33:000000000-BGDN6:1:1101:16201:2387',\n",
       "  'gi|169757190|gb|CP000949.1| Pseudomonas putida W619 chromosome, complete genome',\n",
       "  4.94704e-12,\n",
       "  1],\n",
       " ['M05164:33:000000000-BGDN6:1:1101:24424:2376',\n",
       "  'gi|1524514342|gb|CP027762.1| Pseudomonas sp. LBUM920 chromosome, complete genome',\n",
       "  2.68022e-60,\n",
       "  1],\n",
       " ['M05164:33:000000000-BGDN6:1:1101:24424:2376',\n",
       "  'gi|387159426|gb|CP003041.1| Pseudomonas fluorescens A506, complete genome',\n",
       "  2.68022e-60,\n",
       "  1],\n",
       " ['M05164:33:000000000-BGDN6:1:1101:24424:2376',\n",
       "  'gi|1836296538|gb|CP052856.1| Pseudomonas sp. ADAK22 chromosome, complete genome',\n",
       "  1.13966e-58,\n",
       "  1],\n",
       " ['M05164:33:000000000-BGDN6:1:1101:24424:2376',\n",
       "  'gi|2034361303|gb|CP074078.1| Pseudomonas synxantha strain 27 chromosome, complete genome',\n",
       "  1.13966e-58,\n",
       "  1],\n",
       " ['M05164:33:000000000-BGDN6:1:1101:24424:2376',\n",
       "  'gi|2051040154|emb|LR027557.1| Pseudomonas synxantha strain 10586 genome assembly, chromosome: 1',\n",
       "  1.38839e-57,\n",
       "  1],\n",
       " ['M05164:33:000000000-BGDN6:1:1101:24424:2376',\n",
       "  'gi|1929380962|gb|CP063780.1| Pseudomonas sp. OST1909 chromosome, complete genome',\n",
       "  5.90357e-56,\n",
       "  1],\n",
       " ['M05164:33:000000000-BGDN6:1:1101:24424:2376',\n",
       "  'gi|1524482411|gb|CP027732.1| Pseudomonas sp. R4-35-07 chromosome, complete genome',\n",
       "  2.06055e-55,\n",
       "  1],\n",
       " ['M05164:33:000000000-BGDN6:1:1101:24424:2376',\n",
       "  'gi|1524477001|gb|CP027731.1| Pseudomonas sp. R2-60-08W chromosome, complete genome',\n",
       "  2.06055e-55,\n",
       "  1],\n",
       " ['M05164:33:000000000-BGDN6:1:1101:24424:2376',\n",
       "  'gi|1524471553|gb|CP027730.1| Pseudomonas sp. R3-52-08 chromosome, complete genome',\n",
       "  2.06055e-55,\n",
       "  1],\n",
       " ['M05164:33:000000000-BGDN6:1:1101:24424:2376',\n",
       "  'gi|1958395023|gb|CP068151.1| Pseudomonas fluorescens strain FDAARGOS_1088 chromosome, complete genome',\n",
       "  7.19202e-55,\n",
       "  1]]"
      ]
     },
     "metadata": {},
     "execution_count": 250
    }
   ]
  },
  {
   "source": [
    "That's it for Day 5! Thanks for attending this workshop!"
   ],
   "cell_type": "markdown",
   "metadata": {}
  }
 ]
}