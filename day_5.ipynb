{
 "metadata": {
  "language_info": {
   "codemirror_mode": {
    "name": "ipython",
    "version": 3
   },
   "file_extension": ".py",
   "mimetype": "text/x-python",
   "name": "python",
   "nbconvert_exporter": "python",
   "pygments_lexer": "ipython3",
   "version": "3.8.5"
  },
  "orig_nbformat": 4,
  "kernelspec": {
   "name": "python3",
   "display_name": "Python 3.8.5 64-bit ('myenv': conda)"
  },
  "interpreter": {
   "hash": "f5c9dfabb21bd2a91b63810df81acbdc6b5e617e45414f0ef050ca96090c868f"
  }
 },
 "nbformat": 4,
 "nbformat_minor": 2,
 "cells": [
  {
   "cell_type": "markdown",
   "source": [
    "# Welcome to Day 5! \n",
    "\n",
    "## BLAST-ing against the NCBI database\n",
    "\n",
    "### Section 1: BLAST with genes\n",
    "\n",
    "### Section 2: BLAST with fastq reads\n",
    "\n",
    "### Section 3: Where to go from here\n",
    "\n",
    "---\n",
    "\n",
    "## Session summary\n",
    "\n",
    "For our last day we are going to do something every biologist loves to do, BLAST. First we will learn how to BLAST against the NCBI database using a single gene of interest. Afterwards, we will learn how to BLAST reads from a fastq file against the NCBI database to see what organism they come from.\n",
    "\n",
    "---\n"
   ],
   "metadata": {}
  },
  {
   "cell_type": "markdown",
   "source": [
    "---\n",
    "## For Google colab users only\n",
    "\n",
    "Run the following commands"
   ],
   "metadata": {}
  },
  {
   "cell_type": "code",
   "execution_count": null,
   "source": [
    "pip install Biopython"
   ],
   "outputs": [],
   "metadata": {}
  },
  {
   "cell_type": "code",
   "execution_count": null,
   "source": [
    "!wget https://raw.githubusercontent.com/agmcfarland/biopython_workshop/master/single_seq.fasta\n",
    "!wget https://raw.githubusercontent.com/agmcfarland/biopython_workshop/master/short_reads.fastq\n",
    "!wget https://raw.githubusercontent.com/agmcfarland/biopython_workshop/master/blast_output.xml\n",
    "!wget https://raw.githubusercontent.com/agmcfarland/biopython_workshop/master/short_read_blast_results.xml"
   ],
   "outputs": [],
   "metadata": {}
  },
  {
   "cell_type": "markdown",
   "source": [
    "---\n",
    "\n",
    "# Section 1: Section 1: BLAST with genes"
   ],
   "metadata": {}
  },
  {
   "cell_type": "code",
   "execution_count": null,
   "source": [
    "# import all our previously used modules\n",
    "\n",
    "from Bio import SeqIO\n",
    "from Bio.Seq import Seq\n",
    "from Bio.SeqRecord import SeqRecord\n",
    "\n",
    "# import Biopython modules for BLAST\n",
    "from Bio.Blast.NCBIWWW import qblast\n",
    "from Bio.Blast import NCBIXML\n",
    "\n",
    "# import pandas to save our list of lists as dataframes\n",
    "import pandas as pd"
   ],
   "outputs": [],
   "metadata": {}
  },
  {
   "cell_type": "markdown",
   "source": [
    "Let's say we are interested in finding homologs of ermA from Staphylococcus aureus in the NCBI non-redundant database. \n",
    "\n",
    "We have a fasta file called `single_seq.fasta`, which contains only one ermA sequence. We use `SeqIO.read()` (instead of `SeqIO.parse()`) because there is only one sequence."
   ],
   "metadata": {}
  },
  {
   "cell_type": "code",
   "execution_count": null,
   "source": [
    "record = SeqIO.read('single_seq.fasta','fasta')\n",
    "record"
   ],
   "outputs": [],
   "metadata": {}
  },
  {
   "cell_type": "markdown",
   "source": [
    "Let's use `qblast()` to search for homologs of our sequence. [View full qblast options here](https://biopython.org/docs/1.75/api/Bio.Blast.NCBIWWW.html)"
   ],
   "metadata": {}
  },
  {
   "cell_type": "code",
   "execution_count": null,
   "source": [
    "# searching for homologs of record.seq in the non-redudundant (nr) database using BLASTn. BLAST will only return the top five matches (hits).\n",
    "# these are only just some of the options we can specify in our search. The first three are mandatory, however.\n",
    "blast_results = qblast(program='blastn', database='nr', sequence=record.seq, hitlist_size=5) \n",
    "\n",
    "# storing the results of the blast search in a file called blast_output.xml \n",
    "output_file = open('blast_output.xml', 'w') # the 'w' indicates we are writing to this file.\n",
    "output_file.write(blast_results.read()) # write blast_results to output_file\n",
    "output_file.close() # closing the file we wrote to\n",
    "blast_results.close() # closing the blast result"
   ],
   "outputs": [],
   "metadata": {}
  },
  {
   "cell_type": "markdown",
   "source": [
    "Each blast 'hit', (i.e. a sequence in the database that matched our sequence of interest) is an item in the list `blast_record.alignments`.\n",
    "\n",
    "Let's check that five hits matching our sequence of interest were found "
   ],
   "metadata": {}
  },
  {
   "cell_type": "code",
   "execution_count": null,
   "source": [
    "blast_result_handle = open('blast_output.xml') # open the blast output file\n",
    "blast_record = NCBIXML.read(blast_result_handle) # read it into memory\n",
    "\n",
    "count = 0\n",
    "for alignment in blast_record.alignments:\n",
    "    count = count + 1\n",
    "\n",
    "count"
   ],
   "outputs": [],
   "metadata": {}
  },
  {
   "cell_type": "markdown",
   "source": [
    "We can print the name of each sequence that matched our search sequence."
   ],
   "metadata": {}
  },
  {
   "cell_type": "code",
   "execution_count": null,
   "source": [
    "# blast_record has to be read with NCBIXML each time you call the for loop\n",
    "blast_result_handle = open('blast_output.xml')\n",
    "blast_record = NCBIXML.read(blast_result_handle)\n",
    "\n",
    "for alignment in blast_record.alignments:\n",
    "    print(alignment.title)"
   ],
   "outputs": [],
   "metadata": {}
  },
  {
   "cell_type": "markdown",
   "source": [
    "We can access additional information stored in each alignment with a second for loop. These are stored in a list called `alignment.hsps` and provide all the important information about the alignment.\n",
    "\n",
    "Information found in `alignment.hsps` includes the length of the alignment, which bases did and did not align, and even the alignment itself! "
   ],
   "metadata": {}
  },
  {
   "cell_type": "code",
   "execution_count": null,
   "source": [
    "# blast_record has to be read with NCBIXML each time you call the for loop\n",
    "blast_result_handle = open('blast_output.xml')\n",
    "blast_record = NCBIXML.read(blast_result_handle)\n",
    "\n",
    "for alignment in blast_record.alignments:\n",
    "    print(alignment.title.split('>')[0])\n",
    "    for hsp in alignment.hsps:\n",
    "        print('score: ', hsp.score)\n",
    "        print('expected value: ', hsp.expect)\n",
    "        print('number of exact matches: ', hsp.identities)\n",
    "        print('number of aligned letters: ', hsp.align_length)\n",
    "        print('First 100 characters aligned: \\n') # for visual clarity only showing first 100 characters\n",
    "        print(hsp.query[:100])\n",
    "        print(hsp.match[:100])\n",
    "        print(hsp.sbjct[:100])\n",
    "        print('\\n')\n",
    "        break"
   ],
   "outputs": [],
   "metadata": {
    "tags": []
   }
  },
  {
   "cell_type": "markdown",
   "source": [
    "In practice, we may just want to extract certain bits of information from the BLAST search\n",
    "\n",
    "For example, we can extract a list of each genome we found a hit in"
   ],
   "metadata": {}
  },
  {
   "cell_type": "code",
   "execution_count": null,
   "source": [
    "# blast_record has to be read with NCBIXML each time you call the for loop\n",
    "blast_result_handle = open('blast_output.xml')\n",
    "blast_record = NCBIXML.read(blast_result_handle)\n",
    "\n",
    "store_data = []\n",
    "\n",
    "for alignment in blast_record.alignments:\n",
    "    hit_title = alignment.title.split('>')\n",
    "    store_data.append(hit_title)\n",
    "\n",
    "store_data"
   ],
   "outputs": [],
   "metadata": {}
  },
  {
   "cell_type": "markdown",
   "source": [
    "This list shows us that although we searched for a Staphylococcus aureus sequence, we have found a match in a plasmid contained within an Enterococcus faecium strain.\n",
    "\n",
    "We can calculate strength in homology of each match. We do this by calculating the identity (number of identical bases between two sequences) and the query coverage (how many bases were aligned between the two sequences)"
   ],
   "metadata": {}
  },
  {
   "cell_type": "code",
   "execution_count": null,
   "source": [
    "# blast_record has to be read with NCBIXML each time you call the for loop\n",
    "blast_result_handle = open('blast_output.xml')\n",
    "blast_record = NCBIXML.read(blast_result_handle)\n",
    "\n",
    "store_data = []\n",
    "\n",
    "for alignment in blast_record.alignments:\n",
    "    for hsp in alignment.hsps:\n",
    "        # make variables for easier readability\n",
    "        length_sbjct = len(hsp.sbjct)\n",
    "        length_query = len(hsp.query)\n",
    "        num_gaps = hsp.gaps\n",
    "        num_identities = hsp.identities\n",
    "        \n",
    "        # calculate identity\n",
    "        identity = num_identities/length_query\n",
    "\n",
    "        # calculate coverage\n",
    "        coverage = (length_sbjct-num_gaps)/length_query\n",
    "        \n",
    "        # append to store_data\n",
    "        store_data.append([alignment.title, identity, coverage])\n",
    "        break\n",
    "\n",
    "store_data"
   ],
   "outputs": [],
   "metadata": {}
  },
  {
   "cell_type": "code",
   "execution_count": null,
   "source": [
    "df = pd.DataFrame(store_data, columns=['hit_id','identity','coverage'])\n",
    "df"
   ],
   "outputs": [],
   "metadata": {}
  },
  {
   "cell_type": "markdown",
   "source": [
    "Suprisingly, all sequences show 81.7% identity and 100% coverage to our query sequence, including the plasmid-borne version.\n",
    "\n",
    "This is just one utility of parsing BLAST outputs with Biopython. \n",
    "\n",
    "Another utility is to extract all the sequences that you have gotten through BLAST and writing them to a new file.\n",
    "\n",
    "---\n",
    "\n",
    "### Exercise 1a\n",
    "\n",
    "Use `SeqIO.read()` to read in the only sequence in `single_seq.fasta`\n",
    "\n",
    "`translate()` `record.seq` so that it has an amino acid sequence."
   ],
   "metadata": {}
  },
  {
   "cell_type": "code",
   "execution_count": null,
   "source": [
    "record = SeqIO.___('___.fasta','fasta')\n",
    "\n",
    "record.seq = record.seq.___()\n",
    "record"
   ],
   "outputs": [],
   "metadata": {}
  },
  {
   "cell_type": "markdown",
   "source": [
    "### Exercise 1b\n",
    "\n",
    "Specify the `qblast()` program to be `'blastp'`, with the `'nr'` database. Make the number of max number of hits equal to `4`.\n",
    "\n",
    "Afterwards, store the blast output in the file `'day5_1b_output.xml'` \n",
    "\n",
    "(Run the next line of code to get the blast results if blast is taking too long)"
   ],
   "metadata": {}
  },
  {
   "cell_type": "code",
   "execution_count": null,
   "source": [
    "blast_results = qblast(program='___', database='___', sequence=record.seq, hitlist_size=___)\n",
    "\n",
    "output_file = open('___.xml', 'w')\n",
    "output_file.write(blast_results.read())\n",
    "output_file.close()\n",
    "blast_results.close()"
   ],
   "outputs": [],
   "metadata": {}
  },
  {
   "cell_type": "code",
   "execution_count": null,
   "source": [
    "!wget https://raw.githubusercontent.com/agmcfarland/biopython_workshop/master/day5_1b_output.xml"
   ],
   "outputs": [],
   "metadata": {}
  },
  {
   "cell_type": "markdown",
   "source": [
    "### Exercise 1c:\n",
    "\n",
    "Read the contents of `blast_result_handle` with `NCBIXML.read` and assign the contents  to `blast_record`.\n",
    "\n",
    "Print the `alignment.title` in each `blast_record.alignment`. Is there something unexpected?"
   ],
   "metadata": {}
  },
  {
   "cell_type": "code",
   "execution_count": null,
   "source": [
    "# blast_record has to be read with NCBIXML each time you call the for loop\n",
    "blast_result_handle = open('day5_1b_output.xml')\n",
    "___ = ___.read(blast_result_handle)\n",
    "\n",
    "for alignment in blast_record.alignments:\n",
    "    print(alignment.___)\n",
    "    print('\\n')"
   ],
   "outputs": [],
   "metadata": {}
  },
  {
   "cell_type": "markdown",
   "source": [
    "### Exercise 1d\n",
    "\n",
    " If we look at the above output, we can see that the third alignment title has the term MULTISPECIES in it. This term denotes a sequence that is identical sequence in found in multiple species. When this happens, NCBI has its `alignment.title` as a long string with all the different species names. \n",
    " \n",
    " But we just want to shorten the name for our purposes.\n",
    "\n",
    " We can see that the `alignment.title` with the MULTISPECIES term has each different species separated by a `>`. We can extract the contents of `alignment.title` using  `split()` and keep only the first species that is found.\n"
   ],
   "metadata": {}
  },
  {
   "cell_type": "code",
   "execution_count": null,
   "source": [
    "# blast_record has to be read with NCBIXML each time you call the for loop\n",
    "blast_result_handle = open('day5_1b_output.xml')\n",
    "___ = ___.read(blast_result_handle)\n",
    "\n",
    "for ___ in blast_record.alignments:\n",
    "    # use split() on alignment.title\n",
    "    new_alignment_title = alignment.title.___('>')\n",
    "\n",
    "    #select the first item in new_alignment_title, assign it back to new_alignment_title\n",
    "    new_alignment_title = ___[0]\n",
    "\n",
    "    # print the new title\n",
    "    print(new_alignment_title)\n",
    "    print('\\n') # for clarity"
   ],
   "outputs": [],
   "metadata": {}
  },
  {
   "cell_type": "markdown",
   "source": [
    "### Exercise 1f\n",
    "\n",
    "Now we want to extract the new alignment title and the sequence for each hit so that we can write them to a `fasta` file\n",
    "\n",
    "Convert the `hsp.sbjct` sequence into a `Seq()` object. \n",
    "\n",
    "Afterwards, make a `SeqRecord` object from the extracted sequence and the extracted title.\n",
    "\n",
    "Store the `new_alignment_title` and the `hsp.sbjct` in the list `data_store` \n",
    "\n",
    "Read the code comments for clues!"
   ],
   "metadata": {}
  },
  {
   "cell_type": "code",
   "execution_count": null,
   "source": [
    "from Bio.SeqRecord import SeqRecord\n",
    "\n",
    "data_store = []\n",
    "\n",
    "# blast_record has to be read with NCBIXML each time you call the for loop\n",
    "blast_result_handle = open('day5_1b_output.xml')\n",
    "___ = ___.read(blast_result_handle)\n",
    "\n",
    "for alignment in blast_record.alignments:\n",
    "    # use split()\n",
    "    new_alignment_title = alignment.title.___('>')\n",
    "\n",
    "    #select the first item in new_alignment_title, assign it back to new_alignment_title\n",
    "    new_alignment_title = ___[0]\n",
    "\n",
    "    # assign hsp.sbjct to sbjct_sequence\n",
    "    for hsp in alignment.hsps:\n",
    "        sbjct_sequence = hsp.___\n",
    "        break\n",
    "    \n",
    "    # Make a Seq object out of sbjct_sequence, Assign it to extracted_sequence \n",
    "    extracted_sequence = Seq(___)\n",
    "\n",
    "    # make a SeqRecord object called extracted_record. The first item will be the sequence, id is the new alignment title\n",
    "    extracted_record = SeqRecord(___, id = ___, description = '')\n",
    "\n",
    "    # store the SeqRecord in a list\n",
    "    data_store.append(extracted_record)\n",
    "data_store"
   ],
   "outputs": [],
   "metadata": {}
  },
  {
   "cell_type": "markdown",
   "source": [
    "### Exercise 1g\n",
    "\n",
    "Use `SeqIO.write()` to write the contents of `data_store` to a file called `'day5_1g.fasta'`. Specify the output file to be of type `'fasta'`\n",
    "\n"
   ],
   "metadata": {}
  },
  {
   "cell_type": "code",
   "execution_count": null,
   "source": [
    "SeqIO.___(___,'day5_1g.fasta','___')"
   ],
   "outputs": [],
   "metadata": {}
  },
  {
   "cell_type": "markdown",
   "source": [
    "# Section 2: BLAST with fastq reads\n",
    "\n",
    "One quick method for checking whether your reads actually belong to the organism you are studying is to BLAST some of the reads against the NCBI database.\n",
    "\n",
    "Unlike in our above code where we were supplied `qlbast()` with just **one** sequence to BLAST, here we want to BLAST several sequences, and have each give its own result.\n",
    "\n",
    "Before we can do that, though, we need to convert our reads from `fastq` format to `fasta` format.\n"
   ],
   "metadata": {}
  },
  {
   "cell_type": "markdown",
   "source": [
    "We will start by reading in the fastq file `short_reads.fastq`, which contains reads from whole-genome sequencing of a Pseudomonas monteilii strain. \n",
    "\n",
    "We will extract their `record.id` and `record.seq` and store them in a list."
   ],
   "metadata": {}
  },
  {
   "cell_type": "code",
   "execution_count": null,
   "source": [
    "# empty list to store modified sequence records\n",
    "extracted_seqs = []\n",
    "\n",
    "for record in SeqIO.parse('short_reads.fastq', 'fastq'):\n",
    "    # get the id and sequence assigned to two new variables\n",
    "    read_id = record.id\n",
    "    dna_seq = record.seq\n",
    "    \n",
    "    # format them into a SeqRecord. keep description empty\n",
    "    new_record = SeqRecord(dna_seq, id = read_id, description = '')\n",
    "\n",
    "    # append to extracted_seqs\n",
    "    extracted_seqs.append(new_record)\n",
    "\n",
    "    print(new_record)\n",
    "\n",
    "\n",
    "SeqIO.write(extracted_seqs, 'short_fasta_reads.fasta','fasta')"
   ],
   "outputs": [],
   "metadata": {}
  },
  {
   "cell_type": "markdown",
   "source": [
    "Now that we have our reads in fasta format, we can supply the whole all the sequences at once to `qblast()`.\n",
    "\n",
    "We are setting our `hitlist_size` to 1. This is because we want to keep our results simple: one sequence homology BLAST hit per read. We will also ask that it"
   ],
   "metadata": {}
  },
  {
   "cell_type": "code",
   "execution_count": null,
   "source": [
    "# open short read fasta sequences using open() \n",
    "read_seqs = open('short_fasta_reads.fasta')\n",
    "# place the contents of read_seq into memory with read()\n",
    "read_seqs_memory = read_seqs.read()\n",
    "# supply qblast parameters\n",
    "blast_results = qblast(program='blastn', database='nr', sequence=read_seqs_memory, hitlist_size=1)\n",
    "\n",
    "# write the contents of the blast result to a file called 'short_read_blast_results.xml'\n",
    "output_file = open('short_read_blast_results.xml', 'w')\n",
    "output_file.write(blast_results.read())\n",
    "\n",
    "# close the output file\n",
    "output_file.close()\n",
    "# close the blast_results file\n",
    "blast_results.close()\n",
    "# close the fasta file\n",
    "read_seqs.close()"
   ],
   "outputs": [],
   "metadata": {}
  },
  {
   "cell_type": "code",
   "execution_count": null,
   "source": [
    "blast_result_handle = open('short_read_blast_results.xml') # open the blast output file\n",
    "blast_records = NCBIXML.parse(blast_result_handle) # use parse to read a blast result with more than one query\n",
    "\n",
    "for blast_record in blast_records:\n",
    "    print('Read ID: ', blast_record.query)\n",
    "    for alignment in blast_record.alignments:\n",
    "        print('Hit title: ,', alignment.title)\n",
    "    print('\\n')"
   ],
   "outputs": [],
   "metadata": {}
  },
  {
   "cell_type": "markdown",
   "source": [
    "We expected to see Pseudomonas only matches. However, the second read matches Cosmia trapezina. In the next exercise let's re-run our blast search and allow for 3 matches per query."
   ],
   "metadata": {}
  },
  {
   "cell_type": "markdown",
   "source": [
    "---\n",
    "\n",
    "### Exercise 2a\n",
    "\n",
    "Submit the sequences in `'short_fasta_reads.fasta'` to `qblast()`.\n",
    "\n",
    "Use program `'blastn'`, the `'nr'` database, sequence `read_seqs_memory`, and set `hitlist_size` to `3`\n",
    "\n",
    "Write the contents to a file called `'day5_2a.xml'`\n",
    "\n",
    "(Run the next line of code to get the blast results if blast is taking too long)\n"
   ],
   "metadata": {}
  },
  {
   "cell_type": "code",
   "execution_count": null,
   "source": [
    "# open short read fasta sequences using open() \n",
    "read_seqs = open('short_fasta_reads.fasta')\n",
    "# place the contents of read_seq into memory with read()\n",
    "read_seqs_memory = read_seqs.read()\n",
    "# supply qblast parameters\n",
    "blast_results = qblast(program='___', database='___', sequence=___, hitlist_size=___)\n",
    "\n",
    "# write the contents of the blast_results to a file called 'day5_2a.xml'\n",
    "output_file = open('day5_2a.xml', 'w')\n",
    "output_file.write(___.read())\n",
    "\n",
    "# close the output file\n",
    "output_file.___()\n",
    "# close the blast_results file\n",
    "____.close()\n",
    "# close the fasta file\n",
    "read_seqs.close()"
   ],
   "outputs": [],
   "metadata": {}
  },
  {
   "cell_type": "code",
   "execution_count": null,
   "source": [
    "!wget https://raw.githubusercontent.com/agmcfarland/biopython_workshop/master/day5_2a_output.xml"
   ],
   "outputs": [],
   "metadata": {}
  },
  {
   "cell_type": "markdown",
   "source": [
    "### Exercise 2b\n",
    "\n",
    "For each `blast_record`, print the `blast_record.query` in the blast result file, print the `alignment.title` of the hit."
   ],
   "metadata": {}
  },
  {
   "cell_type": "code",
   "execution_count": null,
   "source": [
    "blast_result_handle = open('day5_2a.xml') # open the blast output file\n",
    "blast_records = NCBIXML.parse(blast_result_handle) # use parse to read a blast result with more than one query\n",
    "\n",
    "for ___ in blast_records:\n",
    "    print('Read ID: ', ___.___)\n",
    "    for alignment in blast_record.alignments:\n",
    "        print('Hit title:', alignment.___)\n",
    "    print('\\n')"
   ],
   "outputs": [],
   "metadata": {}
  },
  {
   "cell_type": "markdown",
   "source": [
    "### Exercise 2c\n",
    "\n",
    "Our results indicate that most reads return Pseudomonas matches, which is expected. However, read 2 had only two total hits found (and had up to 10 hits available to return). This suggests that read 2 is not contamination, but just a bad read. We can determine whether this is the case by examining the strength of the homology of our reads. If the homology strength for read 2 is high, then it is a contaminant read. If it is low, it is likely that it is simply a low-quality read.\n",
    "\n",
    "For each query in the blast result file, print the `alignment.title` of the hit and the `hsp.expect` (e-value) within `alignment.hsps` to get the strength of homology\n",
    "\n"
   ],
   "metadata": {}
  },
  {
   "cell_type": "code",
   "execution_count": null,
   "source": [
    "blast_result_handle = open('day5_2a.xml') # open the blast output file\n",
    "blast_records = ___.___(blast_result_handle) # use NCBIXML.parse to read a blast result with more than one query\n",
    "\n",
    "for ___ in blast_records:\n",
    "    print('Read ID: ', blast_record.___)\n",
    "    for alignment in blast_record.alignments:\n",
    "        print('Hit title:', alignment.title)\n",
    "        for ___ in alignment.hsps:\n",
    "            print('Expected value: ', hsp.expect)\n",
    "    print('\\n')"
   ],
   "outputs": [],
   "metadata": {}
  },
  {
   "cell_type": "markdown",
   "source": [
    "### Exercise 2d\n",
    "\n",
    "From our results we can see two things. Most hits have a very [low e-value](http://resources.qiagenbioinformatics.com/manuals/clcgenomicsworkbench/650/_E_value.html#:~:text=The%20default%20threshold%20for%20the,%3C%2010e%2D100%20Identical%20sequences) (less than 1 ). Hits to read 2 have e-values of 4.\n",
    "\n",
    "Create a variable called `e_value_threshold` with a value of `0.0001`\n",
    "\n",
    "Let's filter our results so that only `hsp.expect` (evalues) of a certain value are printed."
   ],
   "metadata": {}
  },
  {
   "cell_type": "code",
   "execution_count": null,
   "source": [
    "blast_result_handle = open('day5_2a.xml') # open the blast output file\n",
    "blast_records = NCBIXML.parse(blast_result_handle) # use parse to read a blast result with more than one query\n",
    "\n",
    "e_value_threshold = ___\n",
    "\n",
    "for blast_record in blast_records:\n",
    "    print('Read ID: ', blast_record.query)\n",
    "    for alignment in blast_record.alignments:\n",
    "        print('Hit title:', alignment.title)\n",
    "        for ___ in alignment.hsps:\n",
    "            if hsp.___ <= e_value_threshold:\n",
    "                print('Expected value: ', hsp.expect)\n",
    "            else:\n",
    "                print('Expected value: did not pass')\n",
    "            break\n",
    "    print('\\n')"
   ],
   "outputs": [],
   "metadata": {}
  },
  {
   "cell_type": "markdown",
   "source": [
    "### Exercise 2e\n",
    "\n",
    "We will now store our results to a list called `store_results` using `append()`"
   ],
   "metadata": {}
  },
  {
   "cell_type": "code",
   "execution_count": null,
   "source": [
    "blast_result_handle = open('day5_2a.xml') # open the blast output file\n",
    "blast_records = NCBIXML.parse(blast_result_handle) # use parse to read a blast result with more than one query\n",
    "\n",
    "store_results = ___\n",
    "\n",
    "___ = 0.0001\n",
    "\n",
    "for blast_record in blast_records:\n",
    "    # get the read_id\n",
    "    read_id = blast_record.query\n",
    "\n",
    "    for alignment in blast_record.alignments:\n",
    "        # get the name of the hit\n",
    "        hit_title = alignment.title\n",
    "\n",
    "        for hsp in alignment.hsps:\n",
    "            # get the evalue from hsp.expect\n",
    "            evalue = hsp.___\n",
    "\n",
    "            # get a qualitative result for the evalue threshold\n",
    "            if hsp.expect <= e_value_threshold:\n",
    "                evalue_pass = 1\n",
    "            else:\n",
    "                evalue_pass = 0\n",
    "            \n",
    "            # append to list\n",
    "            store_results.___([read_id, hit_title, evalue, evalue_pass])\n",
    "\n",
    "\n",
    "store_results"
   ],
   "outputs": [],
   "metadata": {}
  },
  {
   "cell_type": "markdown",
   "source": [
    "# Section 3: Where to go from here\n",
    "\n",
    "This workshop covered a lot of ways to use Biopython, but is not exhaustive. \n",
    "\n",
    "If you are interested in further developing your Python and Biopython skills and toolkits, consider the following resources:\n",
    "\n",
    "[Northwestern's Research Computing Workshops: Learn additional programming concepts, languages, applications](https://www.it.northwestern.edu/service-catalog/research/training/workshops.html)\n",
    "\n",
    "[Biopython cookbook: the official Biopython guide to using all the different Biopython modules and subpackages](https://biopython.org/wiki/Category%3ACookbook)\n",
    "\n",
    "[Rosalind: Lots of free bioinformatic/computational biology challenges, ranging from easy to tough. You can use just base python and/or biopython to answer the questions.](http://rosalind.info/problems/locations/)\n",
    "\n",
    "[Biostar forums: Lots of good discussion about programming and biology.](https://www.biostars.org/t/Forum/)\n",
    "\n",
    "[Bioinformatics stack exchange: Discussion, questions, and answers about bioinformatics and computational biology](https://bioinformatics.stackexchange.com/)\n",
    "\n",
    "[Learning how to use command-line blast against a locally stored database](https://angus.readthedocs.io/en/2019/running-command-line-blast.html)\n",
    "\n",
    "[Use Northwestern's Research Data Services: if you are working on programming scripts (including those using Biopython) for your research and would like to recieve a consultation. They also provided consultations for any data science-related projects/scripts/problems](https://www.it.northwestern.edu/research/consultation/data-services.html)\n",
    "\n",
    "\n"
   ],
   "metadata": {}
  },
  {
   "cell_type": "markdown",
   "source": [
    "That's it for Day 5! Thanks for attending this Biopython workshop!"
   ],
   "metadata": {}
  }
 ]
}