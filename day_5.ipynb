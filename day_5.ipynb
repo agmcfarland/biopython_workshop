{
 "metadata": {
  "language_info": {
   "codemirror_mode": {
    "name": "ipython",
    "version": 3
   },
   "file_extension": ".py",
   "mimetype": "text/x-python",
   "name": "python",
   "nbconvert_exporter": "python",
   "pygments_lexer": "ipython3",
   "version": "3.8.5"
  },
  "orig_nbformat": 4,
  "kernelspec": {
   "name": "python3",
   "display_name": "Python 3.8.5 64-bit ('myenv': conda)"
  },
  "interpreter": {
   "hash": "f5c9dfabb21bd2a91b63810df81acbdc6b5e617e45414f0ef050ca96090c868f"
  }
 },
 "nbformat": 4,
 "nbformat_minor": 2,
 "cells": [
  {
   "source": [
    "# Welcome to Day 5! \n",
    "\n",
    "## BLAST in NCBI and creating, reading, and writing alignments\n",
    "\n",
    "### Section 1: BLAST against the NCBI database\n",
    "\n",
    "### Section 2: Aligning a set of sequences \n",
    "\n",
    "### Section 3: Converting between files\n",
    "\n",
    "---\n",
    "\n",
    "## Session summary\n",
    "\n",
    "\n",
    "For our last day we are going to take things easy and do something everyone loves to do, BLAST genes against NCBI. Afterwards, we will learn how to align the fasta sequences we've been working with. And finally, we will wrap things up by learning how to convert between some different file formats that we've used (fasta, gbk, fastq, aln)\n",
    "\n",
    "---\n"
   ],
   "cell_type": "markdown",
   "metadata": {}
  },
  {
   "cell_type": "code",
   "execution_count": 18,
   "metadata": {},
   "outputs": [],
   "source": [
    "from Bio import SeqIO\n",
    "from Bio.Seq import Seq\n",
    "from Bio.Blast.NCBIWWW import qblast\n",
    "from Bio.Blast import NCBIXML\n",
    "from Bio.Alphabet import IUPAC"
   ]
  },
  {
   "source": [
    "Let's say we are interested in finding homologs of ermA from Staphylococcus aureus in the NCBI non-redundant database. \n",
    "\n",
    "Let's use the first sequence from `'mixed_args.fasta'`"
   ],
   "cell_type": "markdown",
   "metadata": {}
  },
  {
   "cell_type": "code",
   "execution_count": 159,
   "metadata": {},
   "outputs": [
    {
     "output_type": "execute_result",
     "data": {
      "text/plain": [
       "SeqRecord(seq=Seq('ATGAATCAAAAAAATCCTAAAGATACACAAAATTTTATTACATCTAAAAAACAT...CAT', SingleLetterAlphabet()), id='ERMA_STAAR', name='ERMA_STAAR', description='ERMA_STAAR Q6GKQ0 rRNA adenine N-6-methyltransferase OS=Staphylococcus aureus (strain MRSA252) OX=282458 GN=ermA1 PE=3 SV=1', dbxrefs=[])"
      ]
     },
     "metadata": {},
     "execution_count": 159
    }
   ],
   "source": [
    "for record in SeqIO.parse('mixed_args.fasta','fasta'):\n",
    "    pass\n",
    "    break\n",
    "record"
   ]
  },
  {
   "source": [
    "Let's use `qblast()` to search for homologs of our sequence. [View full qblast options here](https://biopython.org/docs/1.75/api/Bio.Blast.NCBIWWW.html)"
   ],
   "cell_type": "markdown",
   "metadata": {}
  },
  {
   "cell_type": "code",
   "execution_count": 160,
   "metadata": {},
   "outputs": [],
   "source": [
    "# searching for homologs of record.seq in the non-redudundant (nr) database using BLASTn. BLAST will only return the top five matches (hits).\n",
    "blast_results = qblast(program='blastn', database='nr', sequence=record.seq, hitlist_size=5)\n",
    "\n",
    "# storing the results of the blast search in a file called blast_output.xml \n",
    "output_file = open('blast_output.xml', 'w') # the 'w' indicates we are writing to this file.\n",
    "output_file.write(blast_results.read()) # the actual writing of the file\n",
    "output_file.close() # closing the file we wrote to\n",
    "blast_results.close() # closing the blast result"
   ]
  },
  {
   "source": [
    "Each blast 'hit', (i.e. a sequence in the database that matched our sequence of interest) is an item in the list `blast_record.alignments`.\n",
    "\n",
    "Let's check that five hits matching our sequence of interest were found "
   ],
   "cell_type": "markdown",
   "metadata": {}
  },
  {
   "cell_type": "code",
   "execution_count": 162,
   "metadata": {},
   "outputs": [
    {
     "output_type": "execute_result",
     "data": {
      "text/plain": [
       "5"
      ]
     },
     "metadata": {},
     "execution_count": 162
    }
   ],
   "source": [
    "blast_result_handle = open('blast_output.xml') # open the blast output file\n",
    "blast_record = NCBIXML.read(blast_result_handle) # read it into memory\n",
    "\n",
    "count = 0\n",
    "for alignment in blast_record.alignments:\n",
    "    count = count + 1\n",
    "\n",
    "count"
   ]
  },
  {
   "source": [
    "We can print the name of each sequence that matched our search sequence."
   ],
   "cell_type": "markdown",
   "metadata": {}
  },
  {
   "cell_type": "code",
   "execution_count": 161,
   "metadata": {},
   "outputs": [
    {
     "output_type": "stream",
     "name": "stdout",
     "text": [
      "gi|1908485171|gb|CP049486.1| Staphylococcus aureus strain pt228 chromosome, complete genome\ngi|2041328505|gb|CP071594.1| Staphylococcus aureus strain PNID0137 chromosome, complete genome\ngi|2030875670|gb|CP064434.1| Enterococcus faecium strain PR00859-7 plasmid unnamed_2, complete sequence\ngi|2006900978|dbj|AP024511.1| Staphylococcus aureus 2007-13 DNA, complete genome\ngi|1995591623|gb|CP070983.1| Staphylococcus aureus strain WBG8366 chromosome, complete genome\n"
     ]
    }
   ],
   "source": [
    "# blast_record has to be read with NCBIXML each time you call the for loop\n",
    "blast_result_handle = open('blast_output.xml')\n",
    "blast_record = NCBIXML.read(blast_result_handle)\n",
    "\n",
    "for alignment in blast_record.alignments:\n",
    "    print(alignment.title)\n",
    "    #print(alignment.title.split('>')[0]) # we use split in case some titles are very long. "
   ]
  },
  {
   "source": [
    "We can access additional information stored in each alignment with a second for loop. These are stored in a list called `alignment.hsps` and provide all the important information about the alignment.\n",
    "\n",
    "Information found in `alignment.hsps` includes the length of the alignment, which bases did and did not align, and even the alignment itself! "
   ],
   "cell_type": "markdown",
   "metadata": {}
  },
  {
   "cell_type": "code",
   "execution_count": 164,
   "metadata": {
    "tags": []
   },
   "outputs": [
    {
     "output_type": "stream",
     "name": "stdout",
     "text": [
      "gi|1908485171|gb|CP049486.1| Staphylococcus aureus strain pt228 chromosome, complete genome\nscore:  791.0\nexpected value:  0.0\nnumber of exact matches:  595\nnumber of aligned letters:  728\nFirst 100 characters aligned: \n\nATGAATCAAAAAAATCCTAAAGATACACAAAATTTTATTACATCTAAAAAACATGTAAAAGAAATTTTAAATCATACAAATATTTCTAAACAAGATAATG\n||||| || ||||| |||||||| || |||||||||||||| |||||||| |||||||||||||| || ||||| || ||||||  ||||||||| || |\nATGAACCAGAAAAACCCTAAAGACACGCAAAATTTTATTACTTCTAAAAAGCATGTAAAAGAAATATTGAATCACACGAATATTAGTAAACAAGACAACG\n\n\ngi|2041328505|gb|CP071594.1| Staphylococcus aureus strain PNID0137 chromosome, complete genome\nscore:  786.0\nexpected value:  0.0\nnumber of exact matches:  594\nnumber of aligned letters:  728\nFirst 100 characters aligned: \n\nATGAATCAAAAAAATCCTAAAGATACACAAAATTTTATTACATCTAAAAAACATGTAAAAGAAATTTTAAATCATACAAATATTTCTAAACAAGATAATG\n||||| || ||||| |||||||| || |||||||||||||| |||||||| |||||||||||||| || ||||| || |||||   ||||||||| || |\nATGAACCAGAAAAACCCTAAAGACACGCAAAATTTTATTACTTCTAAAAAGCATGTAAAAGAAATATTGAATCACACGAATATCAGTAAACAAGACAACG\n\n\ngi|2030875670|gb|CP064434.1| Enterococcus faecium strain PR00859-7 plasmid unnamed_2, complete sequence\nscore:  786.0\nexpected value:  0.0\nnumber of exact matches:  594\nnumber of aligned letters:  728\nFirst 100 characters aligned: \n\nATGAATCAAAAAAATCCTAAAGATACACAAAATTTTATTACATCTAAAAAACATGTAAAAGAAATTTTAAATCATACAAATATTTCTAAACAAGATAATG\n||||| || ||||| |||||||| || |||||||||||||| |||||||| |||||||||||||| || ||||| || |||||   ||||||||| || |\nATGAACCAGAAAAACCCTAAAGACACGCAAAATTTTATTACTTCTAAAAAGCATGTAAAAGAAATATTGAATCACACGAATATCAGTAAACAAGACAACG\n\n\ngi|2006900978|dbj|AP024511.1| Staphylococcus aureus 2007-13 DNA, complete genome\nscore:  786.0\nexpected value:  0.0\nnumber of exact matches:  594\nnumber of aligned letters:  728\nFirst 100 characters aligned: \n\nATGAATCAAAAAAATCCTAAAGATACACAAAATTTTATTACATCTAAAAAACATGTAAAAGAAATTTTAAATCATACAAATATTTCTAAACAAGATAATG\n||||| || ||||| |||||||| || |||||||||||||| |||||||| |||||||||||||| || ||||| || |||||   ||||||||| || |\nATGAACCAGAAAAACCCTAAAGACACGCAAAATTTTATTACTTCTAAAAAGCATGTAAAAGAAATATTGAATCACACGAATATCAGTAAACAAGACAACG\n\n\ngi|1995591623|gb|CP070983.1| Staphylococcus aureus strain WBG8366 chromosome, complete genome\nscore:  786.0\nexpected value:  0.0\nnumber of exact matches:  594\nnumber of aligned letters:  728\nFirst 100 characters aligned: \n\nATGAATCAAAAAAATCCTAAAGATACACAAAATTTTATTACATCTAAAAAACATGTAAAAGAAATTTTAAATCATACAAATATTTCTAAACAAGATAATG\n||||| || ||||| |||||||| || |||||||||||||| |||||||| |||||||||||||| || ||||| || |||||   ||||||||| || |\nATGAACCAGAAAAACCCTAAAGACACGCAAAATTTTATTACTTCTAAAAAGCATGTAAAAGAAATATTGAATCACACGAATATCAGTAAACAAGACAACG\n\n\n"
     ]
    }
   ],
   "source": [
    "# blast_record has to be read with NCBIXML each time you call the for loop\n",
    "blast_result_handle = open('blast_output.xml')\n",
    "blast_record = NCBIXML.read(blast_result_handle)\n",
    "\n",
    "for alignment in blast_record.alignments:\n",
    "    print(alignment.title.split('>')[0])\n",
    "    for hsp in alignment.hsps:\n",
    "        print('score: ', hsp.score)\n",
    "        print('expected value: ', hsp.expect)\n",
    "        print('number of exact matches: ', hsp.identities)\n",
    "        print('number of aligned letters: ', hsp.align_length)\n",
    "        print('First 100 characters aligned: \\n') # for visual clarity only showing first 100 characters\n",
    "        print(hsp.query[:100])\n",
    "        print(hsp.match[:100])\n",
    "        print(hsp.sbjct[:100])\n",
    "        print('\\n')\n",
    "        break"
   ]
  },
  {
   "source": [
    "In practice, we may just want to extract certain bits of information from the BLAST search\n",
    "\n",
    "For example, we can extract a list of each genome we found a hit in"
   ],
   "cell_type": "markdown",
   "metadata": {}
  },
  {
   "cell_type": "code",
   "execution_count": 166,
   "metadata": {},
   "outputs": [
    {
     "output_type": "execute_result",
     "data": {
      "text/plain": [
       "[['gi|1908485171|gb|CP049486.1| Staphylococcus aureus strain pt228 chromosome, complete genome'],\n",
       " ['gi|2041328505|gb|CP071594.1| Staphylococcus aureus strain PNID0137 chromosome, complete genome'],\n",
       " ['gi|2030875670|gb|CP064434.1| Enterococcus faecium strain PR00859-7 plasmid unnamed_2, complete sequence'],\n",
       " ['gi|2006900978|dbj|AP024511.1| Staphylococcus aureus 2007-13 DNA, complete genome'],\n",
       " ['gi|1995591623|gb|CP070983.1| Staphylococcus aureus strain WBG8366 chromosome, complete genome']]"
      ]
     },
     "metadata": {},
     "execution_count": 166
    }
   ],
   "source": [
    "# blast_record has to be read with NCBIXML each time you call the for loop\n",
    "blast_result_handle = open('blast_output.xml')\n",
    "blast_record = NCBIXML.read(blast_result_handle)\n",
    "\n",
    "store_data = []\n",
    "\n",
    "for alignment in blast_record.alignments:\n",
    "    hit_title = alignment.title.split('>')\n",
    "    store_data.append(hit_title)\n",
    "\n",
    "store_data"
   ]
  },
  {
   "source": [
    "This list shows us that although we searched for a Staphylococcus aureus sequence, we have found a match in a plasmid contained within an Enterococcus faecium strain.\n",
    "\n",
    "We can calculate strength in homology of each match. We do this by calculating the identity (number of identical bases between two sequences) and the query coverage (how many bases were aligned between the two sequences)"
   ],
   "cell_type": "markdown",
   "metadata": {}
  },
  {
   "cell_type": "code",
   "execution_count": 176,
   "metadata": {},
   "outputs": [
    {
     "output_type": "execute_result",
     "data": {
      "text/plain": [
       "[['gi|1908485171|gb|CP049486.1| Staphylococcus aureus strain pt228 chromosome, complete genome',\n",
       "  0.8173076923076923,\n",
       "  1.0],\n",
       " ['gi|2041328505|gb|CP071594.1| Staphylococcus aureus strain PNID0137 chromosome, complete genome',\n",
       "  0.8159340659340659,\n",
       "  1.0],\n",
       " ['gi|2030875670|gb|CP064434.1| Enterococcus faecium strain PR00859-7 plasmid unnamed_2, complete sequence',\n",
       "  0.8159340659340659,\n",
       "  1.0],\n",
       " ['gi|2006900978|dbj|AP024511.1| Staphylococcus aureus 2007-13 DNA, complete genome',\n",
       "  0.8159340659340659,\n",
       "  1.0],\n",
       " ['gi|1995591623|gb|CP070983.1| Staphylococcus aureus strain WBG8366 chromosome, complete genome',\n",
       "  0.8159340659340659,\n",
       "  1.0]]"
      ]
     },
     "metadata": {},
     "execution_count": 176
    }
   ],
   "source": [
    "# blast_record has to be read with NCBIXML each time you call the for loop\n",
    "blast_result_handle = open('blast_output.xml')\n",
    "blast_record = NCBIXML.read(blast_result_handle)\n",
    "\n",
    "store_data = []\n",
    "\n",
    "for alignment in blast_record.alignments:\n",
    "    for hsp in alignment.hsps:\n",
    "        # make variables for easier readibility\n",
    "        length_sbjct = len(hsp.sbjct)\n",
    "        length_query = len(hsp.query)\n",
    "        num_gaps = hsp.gaps\n",
    "        num_identities = hsp.identities\n",
    "        \n",
    "        # calculate identity\n",
    "        identity = num_identities/length_query\n",
    "\n",
    "        # calculate coverage\n",
    "        coverage = (length_sbjct-num_gaps)/length_query\n",
    "        \n",
    "        # append to store_data\n",
    "        store_data.append([alignment.title, identity, coverage])\n",
    "        break\n",
    "\n",
    "store_data"
   ]
  },
  {
   "source": [
    "This is just one utility of parsing BLAST outputs with Biopython. \n",
    "\n",
    "Another utility is to extract all the sequences that you have gotten through BLAST and write them to a new file.\n",
    "\n",
    "---\n",
    "\n",
    "### Exercise 1a:\n",
    "\n",
    "`translate()` `record.seq` so that it has an amino acid sequence."
   ],
   "cell_type": "markdown",
   "metadata": {}
  },
  {
   "cell_type": "code",
   "execution_count": 177,
   "metadata": {},
   "outputs": [
    {
     "output_type": "execute_result",
     "data": {
      "text/plain": [
       "SeqRecord(seq=Seq('MNQKNPKDTQNFITSKKHVKEILNHTNISKQDNVIEIGSGKGHFTKELVKMSRS...LFH', ExtendedIUPACProtein()), id='ERMA_STAAR', name='ERMA_STAAR', description='ERMA_STAAR Q6GKQ0 rRNA adenine N-6-methyltransferase OS=Staphylococcus aureus (strain MRSA252) OX=282458 GN=ermA1 PE=3 SV=1', dbxrefs=[])"
      ]
     },
     "metadata": {},
     "execution_count": 177
    }
   ],
   "source": [
    "for record in SeqIO.parse('mixed_args.fasta','fasta'):\n",
    "    pass\n",
    "    break\n",
    "\n",
    "record.seq = record.seq.___()\n",
    "record"
   ]
  },
  {
   "source": [
    "### Exercise 1b:\n",
    "\n",
    "Specify the `blast` program to be `'blastp`', with the `'nr`' database. Make the number of max number of hits equal to 4.\n",
    "\n",
    "Afterwards, store the blast output in the file `'day5_1b_output.xml'` "
   ],
   "cell_type": "markdown",
   "metadata": {}
  },
  {
   "cell_type": "code",
   "execution_count": 178,
   "metadata": {},
   "outputs": [],
   "source": [
    "blast_results = qblast(program='___', database='___', sequence=record.seq, hitlist_size=___)\n",
    "\n",
    "output_file = open('___.xml', 'w')\n",
    "output_file.write(blast_results.read())\n",
    "output_file.close()\n",
    "blast_results.close()"
   ]
  },
  {
   "source": [
    "### Exercise 1c:\n",
    "\n",
    "Print the title of each alignment. Is there something unexpected?"
   ],
   "cell_type": "markdown",
   "metadata": {}
  },
  {
   "cell_type": "code",
   "execution_count": 181,
   "metadata": {},
   "outputs": [
    {
     "output_type": "stream",
     "name": "stdout",
     "text": [
      "gb|ETJ08129.1| rRNA adenine N-6-methyltransferase, partial [Streptococcus parasanguinis DORA_23_24]\n\n\ngb|EXM57106.1| rRNA adenine N-6-methyltransferase [Staphylococcus aureus DAR133]\n\n\nref|WP_001072201.1| MULTISPECIES: 23S rRNA (adenine(2058)-N(6))-methyltransferase Erm(A) [Bacilli] >sp|P0A0H1.1| RecName: Full=rRNA adenine N-6-methyltransferase; AltName: Full=Erythromycin resistance protein; AltName: Full=Macrolide-lincosamide-streptogramin B resistance protein [Staphylococcus aureus subsp. aureus Mu50] >sp|P0A0H2.1| RecName: Full=rRNA adenine N-6-methyltransferase; AltName: Full=Erythromycin resistance protein; AltName: Full=Macrolide-lincosamide-streptogramin B resistance protein [Staphylococcus aureus subsp. aureus N315] >sp|P0A0H3.1| RecName: Full=rRNA adenine N-6-methyltransferase; AltName: Full=Erythromycin resistance protein; AltName: Full=Macrolide-lincosamide-streptogramin B resistance protein [Staphylococcus aureus] >sp|Q6GKQ0.1| RecName: Full=rRNA adenine N-6-methyltransferase; AltName: Full=Erythromycin resistance protein; AltName: Full=Macrolide-lincosamide-streptogramin B resistance protein [Staphylococcus aureus subsp. aureus MRSA252] >gb|EGO8568860.1| 23S rRNA (adenine(2058)-N(6))-methyltransferase Erm(A) [Enterococcus faecalis] >gb|EGP5183003.1| 23S rRNA (adenine(2058)-N(6))-methyltransferase Erm(A) [Enterococcus hirae] >gb|EHS14301.1| rRNA adenine N-6-methyltransferase [Staphylococcus aureus subsp. aureus IS-99] >gb|EHS72760.1| rRNA adenine N-6-methyltransferase [Staphylococcus aureus subsp. aureus IS-125] >gb|EHS75181.1| rRNA adenine N-6-methyltransferase [Staphylococcus aureus subsp. aureus IS-189] >gb|ENK62286.1| rRNA adenine N-6-methyltransferase [Staphylococcus aureus M0562] >gb|EUY42749.1| rRNA adenine N-6-methyltransferase [Staphylococcus aureus M0406] >gb|MBD4026367.1| 23S rRNA (adenine(2058)-N(6))-methyltransferase Erm(A) [Staphylococcus aureus] >emb|CBA13539.1| adenine methylase [Staphylococcus rostri] >emb|CBY88979.1| rRNA methylase [Staphylococcus aureus subsp. aureus ST398] >tpg|HAR4218314.1| 23S rRNA (adenine(2058)-N(6))-methyltransferase Erm(A) [Staphylococcus aureus ADL-227] >tpg|HAR4232287.1| 23S rRNA (adenine(2058)-N(6))-methyltransferase Erm(A) [Staphylococcus aureus ADL-331] >tpg|HAR4238652.1| 23S rRNA (adenine(2058)-N(6))-methyltransferase Erm(A) [Staphylococcus aureus ADL-330]\n\n\ngb|ALY18984.1| rRNA adenine N-6-methyltransferase [Staphylococcus aureus] >gb|EUQ74542.1| rRNA adenine N-6-methyltransferase [Staphylococcus aureus FVRH6001]\n\n\nemb|CAC5857653.1| rRNA adenine N-6-methyltransferase [Staphylococcus aureus]\n\n\n"
     ]
    }
   ],
   "source": [
    "# blast_record has to be read with NCBIXML each time you call the for loop\n",
    "blast_result_handle = open('day5_1b_output.xml')\n",
    "blast_record = NCBIXML.read(blast_result_handle)\n",
    "\n",
    "for alignment in blast_record.alignments:\n",
    "    print(alignment.___)\n",
    "    print('\\n')"
   ]
  },
  {
   "source": [
    "### Exercise 1d:\n",
    "\n",
    " If we look at the above output, we can see that the third alignment title is a MULTISPECIES. This is a sequence that is an identical sequence that is found in multiple species. When this happens, NCBI has its alignment title as a long string with all the different species names. But we just want to have a short identifier.\n",
    "\n",
    " We can see that the MULTISPECIES title has each different species separated by a `>`. We can change the alignment title by using the `split()` method we went over in day 4.\n"
   ],
   "cell_type": "markdown",
   "metadata": {}
  },
  {
   "cell_type": "code",
   "execution_count": 184,
   "metadata": {},
   "outputs": [
    {
     "output_type": "stream",
     "name": "stdout",
     "text": [
      "gb|ETJ08129.1| rRNA adenine N-6-methyltransferase, partial [Streptococcus parasanguinis DORA_23_24]\n\n\ngb|EXM57106.1| rRNA adenine N-6-methyltransferase [Staphylococcus aureus DAR133]\n\n\nref|WP_001072201.1| MULTISPECIES: 23S rRNA (adenine(2058)-N(6))-methyltransferase Erm(A) [Bacilli] \n\n\ngb|ALY18984.1| rRNA adenine N-6-methyltransferase [Staphylococcus aureus] \n\n\nemb|CAC5857653.1| rRNA adenine N-6-methyltransferase [Staphylococcus aureus]\n\n\n"
     ]
    }
   ],
   "source": [
    "# blast_record has to be read with NCBIXML each time you call the for loop\n",
    "blast_result_handle = open('day5_1b_output.xml')\n",
    "blast_record = NCBIXML.read(blast_result_handle)\n",
    "\n",
    "for ____ in ___.alignments:\n",
    "    # use split()\n",
    "    new_alignment_title = alignment.title.___('>')\n",
    "\n",
    "    #select the first item in new_alignment_title, assign it back to new_alignment_title\n",
    "    new_alignment_title = ___[0]\n",
    "\n",
    "    # print the new title\n",
    "    print(new_alignment_title)\n",
    "    print('\\n') # for clarity"
   ]
  },
  {
   "source": [
    "### Exercise 1f:\n",
    "\n",
    "Now we want to extract the new alignment title and the sequence for each hit so that we can write them to a new file.\n",
    "\n",
    "Convert the `hsp.sbjct` sequence into a `Seq()` object. \n",
    "\n",
    "Afterwards, make a `SeqRecord` object from the extracted sequence and the extracted title.\n",
    "\n",
    "Store the `new_alignment_title` and the `hsp.sbjct` in the list `data_store` "
   ],
   "cell_type": "markdown",
   "metadata": {}
  },
  {
   "cell_type": "code",
   "execution_count": 195,
   "metadata": {},
   "outputs": [
    {
     "output_type": "execute_result",
     "data": {
      "text/plain": [
       "[SeqRecord(seq=Seq('MNQKNPKDTQNFITSKKHVKEILNHTNISKQDNVIEIGSGKGHFTKELVKMSRS...LFH'), id='gb|ETJ08129.1| rRNA adenine N-6-methyltransferase, partial [Streptococcus parasanguinis DORA_23_24]', name='<unknown name>', description='', dbxrefs=[]),\n",
       " SeqRecord(seq=Seq('MNQKNPKDTQNFITSKKHVKEILNHTNISKQDNVIEIGSGKGHFTKELVKMSRS...LFH'), id='gb|EXM57106.1| rRNA adenine N-6-methyltransferase [Staphylococcus aureus DAR133]', name='<unknown name>', description='', dbxrefs=[]),\n",
       " SeqRecord(seq=Seq('MNQKNPKDTQNFITSKKHVKEILNHTNISKQDNVIEIGSGKGHFTKELVKMSRS...LFH'), id='ref|WP_001072201.1| MULTISPECIES: 23S rRNA (adenine(2058)-N(6))-methyltransferase Erm(A) [Bacilli] ', name='<unknown name>', description='', dbxrefs=[]),\n",
       " SeqRecord(seq=Seq('MNQKNPKDTQNFITSKKHVKEILNHTNISKQDNVIEIGSGKGHFTKELVKMSRS...LFH'), id='gb|ALY18984.1| rRNA adenine N-6-methyltransferase [Staphylococcus aureus] ', name='<unknown name>', description='', dbxrefs=[]),\n",
       " SeqRecord(seq=Seq('MNQKNPKDTQNFITSKKHVKEILNHTNISKQDNVIEIGSGKGHFTKELVKMSRS...LFH'), id='emb|CAC5857653.1| rRNA adenine N-6-methyltransferase [Staphylococcus aureus]', name='<unknown name>', description='', dbxrefs=[])]"
      ]
     },
     "metadata": {},
     "execution_count": 195
    }
   ],
   "source": [
    "from Bio.SeqRecord import SeqRecord\n",
    "\n",
    "data_store = []\n",
    "\n",
    "# blast_record has to be read with NCBIXML each time you call the for loop\n",
    "blast_result_handle = open('day5_1b_output.xml')\n",
    "blast_record = NCBIXML.read(blast_result_handle)\n",
    "\n",
    "for alignment in blast_record.alignments:\n",
    "    # use split()\n",
    "    new_alignment_title = alignment.title.___('>')\n",
    "\n",
    "    #select the first item in new_alignment_title, assign it back to new_alignment_title\n",
    "    new_alignment_title = ___[0]\n",
    "\n",
    "    # assign hsp.sbjct to sbjct_sequence\n",
    "    for hsp in alignment.hsps:\n",
    "        sbjct_sequence = hsp.___\n",
    "        break\n",
    "    \n",
    "    # Make a Seq object called extracted_sequence \n",
    "    extracted_sequence = Seq(___)\n",
    "\n",
    "    # make a SeqRecord object called extracted_record. The first item will be the sequence, id is the new alignment title\n",
    "    extracted_record = SeqRecord(___, id = ___, description = '')\n",
    "\n",
    "    # store the SeqRecord in a list\n",
    "    data_store.append(extracted_record)\n",
    "data_store"
   ]
  },
  {
   "source": [
    "### Exercise 1g:\n",
    "\n",
    "Use `SeqIO.write()` to write each `SeqRecord` in `data_store` to a file called `'day5_1g.fasta'`\n",
    "\n"
   ],
   "cell_type": "markdown",
   "metadata": {}
  },
  {
   "cell_type": "code",
   "execution_count": 196,
   "metadata": {},
   "outputs": [
    {
     "output_type": "execute_result",
     "data": {
      "text/plain": [
       "5"
      ]
     },
     "metadata": {},
     "execution_count": 196
    }
   ],
   "source": [
    "SeqIO.write(data_store,'day5_1g.fasta','fasta')"
   ]
  },
  {
   "source": [
    "---\n",
    "\n",
    "If we were to do the above with a lot of hits, like 500, we might want to also set some thresholds\n",
    "\n"
   ],
   "cell_type": "markdown",
   "metadata": {}
  },
  {
   "cell_type": "code",
   "execution_count": null,
   "metadata": {},
   "outputs": [],
   "source": []
  },
  {
   "source": [
    "#  Section 2: Aligning a set of sequences"
   ],
   "cell_type": "markdown",
   "metadata": {}
  }
 ]
}